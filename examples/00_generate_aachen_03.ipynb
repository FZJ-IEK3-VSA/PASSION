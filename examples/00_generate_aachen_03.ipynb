{
 "cells": [
  {
   "cell_type": "markdown",
   "metadata": {},
   "source": [
    "# Part 3/4 to generate Aachen dataset:\n",
    "## (Binary images with LiDAR footprints and tilt distribution)\n",
    "## Divide dataset into training folder structure"
   ]
  },
  {
   "cell_type": "code",
   "execution_count": 1,
   "id": "thrown-wales",
   "metadata": {},
   "outputs": [],
   "source": [
    "from pathlib import Path\n",
    "import numpy as np\n",
    "import os\n",
    "\n",
    "np.random.seed(101)"
   ]
  },
  {
   "cell_type": "markdown",
   "metadata": {},
   "source": [
    "#### Three folders 'train', 'val' and 'test' are generated, each with two folders 'image' and 'label'"
   ]
  },
  {
   "cell_type": "code",
   "execution_count": 2,
   "id": "choice-flash",
   "metadata": {},
   "outputs": [],
   "source": [
    "aachen_path = Path('R:/aachen_model')\n",
    "\n",
    "train_path = aachen_path / 'train'\n",
    "val_path = aachen_path / 'val'\n",
    "test_path = aachen_path / 'test'\n",
    "\n",
    "(train_path / 'image').mkdir(parents=True, exist_ok=True)\n",
    "(train_path / 'label').mkdir(parents=True, exist_ok=True)\n",
    "(val_path / 'image').mkdir(parents=True, exist_ok=True)\n",
    "(val_path / 'label').mkdir(parents=True, exist_ok=True)\n",
    "(test_path / 'image').mkdir(parents=True, exist_ok=True)\n",
    "(test_path / 'label').mkdir(parents=True, exist_ok=True)\n",
    "\n",
    "images = list((aachen_path / 'image').glob('*.png'))\n",
    "np.random.shuffle(images)\n",
    "\n",
    "train_images = images[0:int(len(images)*0.8)]\n",
    "val_images = images[int(len(images)*0.8):int(len(images)*0.9)]\n",
    "test_images = images[int(len(images)*0.9):]\n",
    "\n",
    "for image in train_images:\n",
    "    label = aachen_path / 'label' / image.name\n",
    "\n",
    "    os.replace(label, train_path / 'label' / image.name)\n",
    "    os.replace(image, train_path / 'image' / image.name)\n",
    "\n",
    "for image in val_images:\n",
    "    label = aachen_path / 'label' / image.name\n",
    "\n",
    "    os.replace(label, val_path / 'label' / image.name)\n",
    "    os.replace(image, val_path / 'image' / image.name)\n",
    "\n",
    "for image in test_images:\n",
    "    label = aachen_path / 'label' / image.name\n",
    "\n",
    "    os.replace(label, test_path / 'label' / image.name)\n",
    "    os.replace(image, test_path / 'image' / image.name)"
   ]
  },
  {
   "cell_type": "code",
   "execution_count": null,
   "id": "vietnamese-retirement",
   "metadata": {},
   "outputs": [],
   "source": []
  }
 ],
 "metadata": {
  "kernelspec": {
   "display_name": "Python 3",
   "language": "python",
   "name": "python3"
  },
  "language_info": {
   "codemirror_mode": {
    "name": "ipython",
    "version": 3
   },
   "file_extension": ".py",
   "mimetype": "text/x-python",
   "name": "python",
   "nbconvert_exporter": "python",
   "pygments_lexer": "ipython3",
   "version": "3.8.2"
  }
 },
 "nbformat": 4,
 "nbformat_minor": 5
}
