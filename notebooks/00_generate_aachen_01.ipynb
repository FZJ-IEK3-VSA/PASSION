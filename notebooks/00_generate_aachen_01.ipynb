{
 "cells": [
  {
   "cell_type": "markdown",
   "metadata": {},
   "source": [
    "# Part 1/4 to generate Aachen dataset:\n",
    "## (Binary images with LiDAR footprints and tilt distribution)\n",
    "## Pickle generation"
   ]
  },
  {
   "cell_type": "code",
   "execution_count": 35,
   "id": "separate-universal",
   "metadata": {},
   "outputs": [],
   "source": [
    "import numpy as np\n",
    "import pandas as pd\n",
    "import matplotlib.pyplot as plt"
   ]
  },
  {
   "cell_type": "markdown",
   "metadata": {},
   "source": [
    "#### We load the CSV file from the processed rooftops:"
   ]
  },
  {
   "cell_type": "code",
   "execution_count": 2,
   "id": "coastal-startup",
   "metadata": {},
   "outputs": [
    {
     "name": "stderr",
     "output_type": "stream",
     "text": [
      "c:\\users\\rodri\\envs\\rooftop-segmentation\\lib\\site-packages\\IPython\\core\\interactiveshell.py:3155: DtypeWarning: Columns (1,4,5,9,13,15) have mixed types.Specify dtype option on import or set low_memory=False.\n",
      "  has_raised = await self.run_ast_nodes(code_ast.body, cell_name,\n"
     ]
    }
   ],
   "source": [
    "# change path to file location\n",
    "\n",
    "dataset = pd.read_csv('data/aachen_model.csv')"
   ]
  },
  {
   "cell_type": "code",
   "execution_count": 3,
   "id": "indie-knock",
   "metadata": {},
   "outputs": [
    {
     "data": {
      "text/html": [
       "<div>\n",
       "<style scoped>\n",
       "    .dataframe tbody tr th:only-of-type {\n",
       "        vertical-align: middle;\n",
       "    }\n",
       "\n",
       "    .dataframe tbody tr th {\n",
       "        vertical-align: top;\n",
       "    }\n",
       "\n",
       "    .dataframe thead th {\n",
       "        text-align: right;\n",
       "    }\n",
       "</style>\n",
       "<table border=\"1\" class=\"dataframe\">\n",
       "  <thead>\n",
       "    <tr style=\"text-align: right;\">\n",
       "      <th></th>\n",
       "      <th>Unnamed: 0</th>\n",
       "      <th>ST_AsText_1</th>\n",
       "      <th>ST_AsText_2</th>\n",
       "      <th>ST_SRID_1</th>\n",
       "      <th>Within</th>\n",
       "      <th>normal</th>\n",
       "      <th>area</th>\n",
       "      <th>tilt</th>\n",
       "      <th>azimuth</th>\n",
       "      <th>center</th>\n",
       "      <th>lon</th>\n",
       "      <th>lat</th>\n",
       "      <th>capacity</th>\n",
       "      <th>flat</th>\n",
       "      <th>elev</th>\n",
       "      <th>group</th>\n",
       "      <th>ID</th>\n",
       "      <th>poa</th>\n",
       "      <th>generation</th>\n",
       "      <th>gen</th>\n",
       "    </tr>\n",
       "  </thead>\n",
       "  <tbody>\n",
       "    <tr>\n",
       "      <th>0</th>\n",
       "      <td>217008</td>\n",
       "      <td>POLYGON Z ((293727.27 5628870.318 193.661,2937...</td>\n",
       "      <td>NaN</td>\n",
       "      <td>25832.0</td>\n",
       "      <td>True</td>\n",
       "      <td>[ 0. -0.  1.]</td>\n",
       "      <td>45.969333</td>\n",
       "      <td>32.0</td>\n",
       "      <td>180.0</td>\n",
       "      <td>[(293728.858683662, 5628871.637373464)]</td>\n",
       "      <td>6.074272</td>\n",
       "      <td>50.774872</td>\n",
       "      <td>2.442626</td>\n",
       "      <td>True</td>\n",
       "      <td>300.0</td>\n",
       "      <td>S2</td>\n",
       "      <td>217008.0</td>\n",
       "      <td>1.293567e+06</td>\n",
       "      <td>2426.687024</td>\n",
       "      <td>NaN</td>\n",
       "    </tr>\n",
       "    <tr>\n",
       "      <th>1</th>\n",
       "      <td>217013</td>\n",
       "      <td>POLYGON Z ((293152.73 5628244.806 200.56,29315...</td>\n",
       "      <td>NaN</td>\n",
       "      <td>25832.0</td>\n",
       "      <td>True</td>\n",
       "      <td>[0. 0. 1.]</td>\n",
       "      <td>36.064949</td>\n",
       "      <td>32.0</td>\n",
       "      <td>180.0</td>\n",
       "      <td>[(293157.8567467185, 5628243.828399268)]</td>\n",
       "      <td>6.066537</td>\n",
       "      <td>50.769030</td>\n",
       "      <td>1.916347</td>\n",
       "      <td>True</td>\n",
       "      <td>300.0</td>\n",
       "      <td>S2</td>\n",
       "      <td>217013.0</td>\n",
       "      <td>1.291059e+06</td>\n",
       "      <td>1900.208815</td>\n",
       "      <td>NaN</td>\n",
       "    </tr>\n",
       "    <tr>\n",
       "      <th>2</th>\n",
       "      <td>217014</td>\n",
       "      <td>POLYGON Z ((293338.797 5628376.212 209.549,293...</td>\n",
       "      <td>NaN</td>\n",
       "      <td>25832.0</td>\n",
       "      <td>True</td>\n",
       "      <td>[ 0. -0.  1.]</td>\n",
       "      <td>84.837309</td>\n",
       "      <td>32.0</td>\n",
       "      <td>180.0</td>\n",
       "      <td>[(293333.1229463291, 5628372.518758716)]</td>\n",
       "      <td>6.068947</td>\n",
       "      <td>50.770248</td>\n",
       "      <td>4.507915</td>\n",
       "      <td>True</td>\n",
       "      <td>300.0</td>\n",
       "      <td>S2</td>\n",
       "      <td>217014.0</td>\n",
       "      <td>1.291719e+06</td>\n",
       "      <td>4472.235407</td>\n",
       "      <td>NaN</td>\n",
       "    </tr>\n",
       "    <tr>\n",
       "      <th>3</th>\n",
       "      <td>217015</td>\n",
       "      <td>POLYGON Z ((293953.597 5628904.371 175.672,293...</td>\n",
       "      <td>NaN</td>\n",
       "      <td>25832.0</td>\n",
       "      <td>True</td>\n",
       "      <td>[0. 0. 1.]</td>\n",
       "      <td>15.082291</td>\n",
       "      <td>32.0</td>\n",
       "      <td>180.0</td>\n",
       "      <td>[(293956.34312867903, 5628904.182674101)]</td>\n",
       "      <td>6.077476</td>\n",
       "      <td>50.775245</td>\n",
       "      <td>0.801413</td>\n",
       "      <td>True</td>\n",
       "      <td>300.0</td>\n",
       "      <td>S2</td>\n",
       "      <td>217015.0</td>\n",
       "      <td>1.293886e+06</td>\n",
       "      <td>796.370705</td>\n",
       "      <td>NaN</td>\n",
       "    </tr>\n",
       "    <tr>\n",
       "      <th>4</th>\n",
       "      <td>217016</td>\n",
       "      <td>POLYGON Z ((293033.69 5628972.298 224.45,29303...</td>\n",
       "      <td>NaN</td>\n",
       "      <td>25832.0</td>\n",
       "      <td>True</td>\n",
       "      <td>[ 0. -0.  1.]</td>\n",
       "      <td>20.620000</td>\n",
       "      <td>32.0</td>\n",
       "      <td>180.0</td>\n",
       "      <td>[(293035.99658036133, 5628969.486089646)]</td>\n",
       "      <td>6.064403</td>\n",
       "      <td>50.775504</td>\n",
       "      <td>1.095664</td>\n",
       "      <td>True</td>\n",
       "      <td>300.0</td>\n",
       "      <td>S2</td>\n",
       "      <td>217016.0</td>\n",
       "      <td>1.293108e+06</td>\n",
       "      <td>1088.118841</td>\n",
       "      <td>NaN</td>\n",
       "    </tr>\n",
       "  </tbody>\n",
       "</table>\n",
       "</div>"
      ],
      "text/plain": [
       "   Unnamed: 0                                        ST_AsText_1  ST_AsText_2  \\\n",
       "0      217008  POLYGON Z ((293727.27 5628870.318 193.661,2937...          NaN   \n",
       "1      217013  POLYGON Z ((293152.73 5628244.806 200.56,29315...          NaN   \n",
       "2      217014  POLYGON Z ((293338.797 5628376.212 209.549,293...          NaN   \n",
       "3      217015  POLYGON Z ((293953.597 5628904.371 175.672,293...          NaN   \n",
       "4      217016  POLYGON Z ((293033.69 5628972.298 224.45,29303...          NaN   \n",
       "\n",
       "   ST_SRID_1 Within         normal       area  tilt  azimuth  \\\n",
       "0    25832.0   True  [ 0. -0.  1.]  45.969333  32.0    180.0   \n",
       "1    25832.0   True     [0. 0. 1.]  36.064949  32.0    180.0   \n",
       "2    25832.0   True  [ 0. -0.  1.]  84.837309  32.0    180.0   \n",
       "3    25832.0   True     [0. 0. 1.]  15.082291  32.0    180.0   \n",
       "4    25832.0   True  [ 0. -0.  1.]  20.620000  32.0    180.0   \n",
       "\n",
       "                                      center       lon        lat  capacity  \\\n",
       "0    [(293728.858683662, 5628871.637373464)]  6.074272  50.774872  2.442626   \n",
       "1   [(293157.8567467185, 5628243.828399268)]  6.066537  50.769030  1.916347   \n",
       "2   [(293333.1229463291, 5628372.518758716)]  6.068947  50.770248  4.507915   \n",
       "3  [(293956.34312867903, 5628904.182674101)]  6.077476  50.775245  0.801413   \n",
       "4  [(293035.99658036133, 5628969.486089646)]  6.064403  50.775504  1.095664   \n",
       "\n",
       "   flat   elev group        ID           poa   generation  gen  \n",
       "0  True  300.0    S2  217008.0  1.293567e+06  2426.687024  NaN  \n",
       "1  True  300.0    S2  217013.0  1.291059e+06  1900.208815  NaN  \n",
       "2  True  300.0    S2  217014.0  1.291719e+06  4472.235407  NaN  \n",
       "3  True  300.0    S2  217015.0  1.293886e+06   796.370705  NaN  \n",
       "4  True  300.0    S2  217016.0  1.293108e+06  1088.118841  NaN  "
      ]
     },
     "execution_count": 3,
     "metadata": {},
     "output_type": "execute_result"
    }
   ],
   "source": [
    "dataset.head()"
   ]
  },
  {
   "cell_type": "markdown",
   "metadata": {},
   "source": [
    "#### Remove NULL instances:"
   ]
  },
  {
   "cell_type": "code",
   "execution_count": 25,
   "id": "guided-borough",
   "metadata": {},
   "outputs": [],
   "source": [
    "dataset = dataset[dataset.ST_AsText_1.notnull()]"
   ]
  },
  {
   "cell_type": "code",
   "execution_count": 6,
   "id": "searching-asbestos",
   "metadata": {},
   "outputs": [],
   "source": [
    "poly_str = dataset.iloc[0]['ST_AsText_1']"
   ]
  },
  {
   "cell_type": "code",
   "execution_count": 7,
   "id": "boring-group",
   "metadata": {},
   "outputs": [
    {
     "data": {
      "text/plain": [
       "'POLYGON Z ((293727.27 5628870.318 193.661,293732.004 5628867.574 193.661,293732.67 5628868.708 193.661,293734.321 5628871.519 193.661,293726.553 5628875.993 193.661,293723.552 5628870.71 193.661,293726.496 5628868.998 193.661,293727.27 5628870.318 193.661))'"
      ]
     },
     "execution_count": 7,
     "metadata": {},
     "output_type": "execute_result"
    }
   ],
   "source": [
    "# seems to be in UTM\n",
    "poly_str"
   ]
  },
  {
   "cell_type": "code",
   "execution_count": 8,
   "id": "changing-george",
   "metadata": {},
   "outputs": [],
   "source": [
    "lat_center = dataset.iloc[0]['lat']\n",
    "lon_center = dataset.iloc[0]['lon']"
   ]
  },
  {
   "cell_type": "markdown",
   "metadata": {},
   "source": [
    "#### Convert UTM to LATLON:"
   ]
  },
  {
   "cell_type": "code",
   "execution_count": 9,
   "id": "included-leeds",
   "metadata": {},
   "outputs": [],
   "source": [
    "import utm\n",
    "u = utm.from_latlon(lat_center, lon_center)"
   ]
  },
  {
   "cell_type": "code",
   "execution_count": 10,
   "id": "duplicate-matthew",
   "metadata": {},
   "outputs": [
    {
     "data": {
      "text/plain": [
       "(293728.85866784235, 5628871.637790619, 32, 'U')"
      ]
     },
     "execution_count": 10,
     "metadata": {},
     "output_type": "execute_result"
    }
   ],
   "source": [
    "u"
   ]
  },
  {
   "cell_type": "code",
   "execution_count": 11,
   "id": "featured-superior",
   "metadata": {},
   "outputs": [
    {
     "name": "stdout",
     "output_type": "stream",
     "text": [
      "(50.76561116416389, 6.0416842841857905)\n"
     ]
    }
   ],
   "source": [
    "latlon = utm.to_latlon(291390.522, 5627933.578, u[2], u[3])\n",
    "\n",
    "print(latlon)"
   ]
  },
  {
   "cell_type": "code",
   "execution_count": 12,
   "id": "lonely-semiconductor",
   "metadata": {},
   "outputs": [
    {
     "name": "stdout",
     "output_type": "stream",
     "text": [
      "293727.27 5628870.318 193.661,293732.004 5628867.574 193.661,293732.67 5628868.708 193.661,293734.321 5628871.519 193.661,293726.553 5628875.993 193.661,293723.552 5628870.71 193.661,293726.496 5628868.998 193.661,293727.27 5628870.318 193.661\n"
     ]
    }
   ],
   "source": [
    "poly_str = poly_str.replace('POLYGON Z ((', '').replace('))', '')\n",
    "print(poly_str)"
   ]
  },
  {
   "cell_type": "code",
   "execution_count": 13,
   "id": "economic-communications",
   "metadata": {},
   "outputs": [],
   "source": [
    "ZONE_NUMBER = 32\n",
    "ZONE_LETTER = 'U'\n",
    "\n",
    "coords = []\n",
    "\n",
    "for coord in poly_str.split(','):\n",
    "    x_utm, y_utm, _ = coord.split(' ')\n",
    "    latlon = utm.to_latlon(float(x_utm), float(y_utm), ZONE_NUMBER, ZONE_LETTER)\n",
    "    coords.append(latlon)"
   ]
  },
  {
   "cell_type": "code",
   "execution_count": 14,
   "id": "stopped-skill",
   "metadata": {},
   "outputs": [
    {
     "data": {
      "text/plain": [
       "[(50.774859482832824, 6.074250446530072),\n",
       " (50.774836521947094, 6.074319038398946),\n",
       " (50.774846943341544, 6.074327835803578),\n",
       " (50.77487277630027, 6.074349644492308),\n",
       " (50.774910195705736, 6.074237108342073),\n",
       " (50.77486168137324, 6.074197564379871),\n",
       " (50.77484735254282, 6.074240223719505),\n",
       " (50.774859482832824, 6.074250446530072)]"
      ]
     },
     "execution_count": 14,
     "metadata": {},
     "output_type": "execute_result"
    }
   ],
   "source": [
    "coords"
   ]
  },
  {
   "cell_type": "code",
   "execution_count": 27,
   "id": "devoted-senior",
   "metadata": {},
   "outputs": [
    {
     "name": "stdout",
     "output_type": "stream",
     "text": [
      "57900\n",
      "POLYGON Z ((297996.47 5621955.874 290.457,298016.766 5621971.351 290.457,298007.846 5621983.052 290.457,297987.55 5621967.585 290.457,297996.47 5621955.874 290.457),(297997.126 5621959.007 290.457,297990.734 5621967.382 290.457,298006.248 5621979.193 290.457,298012.622 5621970.836 290.457,297997.126 5621959.007 290.457))\n"
     ]
    }
   ],
   "source": [
    "# as we can see, there are rows with more than one geometry\n",
    "\n",
    "ZONE_NUMBER = 32\n",
    "ZONE_LETTER = 'U'\n",
    "\n",
    "geom = []\n",
    "for index, row in dataset.iterrows():\n",
    "    poly_str = row['ST_AsText_1']\n",
    "    poly_str = poly_str.replace('POLYGON Z ((', '').replace('))', '')\n",
    "    \n",
    "    try:\n",
    "        coords = []\n",
    "        for coord in poly_str.split(','):\n",
    "            x_utm, y_utm, _ = coord.split(' ')\n",
    "            latlon = utm.to_latlon(float(x_utm), float(y_utm), ZONE_NUMBER, ZONE_LETTER)\n",
    "            coords.append(latlon)\n",
    "    except Exception:\n",
    "        print(index)\n",
    "        print(row['ST_AsText_1'])\n",
    "        break\n",
    "    \n",
    "    geom.append(coords)"
   ]
  },
  {
   "cell_type": "code",
   "execution_count": 29,
   "id": "expressed-calculation",
   "metadata": {},
   "outputs": [
    {
     "data": {
      "text/plain": [
       "'POLYGON Z ((297996.47 5621955.874 290.457,298016.766 5621971.351 290.457,298007.846 5621983.052 290.457,297987.55 5621967.585 290.457,297996.47 5621955.874 290.457),(297997.126 5621959.007 290.457,297990.734 5621967.382 290.457,298006.248 5621979.193 290.457,298012.622 5621970.836 290.457,297997.126 5621959.007 290.457))'"
      ]
     },
     "execution_count": 29,
     "metadata": {},
     "output_type": "execute_result"
    }
   ],
   "source": [
    "row['ST_AsText_1']"
   ]
  },
  {
   "cell_type": "code",
   "execution_count": 30,
   "id": "oriental-label",
   "metadata": {},
   "outputs": [
    {
     "name": "stdout",
     "output_type": "stream",
     "text": [
      "['293335.131 5630002.3 192.3,293336.408 5630000.716 192.3,293337.556 5630001.641 192.3,293336.29 5630003.234 192.3,293335.131 5630002.3 192.3']\n"
     ]
    }
   ],
   "source": [
    "poly = dataset.iloc[11529]['ST_AsText_1']\n",
    "\n",
    "# first parenthesis contents\n",
    "c = poly[poly.find('(')+1:poly.rfind(')')]\n",
    "\n",
    "building_geoms = []\n",
    "while '(' in c:\n",
    "    occurrence = c[c.find('(')+1:c.find(')')]\n",
    "    c = c.replace('(','',1).replace(')','',1)\n",
    "    \n",
    "    building_geoms.append(occurrence)\n",
    "\n",
    "print(building_geoms)"
   ]
  },
  {
   "cell_type": "code",
   "execution_count": 31,
   "id": "successful-census",
   "metadata": {},
   "outputs": [],
   "source": [
    "# NOW, geoms WILL CONTAIN ONE DIMENSION PER:\n",
    "# - BUILDING\n",
    "# - BUILDING GEOMETRY\n",
    "# - BUILDING GEOMETRY COORDINATES\n",
    "\n",
    "ZONE_NUMBER = 32\n",
    "ZONE_LETTER = 'U'\n",
    "\n",
    "geom = []\n",
    "for index, row in dataset.iterrows():\n",
    "    poly_str = row['ST_AsText_1']\n",
    "    poly_str = poly_str[poly_str.find('(')+1:poly_str.rfind(')')]\n",
    "    \n",
    "    building_geoms_str = []\n",
    "    \n",
    "    while '(' in poly_str:\n",
    "        # each of the geoms of the building\n",
    "        occurrence = poly_str[poly_str.find('(')+1:poly_str.find(')')]\n",
    "        poly_str = poly_str.replace('(','',1).replace(')','',1)\n",
    "        \n",
    "        building_geoms_str.append(occurrence)\n",
    "    \n",
    "    building_geoms = []\n",
    "    \n",
    "    for occurrence in building_geoms_str:\n",
    "        coords = []\n",
    "        for coord in occurrence.split(','):\n",
    "            x_utm, y_utm, _ = coord.split(' ')\n",
    "            latlon = utm.to_latlon(float(x_utm), float(y_utm), ZONE_NUMBER, ZONE_LETTER)\n",
    "            coords.append(latlon)\n",
    "        building_geoms.append(coords)\n",
    "    \n",
    "    geom.append(building_geoms)"
   ]
  },
  {
   "cell_type": "code",
   "execution_count": 32,
   "id": "banner-satellite",
   "metadata": {},
   "outputs": [
    {
     "data": {
      "text/plain": [
       "190130"
      ]
     },
     "execution_count": 32,
     "metadata": {},
     "output_type": "execute_result"
    }
   ],
   "source": [
    "len(geom)"
   ]
  },
  {
   "cell_type": "code",
   "execution_count": 33,
   "id": "textile-storage",
   "metadata": {},
   "outputs": [
    {
     "data": {
      "text/plain": [
       "[(50.774859482832824, 6.074250446530072),\n",
       " (50.774836521947094, 6.074319038398946),\n",
       " (50.774846943341544, 6.074327835803578),\n",
       " (50.77487277630027, 6.074349644492308),\n",
       " (50.774910195705736, 6.074237108342073),\n",
       " (50.77486168137324, 6.074197564379871),\n",
       " (50.77484735254282, 6.074240223719505),\n",
       " (50.774859482832824, 6.074250446530072)]"
      ]
     },
     "execution_count": 33,
     "metadata": {},
     "output_type": "execute_result"
    }
   ],
   "source": [
    "geom[0][0]"
   ]
  },
  {
   "cell_type": "code",
   "execution_count": 36,
   "id": "constant-speaking",
   "metadata": {},
   "outputs": [
    {
     "data": {
      "image/png": "[encoded data removed]",
      "text/plain": [
       "<Figure size 432x288 with 1 Axes>"
      ]
     },
     "metadata": {
      "needs_background": "light"
     },
     "output_type": "display_data"
    }
   ],
   "source": [
    "plt.figure()\n",
    "for geo in geom[:100]:\n",
    "    for g in geo:\n",
    "        xs, ys = list(map(list, zip(*g)))\n",
    "        plt.plot(xs,ys)"
   ]
  },
  {
   "cell_type": "code",
   "execution_count": 37,
   "id": "occupied-trigger",
   "metadata": {},
   "outputs": [
    {
     "data": {
      "image/png": "[encoded data removed]",
      "text/plain": [
       "<Figure size 432x288 with 1 Axes>"
      ]
     },
     "metadata": {
      "needs_background": "light"
     },
     "output_type": "display_data"
    }
   ],
   "source": [
    "plt.figure()\n",
    "for geo in geom:\n",
    "    for g in geo:\n",
    "        xs, ys = list(map(list, zip(*g)))\n",
    "        plt.plot(xs,ys)"
   ]
  },
  {
   "cell_type": "markdown",
   "metadata": {},
   "source": [
    "#### Dump final coordinates to a pickle file:"
   ]
  },
  {
   "cell_type": "code",
   "execution_count": 38,
   "id": "gross-bradley",
   "metadata": {},
   "outputs": [],
   "source": [
    "import pickle\n",
    "\n",
    "with open('output/aachen_rooftops.pkl', 'wb') as f:\n",
    "    pickle.dump(geom, f)"
   ]
  },
  {
   "cell_type": "code",
   "execution_count": null,
   "id": "certified-happening",
   "metadata": {},
   "outputs": [],
   "source": []
  }
 ],
 "metadata": {
  "kernelspec": {
   "display_name": "Python 3",
   "language": "python",
   "name": "python3"
  },
  "language_info": {
   "codemirror_mode": {
    "name": "ipython",
    "version": 3
   },
   "file_extension": ".py",
   "mimetype": "text/x-python",
   "name": "python",
   "nbconvert_exporter": "python",
   "pygments_lexer": "ipython3",
   "version": "3.8.2"
  }
 },
 "nbformat": 4,
 "nbformat_minor": 5
}
