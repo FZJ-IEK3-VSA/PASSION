{
 "cells": [
  {
   "cell_type": "markdown",
   "metadata": {},
   "source": [
    "# Part 4/4 to generate Aachen dataset:\n",
    "## (Binary images with LiDAR footprints and tilt distribution)\n",
    "## Generate tilt distribution"
   ]
  },
  {
   "cell_type": "code",
   "execution_count": 31,
   "id": "planned-supply",
   "metadata": {},
   "outputs": [],
   "source": [
    "import numpy as np\n",
    "import pandas as pd\n",
    "import matplotlib.pyplot as plt\n",
    "import matplotlib\n",
    "matplotlib.rcParams['mathtext.fontset'] = 'stix'\n",
    "matplotlib.rcParams['font.family'] = 'STIXGeneral'\n",
    "matplotlib.rcParams['font.size'] = 14\n",
    "matplotlib.rcParams['figure.autolayout'] = True"
   ]
  },
  {
   "cell_type": "code",
   "execution_count": 2,
   "id": "fifty-floor",
   "metadata": {},
   "outputs": [
    {
     "name": "stderr",
     "output_type": "stream",
     "text": [
      "c:\\users\\rodri\\envs\\rooftop-segmentation\\lib\\site-packages\\IPython\\core\\interactiveshell.py:3155: DtypeWarning: Columns (1,4,5,9,13,15) have mixed types.Specify dtype option on import or set low_memory=False.\n",
      "  has_raised = await self.run_ast_nodes(code_ast.body, cell_name,\n"
     ]
    }
   ],
   "source": [
    "aachen_data = pd.read_csv('data/aachen_model.csv')"
   ]
  },
  {
   "cell_type": "code",
   "execution_count": 3,
   "id": "alert-drive",
   "metadata": {},
   "outputs": [
    {
     "data": {
      "text/html": [
       "<div>\n",
       "<style scoped>\n",
       "    .dataframe tbody tr th:only-of-type {\n",
       "        vertical-align: middle;\n",
       "    }\n",
       "\n",
       "    .dataframe tbody tr th {\n",
       "        vertical-align: top;\n",
       "    }\n",
       "\n",
       "    .dataframe thead th {\n",
       "        text-align: right;\n",
       "    }\n",
       "</style>\n",
       "<table border=\"1\" class=\"dataframe\">\n",
       "  <thead>\n",
       "    <tr style=\"text-align: right;\">\n",
       "      <th></th>\n",
       "      <th>Unnamed: 0</th>\n",
       "      <th>ST_AsText_1</th>\n",
       "      <th>ST_AsText_2</th>\n",
       "      <th>ST_SRID_1</th>\n",
       "      <th>Within</th>\n",
       "      <th>normal</th>\n",
       "      <th>area</th>\n",
       "      <th>tilt</th>\n",
       "      <th>azimuth</th>\n",
       "      <th>center</th>\n",
       "      <th>lon</th>\n",
       "      <th>lat</th>\n",
       "      <th>capacity</th>\n",
       "      <th>flat</th>\n",
       "      <th>elev</th>\n",
       "      <th>group</th>\n",
       "      <th>ID</th>\n",
       "      <th>poa</th>\n",
       "      <th>generation</th>\n",
       "      <th>gen</th>\n",
       "    </tr>\n",
       "  </thead>\n",
       "  <tbody>\n",
       "    <tr>\n",
       "      <th>0</th>\n",
       "      <td>217008</td>\n",
       "      <td>POLYGON Z ((293727.27 5628870.318 193.661,2937...</td>\n",
       "      <td>NaN</td>\n",
       "      <td>25832.0</td>\n",
       "      <td>True</td>\n",
       "      <td>[ 0. -0.  1.]</td>\n",
       "      <td>45.969333</td>\n",
       "      <td>32.0</td>\n",
       "      <td>180.0</td>\n",
       "      <td>[(293728.858683662, 5628871.637373464)]</td>\n",
       "      <td>6.074272</td>\n",
       "      <td>50.774872</td>\n",
       "      <td>2.442626</td>\n",
       "      <td>True</td>\n",
       "      <td>300.0</td>\n",
       "      <td>S2</td>\n",
       "      <td>217008.0</td>\n",
       "      <td>1.293567e+06</td>\n",
       "      <td>2426.687024</td>\n",
       "      <td>NaN</td>\n",
       "    </tr>\n",
       "    <tr>\n",
       "      <th>1</th>\n",
       "      <td>217013</td>\n",
       "      <td>POLYGON Z ((293152.73 5628244.806 200.56,29315...</td>\n",
       "      <td>NaN</td>\n",
       "      <td>25832.0</td>\n",
       "      <td>True</td>\n",
       "      <td>[0. 0. 1.]</td>\n",
       "      <td>36.064949</td>\n",
       "      <td>32.0</td>\n",
       "      <td>180.0</td>\n",
       "      <td>[(293157.8567467185, 5628243.828399268)]</td>\n",
       "      <td>6.066537</td>\n",
       "      <td>50.769030</td>\n",
       "      <td>1.916347</td>\n",
       "      <td>True</td>\n",
       "      <td>300.0</td>\n",
       "      <td>S2</td>\n",
       "      <td>217013.0</td>\n",
       "      <td>1.291059e+06</td>\n",
       "      <td>1900.208815</td>\n",
       "      <td>NaN</td>\n",
       "    </tr>\n",
       "    <tr>\n",
       "      <th>2</th>\n",
       "      <td>217014</td>\n",
       "      <td>POLYGON Z ((293338.797 5628376.212 209.549,293...</td>\n",
       "      <td>NaN</td>\n",
       "      <td>25832.0</td>\n",
       "      <td>True</td>\n",
       "      <td>[ 0. -0.  1.]</td>\n",
       "      <td>84.837309</td>\n",
       "      <td>32.0</td>\n",
       "      <td>180.0</td>\n",
       "      <td>[(293333.1229463291, 5628372.518758716)]</td>\n",
       "      <td>6.068947</td>\n",
       "      <td>50.770248</td>\n",
       "      <td>4.507915</td>\n",
       "      <td>True</td>\n",
       "      <td>300.0</td>\n",
       "      <td>S2</td>\n",
       "      <td>217014.0</td>\n",
       "      <td>1.291719e+06</td>\n",
       "      <td>4472.235407</td>\n",
       "      <td>NaN</td>\n",
       "    </tr>\n",
       "    <tr>\n",
       "      <th>3</th>\n",
       "      <td>217015</td>\n",
       "      <td>POLYGON Z ((293953.597 5628904.371 175.672,293...</td>\n",
       "      <td>NaN</td>\n",
       "      <td>25832.0</td>\n",
       "      <td>True</td>\n",
       "      <td>[0. 0. 1.]</td>\n",
       "      <td>15.082291</td>\n",
       "      <td>32.0</td>\n",
       "      <td>180.0</td>\n",
       "      <td>[(293956.34312867903, 5628904.182674101)]</td>\n",
       "      <td>6.077476</td>\n",
       "      <td>50.775245</td>\n",
       "      <td>0.801413</td>\n",
       "      <td>True</td>\n",
       "      <td>300.0</td>\n",
       "      <td>S2</td>\n",
       "      <td>217015.0</td>\n",
       "      <td>1.293886e+06</td>\n",
       "      <td>796.370705</td>\n",
       "      <td>NaN</td>\n",
       "    </tr>\n",
       "    <tr>\n",
       "      <th>4</th>\n",
       "      <td>217016</td>\n",
       "      <td>POLYGON Z ((293033.69 5628972.298 224.45,29303...</td>\n",
       "      <td>NaN</td>\n",
       "      <td>25832.0</td>\n",
       "      <td>True</td>\n",
       "      <td>[ 0. -0.  1.]</td>\n",
       "      <td>20.620000</td>\n",
       "      <td>32.0</td>\n",
       "      <td>180.0</td>\n",
       "      <td>[(293035.99658036133, 5628969.486089646)]</td>\n",
       "      <td>6.064403</td>\n",
       "      <td>50.775504</td>\n",
       "      <td>1.095664</td>\n",
       "      <td>True</td>\n",
       "      <td>300.0</td>\n",
       "      <td>S2</td>\n",
       "      <td>217016.0</td>\n",
       "      <td>1.293108e+06</td>\n",
       "      <td>1088.118841</td>\n",
       "      <td>NaN</td>\n",
       "    </tr>\n",
       "  </tbody>\n",
       "</table>\n",
       "</div>"
      ],
      "text/plain": [
       "   Unnamed: 0                                        ST_AsText_1  ST_AsText_2  \\\n",
       "0      217008  POLYGON Z ((293727.27 5628870.318 193.661,2937...          NaN   \n",
       "1      217013  POLYGON Z ((293152.73 5628244.806 200.56,29315...          NaN   \n",
       "2      217014  POLYGON Z ((293338.797 5628376.212 209.549,293...          NaN   \n",
       "3      217015  POLYGON Z ((293953.597 5628904.371 175.672,293...          NaN   \n",
       "4      217016  POLYGON Z ((293033.69 5628972.298 224.45,29303...          NaN   \n",
       "\n",
       "   ST_SRID_1 Within         normal       area  tilt  azimuth  \\\n",
       "0    25832.0   True  [ 0. -0.  1.]  45.969333  32.0    180.0   \n",
       "1    25832.0   True     [0. 0. 1.]  36.064949  32.0    180.0   \n",
       "2    25832.0   True  [ 0. -0.  1.]  84.837309  32.0    180.0   \n",
       "3    25832.0   True     [0. 0. 1.]  15.082291  32.0    180.0   \n",
       "4    25832.0   True  [ 0. -0.  1.]  20.620000  32.0    180.0   \n",
       "\n",
       "                                      center       lon        lat  capacity  \\\n",
       "0    [(293728.858683662, 5628871.637373464)]  6.074272  50.774872  2.442626   \n",
       "1   [(293157.8567467185, 5628243.828399268)]  6.066537  50.769030  1.916347   \n",
       "2   [(293333.1229463291, 5628372.518758716)]  6.068947  50.770248  4.507915   \n",
       "3  [(293956.34312867903, 5628904.182674101)]  6.077476  50.775245  0.801413   \n",
       "4  [(293035.99658036133, 5628969.486089646)]  6.064403  50.775504  1.095664   \n",
       "\n",
       "   flat   elev group        ID           poa   generation  gen  \n",
       "0  True  300.0    S2  217008.0  1.293567e+06  2426.687024  NaN  \n",
       "1  True  300.0    S2  217013.0  1.291059e+06  1900.208815  NaN  \n",
       "2  True  300.0    S2  217014.0  1.291719e+06  4472.235407  NaN  \n",
       "3  True  300.0    S2  217015.0  1.293886e+06   796.370705  NaN  \n",
       "4  True  300.0    S2  217016.0  1.293108e+06  1088.118841  NaN  "
      ]
     },
     "execution_count": 3,
     "metadata": {},
     "output_type": "execute_result"
    }
   ],
   "source": [
    "aachen_data.head()"
   ]
  },
  {
   "cell_type": "code",
   "execution_count": 4,
   "id": "joined-quality",
   "metadata": {},
   "outputs": [],
   "source": [
    "aachen_data = aachen_data[aachen_data.ST_AsText_1.notnull()]"
   ]
  },
  {
   "cell_type": "code",
   "execution_count": 5,
   "id": "geographic-peninsula",
   "metadata": {},
   "outputs": [
    {
     "data": {
      "text/plain": [
       "array([[<AxesSubplot:title={'center':'tilt'}>]], dtype=object)"
      ]
     },
     "execution_count": 5,
     "metadata": {},
     "output_type": "execute_result"
    },
    {
     "data": {
      "image/png": "[encoded data removed]",
      "text/plain": [
       "<Figure size 432x288 with 1 Axes>"
      ]
     },
     "metadata": {
      "needs_background": "light"
     },
     "output_type": "display_data"
    },
    {
     "data": {
      "image/png": "[encoded data removed]",
      "text/plain": [
       "<Figure size 432x288 with 1 Axes>"
      ]
     },
     "metadata": {
      "needs_background": "light"
     },
     "output_type": "display_data"
    }
   ],
   "source": [
    "# Tilted rooftops\n",
    "aachen_data_tilted = aachen_data[aachen_data.flat == False]\n",
    "aachen_data_flat = aachen_data[aachen_data.flat == True]\n",
    "\n",
    "aachen_data_tilted.hist(column='tilt', grid=False, bins=90)\n",
    "aachen_data_flat.hist(column='tilt', grid=False, bins=90)"
   ]
  },
  {
   "cell_type": "code",
   "execution_count": 6,
   "id": "guilty-tucson",
   "metadata": {},
   "outputs": [
    {
     "data": {
      "text/html": [
       "<div>\n",
       "<style scoped>\n",
       "    .dataframe tbody tr th:only-of-type {\n",
       "        vertical-align: middle;\n",
       "    }\n",
       "\n",
       "    .dataframe tbody tr th {\n",
       "        vertical-align: top;\n",
       "    }\n",
       "\n",
       "    .dataframe thead th {\n",
       "        text-align: right;\n",
       "    }\n",
       "</style>\n",
       "<table border=\"1\" class=\"dataframe\">\n",
       "  <thead>\n",
       "    <tr style=\"text-align: right;\">\n",
       "      <th></th>\n",
       "      <th>Unnamed: 0</th>\n",
       "      <th>ST_AsText_1</th>\n",
       "      <th>ST_AsText_2</th>\n",
       "      <th>ST_SRID_1</th>\n",
       "      <th>Within</th>\n",
       "      <th>normal</th>\n",
       "      <th>area</th>\n",
       "      <th>tilt</th>\n",
       "      <th>azimuth</th>\n",
       "      <th>center</th>\n",
       "      <th>lon</th>\n",
       "      <th>lat</th>\n",
       "      <th>capacity</th>\n",
       "      <th>flat</th>\n",
       "      <th>elev</th>\n",
       "      <th>group</th>\n",
       "      <th>ID</th>\n",
       "      <th>poa</th>\n",
       "      <th>generation</th>\n",
       "      <th>gen</th>\n",
       "    </tr>\n",
       "  </thead>\n",
       "  <tbody>\n",
       "    <tr>\n",
       "      <th>47058</th>\n",
       "      <td>NaN</td>\n",
       "      <td>NaN</td>\n",
       "      <td>NaN</td>\n",
       "      <td>NaN</td>\n",
       "      <td>NaN</td>\n",
       "      <td>NaN</td>\n",
       "      <td>NaN</td>\n",
       "      <td>NaN</td>\n",
       "      <td>NaN</td>\n",
       "      <td>NaN</td>\n",
       "      <td>NaN</td>\n",
       "      <td>NaN</td>\n",
       "      <td>NaN</td>\n",
       "      <td>NaN</td>\n",
       "      <td>NaN</td>\n",
       "      <td>NaN</td>\n",
       "      <td>NaN</td>\n",
       "      <td>NaN</td>\n",
       "      <td>NaN</td>\n",
       "      <td>NaN</td>\n",
       "    </tr>\n",
       "    <tr>\n",
       "      <th>47059</th>\n",
       "      <td>NaN</td>\n",
       "      <td>NaN</td>\n",
       "      <td>NaN</td>\n",
       "      <td>NaN</td>\n",
       "      <td>NaN</td>\n",
       "      <td>NaN</td>\n",
       "      <td>NaN</td>\n",
       "      <td>NaN</td>\n",
       "      <td>NaN</td>\n",
       "      <td>NaN</td>\n",
       "      <td>NaN</td>\n",
       "      <td>NaN</td>\n",
       "      <td>NaN</td>\n",
       "      <td>NaN</td>\n",
       "      <td>NaN</td>\n",
       "      <td>NaN</td>\n",
       "      <td>NaN</td>\n",
       "      <td>NaN</td>\n",
       "      <td>NaN</td>\n",
       "      <td>NaN</td>\n",
       "    </tr>\n",
       "    <tr>\n",
       "      <th>47060</th>\n",
       "      <td>NaN</td>\n",
       "      <td>NaN</td>\n",
       "      <td>NaN</td>\n",
       "      <td>NaN</td>\n",
       "      <td>NaN</td>\n",
       "      <td>NaN</td>\n",
       "      <td>NaN</td>\n",
       "      <td>NaN</td>\n",
       "      <td>NaN</td>\n",
       "      <td>NaN</td>\n",
       "      <td>NaN</td>\n",
       "      <td>NaN</td>\n",
       "      <td>NaN</td>\n",
       "      <td>NaN</td>\n",
       "      <td>NaN</td>\n",
       "      <td>NaN</td>\n",
       "      <td>NaN</td>\n",
       "      <td>NaN</td>\n",
       "      <td>NaN</td>\n",
       "      <td>NaN</td>\n",
       "    </tr>\n",
       "    <tr>\n",
       "      <th>47061</th>\n",
       "      <td>NaN</td>\n",
       "      <td>NaN</td>\n",
       "      <td>NaN</td>\n",
       "      <td>NaN</td>\n",
       "      <td>NaN</td>\n",
       "      <td>NaN</td>\n",
       "      <td>NaN</td>\n",
       "      <td>NaN</td>\n",
       "      <td>NaN</td>\n",
       "      <td>NaN</td>\n",
       "      <td>NaN</td>\n",
       "      <td>NaN</td>\n",
       "      <td>NaN</td>\n",
       "      <td>NaN</td>\n",
       "      <td>NaN</td>\n",
       "      <td>NaN</td>\n",
       "      <td>NaN</td>\n",
       "      <td>NaN</td>\n",
       "      <td>NaN</td>\n",
       "      <td>NaN</td>\n",
       "    </tr>\n",
       "    <tr>\n",
       "      <th>47062</th>\n",
       "      <td>NaN</td>\n",
       "      <td>NaN</td>\n",
       "      <td>NaN</td>\n",
       "      <td>NaN</td>\n",
       "      <td>NaN</td>\n",
       "      <td>NaN</td>\n",
       "      <td>NaN</td>\n",
       "      <td>NaN</td>\n",
       "      <td>NaN</td>\n",
       "      <td>NaN</td>\n",
       "      <td>NaN</td>\n",
       "      <td>NaN</td>\n",
       "      <td>NaN</td>\n",
       "      <td>NaN</td>\n",
       "      <td>NaN</td>\n",
       "      <td>NaN</td>\n",
       "      <td>NaN</td>\n",
       "      <td>NaN</td>\n",
       "      <td>NaN</td>\n",
       "      <td>NaN</td>\n",
       "    </tr>\n",
       "    <tr>\n",
       "      <th>...</th>\n",
       "      <td>...</td>\n",
       "      <td>...</td>\n",
       "      <td>...</td>\n",
       "      <td>...</td>\n",
       "      <td>...</td>\n",
       "      <td>...</td>\n",
       "      <td>...</td>\n",
       "      <td>...</td>\n",
       "      <td>...</td>\n",
       "      <td>...</td>\n",
       "      <td>...</td>\n",
       "      <td>...</td>\n",
       "      <td>...</td>\n",
       "      <td>...</td>\n",
       "      <td>...</td>\n",
       "      <td>...</td>\n",
       "      <td>...</td>\n",
       "      <td>...</td>\n",
       "      <td>...</td>\n",
       "      <td>...</td>\n",
       "    </tr>\n",
       "    <tr>\n",
       "      <th>496725</th>\n",
       "      <td>NaN</td>\n",
       "      <td>NaN</td>\n",
       "      <td>NaN</td>\n",
       "      <td>NaN</td>\n",
       "      <td>NaN</td>\n",
       "      <td>NaN</td>\n",
       "      <td>NaN</td>\n",
       "      <td>NaN</td>\n",
       "      <td>NaN</td>\n",
       "      <td>NaN</td>\n",
       "      <td>NaN</td>\n",
       "      <td>NaN</td>\n",
       "      <td>NaN</td>\n",
       "      <td>NaN</td>\n",
       "      <td>NaN</td>\n",
       "      <td>NaN</td>\n",
       "      <td>NaN</td>\n",
       "      <td>NaN</td>\n",
       "      <td>NaN</td>\n",
       "      <td>NaN</td>\n",
       "    </tr>\n",
       "    <tr>\n",
       "      <th>496726</th>\n",
       "      <td>NaN</td>\n",
       "      <td>NaN</td>\n",
       "      <td>NaN</td>\n",
       "      <td>NaN</td>\n",
       "      <td>NaN</td>\n",
       "      <td>NaN</td>\n",
       "      <td>NaN</td>\n",
       "      <td>NaN</td>\n",
       "      <td>NaN</td>\n",
       "      <td>NaN</td>\n",
       "      <td>NaN</td>\n",
       "      <td>NaN</td>\n",
       "      <td>NaN</td>\n",
       "      <td>NaN</td>\n",
       "      <td>NaN</td>\n",
       "      <td>NaN</td>\n",
       "      <td>NaN</td>\n",
       "      <td>NaN</td>\n",
       "      <td>NaN</td>\n",
       "      <td>NaN</td>\n",
       "    </tr>\n",
       "    <tr>\n",
       "      <th>496727</th>\n",
       "      <td>NaN</td>\n",
       "      <td>NaN</td>\n",
       "      <td>NaN</td>\n",
       "      <td>NaN</td>\n",
       "      <td>NaN</td>\n",
       "      <td>NaN</td>\n",
       "      <td>NaN</td>\n",
       "      <td>NaN</td>\n",
       "      <td>NaN</td>\n",
       "      <td>NaN</td>\n",
       "      <td>NaN</td>\n",
       "      <td>NaN</td>\n",
       "      <td>NaN</td>\n",
       "      <td>NaN</td>\n",
       "      <td>NaN</td>\n",
       "      <td>NaN</td>\n",
       "      <td>NaN</td>\n",
       "      <td>NaN</td>\n",
       "      <td>NaN</td>\n",
       "      <td>NaN</td>\n",
       "    </tr>\n",
       "    <tr>\n",
       "      <th>496728</th>\n",
       "      <td>NaN</td>\n",
       "      <td>NaN</td>\n",
       "      <td>NaN</td>\n",
       "      <td>NaN</td>\n",
       "      <td>NaN</td>\n",
       "      <td>NaN</td>\n",
       "      <td>NaN</td>\n",
       "      <td>NaN</td>\n",
       "      <td>NaN</td>\n",
       "      <td>NaN</td>\n",
       "      <td>NaN</td>\n",
       "      <td>NaN</td>\n",
       "      <td>NaN</td>\n",
       "      <td>NaN</td>\n",
       "      <td>NaN</td>\n",
       "      <td>NaN</td>\n",
       "      <td>NaN</td>\n",
       "      <td>NaN</td>\n",
       "      <td>NaN</td>\n",
       "      <td>NaN</td>\n",
       "    </tr>\n",
       "    <tr>\n",
       "      <th>496729</th>\n",
       "      <td>NaN</td>\n",
       "      <td>NaN</td>\n",
       "      <td>NaN</td>\n",
       "      <td>NaN</td>\n",
       "      <td>NaN</td>\n",
       "      <td>NaN</td>\n",
       "      <td>NaN</td>\n",
       "      <td>NaN</td>\n",
       "      <td>NaN</td>\n",
       "      <td>NaN</td>\n",
       "      <td>NaN</td>\n",
       "      <td>NaN</td>\n",
       "      <td>NaN</td>\n",
       "      <td>NaN</td>\n",
       "      <td>NaN</td>\n",
       "      <td>NaN</td>\n",
       "      <td>NaN</td>\n",
       "      <td>NaN</td>\n",
       "      <td>NaN</td>\n",
       "      <td>NaN</td>\n",
       "    </tr>\n",
       "  </tbody>\n",
       "</table>\n",
       "<p>113801 rows × 20 columns</p>\n",
       "</div>"
      ],
      "text/plain": [
       "        Unnamed: 0 ST_AsText_1  ST_AsText_2  ST_SRID_1 Within normal  area  \\\n",
       "47058          NaN         NaN          NaN        NaN    NaN    NaN   NaN   \n",
       "47059          NaN         NaN          NaN        NaN    NaN    NaN   NaN   \n",
       "47060          NaN         NaN          NaN        NaN    NaN    NaN   NaN   \n",
       "47061          NaN         NaN          NaN        NaN    NaN    NaN   NaN   \n",
       "47062          NaN         NaN          NaN        NaN    NaN    NaN   NaN   \n",
       "...            ...         ...          ...        ...    ...    ...   ...   \n",
       "496725         NaN         NaN          NaN        NaN    NaN    NaN   NaN   \n",
       "496726         NaN         NaN          NaN        NaN    NaN    NaN   NaN   \n",
       "496727         NaN         NaN          NaN        NaN    NaN    NaN   NaN   \n",
       "496728         NaN         NaN          NaN        NaN    NaN    NaN   NaN   \n",
       "496729         NaN         NaN          NaN        NaN    NaN    NaN   NaN   \n",
       "\n",
       "        tilt  azimuth center  lon  lat  capacity flat  elev group  ID  poa  \\\n",
       "47058    NaN      NaN    NaN  NaN  NaN       NaN  NaN   NaN   NaN NaN  NaN   \n",
       "47059    NaN      NaN    NaN  NaN  NaN       NaN  NaN   NaN   NaN NaN  NaN   \n",
       "47060    NaN      NaN    NaN  NaN  NaN       NaN  NaN   NaN   NaN NaN  NaN   \n",
       "47061    NaN      NaN    NaN  NaN  NaN       NaN  NaN   NaN   NaN NaN  NaN   \n",
       "47062    NaN      NaN    NaN  NaN  NaN       NaN  NaN   NaN   NaN NaN  NaN   \n",
       "...      ...      ...    ...  ...  ...       ...  ...   ...   ...  ..  ...   \n",
       "496725   NaN      NaN    NaN  NaN  NaN       NaN  NaN   NaN   NaN NaN  NaN   \n",
       "496726   NaN      NaN    NaN  NaN  NaN       NaN  NaN   NaN   NaN NaN  NaN   \n",
       "496727   NaN      NaN    NaN  NaN  NaN       NaN  NaN   NaN   NaN NaN  NaN   \n",
       "496728   NaN      NaN    NaN  NaN  NaN       NaN  NaN   NaN   NaN NaN  NaN   \n",
       "496729   NaN      NaN    NaN  NaN  NaN       NaN  NaN   NaN   NaN NaN  NaN   \n",
       "\n",
       "        generation  gen  \n",
       "47058          NaN  NaN  \n",
       "47059          NaN  NaN  \n",
       "47060          NaN  NaN  \n",
       "47061          NaN  NaN  \n",
       "47062          NaN  NaN  \n",
       "...            ...  ...  \n",
       "496725         NaN  NaN  \n",
       "496726         NaN  NaN  \n",
       "496727         NaN  NaN  \n",
       "496728         NaN  NaN  \n",
       "496729         NaN  NaN  \n",
       "\n",
       "[113801 rows x 20 columns]"
      ]
     },
     "execution_count": 6,
     "metadata": {},
     "output_type": "execute_result"
    }
   ],
   "source": [
    "(aachen_data_tilted[aachen_data_tilted == 45])"
   ]
  },
  {
   "cell_type": "code",
   "execution_count": 7,
   "id": "compressed-stamp",
   "metadata": {},
   "outputs": [
    {
     "data": {
      "text/plain": [
       "0    90.0\n",
       "dtype: float64"
      ]
     },
     "execution_count": 7,
     "metadata": {},
     "output_type": "execute_result"
    }
   ],
   "source": [
    "aachen_data_tilted.tilt.mode()"
   ]
  },
  {
   "cell_type": "code",
   "execution_count": 8,
   "id": "bronze-jaguar",
   "metadata": {},
   "outputs": [
    {
     "data": {
      "text/plain": [
       "90.000000    12\n",
       "13.372307     2\n",
       "36.085747     2\n",
       "26.101039     2\n",
       "14.847620     2\n",
       "             ..\n",
       "45.081049     1\n",
       "30.019750     1\n",
       "32.809888     1\n",
       "33.685355     1\n",
       "10.353422     1\n",
       "Name: tilt, Length: 113482, dtype: int64"
      ]
     },
     "execution_count": 8,
     "metadata": {},
     "output_type": "execute_result"
    }
   ],
   "source": [
    "aachen_data_tilted.tilt.value_counts()"
   ]
  },
  {
   "cell_type": "code",
   "execution_count": 9,
   "id": "hazardous-examination",
   "metadata": {},
   "outputs": [
    {
     "data": {
      "text/plain": [
       "array([88.12784101, 88.14058276, 88.15415345, 88.18533874, 88.19022227,\n",
       "       88.19495269, 88.20403958, 88.20461561, 88.25182421, 88.34433779,\n",
       "       88.36522877, 88.40038853, 88.41498924, 88.43786201, 88.46084954,\n",
       "       88.49691141, 88.54517618, 88.59299514, 88.59542406, 88.6286275 ,\n",
       "       88.6875596 , 88.76940336, 89.04529815, 89.05055227, 89.0599    ,\n",
       "       89.09501991, 89.1331425 , 89.16094316, 89.22786041, 89.28631857,\n",
       "       89.35996439, 89.37127933, 89.47423978, 89.50032025, 89.50881183,\n",
       "       89.54331769, 89.54532313, 89.64417262, 89.69107889, 89.69336773,\n",
       "       89.87250659, 89.88896138, 89.93228445, 89.94295776, 89.94504639,\n",
       "       89.9459495 , 89.98786449, 89.99694389, 89.99761846, 90.        ])"
      ]
     },
     "execution_count": 9,
     "metadata": {},
     "output_type": "execute_result"
    }
   ],
   "source": [
    "np.sort(aachen_data_tilted.tilt.unique())[-50:]"
   ]
  },
  {
   "cell_type": "code",
   "execution_count": 10,
   "id": "formal-venue",
   "metadata": {},
   "outputs": [
    {
     "data": {
      "text/plain": [
       "(9.919, 18.0]    14872\n",
       "(18.0, 26.0]     18000\n",
       "(26.0, 34.0]     33685\n",
       "(34.0, 42.0]     26341\n",
       "(42.0, 50.0]     15834\n",
       "(50.0, 58.0]      3433\n",
       "(58.0, 66.0]       903\n",
       "(66.0, 74.0]       323\n",
       "(74.0, 82.0]       198\n",
       "(82.0, 90.0]       212\n",
       "Name: tilt, dtype: int64"
      ]
     },
     "execution_count": 10,
     "metadata": {},
     "output_type": "execute_result"
    }
   ],
   "source": [
    "aachen_data_tilted.tilt.value_counts(bins=10, sort=False)"
   ]
  },
  {
   "cell_type": "code",
   "execution_count": 11,
   "id": "assigned-canada",
   "metadata": {},
   "outputs": [
    {
     "data": {
      "text/plain": [
       "array([[<AxesSubplot:title={'center':'tilt'}>]], dtype=object)"
      ]
     },
     "execution_count": 11,
     "metadata": {},
     "output_type": "execute_result"
    },
    {
     "data": {
      "image/png": "[encoded data removed]",
      "text/plain": [
       "<Figure size 432x288 with 1 Axes>"
      ]
     },
     "metadata": {
      "needs_background": "light"
     },
     "output_type": "display_data"
    }
   ],
   "source": [
    "aachen_data_tilted.hist(column='tilt', grid=False, bins=180)"
   ]
  },
  {
   "cell_type": "code",
   "execution_count": 12,
   "id": "arabic-sauce",
   "metadata": {},
   "outputs": [],
   "source": [
    "from math import sqrt, sin, pi, asin\n",
    "\n",
    "def angle_to_proportion(angle, b):\n",
    "    rads = angle * pi / 180\n",
    "    a_c = sin(rads)\n",
    "    \n",
    "    c = b / sin((90-angle) * pi / 180)\n",
    "    \n",
    "    a = a_c * c\n",
    "    \n",
    "    return a\n",
    "def proportion_to_angle(a, b):\n",
    "    c = sqrt(a**2+b**2)\n",
    "    rads = asin(a/c)\n",
    "    angle = rads * 180 / pi\n",
    "    \n",
    "    return angle"
   ]
  },
  {
   "cell_type": "code",
   "execution_count": 13,
   "id": "inappropriate-stanley",
   "metadata": {},
   "outputs": [
    {
     "name": "stdout",
     "output_type": "stream",
     "text": [
      "5.710593137499642\n",
      "9.999999999999998\n"
     ]
    }
   ],
   "source": [
    "print(proportion_to_angle(10, 100))\n",
    "\n",
    "print(angle_to_proportion(5.710593137499642, 100))"
   ]
  },
  {
   "cell_type": "code",
   "execution_count": 14,
   "id": "center-satisfaction",
   "metadata": {},
   "outputs": [
    {
     "data": {
      "text/plain": [
       "5.710593137499642"
      ]
     },
     "execution_count": 14,
     "metadata": {},
     "output_type": "execute_result"
    }
   ],
   "source": [
    "#calculate angle for a proportion of 10%\n",
    "from math import sqrt, sin, pi\n",
    "a = 10\n",
    "b = 100\n",
    "c = sqrt(a**2+b**2)\n",
    "angle = asin(a/c) * 180 / pi\n",
    "angle"
   ]
  },
  {
   "cell_type": "code",
   "execution_count": 15,
   "id": "focused-bachelor",
   "metadata": {},
   "outputs": [],
   "source": [
    "angles = []\n",
    "for i in range(1,301):\n",
    "    a = i\n",
    "    b = 100\n",
    "    c = sqrt(a**2+b**2)\n",
    "    angle = asin(a/c) * 180 / pi\n",
    "    angles.append(angle)"
   ]
  },
  {
   "cell_type": "code",
   "execution_count": 16,
   "id": "foster-tattoo",
   "metadata": {},
   "outputs": [
    {
     "data": {
      "text/plain": [
       "71.56505117707799"
      ]
     },
     "execution_count": 16,
     "metadata": {},
     "output_type": "execute_result"
    }
   ],
   "source": [
    "angles[-1]"
   ]
  },
  {
   "cell_type": "code",
   "execution_count": 17,
   "id": "freelance-dictionary",
   "metadata": {},
   "outputs": [
    {
     "data": {
      "text/plain": [
       "array([[<AxesSubplot:title={'center':'tilt'}>]], dtype=object)"
      ]
     },
     "execution_count": 17,
     "metadata": {},
     "output_type": "execute_result"
    },
    {
     "data": {
      "image/png": "[encoded data removed]",
      "text/plain": [
       "<Figure size 432x288 with 1 Axes>"
      ]
     },
     "metadata": {
      "needs_background": "light"
     },
     "output_type": "display_data"
    }
   ],
   "source": [
    "aachen_data_tilted[aachen_data_tilted.tilt < 70].hist(column='tilt', grid=False, bins=360)"
   ]
  },
  {
   "cell_type": "code",
   "execution_count": 18,
   "id": "blond-corporation",
   "metadata": {},
   "outputs": [
    {
     "name": "stderr",
     "output_type": "stream",
     "text": [
      "<ipython-input-18-f6e7ae2d1535>:9: UserWarning: Boolean Series key will be reindexed to match DataFrame index.\n",
      "  select_tilts = aachen_data_tilted[aachen_data_tilted.tilt < max_value][aachen_data_tilted.tilt > min_value]\n"
     ]
    },
    {
     "data": {
      "image/png": "[encoded data removed]",
      "text/plain": [
       "<Figure size 576x180 with 1 Axes>"
      ]
     },
     "metadata": {
      "needs_background": "light"
     },
     "output_type": "display_data"
    }
   ],
   "source": [
    "import matplotlib.pyplot as plt\n",
    "\n",
    "min_value = 40\n",
    "max_value = 50\n",
    "\n",
    "fig, ax = plt.subplots(1, 1, figsize=(8, 2.5))\n",
    "fig.suptitle('')\n",
    "\n",
    "select_tilts = aachen_data_tilted[aachen_data_tilted.tilt < max_value][aachen_data_tilted.tilt > min_value]\n",
    "\n",
    "ax.hist(select_tilts.tilt, bins=720)\n",
    "\n",
    "filtered_angles = filter(lambda angle: angle >= min_value and angle <=max_value, angles)\n",
    "for angle in filtered_angles:\n",
    "    ax.axvline(x=angle, color='r', linestyle='dashed', linewidth=0.5)\n",
    "    ax.text(angle,80,str(round(angle_to_proportion(angle, 100)))+'%',rotation=90)\n",
    "\n",
    "plt.show()"
   ]
  },
  {
   "cell_type": "code",
   "execution_count": 19,
   "id": "former-hartford",
   "metadata": {},
   "outputs": [
    {
     "name": "stderr",
     "output_type": "stream",
     "text": [
      "<ipython-input-19-ca8d80f09c8a>:9: UserWarning: Boolean Series key will be reindexed to match DataFrame index.\n",
      "  select_tilts = aachen_data_tilted[aachen_data_tilted.tilt < max_value][aachen_data_tilted.tilt > min_value]\n"
     ]
    },
    {
     "data": {
      "image/png": "[encoded data removed]",
      "text/plain": [
       "<Figure size 576x180 with 1 Axes>"
      ]
     },
     "metadata": {
      "needs_background": "light"
     },
     "output_type": "display_data"
    }
   ],
   "source": [
    "import matplotlib.pyplot as plt\n",
    "\n",
    "min_value = 60\n",
    "max_value = 70\n",
    "\n",
    "fig, ax = plt.subplots(1, 1, figsize=(8, 2.5))\n",
    "fig.suptitle('')\n",
    "\n",
    "select_tilts = aachen_data_tilted[aachen_data_tilted.tilt < max_value][aachen_data_tilted.tilt > min_value]\n",
    "\n",
    "ax.hist(select_tilts.tilt, bins=720)\n",
    "\n",
    "filtered_angles = filter(lambda angle: angle >= min_value and angle <=max_value, angles)\n",
    "filtered_angles = filter(lambda angle: round(angle_to_proportion(angle, 100)) % 10 == 0, filtered_angles)\n",
    "for angle in filtered_angles:\n",
    "    ax.axvline(x=angle, color='r', linestyle='dashed', linewidth=0.5)\n",
    "    ax.text(angle,8,str(round(angle_to_proportion(angle, 100)))+'%',rotation=90)\n",
    "\n",
    "plt.show()"
   ]
  },
  {
   "cell_type": "code",
   "execution_count": 20,
   "id": "dying-portsmouth",
   "metadata": {},
   "outputs": [
    {
     "name": "stderr",
     "output_type": "stream",
     "text": [
      "<ipython-input-20-c9b5e20e3e07>:9: UserWarning: Boolean Series key will be reindexed to match DataFrame index.\n",
      "  select_tilts = aachen_data_tilted[aachen_data_tilted.tilt < max_value][aachen_data_tilted.tilt > min_value]\n"
     ]
    },
    {
     "data": {
      "image/png": "[encoded data removed]",
      "text/plain": [
       "<Figure size 576x180 with 1 Axes>"
      ]
     },
     "metadata": {
      "needs_background": "light"
     },
     "output_type": "display_data"
    }
   ],
   "source": [
    "import matplotlib.pyplot as plt\n",
    "\n",
    "min_value = 10\n",
    "max_value = 70\n",
    "\n",
    "fig, ax = plt.subplots(1, 1, figsize=(8, 2.5))\n",
    "fig.suptitle('')\n",
    "\n",
    "select_tilts = aachen_data_tilted[aachen_data_tilted.tilt < max_value][aachen_data_tilted.tilt > min_value]\n",
    "\n",
    "ax.hist(select_tilts.tilt, bins=720)\n",
    "\n",
    "filtered_angles = filter(lambda angle: angle >= min_value and angle <=max_value, angles)\n",
    "filtered_angles = filter(lambda angle: round(angle_to_proportion(angle, 100)) % 10 == 0, filtered_angles)\n",
    "for angle in filtered_angles:\n",
    "    ax.axvline(x=angle, color='r', linestyle='dashed', linewidth=0.5)\n",
    "    ax.text(angle,700,str(round(angle_to_proportion(angle, 100)))+'%',rotation=90)\n",
    "\n",
    "plt.show()"
   ]
  },
  {
   "cell_type": "code",
   "execution_count": 21,
   "id": "transparent-agriculture",
   "metadata": {},
   "outputs": [
    {
     "name": "stdout",
     "output_type": "stream",
     "text": [
      "4.763641690726178\n",
      "9.462322208025618\n",
      "14.03624346792648\n",
      "18.43494882292201\n",
      "22.619864948040426\n",
      "26.56505117707799\n",
      "30.256437163529274\n",
      "33.69006752597979\n",
      "36.86989764584402\n",
      "39.8055710922652\n",
      "42.510447078000844\n",
      "45.00000000000001\n"
     ]
    }
   ],
   "source": [
    "angles_12 = []\n",
    "for i in range(1,13):\n",
    "    angle = proportion_to_angle(i, 12)\n",
    "    print(angle)\n",
    "    angles_12.append(angle)"
   ]
  },
  {
   "cell_type": "code",
   "execution_count": 22,
   "id": "intelligent-performer",
   "metadata": {},
   "outputs": [
    {
     "name": "stderr",
     "output_type": "stream",
     "text": [
      "<ipython-input-22-3c45e7496557>:9: UserWarning: Boolean Series key will be reindexed to match DataFrame index.\n",
      "  select_tilts = aachen_data_tilted[aachen_data_tilted.tilt < max_value][aachen_data_tilted.tilt > min_value]\n"
     ]
    },
    {
     "data": {
      "image/png": "[encoded data removed]",
      "text/plain": [
       "<Figure size 576x180 with 1 Axes>"
      ]
     },
     "metadata": {
      "needs_background": "light"
     },
     "output_type": "display_data"
    }
   ],
   "source": [
    "import matplotlib.pyplot as plt\n",
    "\n",
    "min_value = 10\n",
    "max_value = 50\n",
    "\n",
    "fig, ax = plt.subplots(1, 1, figsize=(8, 2.5))\n",
    "fig.suptitle('')\n",
    "\n",
    "select_tilts = aachen_data_tilted[aachen_data_tilted.tilt < max_value][aachen_data_tilted.tilt > min_value]\n",
    "\n",
    "ax.hist(select_tilts.tilt, bins=720)\n",
    "\n",
    "filtered_angles = filter(lambda angle: angle >= min_value and angle <=max_value, angles_12)\n",
    "#filtered_angles = filter(lambda angle: round(angle_to_proportion(angle, 100)) % 10 == 0, filtered_angles)\n",
    "for angle in filtered_angles:\n",
    "    ax.axvline(x=angle, color='r', linestyle='dashed', linewidth=0.5)\n",
    "    ax.text(angle,500,str(round(angle_to_proportion(angle, 12)))+'/12',rotation=90)\n",
    "\n",
    "plt.show()"
   ]
  },
  {
   "cell_type": "code",
   "execution_count": 23,
   "id": "coordinated-rapid",
   "metadata": {},
   "outputs": [
    {
     "name": "stdout",
     "output_type": "stream",
     "text": [
      "44.99999999999999\n",
      "26.56505117707799\n",
      "18.43494882292201\n",
      "14.036243467926477\n",
      "11.309932474020213\n",
      "9.462322208025618\n",
      "8.130102354155978\n",
      "7.125016348901799\n",
      "6.340191745909909\n",
      "5.710593137499642\n",
      "5.194428907734806\n",
      "4.763641690726178\n"
     ]
    }
   ],
   "source": [
    "angles_inv = []\n",
    "for i in range(1,13):\n",
    "    angle = proportion_to_angle(1, i)\n",
    "    print(angle)\n",
    "    angles_inv.append(angle)"
   ]
  },
  {
   "cell_type": "code",
   "execution_count": 24,
   "id": "respective-norwegian",
   "metadata": {},
   "outputs": [
    {
     "name": "stderr",
     "output_type": "stream",
     "text": [
      "<ipython-input-24-cab7942d0ea6>:9: UserWarning: Boolean Series key will be reindexed to match DataFrame index.\n",
      "  select_tilts = aachen_data_tilted[aachen_data_tilted.tilt < max_value][aachen_data_tilted.tilt > min_value]\n"
     ]
    },
    {
     "data": {
      "image/png": "[encoded data removed]",
      "text/plain": [
       "<Figure size 576x180 with 1 Axes>"
      ]
     },
     "metadata": {
      "needs_background": "light"
     },
     "output_type": "display_data"
    }
   ],
   "source": [
    "import matplotlib.pyplot as plt\n",
    "\n",
    "min_value = 10\n",
    "max_value = 50\n",
    "\n",
    "fig, ax = plt.subplots(1, 1, figsize=(8, 2.5))\n",
    "fig.suptitle('')\n",
    "\n",
    "select_tilts = aachen_data_tilted[aachen_data_tilted.tilt < max_value][aachen_data_tilted.tilt > min_value]\n",
    "\n",
    "ax.hist(select_tilts.tilt, bins=720)\n",
    "\n",
    "filtered_angles = filter(lambda angle: angle >= min_value and angle <=max_value, angles_inv)\n",
    "#filtered_angles = filter(lambda angle: round(angle_to_proportion(angle, 100)) % 10 == 0, filtered_angles)\n",
    "for angle in filtered_angles:\n",
    "    ax.axvline(x=angle, color='r', linestyle='dashed', linewidth=0.5)\n",
    "    ax.text(angle,500,round(angle*100)/100,rotation=90)\n",
    "\n",
    "plt.show()"
   ]
  },
  {
   "cell_type": "code",
   "execution_count": 25,
   "id": "defined-closing",
   "metadata": {},
   "outputs": [
    {
     "name": "stderr",
     "output_type": "stream",
     "text": [
      "<ipython-input-25-314f07a09834>:9: UserWarning: Boolean Series key will be reindexed to match DataFrame index.\n",
      "  select_tilts = aachen_data_tilted[aachen_data_tilted.tilt < max_value][aachen_data_tilted.tilt > min_value]\n"
     ]
    },
    {
     "data": {
      "image/png": "[encoded data removed]",
      "text/plain": [
       "<Figure size 576x180 with 1 Axes>"
      ]
     },
     "metadata": {
      "needs_background": "light"
     },
     "output_type": "display_data"
    }
   ],
   "source": [
    "import matplotlib.pyplot as plt\n",
    "\n",
    "min_value = 10\n",
    "max_value = 70\n",
    "\n",
    "fig, ax = plt.subplots(1, 1, figsize=(8, 2.5))\n",
    "fig.suptitle('')\n",
    "\n",
    "select_tilts = aachen_data_tilted[aachen_data_tilted.tilt < max_value][aachen_data_tilted.tilt > min_value]\n",
    "\n",
    "ax.hist(select_tilts.tilt, bins=720)\n",
    "\n",
    "filtered_angles = range(10,70,5)\n",
    "for angle in filtered_angles:\n",
    "    ax.axvline(x=angle, color='r', linestyle='dashed', linewidth=0.5)\n",
    "    ax.text(angle,700,str(round(angle_to_proportion(angle, 100)))+'%',rotation=90)\n",
    "\n",
    "plt.show()"
   ]
  },
  {
   "cell_type": "code",
   "execution_count": 26,
   "id": "exact-ecuador",
   "metadata": {},
   "outputs": [
    {
     "data": {
      "text/plain": [
       "47058     30.615964\n",
       "47059     30.515709\n",
       "47060     23.345696\n",
       "47061     30.518942\n",
       "47062     20.860911\n",
       "            ...    \n",
       "496725    88.127841\n",
       "496726    75.347150\n",
       "496727    75.739662\n",
       "496728    80.445503\n",
       "496729    66.662422\n",
       "Name: tilt, Length: 113801, dtype: float64"
      ]
     },
     "execution_count": 26,
     "metadata": {},
     "output_type": "execute_result"
    }
   ],
   "source": [
    "aachen_data_tilted.tilt"
   ]
  },
  {
   "cell_type": "code",
   "execution_count": 27,
   "id": "iraqi-mozambique",
   "metadata": {},
   "outputs": [
    {
     "name": "stdout",
     "output_type": "stream",
     "text": [
      "31.84420378284308\n",
      "31.84420378284308\n",
      "31.84420378284308\n",
      "11.360226806887848\n",
      "129.05475310393328\n",
      "[25.318126403767213, 28.19469464443119, 57.0209886357506, 26.258218382338935, 15.434299466195068]\n"
     ]
    }
   ],
   "source": [
    "from statistics import NormalDist\n",
    "\n",
    "data = aachen_data_tilted.tilt\n",
    "norm = NormalDist.from_samples(data)\n",
    "print(norm.mean)\n",
    "print(norm.median)\n",
    "print(norm.mode)\n",
    "print(norm.stdev)\n",
    "print(norm.variance)\n",
    "print(norm.samples(5, seed=101))"
   ]
  },
  {
   "cell_type": "code",
   "execution_count": 28,
   "id": "confirmed-apparatus",
   "metadata": {},
   "outputs": [
    {
     "data": {
      "image/png": "[encoded data removed]",
      "text/plain": [
       "<Figure size 432x288 with 1 Axes>"
      ]
     },
     "metadata": {
      "needs_background": "light"
     },
     "output_type": "display_data"
    }
   ],
   "source": [
    "samples = norm.samples(100000, seed=101)\n",
    "samples = list(filter(lambda sample: sample >= 0 and sample <= 90, samples))\n",
    "plt.hist(samples, bins=720)\n",
    "plt.show()"
   ]
  },
  {
   "cell_type": "code",
   "execution_count": 35,
   "id": "arctic-amplifier",
   "metadata": {},
   "outputs": [
    {
     "name": "stderr",
     "output_type": "stream",
     "text": [
      "<ipython-input-35-4c33b4df8930>:4: UserWarning: Boolean Series key will be reindexed to match DataFrame index.\n",
      "  data = aachen_data_tilted[aachen_data_tilted.tilt < 90][aachen_data_tilted.tilt > 0].tilt\n"
     ]
    },
    {
     "data": {
      "image/png": "[encoded data removed]",
      "text/plain": [
       "<Figure size 432x288 with 1 Axes>"
      ]
     },
     "metadata": {
      "needs_background": "light"
     },
     "output_type": "display_data"
    }
   ],
   "source": [
    "from scipy.stats import norm\n",
    "\n",
    "# Generate some data for this demonstration.\n",
    "data = aachen_data_tilted[aachen_data_tilted.tilt < 90][aachen_data_tilted.tilt > 0].tilt\n",
    "\n",
    "# Fit a normal distribution to the data:\n",
    "mu, std = norm.fit(data)\n",
    "\n",
    "# Plot the histogram.\n",
    "plt.hist(data, bins=700, density=True, alpha=0.6, color='g')\n",
    "\n",
    "# Plot the PDF.\n",
    "xmin, xmax = plt.xlim()\n",
    "x = np.linspace(xmin, xmax, 100)\n",
    "p = norm.pdf(x, mu, std)\n",
    "plt.plot(x, p, 'k', linewidth=2)\n",
    "title = \"Fit results: mu = %.2f,  std = %.2f\" % (mu, std)\n",
    "plt.title(title, size=30)\n",
    "plt.ylabel('Probability', size=30)\n",
    "plt.xlabel('Angle (º)', size=30)\n",
    "plt.xticks(np.arange(0, 100, 10))\n",
    "\n",
    "plt.savefig('aachen-normal-distribution.png')\n",
    "plt.show()"
   ]
  },
  {
   "cell_type": "code",
   "execution_count": 36,
   "id": "violent-abraham",
   "metadata": {},
   "outputs": [
    {
     "name": "stderr",
     "output_type": "stream",
     "text": [
      "<ipython-input-36-4f721a2d329d>:5: UserWarning: Boolean Series key will be reindexed to match DataFrame index.\n",
      "  data = aachen_data_tilted[aachen_data_tilted.tilt < 90][aachen_data_tilted.tilt > 0].tilt\n"
     ]
    },
    {
     "data": {
      "image/png": "[encoded data removed]",
      "text/plain": [
       "<Figure size 432x288 with 1 Axes>"
      ]
     },
     "metadata": {
      "needs_background": "light"
     },
     "output_type": "display_data"
    },
    {
     "name": "stdout",
     "output_type": "stream",
     "text": [
      "[[27.87701756 25.04104331 30.43516456 32.25922436 30.58134024 13.09766115\n",
      "  37.13417633 21.28192262 45.01726905 38.69565417]]\n"
     ]
    }
   ],
   "source": [
    "from scipy.stats import norm\n",
    "from scipy import stats\n",
    "\n",
    "# Generate some data for this demonstration.\n",
    "data = aachen_data_tilted[aachen_data_tilted.tilt < 90][aachen_data_tilted.tilt > 0].tilt\n",
    "\n",
    "# Plot the histogram.\n",
    "plt.hist(data, bins=700, density=True, alpha=0.6, color='g')\n",
    "\n",
    "# Plot the PDF.\n",
    "xmin, xmax = plt.xlim()\n",
    "x = np.linspace(xmin, xmax, 100)\n",
    "kernel = stats.gaussian_kde(data, bw_method='scott')\n",
    "p = kernel(x)\n",
    "plt.plot(x, p, 'k', linewidth=2)\n",
    "\n",
    "plt.title('KDE scott', size=30)\n",
    "plt.ylabel('Probability', size=30)\n",
    "plt.xlabel('Angle (º)', size=30)\n",
    "plt.xticks(np.arange(0, 100, 10))\n",
    "\n",
    "plt.show()\n",
    "\n",
    "print(kernel.resample(10, seed=101))"
   ]
  },
  {
   "cell_type": "code",
   "execution_count": 38,
   "id": "appropriate-mexico",
   "metadata": {},
   "outputs": [
    {
     "name": "stderr",
     "output_type": "stream",
     "text": [
      "<ipython-input-38-1cadd5e1ae6b>:4: UserWarning: Boolean Series key will be reindexed to match DataFrame index.\n",
      "  data = aachen_data_tilted[aachen_data_tilted.tilt < 90][aachen_data_tilted.tilt > 0].tilt\n"
     ]
    },
    {
     "data": {
      "image/png": "[encoded data removed]",
      "text/plain": [
       "<Figure size 432x288 with 1 Axes>"
      ]
     },
     "metadata": {
      "needs_background": "light"
     },
     "output_type": "display_data"
    },
    {
     "name": "stdout",
     "output_type": "stream",
     "text": [
      "[[28.05425261 25.08217124 30.49461522 32.2922131  30.62397316 13.07675332\n",
      "  37.07864722 21.32159911 44.88512646 38.74411477]]\n"
     ]
    }
   ],
   "source": [
    "from scipy.stats import norm\n",
    "\n",
    "# Generate some data for this demonstration.\n",
    "data = aachen_data_tilted[aachen_data_tilted.tilt < 90][aachen_data_tilted.tilt > 0].tilt\n",
    "\n",
    "# Plot the histogram.\n",
    "plt.hist(data, bins=700, density=True, alpha=0.6, color='g')\n",
    "\n",
    "# Plot the PDF.\n",
    "xmin, xmax = plt.xlim()\n",
    "x = np.linspace(xmin, xmax, 100)\n",
    "kernel = stats.gaussian_kde(data, bw_method='silverman')\n",
    "p = kernel(x)\n",
    "plt.plot(x, p, 'k', linewidth=2)\n",
    "\n",
    "plt.title('KDE silverman', size=30)\n",
    "plt.ylabel('Probability', size=30)\n",
    "plt.xlabel('Angle (º)', size=30)\n",
    "plt.xticks(np.arange(0, 100, 10))\n",
    "\n",
    "plt.show()\n",
    "\n",
    "print(kernel.resample(10, seed=101))"
   ]
  },
  {
   "cell_type": "code",
   "execution_count": 39,
   "id": "retired-anchor",
   "metadata": {},
   "outputs": [
    {
     "name": "stderr",
     "output_type": "stream",
     "text": [
      "<ipython-input-39-b835b2735b6a>:4: UserWarning: Boolean Series key will be reindexed to match DataFrame index.\n",
      "  data = aachen_data_tilted[aachen_data_tilted.tilt < 90][aachen_data_tilted.tilt > 0].tilt\n"
     ]
    },
    {
     "data": {
      "image/png": "[encoded data removed]",
      "text/plain": [
       "<Figure size 432x288 with 1 Axes>"
      ]
     },
     "metadata": {
      "needs_background": "light"
     },
     "output_type": "display_data"
    },
    {
     "name": "stdout",
     "output_type": "stream",
     "text": [
      "[[25.1914827  24.41785681 29.53434489 31.75936596 29.9353495  13.41446473\n",
      "  37.97557517 20.68072892 47.01954531 37.96136018]]\n"
     ]
    }
   ],
   "source": [
    "from scipy.stats import norm\n",
    "\n",
    "# Generate some data for this demonstration.\n",
    "data = aachen_data_tilted[aachen_data_tilted.tilt < 90][aachen_data_tilted.tilt > 0].tilt\n",
    "\n",
    "# Plot the histogram.\n",
    "plt.hist(data, bins=700, density=True, alpha=0.6, color='g')\n",
    "\n",
    "# Plot the PDF.\n",
    "xmin, xmax = plt.xlim()\n",
    "x = np.linspace(xmin, xmax, 100)\n",
    "kernel = stats.gaussian_kde(data, bw_method=0.01)\n",
    "p = kernel(x)\n",
    "plt.plot(x, p, 'k', linewidth=2)\n",
    "\n",
    "plt.title('KDE h = 0.01', size=30)\n",
    "plt.ylabel('Probability', size=30)\n",
    "plt.xlabel('Angle (º)', size=30)\n",
    "plt.xticks(np.arange(0, 100, 10))\n",
    "\n",
    "plt.savefig('kde-h001.png')\n",
    "\n",
    "plt.show()\n",
    "\n",
    "print(kernel.resample(10, seed=101))"
   ]
  },
  {
   "cell_type": "code",
   "execution_count": 40,
   "id": "herbal-prototype",
   "metadata": {},
   "outputs": [
    {
     "name": "stderr",
     "output_type": "stream",
     "text": [
      "<ipython-input-40-b694e08eb1db>:4: UserWarning: Boolean Series key will be reindexed to match DataFrame index.\n",
      "  data = aachen_data_tilted[aachen_data_tilted.tilt < 90][aachen_data_tilted.tilt > 0].tilt\n"
     ]
    },
    {
     "data": {
      "image/png": "[encoded data removed]",
      "text/plain": [
       "<Figure size 432x288 with 1 Axes>"
      ]
     },
     "metadata": {
      "needs_background": "light"
     },
     "output_type": "display_data"
    },
    {
     "name": "stdout",
     "output_type": "stream",
     "text": [
      "[[27.95533994 25.05921826 30.46143655 32.27380249 30.60018026 13.08842172\n",
      "  37.10963733 21.29945615 44.95887359 38.71706952]]\n"
     ]
    }
   ],
   "source": [
    "from scipy.stats import norm\n",
    "\n",
    "# Generate some data for this demonstration.\n",
    "data = aachen_data_tilted[aachen_data_tilted.tilt < 90][aachen_data_tilted.tilt > 0].tilt\n",
    "\n",
    "# Plot the histogram.\n",
    "plt.hist(data, bins=700, density=True, alpha=0.6, color='g')\n",
    "\n",
    "# Plot the PDF.\n",
    "xmin, xmax = plt.xlim()\n",
    "x = np.linspace(xmin, xmax, 100)\n",
    "kernel = stats.gaussian_kde(data, bw_method=0.1)\n",
    "p = kernel(x)\n",
    "plt.plot(x, p, 'k', linewidth=2)\n",
    "\n",
    "plt.title('KDE h = 0.1', size=30)\n",
    "plt.ylabel('Probability', size=30)\n",
    "plt.xlabel('Angle (º)', size=30)\n",
    "plt.xticks(np.arange(0, 100, 10))\n",
    "\n",
    "plt.savefig('kde-h01.png')\n",
    "plt.show()\n",
    "\n",
    "print(kernel.resample(10, seed=101))"
   ]
  },
  {
   "cell_type": "code",
   "execution_count": 41,
   "id": "suspected-hampton",
   "metadata": {},
   "outputs": [
    {
     "name": "stderr",
     "output_type": "stream",
     "text": [
      "<ipython-input-41-399e33a1e65f>:4: UserWarning: Boolean Series key will be reindexed to match DataFrame index.\n",
      "  data = aachen_data_tilted[aachen_data_tilted.tilt < 90][aachen_data_tilted.tilt > 0].tilt\n"
     ]
    },
    {
     "data": {
      "image/png": "[encoded data removed]",
      "text/plain": [
       "<Figure size 432x288 with 1 Axes>"
      ]
     },
     "metadata": {
      "needs_background": "light"
     },
     "output_type": "display_data"
    },
    {
     "name": "stdout",
     "output_type": "stream",
     "text": [
      "[[31.02629242 25.77184209 31.4915384  32.84539864 31.33888111 12.7261517\n",
      "  36.14748417 21.98693086 42.66923835 39.55674656]]\n"
     ]
    }
   ],
   "source": [
    "from scipy.stats import norm\n",
    "\n",
    "# Generate some data for this demonstration.\n",
    "data = aachen_data_tilted[aachen_data_tilted.tilt < 90][aachen_data_tilted.tilt > 0].tilt\n",
    "\n",
    "# Plot the histogram.\n",
    "plt.hist(data, bins=700, density=True, alpha=0.6, color='g')\n",
    "\n",
    "# Plot the PDF.\n",
    "xmin, xmax = plt.xlim()\n",
    "x = np.linspace(xmin, xmax, 100)\n",
    "kernel = stats.gaussian_kde(data, bw_method=0.2)\n",
    "p = kernel(x)\n",
    "plt.plot(x, p, 'k', linewidth=2)\n",
    "\n",
    "plt.title('KDE h = 0.2', size=30)\n",
    "plt.ylabel('Probability', size=30)\n",
    "plt.xlabel('Angle (º)', size=30)\n",
    "plt.xticks(np.arange(0, 100, 10))\n",
    "\n",
    "plt.savefig('kde-h02.png')\n",
    "plt.show()\n",
    "\n",
    "print(kernel.resample(10, seed=101))"
   ]
  },
  {
   "cell_type": "code",
   "execution_count": 42,
   "id": "cooked-pound",
   "metadata": {},
   "outputs": [
    {
     "name": "stderr",
     "output_type": "stream",
     "text": [
      "<ipython-input-42-43fa18b022b6>:4: UserWarning: Boolean Series key will be reindexed to match DataFrame index.\n",
      "  data = aachen_data_tilted[aachen_data_tilted.tilt < 90][aachen_data_tilted.tilt > 0].tilt\n"
     ]
    },
    {
     "data": {
      "image/png": "[encoded data removed]",
      "text/plain": [
       "<Figure size 432x288 with 1 Axes>"
      ]
     },
     "metadata": {
      "needs_background": "light"
     },
     "output_type": "display_data"
    },
    {
     "name": "stdout",
     "output_type": "stream",
     "text": [
      "[[40.23914987 27.90971358 34.58184395 34.5601871  33.55498366 11.63934164\n",
      "  33.2610247  24.04935497 35.80033263 42.07577769]]\n"
     ]
    }
   ],
   "source": [
    "from scipy.stats import norm\n",
    "\n",
    "# Generate some data for this demonstration.\n",
    "data = aachen_data_tilted[aachen_data_tilted.tilt < 90][aachen_data_tilted.tilt > 0].tilt\n",
    "\n",
    "# Plot the histogram.\n",
    "plt.hist(data, bins=700, density=True, alpha=0.6, color='g')\n",
    "\n",
    "# Plot the PDF.\n",
    "xmin, xmax = plt.xlim()\n",
    "x = np.linspace(xmin, xmax, 100)\n",
    "kernel = stats.gaussian_kde(data, bw_method=0.5)\n",
    "p = kernel(x)\n",
    "plt.plot(x, p, 'k', linewidth=2)\n",
    "\n",
    "plt.title('KDE h = 0.5', size=30)\n",
    "plt.ylabel('Probability', size=30)\n",
    "plt.xlabel('Angle (º)', size=30)\n",
    "plt.xticks(np.arange(0, 100, 10))\n",
    "\n",
    "plt.savefig('kde-h05.png')\n",
    "plt.show()\n",
    "\n",
    "print(kernel.resample(10, seed=101))"
   ]
  },
  {
   "cell_type": "code",
   "execution_count": null,
   "id": "explicit-louisiana",
   "metadata": {},
   "outputs": [],
   "source": [
    "import pickle\n",
    "\n",
    "kernel = stats.gaussian_kde(data, bw_method='scott')\n",
    "with open('output/distribution.pkl', 'wb') as output:\n",
    "    pickle.dump(kernel, output)"
   ]
  },
  {
   "cell_type": "code",
   "execution_count": null,
   "id": "burning-straight",
   "metadata": {},
   "outputs": [],
   "source": [
    "kernel.resample(1)[0][0]"
   ]
  },
  {
   "cell_type": "code",
   "execution_count": null,
   "id": "sharp-zambia",
   "metadata": {},
   "outputs": [],
   "source": []
  }
 ],
 "metadata": {
  "kernelspec": {
   "display_name": "Python 3",
   "language": "python",
   "name": "python3"
  },
  "language_info": {
   "codemirror_mode": {
    "name": "ipython",
    "version": 3
   },
   "file_extension": ".py",
   "mimetype": "text/x-python",
   "name": "python",
   "nbconvert_exporter": "python",
   "pygments_lexer": "ipython3",
   "version": "3.8.2"
  }
 },
 "nbformat": 4,
 "nbformat_minor": 5
}
