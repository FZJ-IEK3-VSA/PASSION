{
 "cells": [
  {
   "cell_type": "markdown",
   "metadata": {},
   "source": [
    "# PASSION demo:\n",
    "## Rooftops and sections dataset generation"
   ]
  },
  {
   "cell_type": "code",
   "execution_count": 1,
   "id": "labeled-morgan",
   "metadata": {},
   "outputs": [],
   "source": [
    "# In order to import the package from parent folder\n",
    "import sys\n",
    "sys.path[0] += '\\\\..'\n",
    "\n",
    "import passion"
   ]
  },
  {
   "cell_type": "code",
   "execution_count": 2,
   "id": "broken-shape",
   "metadata": {},
   "outputs": [],
   "source": [
    "import pathlib\n",
    "\n",
    "predictions_path = pathlib.Path('F:\\datasets/passion/segmented')\n",
    "output_path = pathlib.Path('F:\\datasets/passion/buildings')\n",
    "tilt_distribution_path = pathlib.Path('D:/Universidad/EIT/IEK/PASSION/passion/buildings/data/tilt_distribution.pkl')"
   ]
  },
  {
   "cell_type": "code",
   "execution_count": 3,
   "id": "animal-portrait",
   "metadata": {},
   "outputs": [
    {
     "name": "stderr",
     "output_type": "stream",
     "text": [
      "9it [00:21,  2.40s/it]\n"
     ]
    }
   ],
   "source": [
    "# takes longer because of writing all building images to disk!\n",
    "# can deactivate with save_images=False\n",
    "# also, probably vectorizing the solution in some way would make it much faster\n",
    "passion.buildings.rooftop_analysis.generate_rooftops(predictions_path, output_path)"
   ]
  },
  {
   "cell_type": "code",
   "execution_count": 4,
   "id": "constant-roots",
   "metadata": {},
   "outputs": [
    {
     "name": "stderr",
     "output_type": "stream",
     "text": [
      "100%|████████████████████████████████████████████████████████████████████████████████| 315/315 [02:47<00:00,  1.88it/s]\n"
     ]
    }
   ],
   "source": [
    "passion.buildings.section_analysis.generate_sections(output_path, output_path, tilt_distribution_path)"
   ]
  },
  {
   "cell_type": "code",
   "execution_count": null,
   "id": "effective-pound",
   "metadata": {},
   "outputs": [],
   "source": []
  }
 ],
 "metadata": {
  "kernelspec": {
   "display_name": "Python 3",
   "language": "python",
   "name": "python3"
  },
  "language_info": {
   "codemirror_mode": {
    "name": "ipython",
    "version": 3
   },
   "file_extension": ".py",
   "mimetype": "text/x-python",
   "name": "python",
   "nbconvert_exporter": "python",
   "pygments_lexer": "ipython3",
   "version": "3.8.2"
  }
 },
 "nbformat": 4,
 "nbformat_minor": 5
}
