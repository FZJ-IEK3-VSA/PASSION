{
 "cells": [
  {
   "cell_type": "code",
   "execution_count": 1,
   "id": "bd1a59a3",
   "metadata": {},
   "outputs": [],
   "source": [
    "import xarray\n",
    "import pathlib"
   ]
  },
  {
   "cell_type": "code",
   "execution_count": 2,
   "id": "cbc09a75",
   "metadata": {},
   "outputs": [],
   "source": [
    "technical_path = pathlib.Path('../../workflow/output/skopje-z19/technical')"
   ]
  },
  {
   "cell_type": "code",
   "execution_count": 3,
   "id": "d18c90af",
   "metadata": {},
   "outputs": [],
   "source": [
    "ds = xarray.open_dataset(str(technical_path / 'technical.nc'))"
   ]
  },
  {
   "cell_type": "code",
   "execution_count": 4,
   "id": "159b32cd",
   "metadata": {},
   "outputs": [
    {
     "name": "stdout",
     "output_type": "stream",
     "text": [
      "xarray.Dataset {\n",
      "dimensions:\n",
      "\tsuperst_id = 179 ;\n",
      "\tlocation = 514 ;\n",
      "\ttime = 17520 ;\n",
      "\n",
      "variables:\n",
      "\tint64 superst_id(superst_id) ;\n",
      "\tobject superst_wkt_latlon(superst_id) ;\n",
      "\tobject superst_wkt_xy(superst_id) ;\n",
      "\tuint8 superst_seg_class(superst_id) ;\n",
      "\tfloat64 superst_img_center_lat(superst_id) ;\n",
      "\tfloat64 superst_img_center_lon(superst_id) ;\n",
      "\tfloat64 superst_area(superst_id) ;\n",
      "\tint64 location(location) ;\n",
      "\tfloat64 section_lat(location) ;\n",
      "\tfloat64 section_lon(location) ;\n",
      "\tfloat64 section_elev(location) ;\n",
      "\tfloat64 section_capacity(location) ;\n",
      "\tfloat64 section_tilt(location) ;\n",
      "\tfloat64 section_azimuth(location) ;\n",
      "\tint64 section_flat(location) ;\n",
      "\tfloat64 section_area(location) ;\n",
      "\tobject section_wkt_latlon(location) ;\n",
      "\tobject section_wkt_xy(location) ;\n",
      "\tobject section_pv_layout_wkt(location) ;\n",
      "\tfloat64 section_panel_area(location) ;\n",
      "\tint64 section_n_panels(location) ;\n",
      "\tfloat64 section_modules_cost(location) ;\n",
      "\tobject section_pv_model(location) ;\n",
      "\tdatetime64[ns] time(time) ;\n",
      "\tfloat64 section_capacity_factor(time, location) ;\n",
      "\tfloat64 section_total_system_generation(time, location) ;\n",
      "\tfloat64 section_yearly_capacity_factor(location) ;\n",
      "\tfloat64 section_yearly_system_generation(location) ;\n",
      "\n",
      "// global attributes:\n",
      "}"
     ]
    }
   ],
   "source": [
    "ds.info()"
   ]
  },
  {
   "cell_type": "code",
   "execution_count": 5,
   "id": "2ffd1d3c",
   "metadata": {},
   "outputs": [
    {
     "name": "stdout",
     "output_type": "stream",
     "text": [
      "Total rooftop area: 75951.77851555342 square meters.\n",
      "Total panel area: 13694.968799999999 square meters.\n",
      "Average capacity factor: 12.412277574441715%.\n",
      "Total panel capacity: 2933.73 kW.\n",
      "Mean hourly generation: 3441741.722711379 kWh.\n",
      "Total yearly generation: 3441741.722711379 kWh.\n"
     ]
    }
   ],
   "source": [
    "print(f'Total rooftop area: {ds.section_area.sum().item()} square meters.')\n",
    "print(f'Total panel area: {ds.section_panel_area.sum().item()} square meters.')\n",
    "print(f'Average capacity factor: {ds.section_yearly_capacity_factor.mean().item() * 100}%.')\n",
    "print(f'Total panel capacity: {ds.section_capacity.sum().item() / 1000} kW.')\n",
    "print(f'Mean hourly generation: {ds.section_yearly_system_generation.sum().item() / 1000} kWh.')\n",
    "print(f'Total yearly generation: {ds.section_yearly_system_generation.sum().item() / 1000} kWh.')"
   ]
  },
  {
   "cell_type": "code",
   "execution_count": 6,
   "id": "1c3699ac",
   "metadata": {},
   "outputs": [
    {
     "name": "stdout",
     "output_type": "stream",
     "text": [
      "Analyzing sample 0\n",
      "Total rooftop area: 57.62505130624965 square meters.\n",
      "Total panel area: 6.9088 square meters.\n",
      "Average capacity factor: 14.882085949230737%.\n",
      "Total panel capacity: 1.48 kW.\n",
      "Mean hourly generation: 1929.4326791458711 kWh.\n",
      "Total yearly generation: 1929.4326791458711 kWh.\n"
     ]
    }
   ],
   "source": [
    "sample_section = 0\n",
    "\n",
    "print(f'Analyzing sample {ds.location[sample_section].item()}')\n",
    "print(f'Total rooftop area: {ds.section_area[sample_section].item()} square meters.')\n",
    "print(f'Total panel area: {ds.section_panel_area[sample_section].item()} square meters.')\n",
    "print(f'Average capacity factor: {ds.section_yearly_capacity_factor[sample_section].item() * 100}%.')\n",
    "print(f'Total panel capacity: {ds.section_capacity[sample_section].item() / 1000} kW.')\n",
    "print(f'Mean hourly generation: {ds.section_yearly_system_generation[sample_section].item() / 1000} kWh.')\n",
    "print(f'Total yearly generation: {ds.section_yearly_system_generation[sample_section].item() / 1000} kWh.')"
   ]
  },
  {
   "cell_type": "code",
   "execution_count": null,
   "id": "ab8230bd",
   "metadata": {},
   "outputs": [],
   "source": []
  }
 ],
 "metadata": {
  "kernelspec": {
   "display_name": "Python 3 (ipykernel)",
   "language": "python",
   "name": "python3"
  },
  "language_info": {
   "codemirror_mode": {
    "name": "ipython",
    "version": 3
   },
   "file_extension": ".py",
   "mimetype": "text/x-python",
   "name": "python",
   "nbconvert_exporter": "python",
   "pygments_lexer": "ipython3",
   "version": "3.8.13"
  }
 },
 "nbformat": 4,
 "nbformat_minor": 5
}
