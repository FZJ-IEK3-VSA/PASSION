{
 "cells": [
  {
   "cell_type": "code",
   "execution_count": 1,
   "id": "bd1a59a3",
   "metadata": {},
   "outputs": [],
   "source": [
    "import xarray\n",
    "import pathlib\n",
    "import matplotlib\n",
    "matplotlib.rcParams['mathtext.fontset'] = 'stix'\n",
    "matplotlib.rcParams['font.family'] = 'STIXGeneral'"
   ]
  },
  {
   "cell_type": "code",
   "execution_count": 2,
   "id": "cbc09a75",
   "metadata": {},
   "outputs": [],
   "source": [
    "technical_path = pathlib.Path('../../workflow/output/aachen-union-z19/technical')"
   ]
  },
  {
   "cell_type": "code",
   "execution_count": 3,
   "id": "d18c90af",
   "metadata": {},
   "outputs": [],
   "source": [
    "ds = xarray.open_dataset(str(technical_path / 'technical.nc'))"
   ]
  },
  {
   "cell_type": "code",
   "execution_count": 4,
   "id": "159b32cd",
   "metadata": {},
   "outputs": [
    {
     "name": "stdout",
     "output_type": "stream",
     "text": [
      "xarray.Dataset {\n",
      "dimensions:\n",
      "\tsuperst_id = 323 ;\n",
      "\tfiltered_id = 33803 ;\n",
      "\tlocation = 37747 ;\n",
      "\ttime = 17520 ;\n",
      "\n",
      "variables:\n",
      "\tint64 superst_id(superst_id) ;\n",
      "\tobject superst_wkt_latlon(superst_id) ;\n",
      "\tobject superst_wkt_xy(superst_id) ;\n",
      "\tint64 superst_seg_class(superst_id) ;\n",
      "\tfloat64 superst_img_center_lat(superst_id) ;\n",
      "\tfloat64 superst_img_center_lon(superst_id) ;\n",
      "\tfloat64 superst_area(superst_id) ;\n",
      "\tobject filtered_wkt_latlon(filtered_id) ;\n",
      "\t\tfiltered_wkt_latlon:type = str ;\n",
      "\t\tfiltered_wkt_latlon:str_format = wkt ;\n",
      "\tobject filtered_wkt_xy(filtered_id) ;\n",
      "\t\tfiltered_wkt_xy:type = str ;\n",
      "\t\tfiltered_wkt_xy:str_format = wkt ;\n",
      "\tfloat64 filtered_img_center_lat(filtered_id) ;\n",
      "\t\tfiltered_img_center_lat:type = float ;\n",
      "\tfloat64 filtered_img_center_lon(filtered_id) ;\n",
      "\t\tfiltered_img_center_lon:type = float ;\n",
      "\tfloat64 filtered_azimuth(filtered_id) ;\n",
      "\t\tfiltered_azimuth:type = float ;\n",
      "\tfloat64 filtered_tilt(filtered_id) ;\n",
      "\t\tfiltered_tilt:type = float ;\n",
      "\tfloat64 filtered_flat(filtered_id) ;\n",
      "\t\tfiltered_flat:type = float ;\n",
      "\tfloat64 filtered_area(filtered_id) ;\n",
      "\t\tfiltered_area:type = float ;\n",
      "\tobject filtered_id(filtered_id) ;\n",
      "\t\tfiltered_id:description = Format: rooftops r<ID>, sections s<ID>. ;\n",
      "\tint64 location(location) ;\n",
      "\tfloat64 section_lat(location) ;\n",
      "\tfloat64 section_lon(location) ;\n",
      "\tfloat64 section_elev(location) ;\n",
      "\tfloat64 section_capacity(location) ;\n",
      "\tfloat64 section_tilt(location) ;\n",
      "\tfloat64 section_azimuth(location) ;\n",
      "\tint64 section_flat(location) ;\n",
      "\tfloat64 section_area(location) ;\n",
      "\tobject section_wkt_latlon(location) ;\n",
      "\tobject section_wkt_xy(location) ;\n",
      "\tobject section_pv_layout_wkt(location) ;\n",
      "\tfloat64 section_panel_area(location) ;\n",
      "\tint64 section_n_panels(location) ;\n",
      "\tfloat64 section_modules_cost(location) ;\n",
      "\tobject section_pv_model(location) ;\n",
      "\tdatetime64[ns] time(time) ;\n",
      "\tfloat64 section_capacity_factor(time, location) ;\n",
      "\tfloat64 section_total_system_generation(time, location) ;\n",
      "\tfloat64 section_yearly_capacity_factor(location) ;\n",
      "\tfloat64 section_yearly_system_generation(location) ;\n",
      "\tfloat64 panel_lat(location) ;\n",
      "\tfloat64 panel_lon(location) ;\n",
      "\tfloat64 panel_elev(location) ;\n",
      "\tfloat64 panel_capacity(location) ;\n",
      "\tfloat64 panel_tilt(location) ;\n",
      "\tfloat64 panel_azimuth(location) ;\n",
      "\tobject panel_wkt_latlon(location) ;\n",
      "\tobject panel_wkt_xy(location) ;\n",
      "\tfloat64 panel_area(location) ;\n",
      "\tobject panel_pv_layout_wkt(location) ;\n",
      "\tfloat64 panel_panel_area(location) ;\n",
      "\tfloat64 panel_n_panels(location) ;\n",
      "\tfloat64 panel_modules_cost(location) ;\n",
      "\tfloat64 panel_capacity_factor(time, location) ;\n",
      "\tfloat64 panel_total_system_generation(time, location) ;\n",
      "\tfloat64 panel_yearly_capacity_factor(location) ;\n",
      "\tfloat64 panel_yearly_system_generation(location) ;\n",
      "\n",
      "// global attributes:\n",
      "}"
     ]
    }
   ],
   "source": [
    "ds.info()"
   ]
  },
  {
   "cell_type": "code",
   "execution_count": 5,
   "id": "2ffd1d3c",
   "metadata": {},
   "outputs": [
    {
     "name": "stdout",
     "output_type": "stream",
     "text": [
      "Total rooftop area: 11781232.253054094 square meters.\n",
      "Total panel area: 3765397.9047999997 square meters.\n",
      "Average capacity factor: 10.299825561872291%.\n",
      "Total panel capacity: 806621.83 kW.\n",
      "Mean hourly generation: 85220.49694901987 kWh.\n",
      "Total yearly generation: 746.531553273414 GWh.\n"
     ]
    }
   ],
   "source": [
    "print(f'Total rooftop area: {ds.section_area.sum().item()} square meters.')\n",
    "print(f'Total panel area: {ds.section_panel_area.sum().item()} square meters.')\n",
    "print(f'Average capacity factor: {ds.section_yearly_capacity_factor.mean().item() * 100}%.')\n",
    "print(f'Total panel capacity: {ds.section_capacity.sum().item() / 1000} kW.')\n",
    "print(f'Mean hourly generation: {ds.section_yearly_system_generation.sum().item() / 365 / 24 / 1000} kWh.')\n",
    "print(f'Total yearly generation: {ds.section_yearly_system_generation.sum().item() / 1000 / 1000 / 1000} GWh.')"
   ]
  },
  {
   "cell_type": "code",
   "execution_count": 6,
   "id": "1c3699ac",
   "metadata": {},
   "outputs": [
    {
     "name": "stdout",
     "output_type": "stream",
     "text": [
      "Analyzing sample 0\n",
      "Total rooftop area: 94.72847252191295 square meters.\n",
      "Total panel area: 27.6352 square meters.\n",
      "Average capacity factor: 10.219914698318345%.\n",
      "Total panel capacity: 5.92 kW.\n",
      "Mean hourly generation: 0.6050189501404396 kW.\n",
      "Total yearly generation: 0.005299966003230252 GWh.\n"
     ]
    }
   ],
   "source": [
    "sample_section = 0\n",
    "\n",
    "print(f'Analyzing sample {ds.location[sample_section].item()}')\n",
    "print(f'Total rooftop area: {ds.section_area[sample_section].item()} square meters.')\n",
    "print(f'Total panel area: {ds.section_panel_area[sample_section].item()} square meters.')\n",
    "print(f'Average capacity factor: {ds.section_yearly_capacity_factor[sample_section].item() * 100}%.')\n",
    "print(f'Total panel capacity: {ds.section_capacity[sample_section].item() / 1000} kW.')\n",
    "print(f'Mean hourly generation: {ds.section_yearly_system_generation[sample_section].item() / 365 / 24 / 1000} kW.')\n",
    "print(f'Total yearly generation: {ds.section_yearly_system_generation[sample_section].item() / 1000 / 1000 / 1000} GWh.')"
   ]
  },
  {
   "cell_type": "code",
   "execution_count": 7,
   "id": "317ea48d",
   "metadata": {},
   "outputs": [],
   "source": [
    "import matplotlib.pyplot as plt\n",
    "import numpy as np"
   ]
  },
  {
   "cell_type": "markdown",
   "id": "fc4080f9",
   "metadata": {},
   "source": [
    "# Filtering sections"
   ]
  },
  {
   "cell_type": "code",
   "execution_count": 8,
   "id": "001a580e",
   "metadata": {},
   "outputs": [
    {
     "name": "stdout",
     "output_type": "stream",
     "text": [
      "Original length: 37747\n",
      "Filtering azimuth and tilt...\n",
      "Length after filtering azimuth: 35401\n",
      "Length after filtering std area: 34804\n"
     ]
    }
   ],
   "source": [
    "print(f'Original length: {len(ds.location)}')\n",
    "\n",
    "filter_ds = ds[['section_azimuth', 'section_tilt', 'section_area', 'section_capacity',\n",
    "                'section_panel_area', 'section_yearly_system_generation',\n",
    "                'section_yearly_capacity_factor', 'panel_yearly_system_generation',\n",
    "                'panel_capacity']]\n",
    "\n",
    "print('Filtering azimuth and tilt...')\n",
    "\n",
    "filter_ds = filter_ds.where(filter_ds.section_azimuth >= 90, drop=True)\n",
    "filter_ds = filter_ds.where(filter_ds.section_azimuth <= 270, drop=True)\n",
    "print(f'Length after filtering azimuth: {len(filter_ds.location)}')\n",
    "\n",
    "mean_area = ds.section_area.mean().item()\n",
    "std_area = ds.section_area.std().item()\n",
    "filter_ds = filter_ds.where(filter_ds.section_area < (mean_area + std_area * 3), drop=True)\n",
    "\n",
    "print(f'Length after filtering std area: {len(filter_ds.location)}')"
   ]
  },
  {
   "cell_type": "code",
   "execution_count": 14,
   "id": "053dacc1",
   "metadata": {},
   "outputs": [
    {
     "data": {
      "image/png": "[encoded data removed]",
      "text/plain": [
       "<Figure size 640x480 with 1 Axes>"
      ]
     },
     "metadata": {},
     "output_type": "display_data"
    },
    {
     "data": {
      "image/png": "[encoded data removed]",
      "text/plain": [
       "<Figure size 640x480 with 1 Axes>"
      ]
     },
     "metadata": {},
     "output_type": "display_data"
    }
   ],
   "source": [
    "x1 = filter_ds.section_yearly_system_generation.sortby(filter_ds.section_yearly_system_generation)\n",
    "x2 = ds.section_yearly_system_generation.sortby(ds.section_yearly_system_generation)\n",
    "bins = 100\n",
    "\n",
    "plt.hist(x2, bins=bins)\n",
    "plt.xlabel('Yearly system generation (kWh)')\n",
    "plt.ylabel('Number of sections')\n",
    "plt.show()\n",
    "\n",
    "hist, bins = np.histogram(x1 / 1000, bins=bins)\n",
    "logbins = np.logspace(np.log10(bins[0]),np.log10(bins[-1]),len(bins))\n",
    "plt.hist(x2 / 1000, bins=logbins, color='r')\n",
    "plt.hist(x1 / 1000, bins=logbins)\n",
    "plt.xscale('log')\n",
    "\n",
    "plt.xlabel('Yearly system generation (MWh)', fontsize=16)\n",
    "plt.ylabel('Number of sections', fontsize=16)\n",
    "plt.show()"
   ]
  },
  {
   "cell_type": "code",
   "execution_count": 10,
   "id": "a2668acf",
   "metadata": {},
   "outputs": [
    {
     "name": "stdout",
     "output_type": "stream",
     "text": [
      "Total rooftop area: 9081605.621315474 square meters.\n",
      "Total panel area: 2697965.8512000004 square meters.\n",
      "Average capacity factor: 10.5606209265197%.\n",
      "Total panel capacity: 577.95702 MW.\n",
      "Mean hourly generation: 61296.77634163194 kWh.\n",
      "Total yearly generation: 536.9597607526958 GWh.\n",
      "Existing yearly generation: 6.5451036304737205 kWh.\n"
     ]
    }
   ],
   "source": [
    "print(f'Total rooftop area: {filter_ds.section_area.sum().item()} square meters.')\n",
    "print(f'Total panel area: {filter_ds.section_panel_area.sum().item()} square meters.')\n",
    "print(f'Average capacity factor: {filter_ds.section_yearly_capacity_factor.mean().item() * 100}%.')\n",
    "print(f'Total panel capacity: {filter_ds.section_capacity.sum().item() / 1000 / 1000} MW.')\n",
    "print(f'Mean hourly generation: {filter_ds.section_yearly_system_generation.sum().item() / 365 / 24 / 1000} kWh.')\n",
    "print(f'Total yearly generation: {filter_ds.section_yearly_system_generation.sum().item() / 1000 / 1000 / 1000} GWh.')\n",
    "print(f'Existing yearly generation: {filter_ds.panel_yearly_system_generation.sum().item() / 1000} kWh.')"
   ]
  },
  {
   "cell_type": "code",
   "execution_count": null,
   "id": "37420e51",
   "metadata": {},
   "outputs": [],
   "source": []
  }
 ],
 "metadata": {
  "kernelspec": {
   "display_name": "Python 3 (ipykernel)",
   "language": "python",
   "name": "python3"
  },
  "language_info": {
   "codemirror_mode": {
    "name": "ipython",
    "version": 3
   },
   "file_extension": ".py",
   "mimetype": "text/x-python",
   "name": "python",
   "nbconvert_exporter": "python",
   "pygments_lexer": "ipython3",
   "version": "3.8.13"
  }
 },
 "nbformat": 4,
 "nbformat_minor": 5
}
