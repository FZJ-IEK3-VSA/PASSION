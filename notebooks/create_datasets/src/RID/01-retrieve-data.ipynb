{
 "cells": [
  {
   "cell_type": "markdown",
   "id": "726f5db1",
   "metadata": {},
   "source": [
    "# Download raw data files"
   ]
  },
  {
   "cell_type": "code",
   "execution_count": 1,
   "id": "9b979121",
   "metadata": {},
   "outputs": [],
   "source": [
    "import pathlib\n",
    "import urllib.request\n",
    "from tqdm import tqdm\n",
    "import ssl\n",
    "ssl._create_default_https_context = ssl._create_unverified_context"
   ]
  },
  {
   "cell_type": "markdown",
   "id": "c0e4d14f",
   "metadata": {},
   "source": [
    "## Data folders:"
   ]
  },
  {
   "cell_type": "code",
   "execution_count": 2,
   "id": "5b1f1eec",
   "metadata": {},
   "outputs": [],
   "source": [
    "data_path = pathlib.Path('../../data/')\n",
    "data_path.mkdir(parents=True, exist_ok=True)\n",
    "rid_path = data_path / 'RID'\n",
    "rid_path.mkdir(parents=True, exist_ok=True)\n",
    "input_path = rid_path / 'input'\n",
    "input_path.mkdir(parents=True, exist_ok=True)\n",
    "\n",
    "source_file = rid_path / 'source.txt'"
   ]
  },
  {
   "cell_type": "code",
   "execution_count": 3,
   "id": "14547796",
   "metadata": {},
   "outputs": [
    {
     "name": "stdout",
     "output_type": "stream",
     "text": [
      "https://dataserv.ub.tum.de/s/m1655470/download?path=%2F&files=RID_dataset&downloadStartSecret=34e3s20pfd8\n"
     ]
    }
   ],
   "source": [
    "with open(source_file) as file:\n",
    "    lines = file.readlines()\n",
    "    lines = [line.rstrip() for line in lines]\n",
    "\n",
    "url = lines[0]\n",
    "print(url)"
   ]
  },
  {
   "cell_type": "markdown",
   "id": "cc6fe890",
   "metadata": {},
   "source": [
    "## Download the data\n",
    "\n",
    "This may take a while depending on your connection. Total size is ~1.5GB."
   ]
  },
  {
   "cell_type": "code",
   "execution_count": 4,
   "id": "a6be7485",
   "metadata": {},
   "outputs": [
    {
     "name": "stdout",
     "output_type": "stream",
     "text": [
      "Downloading RID_dataset.zip...\n"
     ]
    },
    {
     "name": "stderr",
     "output_type": "stream",
     "text": [
      "RID_dataset.zip: 1.41GB [22:23, 1.13MB/s]\n"
     ]
    }
   ],
   "source": [
    "# Providing function to show progress in urllib urlretreive.\n",
    "class TqdmUpTo(tqdm):\n",
    "    \"\"\"Provides `update_to(n)` which uses `tqdm.update(delta_n)`.\"\"\"\n",
    "    def update_to(self, b=1, bsize=1, tsize=None):\n",
    "        \"\"\"\n",
    "        b  : int, optional\n",
    "            Number of blocks transferred so far [default: 1].\n",
    "        bsize  : int, optional\n",
    "            Size of each block (in tqdm units) [default: 1].\n",
    "        tsize  : int, optional\n",
    "            Total size (in tqdm units). If [default: None] remains unchanged.\n",
    "        \"\"\"\n",
    "        if tsize is not None:\n",
    "            self.total = tsize\n",
    "        return self.update(b * bsize - self.n)  # also sets self.n = b * bsize\n",
    "\n",
    "filename = 'RID_dataset.zip'\n",
    "for url in lines:\n",
    "    print('Downloading {0}...'.format(filename))\n",
    "    with TqdmUpTo(unit='B', unit_scale=True, unit_divisor=1024, miniters=1,\n",
    "              desc=filename) as t:  # all optional kwargs\n",
    "        urllib.request.urlretrieve(url, input_path / filename, reporthook=t.update_to, data=None)"
   ]
  },
  {
   "cell_type": "code",
   "execution_count": null,
   "id": "fa5df018",
   "metadata": {},
   "outputs": [],
   "source": []
  }
 ],
 "metadata": {
  "kernelspec": {
   "display_name": "Python 3 (ipykernel)",
   "language": "python",
   "name": "python3"
  },
  "language_info": {
   "codemirror_mode": {
    "name": "ipython",
    "version": 3
   },
   "file_extension": ".py",
   "mimetype": "text/x-python",
   "name": "python",
   "nbconvert_exporter": "python",
   "pygments_lexer": "ipython3",
   "version": "3.8.13"
  }
 },
 "nbformat": 4,
 "nbformat_minor": 5
}
