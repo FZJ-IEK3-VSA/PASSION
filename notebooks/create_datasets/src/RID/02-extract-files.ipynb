{
 "cells": [
  {
   "cell_type": "markdown",
   "id": "ed1f54ee",
   "metadata": {},
   "source": [
    "# Extract downloaded zip file"
   ]
  },
  {
   "cell_type": "code",
   "execution_count": 1,
   "id": "b0dd3bdd",
   "metadata": {},
   "outputs": [],
   "source": [
    "import pathlib\n",
    "from tqdm import tqdm\n",
    "from pyunpack import Archive"
   ]
  },
  {
   "cell_type": "markdown",
   "id": "0213c961",
   "metadata": {},
   "source": [
    "## Data folders:"
   ]
  },
  {
   "cell_type": "code",
   "execution_count": 2,
   "id": "31ee4d70",
   "metadata": {},
   "outputs": [],
   "source": [
    "data_path = pathlib.Path('../../data/')\n",
    "rid_path = data_path / 'RID'\n",
    "input_path = rid_path / 'input'\n",
    "output_path = rid_path / 'output'\n",
    "output_path.mkdir(parents=True, exist_ok=True)\n",
    "tmp_path = output_path / 'tmp'\n",
    "tmp_path.mkdir(parents=True, exist_ok=True)"
   ]
  },
  {
   "cell_type": "markdown",
   "id": "8ed69385",
   "metadata": {},
   "source": [
    "## Extract the zip file"
   ]
  },
  {
   "cell_type": "code",
   "execution_count": 3,
   "id": "44cdd863",
   "metadata": {},
   "outputs": [
    {
     "name": "stderr",
     "output_type": "stream",
     "text": [
      "RID_dataset.zip: : 0it [00:00, ?it/s]"
     ]
    },
    {
     "name": "stdout",
     "output_type": "stream",
     "text": [
      "Extracting RID_dataset.zip...\n"
     ]
    },
    {
     "name": "stderr",
     "output_type": "stream",
     "text": [
      "RID_dataset.zip: : 1it [00:21, 21.36s/it]\n"
     ]
    }
   ],
   "source": [
    "pbar = tqdm(input_path.glob('*.zip'))\n",
    "for file_zip in pbar:\n",
    "    filename = file_zip.name\n",
    "    print('Extracting {0}...'.format(filename))\n",
    "    pbar.set_description(filename)\n",
    "    Archive(file_zip).extractall(tmp_path)"
   ]
  },
  {
   "cell_type": "code",
   "execution_count": null,
   "id": "96e3fbe2",
   "metadata": {},
   "outputs": [],
   "source": []
  }
 ],
 "metadata": {
  "kernelspec": {
   "display_name": "Python 3 (ipykernel)",
   "language": "python",
   "name": "python3"
  },
  "language_info": {
   "codemirror_mode": {
    "name": "ipython",
    "version": 3
   },
   "file_extension": ".py",
   "mimetype": "text/x-python",
   "name": "python",
   "nbconvert_exporter": "python",
   "pygments_lexer": "ipython3",
   "version": "3.8.13"
  }
 },
 "nbformat": 4,
 "nbformat_minor": 5
}
