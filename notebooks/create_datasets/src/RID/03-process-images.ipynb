{
 "cells": [
  {
   "cell_type": "markdown",
   "id": "eed3fec0",
   "metadata": {},
   "source": [
    "# Convert images to png and split into train, test, val sets "
   ]
  },
  {
   "cell_type": "code",
   "execution_count": 1,
   "id": "2188cd30",
   "metadata": {},
   "outputs": [],
   "source": [
    "import pathlib\n",
    "import cv2\n",
    "from tqdm import tqdm\n",
    "import random\n",
    "import shutil\n",
    "import numpy as np"
   ]
  },
  {
   "cell_type": "markdown",
   "id": "bfd723ad",
   "metadata": {},
   "source": [
    "## Data folders"
   ]
  },
  {
   "cell_type": "code",
   "execution_count": 2,
   "id": "6c8fceaf",
   "metadata": {},
   "outputs": [],
   "source": [
    "def create_clean_folder(path):\n",
    "    path = pathlib.Path(path)\n",
    "    shutil.rmtree(path, ignore_errors=True)\n",
    "    path.mkdir(parents=True, exist_ok=True)\n",
    "\n",
    "data_path = pathlib.Path('../../data/')\n",
    "rid_path = data_path / 'RID'\n",
    "input_path = rid_path / 'input'\n",
    "output_path = rid_path / 'output'\n",
    "tmp_path = output_path / 'tmp'\n",
    "\n",
    "dataset_tmp_path = list(tmp_path.glob('*'))[0]\n",
    "\n",
    "# Raw data paths\n",
    "split_tmp_path = dataset_tmp_path / 'filenames_train_val_test_split'\n",
    "images_tmp_path = dataset_tmp_path / 'images_roof_centered_geotiff'\n",
    "segments_tmp_path = dataset_tmp_path / 'masks_segments_reviewed'\n",
    "superstructures_tmp_path = dataset_tmp_path / 'masks_superstructures_reviewed'\n",
    "\n",
    "# Rooftop segmentation processed and split data paths\n",
    "segment_dataset_path = output_path / segments_tmp_path.name\n",
    "segment_train_path = segment_dataset_path / 'train'\n",
    "segment_train_image_path = segment_train_path / 'image'\n",
    "create_clean_folder(segment_train_image_path)\n",
    "segment_train_label_path = segment_train_path / 'label'\n",
    "create_clean_folder(segment_train_label_path)\n",
    "\n",
    "segment_val_path = segment_dataset_path / 'val'\n",
    "segment_val_image_path = segment_val_path / 'image'\n",
    "create_clean_folder(segment_val_image_path)\n",
    "segment_val_label_path = segment_val_path / 'label'\n",
    "create_clean_folder(segment_val_label_path)\n",
    "\n",
    "segment_test_path = segment_dataset_path / 'test'\n",
    "segment_test_image_path = segment_test_path / 'image'\n",
    "create_clean_folder(segment_test_image_path)\n",
    "segment_test_label_path = segment_test_path / 'label'\n",
    "create_clean_folder(segment_test_label_path)\n",
    "\n",
    "# Superstructure segmentation processed and split data paths\n",
    "superstructures_dataset_path = output_path / superstructures_tmp_path.name\n",
    "superstructures_train_path = superstructures_dataset_path / 'train'\n",
    "superstructures_train_image_path = superstructures_train_path / 'image'\n",
    "create_clean_folder(superstructures_train_image_path)\n",
    "superstructures_train_label_path = superstructures_train_path / 'label'\n",
    "create_clean_folder(superstructures_train_label_path)\n",
    "\n",
    "superstructures_val_path = superstructures_dataset_path / 'val'\n",
    "superstructures_val_image_path = superstructures_val_path / 'image'\n",
    "create_clean_folder(superstructures_val_image_path)\n",
    "superstructures_val_label_path = superstructures_val_path / 'label'\n",
    "create_clean_folder(superstructures_val_label_path)\n",
    "\n",
    "superstructures_test_path = superstructures_dataset_path / 'test'\n",
    "superstructures_test_image_path = superstructures_test_path / 'image'\n",
    "create_clean_folder(superstructures_test_image_path)\n",
    "superstructures_test_label_path = superstructures_test_path / 'label'\n",
    "create_clean_folder(superstructures_test_label_path)"
   ]
  },
  {
   "cell_type": "markdown",
   "id": "65b31897",
   "metadata": {},
   "source": [
    "## Random data split"
   ]
  },
  {
   "cell_type": "code",
   "execution_count": 3,
   "id": "711b0ed5",
   "metadata": {},
   "outputs": [],
   "source": [
    "path_list = list(images_tmp_path.glob('*.tif'))\n",
    "name_list = [path.stem for path in path_list]\n",
    "\n",
    "random.shuffle(name_list)\n",
    "\n",
    "train_size = 0.8\n",
    "val_size = 0.1\n",
    "test_size = 1 - (train_size + val_size)\n",
    "\n",
    "train_names, val_names, test_names = np.split(name_list, \n",
    "                            [\n",
    "                                int(len(name_list) * train_size),\n",
    "                                int(len(name_list) * (train_size + val_size))\n",
    "                            ])"
   ]
  },
  {
   "cell_type": "markdown",
   "id": "cd1700be",
   "metadata": {},
   "source": [
    "## Rooftop training data"
   ]
  },
  {
   "cell_type": "code",
   "execution_count": 4,
   "id": "5908a4be",
   "metadata": {},
   "outputs": [
    {
     "name": "stderr",
     "output_type": "stream",
     "text": [
      "100%|████████████████████████████████████████████████████████████████████████████████████████████████████████████████████████████████████████| 1504/1504 [01:05<00:00, 22.79it/s]\n"
     ]
    }
   ],
   "source": [
    "for name in tqdm(train_names):\n",
    "    img = cv2.imread(str(images_tmp_path / (name + '.tif')))\n",
    "    mask = cv2.imread(str(segments_tmp_path / (name + '.png')))\n",
    "    \n",
    "    output_name = name + '.png'\n",
    "    img_output_path = segment_train_image_path / output_name\n",
    "    mask_output_path = segment_train_label_path / output_name\n",
    "    \n",
    "    cv2.imwrite(str(img_output_path), img)\n",
    "    cv2.imwrite(str(mask_output_path), mask)"
   ]
  },
  {
   "cell_type": "markdown",
   "id": "1555d546",
   "metadata": {},
   "source": [
    "## Rooftop validation data"
   ]
  },
  {
   "cell_type": "code",
   "execution_count": 5,
   "id": "92867be0",
   "metadata": {},
   "outputs": [
    {
     "name": "stderr",
     "output_type": "stream",
     "text": [
      "100%|██████████████████████████████████████████████████████████████████████████████████████████████████████████████████████████████████████████| 188/188 [00:14<00:00, 12.58it/s]\n"
     ]
    }
   ],
   "source": [
    "for name in tqdm(val_names):\n",
    "    img = cv2.imread(str(images_tmp_path / (name + '.tif')))\n",
    "    mask = cv2.imread(str(segments_tmp_path / (name + '.png')))\n",
    "    \n",
    "    output_name = name + '.png'\n",
    "    img_output_path = segment_val_image_path / output_name\n",
    "    mask_output_path = segment_val_label_path / output_name\n",
    "    \n",
    "    cv2.imwrite(str(img_output_path), img)\n",
    "    cv2.imwrite(str(mask_output_path), mask)"
   ]
  },
  {
   "cell_type": "markdown",
   "id": "289e3336",
   "metadata": {},
   "source": [
    "## Rooftop test data"
   ]
  },
  {
   "cell_type": "code",
   "execution_count": 6,
   "id": "faac104d",
   "metadata": {},
   "outputs": [
    {
     "name": "stderr",
     "output_type": "stream",
     "text": [
      "100%|██████████████████████████████████████████████████████████████████████████████████████████████████████████████████████████████████████████| 188/188 [00:21<00:00,  8.94it/s]\n"
     ]
    }
   ],
   "source": [
    "for name in tqdm(test_names):\n",
    "    img = cv2.imread(str(images_tmp_path / (name + '.tif')))\n",
    "    mask = cv2.imread(str(segments_tmp_path / (name + '.png')))\n",
    "    \n",
    "    output_name = name + '.png'\n",
    "    img_output_path = segment_test_image_path / output_name\n",
    "    mask_output_path = segment_test_label_path / output_name\n",
    "    \n",
    "    cv2.imwrite(str(img_output_path), img)\n",
    "    cv2.imwrite(str(mask_output_path), mask)"
   ]
  },
  {
   "cell_type": "markdown",
   "id": "8880e22d",
   "metadata": {},
   "source": [
    "## Superstructure training data"
   ]
  },
  {
   "cell_type": "code",
   "execution_count": 7,
   "id": "420f56a6",
   "metadata": {},
   "outputs": [
    {
     "name": "stderr",
     "output_type": "stream",
     "text": [
      "100%|████████████████████████████████████████████████████████████████████████████████████████████████████████████████████████████████████████| 1504/1504 [01:06<00:00, 22.55it/s]\n"
     ]
    }
   ],
   "source": [
    "# Labels:\n",
    "# ['pvmodule', 'dormer', 'window', 'ladder', 'chimney', 'shadow', 'tree', 'unknown', 'background']\n",
    "\n",
    "obstacle_classes = [1, 2, 3, 4, 5, 6, 7]\n",
    "pv_class = 0\n",
    "background_class = 8\n",
    "\n",
    "for name in tqdm(train_names):\n",
    "    img = cv2.imread(str(images_tmp_path / (name + '.tif')))\n",
    "    mask = cv2.imread(str(superstructures_tmp_path / (name + '.png')))\n",
    "    \n",
    "    #mask[(mask >= min(obstacle_classes)) & (mask <= max(obstacle_classes))] = 2\n",
    "    #mask[mask == pv_class] = 1\n",
    "    #mask[mask == background_class] = 0\n",
    "    \n",
    "    output_name = name + '.png'\n",
    "    img_output_path = superstructures_train_image_path / output_name\n",
    "    mask_output_path = superstructures_train_label_path / output_name\n",
    "    \n",
    "    cv2.imwrite(str(img_output_path), img)\n",
    "    cv2.imwrite(str(mask_output_path), mask)"
   ]
  },
  {
   "cell_type": "markdown",
   "id": "1760c843",
   "metadata": {},
   "source": [
    "## Superstructure validation data"
   ]
  },
  {
   "cell_type": "code",
   "execution_count": 8,
   "id": "2c52ce4f",
   "metadata": {},
   "outputs": [
    {
     "name": "stderr",
     "output_type": "stream",
     "text": [
      "100%|██████████████████████████████████████████████████████████████████████████████████████████████████████████████████████████████████████████| 188/188 [00:04<00:00, 43.04it/s]\n"
     ]
    }
   ],
   "source": [
    "for name in tqdm(val_names):\n",
    "    img = cv2.imread(str(images_tmp_path / (name + '.tif')))\n",
    "    mask = cv2.imread(str(superstructures_tmp_path / (name + '.png')))\n",
    "    \n",
    "    #mask[(mask >= min(obstacle_classes)) & (mask <= max(obstacle_classes))] = 2\n",
    "    #mask[mask == pv_class] = 1\n",
    "    #mask[mask == background_class] = 0\n",
    "    \n",
    "    output_name = name + '.png'\n",
    "    img_output_path = superstructures_val_image_path / output_name\n",
    "    mask_output_path = superstructures_val_label_path / output_name\n",
    "    \n",
    "    cv2.imwrite(str(img_output_path), img)\n",
    "    cv2.imwrite(str(mask_output_path), mask)"
   ]
  },
  {
   "cell_type": "markdown",
   "id": "889e230a",
   "metadata": {},
   "source": [
    "## Superstructure test data"
   ]
  },
  {
   "cell_type": "code",
   "execution_count": 9,
   "id": "74668f25",
   "metadata": {},
   "outputs": [
    {
     "name": "stderr",
     "output_type": "stream",
     "text": [
      "100%|██████████████████████████████████████████████████████████████████████████████████████████████████████████████████████████████████████████| 188/188 [00:05<00:00, 34.91it/s]\n"
     ]
    }
   ],
   "source": [
    "for name in tqdm(test_names):\n",
    "    img = cv2.imread(str(images_tmp_path / (name + '.tif')))\n",
    "    mask = cv2.imread(str(superstructures_tmp_path / (name + '.png')))\n",
    "    \n",
    "    #mask[(mask >= min(obstacle_classes)) & (mask <= max(obstacle_classes))] = 2\n",
    "    #mask[mask == pv_class] = 1\n",
    "    #mask[mask == background_class] = 0\n",
    "    \n",
    "    output_name = name + '.png'\n",
    "    img_output_path = superstructures_test_image_path / output_name\n",
    "    mask_output_path = superstructures_test_label_path / output_name\n",
    "    \n",
    "    cv2.imwrite(str(img_output_path), img)\n",
    "    cv2.imwrite(str(mask_output_path), mask)"
   ]
  },
  {
   "cell_type": "markdown",
   "id": "873ecb59",
   "metadata": {},
   "source": [
    "## Removing tmp folder"
   ]
  },
  {
   "cell_type": "code",
   "execution_count": 10,
   "id": "f19b7dfd",
   "metadata": {},
   "outputs": [
    {
     "name": "stdout",
     "output_type": "stream",
     "text": [
      "Removing tmp folder...\n",
      "Finished!\n"
     ]
    }
   ],
   "source": [
    "print('Removing tmp folder...')\n",
    "shutil.rmtree(tmp_path)\n",
    "print('Finished!')"
   ]
  }
 ],
 "metadata": {
  "kernelspec": {
   "display_name": "Python 3 (ipykernel)",
   "language": "python",
   "name": "python3"
  },
  "language_info": {
   "codemirror_mode": {
    "name": "ipython",
    "version": 3
   },
   "file_extension": ".py",
   "mimetype": "text/x-python",
   "name": "python",
   "nbconvert_exporter": "python",
   "pygments_lexer": "ipython3",
   "version": "3.8.13"
  }
 },
 "nbformat": 4,
 "nbformat_minor": 5
}
