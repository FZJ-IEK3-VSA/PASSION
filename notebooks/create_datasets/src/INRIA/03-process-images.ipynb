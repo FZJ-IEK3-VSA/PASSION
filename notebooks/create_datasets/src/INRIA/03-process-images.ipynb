{
 "cells": [
  {
   "cell_type": "markdown",
   "id": "8c0bc8e4",
   "metadata": {},
   "source": [
    "# Divide input dataset into NxN pixel tiles"
   ]
  },
  {
   "cell_type": "code",
   "execution_count": 1,
   "id": "8ca76c7e",
   "metadata": {},
   "outputs": [],
   "source": [
    "import pathlib\n",
    "import cv2\n",
    "import numpy as np\n",
    "import tqdm\n",
    "import shutil\n",
    "import random"
   ]
  },
  {
   "cell_type": "markdown",
   "id": "55a4912f",
   "metadata": {},
   "source": [
    "## Data folders"
   ]
  },
  {
   "cell_type": "code",
   "execution_count": 2,
   "id": "3ef8fdfd",
   "metadata": {},
   "outputs": [],
   "source": [
    "data_path = pathlib.Path('../../data/')\n",
    "inria_path = data_path / 'INRIA'\n",
    "output_path = inria_path / 'output'\n",
    "tmp_path = output_path / 'tmp'\n",
    "\n",
    "train_path_tmp = tmp_path / 'train'\n",
    "test_path_tmp = tmp_path / 'test'\n",
    "\n",
    "train_path = output_path / 'train'\n",
    "train_images_path = train_path / 'image'\n",
    "train_images_path.mkdir(parents=True, exist_ok=True)\n",
    "train_labels_path = train_path / 'label'\n",
    "train_labels_path.mkdir(parents=True, exist_ok=True)\n",
    "\n",
    "val_path = output_path / 'val'\n",
    "val_images_path = val_path / 'image'\n",
    "val_images_path.mkdir(parents=True, exist_ok=True)\n",
    "val_labels_path = val_path / 'label'\n",
    "val_labels_path.mkdir(parents=True, exist_ok=True)\n",
    "\n",
    "test_path = output_path / 'test'\n",
    "test_path.mkdir(parents=True, exist_ok=True)"
   ]
  },
  {
   "cell_type": "markdown",
   "id": "ea6fe02c",
   "metadata": {},
   "source": [
    "## Dividing training data\n",
    "Output will be TILE_HxTILE_W .png images"
   ]
  },
  {
   "cell_type": "code",
   "execution_count": 3,
   "id": "76e689ed",
   "metadata": {},
   "outputs": [],
   "source": [
    "# Divide training data into train and val\n",
    "paths = list(train_path_tmp.glob('images/*.tif'))\n",
    "random.shuffle(paths)\n",
    "\n",
    "n_train = len(paths) * 0.8\n",
    "\n",
    "train_paths = paths[:int(n_train)]\n",
    "val_paths = paths[int(n_train):]"
   ]
  },
  {
   "cell_type": "code",
   "execution_count": 4,
   "id": "c16d4ce2",
   "metadata": {},
   "outputs": [
    {
     "name": "stdout",
     "output_type": "stream",
     "text": [
      "Dividing files into tiles...\n"
     ]
    },
    {
     "name": "stderr",
     "output_type": "stream",
     "text": [
      "tyrol-w34.tif: 100%|██████████████████████████████████████████████████████████████| 144/144 [04:34<00:00,  1.91s/it]"
     ]
    },
    {
     "name": "stdout",
     "output_type": "stream",
     "text": [
      "Finished!\n"
     ]
    },
    {
     "name": "stderr",
     "output_type": "stream",
     "text": [
      "\n"
     ]
    }
   ],
   "source": [
    "# Set to True to remove images without rooftops from the dataset\n",
    "SKIP_IMG_WITHOUT_ROOFTOPS = True\n",
    "\n",
    "# Set to True to save the label tiles also in a 255 range (easier to visualize)\n",
    "SAVE_VIZ = False\n",
    "\n",
    "TILE_H = 512\n",
    "TILE_W = TILE_H\n",
    "\n",
    "print('Dividing files into tiles...')\n",
    "pbar = tqdm.tqdm(train_paths)\n",
    "for file in pbar:\n",
    "    pbar.set_description(file.name)\n",
    "    \n",
    "    img = cv2.imread(str(file))\n",
    "    label = cv2.imread(str(train_path_tmp / 'gt' / file.name))\n",
    "    label = (label // 255)\n",
    "    \n",
    "    # if there is no rooftop in the image, skip it\n",
    "    if SKIP_IMG_WITHOUT_ROOFTOPS and not label.any():\n",
    "        break\n",
    "    \n",
    "    height, width, dim = img.shape\n",
    "    \n",
    "    for h in range(0, height, TILE_H):\n",
    "        for w in range(0, width, TILE_W):\n",
    "            img_tile = img[h:h+TILE_H, w:w+TILE_W]\n",
    "            img_tile = np.pad(img_tile, ((0, TILE_H - img_tile.shape[0]), (0, TILE_W - img_tile.shape[1]), (0, 0)),\n",
    "                   mode='constant', constant_values=0)\n",
    "            \n",
    "            label_tile = label[h:h+TILE_H, w:w+TILE_W]\n",
    "            label_tile = np.pad(label_tile, ((0, TILE_H - label_tile.shape[0]), (0, TILE_W - label_tile.shape[1]), (0, 0)),\n",
    "                   mode='constant', constant_values=0)\n",
    "            \n",
    "            # if there is no rooftop in the tile, skip it\n",
    "            if SKIP_IMG_WITHOUT_ROOFTOPS and label_tile.any():\n",
    "                cv2.imwrite(str(train_images_path / ('{0}_{1}_{2}.png').format(file.stem, h, w)), img_tile)\n",
    "                cv2.imwrite(str(train_labels_path / ('{0}_{1}_{2}.png').format(file.stem, h, w)), label_tile)\n",
    "                if SAVE_VIZ:\n",
    "                    cv2.imwrite(str(train_labels_path / ('{0}_{1}_{2}_viz.png').format(file.stem, h, w)), label_tile*255)\n",
    "\n",
    "print('Finished!')"
   ]
  },
  {
   "cell_type": "code",
   "execution_count": 5,
   "id": "3d5ef50a",
   "metadata": {},
   "outputs": [
    {
     "name": "stdout",
     "output_type": "stream",
     "text": [
      "Dividing files into tiles...\n"
     ]
    },
    {
     "name": "stderr",
     "output_type": "stream",
     "text": [
      "kitsap23.tif: 100%|█████████████████████████████████████████████████████████████████| 36/36 [01:05<00:00,  1.83s/it]"
     ]
    },
    {
     "name": "stdout",
     "output_type": "stream",
     "text": [
      "Finished!\n"
     ]
    },
    {
     "name": "stderr",
     "output_type": "stream",
     "text": [
      "\n"
     ]
    }
   ],
   "source": [
    "# Set to True to remove images without rooftops from the dataset\n",
    "SKIP_IMG_WITHOUT_ROOFTOPS = True\n",
    "\n",
    "# Set to True to save the label tiles also in a 255 range (easier to visualize)\n",
    "SAVE_VIZ = False\n",
    "\n",
    "TILE_H = 512\n",
    "TILE_W = TILE_H\n",
    "\n",
    "print('Dividing files into tiles...')\n",
    "pbar = tqdm.tqdm(val_paths)\n",
    "for file in pbar:\n",
    "    pbar.set_description(file.name)\n",
    "    \n",
    "    img = cv2.imread(str(file))\n",
    "    label = cv2.imread(str(train_path_tmp / 'gt' / file.name))\n",
    "    label = (label // 255)\n",
    "    \n",
    "    # if there is no rooftop in the image, skip it\n",
    "    if SKIP_IMG_WITHOUT_ROOFTOPS and not label.any():\n",
    "        break\n",
    "    \n",
    "    height, width, dim = img.shape\n",
    "    \n",
    "    for h in range(0, height, TILE_H):\n",
    "        for w in range(0, width, TILE_W):\n",
    "            img_tile = img[h:h+TILE_H, w:w+TILE_W]\n",
    "            img_tile = np.pad(img_tile, ((0, TILE_H - img_tile.shape[0]), (0, TILE_W - img_tile.shape[1]), (0, 0)),\n",
    "                   mode='constant', constant_values=0)\n",
    "            \n",
    "            label_tile = label[h:h+TILE_H, w:w+TILE_W]\n",
    "            label_tile = np.pad(label_tile, ((0, TILE_H - label_tile.shape[0]), (0, TILE_W - label_tile.shape[1]), (0, 0)),\n",
    "                   mode='constant', constant_values=0)\n",
    "            \n",
    "            # if there is no rooftop in the tile, skip it\n",
    "            if SKIP_IMG_WITHOUT_ROOFTOPS and label_tile.any():\n",
    "                cv2.imwrite(str(val_images_path / ('{0}_{1}_{2}.png').format(file.stem, h, w)), img_tile)\n",
    "                cv2.imwrite(str(val_labels_path / ('{0}_{1}_{2}.png').format(file.stem, h, w)), label_tile)\n",
    "                if SAVE_VIZ:\n",
    "                    cv2.imwrite(str(val_labels_path / ('{0}_{1}_{2}_viz.png').format(file.stem, h, w)), label_tile*255)\n",
    "\n",
    "print('Finished!')"
   ]
  },
  {
   "cell_type": "markdown",
   "id": "27fe1f8f",
   "metadata": {},
   "source": [
    "## Dividing test data\n",
    "Output will be TILE_HxTILE_W .png images"
   ]
  },
  {
   "cell_type": "code",
   "execution_count": 6,
   "id": "0bcbce5a",
   "metadata": {},
   "outputs": [
    {
     "name": "stdout",
     "output_type": "stream",
     "text": [
      "Dividing files into tiles...\n"
     ]
    },
    {
     "name": "stderr",
     "output_type": "stream",
     "text": [
      "sfo23.tif: : 180it [04:36,  1.54s/it]        "
     ]
    },
    {
     "name": "stdout",
     "output_type": "stream",
     "text": [
      "Finished!\n"
     ]
    },
    {
     "name": "stderr",
     "output_type": "stream",
     "text": [
      "\n"
     ]
    }
   ],
   "source": [
    "print('Dividing files into tiles...')\n",
    "pbar = tqdm.tqdm(test_path_tmp.glob('images/*.tif'))\n",
    "for file in pbar:\n",
    "    pbar.set_description(file.name)\n",
    "    \n",
    "    img = cv2.imread(str(file))\n",
    "    \n",
    "    height, width, dim = img.shape\n",
    "    \n",
    "    for h in range(0, height, TILE_H):\n",
    "        for w in range(0, width, TILE_W):\n",
    "            img_tile = img[h:h+TILE_H, w:w+TILE_W]\n",
    "            img_tile = np.pad(img_tile, ((0, TILE_H - img_tile.shape[0]), (0, TILE_W - img_tile.shape[1]), (0, 0)),\n",
    "                   mode='constant', constant_values=0)\n",
    "            \n",
    "            cv2.imwrite(str(test_path / ('{0}_{1}_{2}.png').format(file.stem, h, w)), img_tile)\n",
    "                \n",
    "print('Finished!')"
   ]
  },
  {
   "cell_type": "markdown",
   "id": "813f5f07",
   "metadata": {},
   "source": [
    "## Removing tmp folder"
   ]
  },
  {
   "cell_type": "code",
   "execution_count": 7,
   "id": "38eba93d",
   "metadata": {},
   "outputs": [
    {
     "name": "stdout",
     "output_type": "stream",
     "text": [
      "Removing tmp folder...\n",
      "Finished!\n"
     ]
    }
   ],
   "source": [
    "print('Removing tmp folder...')\n",
    "shutil.rmtree(tmp_path)\n",
    "print('Finished!')"
   ]
  },
  {
   "cell_type": "markdown",
   "id": "5b9dda18",
   "metadata": {},
   "source": [
    "## Final structure\n",
    "\n",
    "```\n",
    "data\n",
    "|__INRIA\n",
    "   |__input\n",
    "   |  |  aerialimagelabeling.7z.001\n",
    "   |  |  ...\n",
    "   |  |  aerialimagelabeling.7z.005\n",
    "   |\n",
    "   |__output\n",
    "      |__train\n",
    "      |  |__image\n",
    "      |     |  <ORIGINAL_FILENAME>_<INIT_CROP_H>_<INIT_CROP_W>.png\n",
    "      |     |  ...\n",
    "      |\n",
    "      |  |__label\n",
    "      |     |  <ORIGINAL_FILENAME>_<INIT_CROP_H>_<INIT_CROP_W>.png\n",
    "      |     |  ...\n",
    "      |\n",
    "      |__val\n",
    "      |  |__image\n",
    "      |     |  <ORIGINAL_FILENAME>_<INIT_CROP_H>_<INIT_CROP_W>.png\n",
    "      |     |  ...\n",
    "      |\n",
    "      |  |__label\n",
    "      |     |  <ORIGINAL_FILENAME>_<INIT_CROP_H>_<INIT_CROP_W>.png\n",
    "      |     |  ...\n",
    "      |\n",
    "      |__test\n",
    "         |  <ORIGINAL_FILENAME>_<INIT_CROP_H>_<INIT_CROP_W>.png\n",
    "         |  ...\n",
    "```"
   ]
  },
  {
   "cell_type": "code",
   "execution_count": null,
   "id": "56345c9d",
   "metadata": {},
   "outputs": [],
   "source": []
  }
 ],
 "metadata": {
  "kernelspec": {
   "display_name": "Python 3 (ipykernel)",
   "language": "python",
   "name": "python3"
  },
  "language_info": {
   "codemirror_mode": {
    "name": "ipython",
    "version": 3
   },
   "file_extension": ".py",
   "mimetype": "text/x-python",
   "name": "python",
   "nbconvert_exporter": "python",
   "pygments_lexer": "ipython3",
   "version": "3.8.13"
  }
 },
 "nbformat": 4,
 "nbformat_minor": 5
}
