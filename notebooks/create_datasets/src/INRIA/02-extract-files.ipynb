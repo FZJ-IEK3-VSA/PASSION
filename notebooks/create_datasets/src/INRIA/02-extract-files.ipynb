{
 "cells": [
  {
   "cell_type": "markdown",
   "id": "a611cbb0",
   "metadata": {},
   "source": [
    "# Extract downloaded tif files"
   ]
  },
  {
   "cell_type": "code",
   "execution_count": 1,
   "id": "12921daf",
   "metadata": {},
   "outputs": [],
   "source": [
    "import pathlib\n",
    "import py7zr\n",
    "from tqdm import tqdm\n",
    "import os\n",
    "import shutil\n",
    "from pyunpack import Archive"
   ]
  },
  {
   "cell_type": "markdown",
   "id": "f787a77f",
   "metadata": {},
   "source": [
    "## Data folders:"
   ]
  },
  {
   "cell_type": "code",
   "execution_count": 2,
   "id": "b1086f53",
   "metadata": {},
   "outputs": [],
   "source": [
    "data_path = pathlib.Path('../../data/')\n",
    "inria_path = data_path / 'INRIA'\n",
    "input_path = inria_path / 'input'\n",
    "output_path = inria_path / 'output'\n",
    "output_path.mkdir(parents=True, exist_ok=True)\n",
    "tmp_path = output_path / 'tmp'\n",
    "tmp_path.mkdir(parents=True, exist_ok=True)"
   ]
  },
  {
   "cell_type": "markdown",
   "id": "1a5b54a4",
   "metadata": {},
   "source": [
    "## Extract the 7z files\n",
    "Append multi-volume files (*.7z.00x) together before extracting."
   ]
  },
  {
   "cell_type": "code",
   "execution_count": 3,
   "id": "f9f3be93",
   "metadata": {},
   "outputs": [
    {
     "name": "stdout",
     "output_type": "stream",
     "text": [
      "Merging files...\n"
     ]
    },
    {
     "name": "stderr",
     "output_type": "stream",
     "text": [
      "100%|█████████████████████████████████████████████████████████████████████████████████| 5/5 [00:25<00:00,  5.17s/it]\n"
     ]
    }
   ],
   "source": [
    "filenames = list(input_path.glob('*.7z.*'))\n",
    "filenames = list(map(lambda x: str(x), filenames))\n",
    "filenames = sorted(filenames)\n",
    "\n",
    "merge_7z = tmp_path / 'merge.7z'\n",
    "with open(merge_7z, 'ab') as outfile: # append in binary mode\n",
    "    print('Merging files...')\n",
    "    pbar = tqdm(filenames)\n",
    "    for filename in pbar:\n",
    "        with open(filename, 'rb') as infile:\n",
    "            outfile.write(infile.read())"
   ]
  },
  {
   "cell_type": "code",
   "execution_count": 4,
   "id": "735119fa",
   "metadata": {},
   "outputs": [
    {
     "name": "stdout",
     "output_type": "stream",
     "text": [
      "Extracting files...\n",
      "Deleting intermediate files...\n",
      "Finished!\n"
     ]
    }
   ],
   "source": [
    "with py7zr.SevenZipFile(merge_7z, 'r') as archive:\n",
    "    print('Extracting files...')\n",
    "    archive.extractall(path=tmp_path)\n",
    "print('Deleting intermediate files...')\n",
    "os.unlink(merge_7z)\n",
    "print('Finished!')"
   ]
  },
  {
   "cell_type": "markdown",
   "id": "c4b24ea3",
   "metadata": {},
   "source": [
    "## Extract the final .zip file\n"
   ]
  },
  {
   "cell_type": "code",
   "execution_count": 5,
   "id": "2f7e36e3",
   "metadata": {},
   "outputs": [
    {
     "name": "stderr",
     "output_type": "stream",
     "text": [
      "NEW2-AerialImageDataset.zip: : 0it [00:00, ?it/s]"
     ]
    },
    {
     "name": "stdout",
     "output_type": "stream",
     "text": [
      "Extracting NEW2-AerialImageDataset.zip...\n"
     ]
    },
    {
     "name": "stderr",
     "output_type": "stream",
     "text": [
      "NEW2-AerialImageDataset.zip: : 1it [03:05, 185.47s/it]\n"
     ]
    },
    {
     "name": "stdout",
     "output_type": "stream",
     "text": [
      "Cleaning tmp folder contents...\n",
      "Moving extracted .tif files into tmp folder...\n",
      "Finished!\n"
     ]
    }
   ],
   "source": [
    "pbar = tqdm(tmp_path.glob('*.zip'))\n",
    "for file_zip in pbar:\n",
    "    filename = file_zip.name\n",
    "    print('Extracting {0}...'.format(filename))\n",
    "    pbar.set_description(filename)\n",
    "    Archive(file_zip).extractall(output_path)\n",
    "\n",
    "print('Cleaning tmp folder contents...')\n",
    "for f in tmp_path.glob('*'):\n",
    "    os.remove(f)\n",
    "\n",
    "print('Moving extracted .tif files into tmp folder...')\n",
    "dataset = (output_path / 'AerialImageDataset')\n",
    "for folder in dataset.glob('*'):\n",
    "    new_path = tmp_path / folder.name\n",
    "    folder.rename(new_path)\n",
    "os.rmdir(dataset)\n",
    "\n",
    "print('Finished!')"
   ]
  },
  {
   "cell_type": "markdown",
   "id": "19d158d8",
   "metadata": {},
   "source": [
    "## Final structure\n",
    "\n",
    "```\n",
    "data\n",
    "|__INRIA\n",
    "   |__input\n",
    "   |  |  aerialimagelabeling.7z.001\n",
    "   |  |  ...\n",
    "   |  |  aerialimagelabeling.7z.005\n",
    "   |\n",
    "   |__output\n",
    "      |__tmp\n",
    "         |__train\n",
    "         |  |__images\n",
    "         |     |  <FILENAME>.tif\n",
    "         |     |  ...\n",
    "         |\n",
    "         |  |__gt\n",
    "         |     |  <FILENAME>.tif\n",
    "         |     |  ...\n",
    "         |\n",
    "         |__test\n",
    "            |  <FILENAME>.tif\n",
    "            |  ...\n",
    "```"
   ]
  }
 ],
 "metadata": {
  "kernelspec": {
   "display_name": "Python 3 (ipykernel)",
   "language": "python",
   "name": "python3"
  },
  "language_info": {
   "codemirror_mode": {
    "name": "ipython",
    "version": 3
   },
   "file_extension": ".py",
   "mimetype": "text/x-python",
   "name": "python",
   "nbconvert_exporter": "python",
   "pygments_lexer": "ipython3",
   "version": "3.8.13"
  }
 },
 "nbformat": 4,
 "nbformat_minor": 5
}
