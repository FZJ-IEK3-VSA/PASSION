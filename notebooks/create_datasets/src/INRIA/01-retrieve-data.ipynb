{
 "cells": [
  {
   "cell_type": "markdown",
   "id": "9c22c0d6",
   "metadata": {},
   "source": [
    "# Download raw data files"
   ]
  },
  {
   "cell_type": "code",
   "execution_count": 1,
   "id": "08d1fad5",
   "metadata": {},
   "outputs": [],
   "source": [
    "import pathlib\n",
    "import urllib.request\n",
    "from tqdm import tqdm"
   ]
  },
  {
   "cell_type": "markdown",
   "id": "b4b9709a",
   "metadata": {},
   "source": [
    "## Data folders:"
   ]
  },
  {
   "cell_type": "code",
   "execution_count": 2,
   "id": "f1e22a1a",
   "metadata": {},
   "outputs": [],
   "source": [
    "data_path = pathlib.Path('../../data/')\n",
    "data_path.mkdir(parents=True, exist_ok=True)\n",
    "inria_path = data_path / 'INRIA'\n",
    "inria_path.mkdir(parents=True, exist_ok=True)\n",
    "input_path = inria_path / 'input'\n",
    "input_path.mkdir(parents=True, exist_ok=True)\n",
    "\n",
    "source_file = inria_path / 'source.txt'"
   ]
  },
  {
   "cell_type": "code",
   "execution_count": 3,
   "id": "7518730e",
   "metadata": {},
   "outputs": [
    {
     "name": "stdout",
     "output_type": "stream",
     "text": [
      "['https://files.inria.fr/aerialimagelabeling/aerialimagelabeling.7z.001', 'https://files.inria.fr/aerialimagelabeling/aerialimagelabeling.7z.002', 'https://files.inria.fr/aerialimagelabeling/aerialimagelabeling.7z.003', 'https://files.inria.fr/aerialimagelabeling/aerialimagelabeling.7z.004', 'https://files.inria.fr/aerialimagelabeling/aerialimagelabeling.7z.005']\n"
     ]
    }
   ],
   "source": [
    "with open(source_file) as file:\n",
    "    lines = file.readlines()\n",
    "    lines = [line.rstrip() for line in lines]\n",
    "\n",
    "print(lines)"
   ]
  },
  {
   "cell_type": "markdown",
   "id": "dab90852",
   "metadata": {},
   "source": [
    "## Download the data\n",
    "\n",
    "This may take a while depending on your connection. Total size is ~16GB."
   ]
  },
  {
   "cell_type": "code",
   "execution_count": 4,
   "id": "12c4c28f",
   "metadata": {},
   "outputs": [
    {
     "name": "stdout",
     "output_type": "stream",
     "text": [
      "Downloading aerialimagelabeling.7z.001...\n"
     ]
    },
    {
     "name": "stderr",
     "output_type": "stream",
     "text": [
      "aerialimagelabeling.7z.001: 100%|████████████████████████████████████████████████████████████████████████████████████████████████████| 4.00G/4.00G [01:29<00:00, 47.9MB/s]\n"
     ]
    },
    {
     "name": "stdout",
     "output_type": "stream",
     "text": [
      "Downloading aerialimagelabeling.7z.002...\n"
     ]
    },
    {
     "name": "stderr",
     "output_type": "stream",
     "text": [
      "aerialimagelabeling.7z.002: 100%|████████████████████████████████████████████████████████████████████████████████████████████████████| 4.00G/4.00G [01:16<00:00, 55.8MB/s]\n"
     ]
    },
    {
     "name": "stdout",
     "output_type": "stream",
     "text": [
      "Downloading aerialimagelabeling.7z.003...\n"
     ]
    },
    {
     "name": "stderr",
     "output_type": "stream",
     "text": [
      "aerialimagelabeling.7z.003: 100%|████████████████████████████████████████████████████████████████████████████████████████████████████| 4.00G/4.00G [01:15<00:00, 56.6MB/s]\n"
     ]
    },
    {
     "name": "stdout",
     "output_type": "stream",
     "text": [
      "Downloading aerialimagelabeling.7z.004...\n"
     ]
    },
    {
     "name": "stderr",
     "output_type": "stream",
     "text": [
      "aerialimagelabeling.7z.004: 100%|████████████████████████████████████████████████████████████████████████████████████████████████████| 4.00G/4.00G [01:15<00:00, 56.8MB/s]\n"
     ]
    },
    {
     "name": "stdout",
     "output_type": "stream",
     "text": [
      "Downloading aerialimagelabeling.7z.005...\n"
     ]
    },
    {
     "name": "stderr",
     "output_type": "stream",
     "text": [
      "aerialimagelabeling.7z.005: 3.52GB [01:13, 51.3MB/s]                                                                                                                      \n"
     ]
    }
   ],
   "source": [
    "# Providing function to show progress in urllib urlretreive.\n",
    "class TqdmUpTo(tqdm):\n",
    "    \"\"\"Provides `update_to(n)` which uses `tqdm.update(delta_n)`.\"\"\"\n",
    "    def update_to(self, b=1, bsize=1, tsize=None):\n",
    "        \"\"\"\n",
    "        b  : int, optional\n",
    "            Number of blocks transferred so far [default: 1].\n",
    "        bsize  : int, optional\n",
    "            Size of each block (in tqdm units) [default: 1].\n",
    "        tsize  : int, optional\n",
    "            Total size (in tqdm units). If [default: None] remains unchanged.\n",
    "        \"\"\"\n",
    "        if tsize is not None:\n",
    "            self.total = tsize\n",
    "        return self.update(b * bsize - self.n)  # also sets self.n = b * bsize\n",
    "\n",
    "for url in lines:\n",
    "    filename = url.split('/')[-1]\n",
    "    print('Downloading {0}...'.format(filename))\n",
    "    with TqdmUpTo(unit='B', unit_scale=True, unit_divisor=1024, miniters=1,\n",
    "              desc=filename) as t:  # all optional kwargs\n",
    "        urllib.request.urlretrieve(url, input_path / filename, reporthook=t.update_to, data=None)"
   ]
  },
  {
   "cell_type": "code",
   "execution_count": null,
   "id": "73cf093f",
   "metadata": {},
   "outputs": [],
   "source": []
  }
 ],
 "metadata": {
  "kernelspec": {
   "display_name": "Python 3 (ipykernel)",
   "language": "python",
   "name": "python3"
  },
  "language_info": {
   "codemirror_mode": {
    "name": "ipython",
    "version": 3
   },
   "file_extension": ".py",
   "mimetype": "text/x-python",
   "name": "python",
   "nbconvert_exporter": "python",
   "pygments_lexer": "ipython3",
   "version": "3.8.13"
  }
 },
 "nbformat": 4,
 "nbformat_minor": 5
}
