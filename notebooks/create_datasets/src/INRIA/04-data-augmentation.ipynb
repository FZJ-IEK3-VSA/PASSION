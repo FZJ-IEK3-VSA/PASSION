{
 "cells": [
  {
   "cell_type": "code",
   "execution_count": 1,
   "id": "beff27a4",
   "metadata": {},
   "outputs": [],
   "source": [
    "import pathlib\n",
    "import cv2\n",
    "import numpy as np\n",
    "import tqdm\n",
    "import shutil\n",
    "import random"
   ]
  },
  {
   "cell_type": "code",
   "execution_count": 2,
   "id": "d3118600",
   "metadata": {},
   "outputs": [],
   "source": [
    "def create_clean_folder(path):\n",
    "    path = pathlib.Path(path)\n",
    "    path.mkdir(parents=True, exist_ok=True)\n",
    "    shutil.rmtree(path)\n",
    "    path.mkdir(parents=True, exist_ok=True)\n",
    "\n",
    "data_path = pathlib.Path('../../data/')\n",
    "inria_path = data_path / 'INRIA'\n",
    "output_path = inria_path / 'output'\n",
    "\n",
    "train_path = output_path / 'train'\n",
    "train_images_path = train_path / 'image'\n",
    "train_labels_path = train_path / 'label'\n",
    "\n",
    "val_path = output_path / 'val'\n",
    "val_images_path = val_path / 'image'\n",
    "val_labels_path = val_path / 'label'\n",
    "\n",
    "test_path = output_path / 'test'\n",
    "\n",
    "train_aug_path = output_path / 'train_aug'\n",
    "train_aug_images_path = train_aug_path / 'image'\n",
    "create_clean_folder(train_aug_images_path)\n",
    "train_aug_labels_path = train_aug_path / 'label'\n",
    "create_clean_folder(train_aug_labels_path)\n",
    "\n",
    "val_aug_path = output_path / 'val_aug'\n",
    "val_aug_images_path = val_aug_path / 'image'\n",
    "create_clean_folder(val_aug_images_path)\n",
    "val_aug_labels_path = val_aug_path / 'label'\n",
    "create_clean_folder(val_aug_labels_path)"
   ]
  },
  {
   "cell_type": "markdown",
   "id": "7346605c",
   "metadata": {},
   "source": [
    "## Data augmentation\n",
    "\n",
    "Transformations performed:\n",
    "\n",
    "- Multiplying the sample data by a factor defined by AUGMENT_FACTOR\n",
    "- Randomly rotate by 0, 90, 180 or 270 degrees\n",
    "- Randomly perform an average filter\n",
    "- Randomly flip horizontally\n",
    "- Randomly flip vertically"
   ]
  },
  {
   "cell_type": "code",
   "execution_count": 3,
   "id": "38d81d75",
   "metadata": {},
   "outputs": [],
   "source": [
    "def multiply_list_float(l, factor):\n",
    "    factor_int = int(factor)\n",
    "    out = l * factor_int\n",
    "    diff = factor - factor_int\n",
    "    diff_len = int(diff * len(l))\n",
    "    \n",
    "    return out + l[:diff_len]\n",
    "\n",
    "def process_pair(img, mask):\n",
    "    # Randomly rotate by a multiply of 90, and correct pixels by corresponding value\n",
    "    rotations = [None, cv2.ROTATE_90_CLOCKWISE, cv2.ROTATE_180, cv2.ROTATE_90_COUNTERCLOCKWISE]\n",
    "    rotation = random.choice(rotations)\n",
    "    \n",
    "    if rotation:\n",
    "        img = cv2.rotate(img, rotation)\n",
    "        mask = cv2.rotate(mask, rotation)\n",
    "    \n",
    "    # Random average filtering every other image\n",
    "    avg_filter = random.uniform(0, 1)\n",
    "    if avg_filter > 0.5:\n",
    "        kernel = np.ones((5,5),np.float32) / random.randrange(15,30)\n",
    "        img = cv2.filter2D(img,-1,kernel)\n",
    "    \n",
    "    # Flip vertically every other image\n",
    "    flip_filter = random.uniform(0, 1)\n",
    "    if flip_filter:\n",
    "        mask = cv2.flip(mask, 0)\n",
    "        img = cv2.flip(img, 0)\n",
    "        \n",
    "    # Flip horizontally every other image\n",
    "    flip_filter = random.uniform(0, 1)\n",
    "    if flip_filter:\n",
    "        mask = cv2.flip(mask, 1)\n",
    "        img = cv2.flip(img, 1)\n",
    "    \n",
    "    return img, mask"
   ]
  },
  {
   "cell_type": "code",
   "execution_count": 4,
   "id": "33ad06a5",
   "metadata": {},
   "outputs": [
    {
     "name": "stderr",
     "output_type": "stream",
     "text": [
      "100%|███████████████████████████████████████████████████████████| 23596/23596 [13:55<00:00, 28.25it/s]\n"
     ]
    }
   ],
   "source": [
    "# Factor to augment the data, or how much to increase the original dataset\n",
    "AUGMENT_FACTOR = 2\n",
    "path_list = list(train_images_path.glob('*.png'))\n",
    "path_list = multiply_list_float(path_list, AUGMENT_FACTOR)\n",
    "\n",
    "random.shuffle(path_list)\n",
    "\n",
    "for i, path in enumerate(tqdm.tqdm(path_list)):\n",
    "    name = path.name\n",
    "    img = cv2.imread(str(train_images_path / name))\n",
    "    mask = cv2.imread(str(train_labels_path / name))\n",
    "    \n",
    "    img, mask = process_pair(img, mask)\n",
    "    \n",
    "    cv2.imwrite(str(train_aug_images_path / name.replace('.png', f'_t{i}.png')), img)\n",
    "    cv2.imwrite(str(train_aug_labels_path / name.replace('.png', f'_t{i}.png')), mask)"
   ]
  },
  {
   "cell_type": "code",
   "execution_count": 5,
   "id": "9ac66b2e",
   "metadata": {},
   "outputs": [
    {
     "name": "stderr",
     "output_type": "stream",
     "text": [
      "100%|█████████████████████████████████████████████████████████████| 3015/3015 [01:36<00:00, 31.35it/s]\n"
     ]
    }
   ],
   "source": [
    "# Factor to augment the data, or how much to increase the original dataset\n",
    "AUGMENT_FACTOR = 1\n",
    "path_list = list(val_images_path.glob('*.png'))\n",
    "path_list = multiply_list_float(path_list, AUGMENT_FACTOR)\n",
    "\n",
    "random.shuffle(path_list)\n",
    "\n",
    "for i, path in enumerate(tqdm.tqdm(path_list)):\n",
    "    name = path.name\n",
    "    img = cv2.imread(str(val_images_path / name))\n",
    "    mask = cv2.imread(str(val_labels_path / name))\n",
    "    \n",
    "    img, mask = process_pair(img, mask)\n",
    "    \n",
    "    cv2.imwrite(str(val_aug_images_path / name.replace('.png', f'_t{i}.png')), img)\n",
    "    cv2.imwrite(str(val_aug_labels_path / name.replace('.png', f'_t{i}.png')), mask)"
   ]
  },
  {
   "cell_type": "code",
   "execution_count": null,
   "id": "88de1b36",
   "metadata": {},
   "outputs": [],
   "source": []
  }
 ],
 "metadata": {
  "kernelspec": {
   "display_name": "Python 3 (ipykernel)",
   "language": "python",
   "name": "python3"
  },
  "language_info": {
   "codemirror_mode": {
    "name": "ipython",
    "version": 3
   },
   "file_extension": ".py",
   "mimetype": "text/x-python",
   "name": "python",
   "nbconvert_exporter": "python",
   "pygments_lexer": "ipython3",
   "version": "3.8.13"
  }
 },
 "nbformat": 4,
 "nbformat_minor": 5
}
