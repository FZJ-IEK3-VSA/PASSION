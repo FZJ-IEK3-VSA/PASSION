{
 "cells": [
  {
   "cell_type": "markdown",
   "id": "82465367",
   "metadata": {},
   "source": [
    "# Download raw data files"
   ]
  },
  {
   "cell_type": "code",
   "execution_count": 1,
   "id": "aa60926d",
   "metadata": {},
   "outputs": [],
   "source": [
    "import gdown\n",
    "import pathlib"
   ]
  },
  {
   "cell_type": "markdown",
   "id": "ce4f3983",
   "metadata": {},
   "source": [
    "## Data folders:"
   ]
  },
  {
   "cell_type": "code",
   "execution_count": 2,
   "id": "43a9812c",
   "metadata": {},
   "outputs": [],
   "source": [
    "data_path = pathlib.Path('../../data/')\n",
    "data_path.mkdir(parents=True, exist_ok=True)\n",
    "airs_path = data_path / 'AIRS'\n",
    "airs_path.mkdir(parents=True, exist_ok=True)\n",
    "input_path = airs_path / 'input'\n",
    "input_path.mkdir(parents=True, exist_ok=True)\n",
    "\n",
    "source_file = airs_path / 'source.txt'"
   ]
  },
  {
   "cell_type": "code",
   "execution_count": 3,
   "id": "0ce3218f",
   "metadata": {},
   "outputs": [
    {
     "name": "stdout",
     "output_type": "stream",
     "text": [
      "['https://drive.google.com/open?id=14nNUp7rdJxHuPC9rIFdWHAKj_BBQJ2VL', 'https://drive.google.com/open?id=1et_XjKoxH7QttdWnwQ-qm9ayz4-5fP1t']\n"
     ]
    }
   ],
   "source": [
    "with open(source_file) as file:\n",
    "    lines = file.readlines()\n",
    "    lines = [line.rstrip() for line in lines]\n",
    "\n",
    "print(lines)\n",
    "\n",
    "test_url = lines[0]\n",
    "train_url = lines[1]"
   ]
  },
  {
   "cell_type": "markdown",
   "id": "b7059385",
   "metadata": {},
   "source": [
    "## Download the data\n",
    "This may take a while depending on your connection. Total size is ~GB."
   ]
  },
  {
   "cell_type": "code",
   "execution_count": 4,
   "id": "4974727d",
   "metadata": {},
   "outputs": [
    {
     "name": "stderr",
     "output_type": "stream",
     "text": [
      "Downloading...\n",
      "From: https://drive.google.com/uc?id=14nNUp7rdJxHuPC9rIFdWHAKj_BBQJ2VL\n",
      "To: C:\\Users\\r.pueblas\\Projects\\rooftop-segmentation-datasets\\data\\AIRS\\input\\test.tar.gz\n",
      "100%|█████████████████████████████████████████████████████████████████████████████| 1.76G/1.76G [01:39<00:00, 17.7MB/s]\n"
     ]
    },
    {
     "name": "stdout",
     "output_type": "stream",
     "text": [
      "Access denied with the following error:\n"
     ]
    },
    {
     "name": "stderr",
     "output_type": "stream",
     "text": [
      "\n",
      " \tCannot retrieve the public link of the file. You may need to change\n",
      "\tthe permission to 'Anyone with the link', or have had many accesses. \n",
      "\n",
      "You may still be able to access the file from the browser:\n",
      "\n",
      "\t https://drive.google.com/uc?id=1et_XjKoxH7QttdWnwQ-qm9ayz4-5fP1t \n",
      "\n"
     ]
    }
   ],
   "source": [
    "base_url = 'https://drive.google.com/open?id='\n",
    "\n",
    "test_id = test_url.replace(base_url, '')\n",
    "train_id = train_url.replace(base_url, '')\n",
    "\n",
    "test_output = input_path / 'test.tar.gz'\n",
    "train_output = input_path / 'train.tar.gz'\n",
    "\n",
    "gdown.download(id=test_id, output=str(test_output), quiet=False)\n",
    "gdown.download(id=train_id, output=str(train_output), quiet=False)"
   ]
  },
  {
   "cell_type": "code",
   "execution_count": null,
   "id": "426b7df4",
   "metadata": {},
   "outputs": [],
   "source": []
  }
 ],
 "metadata": {
  "kernelspec": {
   "display_name": "Python 3 (ipykernel)",
   "language": "python",
   "name": "python3"
  },
  "language_info": {
   "codemirror_mode": {
    "name": "ipython",
    "version": 3
   },
   "file_extension": ".py",
   "mimetype": "text/x-python",
   "name": "python",
   "nbconvert_exporter": "python",
   "pygments_lexer": "ipython3",
   "version": "3.8.13"
  }
 },
 "nbformat": 4,
 "nbformat_minor": 5
}
