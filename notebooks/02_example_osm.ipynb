{
 "cells": [
  {
   "cell_type": "markdown",
   "metadata": {},
   "source": [
    "# PASSION demo:\n",
    "## OpenStreetMap rooftop segmentation generation"
   ]
  },
  {
   "cell_type": "code",
   "execution_count": 1,
   "id": "blocked-canberra",
   "metadata": {},
   "outputs": [
    {
     "name": "stdout",
     "output_type": "stream",
     "text": [
      "Segmentation Models: using `tf.keras` framework.\n"
     ]
    }
   ],
   "source": [
    "# In order to import the package from parent folder\n",
    "import sys\n",
    "sys.path[0] += '\\\\..'\n",
    "\n",
    "import passion"
   ]
  },
  {
   "cell_type": "code",
   "execution_count": 2,
   "id": "later-terror",
   "metadata": {},
   "outputs": [],
   "source": [
    "import pathlib\n",
    "\n",
    "input_path = pathlib.Path('F:\\datasets/output_test/aachen_test')\n",
    "\n",
    "output_path = pathlib.Path('F:\\datasets/output_test_segmented/aachen_test_osm')"
   ]
  },
  {
   "cell_type": "code",
   "execution_count": 3,
   "id": "hollywood-aquatic",
   "metadata": {},
   "outputs": [
    {
     "name": "stderr",
     "output_type": "stream",
     "text": [
      "100%|████████████████████████████████████████████████████████████████████████████████████| 9/9 [02:59<00:00, 19.99s/it]\n"
     ]
    }
   ],
   "source": [
    "passion.segmentation.osm.generate_osm(input_path, output_path)"
   ]
  },
  {
   "cell_type": "code",
   "execution_count": null,
   "id": "empty-findings",
   "metadata": {},
   "outputs": [],
   "source": []
  }
 ],
 "metadata": {
  "kernelspec": {
   "display_name": "Python 3",
   "language": "python",
   "name": "python3"
  },
  "language_info": {
   "codemirror_mode": {
    "name": "ipython",
    "version": 3
   },
   "file_extension": ".py",
   "mimetype": "text/x-python",
   "name": "python",
   "nbconvert_exporter": "python",
   "pygments_lexer": "ipython3",
   "version": "3.8.2"
  }
 },
 "nbformat": 4,
 "nbformat_minor": 5
}
