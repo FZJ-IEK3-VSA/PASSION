{
 "cells": [
  {
   "cell_type": "code",
   "execution_count": 1,
   "id": "e0fbeec4",
   "metadata": {},
   "outputs": [],
   "source": [
    "import torch\n",
    "import pathlib\n",
    "import cv2\n",
    "import PIL\n",
    "import numpy as np\n",
    "import pandas as pd\n",
    "import matplotlib.pyplot as plt\n",
    "import time\n",
    "from tqdm import tqdm\n",
    "%matplotlib inline\n",
    "\n",
    "from passion.segmentation import prediction"
   ]
  },
  {
   "cell_type": "code",
   "execution_count": 2,
   "id": "3a6d2129",
   "metadata": {},
   "outputs": [],
   "source": [
    "device = ('cuda' if torch.cuda.is_available() else 'cpu')"
   ]
  },
  {
   "cell_type": "markdown",
   "id": "933ab35e",
   "metadata": {},
   "source": [
    "# Load testing models"
   ]
  },
  {
   "cell_type": "code",
   "execution_count": 3,
   "id": "45f0c986",
   "metadata": {},
   "outputs": [],
   "source": [
    "models_folder_path = pathlib.Path('../../workflow/output/model')\n",
    "old_rooftop_models_folder_path = models_folder_path / 'old-rooftop-segmentation'\n",
    "rooftop_models_folder_path = models_folder_path / 'rooftop-segmentation'\n",
    "section_models_folder_path = models_folder_path / 'section-segmentation'\n",
    "\n",
    "# Sections models\n",
    "model_mix_val19 = torch.load(str(old_rooftop_models_folder_path / 'segments-mix-val19.pth'), map_location=torch.device(device))\n",
    "model_mix_val20 = torch.load(str(old_rooftop_models_folder_path / 'segments-mix-val20.pth'), map_location=torch.device(device))\n",
    "model_z19 = torch.load(str(old_rooftop_models_folder_path / 'segments-z19.pth'), map_location=torch.device(device))\n",
    "model_z19_aug = torch.load(str(old_rooftop_models_folder_path / 'segments-z19-aug.pth'), map_location=torch.device(device))\n",
    "model_z20 = torch.load(str(old_rooftop_models_folder_path / 'segments-z20.pth'), map_location=torch.device(device))\n",
    "model_z20_aug = torch.load(str(old_rooftop_models_folder_path / 'segments-z20-aug.pth'), map_location=torch.device(device))\n",
    "\n",
    "model_final_15e = torch.load(str(section_models_folder_path / 'sections-mix-aug-15e.pth'), map_location=torch.device(device))\n",
    "model_final_20e = torch.load(str(section_models_folder_path / 'sections-mix-aug-20e.pth'), map_location=torch.device(device))\n",
    "\n",
    "# Rooftop models\n",
    "model_inria_aug_10e = torch.load(str(old_rooftop_models_folder_path / 'inria-aug-10e.pth'), map_location=torch.device(device))\n",
    "model_inria_aug_5e = torch.load(str(old_rooftop_models_folder_path / 'inria-aug-5e.pth'), map_location=torch.device(device))\n",
    "model_inria_raw_10e = torch.load(str(old_rooftop_models_folder_path / 'inria-raw-10e.pth'), map_location=torch.device(device))\n",
    "model_inria_raw_5e = torch.load(str(old_rooftop_models_folder_path / 'inria-raw-5e.pth'), map_location=torch.device(device))\n",
    "\n",
    "model_inria_final = torch.load(str(rooftop_models_folder_path / 'inria-aug-12e.pth'), map_location=torch.device(device))"
   ]
  },
  {
   "cell_type": "markdown",
   "id": "4ac12700",
   "metadata": {},
   "source": [
    "# Testing folder paths"
   ]
  },
  {
   "cell_type": "code",
   "execution_count": 4,
   "id": "6491b68c",
   "metadata": {},
   "outputs": [],
   "source": [
    "rid_test_folder = pathlib.Path('/storage/internal/home/r-pueblas/projects/rooftop-segmentation-datasets/data/RID/output/masks_segments_reviewed/test')\n",
    "rid_test_folder_image = rid_test_folder / 'image'\n",
    "rid_test_folder_label = rid_test_folder / 'label'"
   ]
  },
  {
   "cell_type": "markdown",
   "id": "1fbec73e",
   "metadata": {},
   "source": [
    "# Metrics"
   ]
  },
  {
   "cell_type": "code",
   "execution_count": 5,
   "id": "454756ae",
   "metadata": {},
   "outputs": [],
   "source": [
    "def intersect_and_union(pred_label, label, num_classes, ignore_index):\n",
    "    mask = (label != ignore_index)\n",
    "    pred_label = pred_label[mask]\n",
    "    label = label[mask]\n",
    "\n",
    "    intersect = pred_label[pred_label == label]\n",
    "    area_intersect, _ = np.histogram(\n",
    "        intersect, bins=np.arange(num_classes + 1))\n",
    "    area_pred_label, _ = np.histogram(\n",
    "        pred_label, bins=np.arange(num_classes + 1))\n",
    "    area_label, _ = np.histogram(label, bins=np.arange(num_classes + 1))\n",
    "    area_union = area_pred_label + area_label - area_intersect\n",
    "\n",
    "    return area_intersect, area_union, area_pred_label, area_label\n",
    "\n",
    "def angle_difference(angle_1, angle_2):\n",
    "    a = angle_1 - angle_2\n",
    "    a = (a + 180) % 360 - 180\n",
    "    return a\n",
    "\n",
    "def mean_angle_difference(pred_label, label, num_classes, angles, background_class, ignore_index):\n",
    "    mask = (label != ignore_index)\n",
    "    pred_label = pred_label[mask]\n",
    "    label = label[mask]\n",
    "    \n",
    "    combined_pred_label = (pred_label != background_class).astype('uint8')\n",
    "    combined_label = (label != background_class).astype('uint8')\n",
    "    \n",
    "    # Take those pixels where both images predict a class different than background\n",
    "    pred_label_angles = pred_label[combined_pred_label == combined_label]\n",
    "    pred_label_angles = pred_label_angles[pred_label_angles < len(angles)]\n",
    "    label_angles = label[combined_pred_label == combined_label]\n",
    "    label_angles = label_angles[label_angles < len(angles)]\n",
    "    \n",
    "    \n",
    "    total_diff = 0\n",
    "    for angle_1, angle_2 in zip(np.nditer(pred_label_angles, flags=['zerosize_ok']), np.nditer(label_angles, flags=['zerosize_ok'])):\n",
    "        try:\n",
    "            angle_1, angle_2 = angles[angle_1], angles[angle_2]\n",
    "        except:\n",
    "            print(angle_1, angle_2)\n",
    "        diff = angle_difference(angle_1, angle_2)\n",
    "        total_diff = total_diff + diff\n",
    "    \n",
    "    if pred_label_angles.size == 0:\n",
    "        return None\n",
    "    \n",
    "    mean_diff = total_diff/pred_label_angles.size\n",
    "    \n",
    "    return mean_diff"
   ]
  },
  {
   "cell_type": "markdown",
   "id": "372aa0cf",
   "metadata": {},
   "source": [
    "# Helper functions"
   ]
  },
  {
   "cell_type": "code",
   "execution_count": 6,
   "id": "f6d22c76",
   "metadata": {},
   "outputs": [],
   "source": [
    "def test_model_sections(model, test_folder, num_classes, background_class, ignore_index, num_angles, output=True):\n",
    "    start = time.time()\n",
    "    \n",
    "    test_folder_image = test_folder / 'image'\n",
    "    test_folder_label = test_folder / 'label'\n",
    "\n",
    "    angles = [i * (360/num_angles) for i in range(num_angles)]\n",
    "\n",
    "    total_area_intersect = np.zeros((num_classes, ), dtype=float)\n",
    "    total_area_union = np.zeros((num_classes, ), dtype=float)\n",
    "    total_area_pred_label = np.zeros((num_classes, ), dtype=float)\n",
    "    total_area_label = np.zeros((num_classes, ), dtype=float)\n",
    "    total_angle_difference = 0\n",
    "\n",
    "    for i, filename in enumerate(test_folder_image.glob('*.png')):\n",
    "        image = cv2.imread(str(filename))\n",
    "        label = cv2.imread(str(test_folder_label / filename.name))\n",
    "        label = label[:,:,0]\n",
    "\n",
    "\n",
    "        pred = prediction.segment_img(image, model, tile_size=512, stride=512, background_class=background_class)\n",
    "        corrected_pred = pred.copy()\n",
    "        corrected_pred[pred==0] = (background_class + 1)\n",
    "        corrected_pred = (corrected_pred - 1)\n",
    "\n",
    "        area_intersect, area_union, area_pred_label, area_label = \\\n",
    "                            intersect_and_union(corrected_pred, label, num_classes, ignore_index)\n",
    "        total_area_intersect += area_intersect\n",
    "        total_area_union += area_union\n",
    "        total_area_pred_label += area_pred_label\n",
    "        total_area_label += area_label\n",
    "\n",
    "        mad = mean_angle_difference(corrected_pred, label, num_classes, angles, background_class, ignore_index)\n",
    "        if mad: total_angle_difference += mad\n",
    "\n",
    "        if i<5 and output:\n",
    "            f, axarr = plt.subplots(1,3, figsize=(10, 10))\n",
    "            axarr[0].imshow(image)\n",
    "            axarr[1].imshow(label)\n",
    "            axarr[2].imshow(corrected_pred)\n",
    "            if i==0:\n",
    "                axarr[0].title.set_text('Image')\n",
    "                axarr[1].title.set_text('Ground truth')\n",
    "                axarr[2].title.set_text('model_mix_aug')\n",
    "\n",
    "            plt.subplots_adjust(wspace=0.1, hspace=0.1)\n",
    "            for ax in axarr:\n",
    "                ax.axis('off')\n",
    "            plt.show()\n",
    "\n",
    "        iou = total_area_intersect / total_area_union\n",
    "\n",
    "        if output: print(f'Processed image {filename.stem}, partial mean iou: {np.mean(iou[:-1][~np.isnan(iou[:-1])])}, with background class: {np.mean(iou[~np.isnan(iou)])}, mean angle difference: {mad}')\n",
    "\n",
    "    all_acc = total_area_intersect.sum() / total_area_label.sum()\n",
    "    acc = total_area_intersect / total_area_label\n",
    "    iou = total_area_intersect / total_area_union\n",
    "    mad = total_angle_difference / (i+1)\n",
    "\n",
    "    end = time.time()\n",
    "    elapsed_time = (end - start)\n",
    "\n",
    "    if output:\n",
    "        print('\\n')\n",
    "        print(f'Elapsed time: {elapsed_time} seconds')\n",
    "        print(f'Final IoU per class: {iou}')\n",
    "        print(f'Final mean IoU with background class: {np.mean(iou[~np.isnan(iou)])}')\n",
    "        print(f'Final mean IoU without background class: {np.mean(iou[:-1][~np.isnan(iou[:-1])])}')\n",
    "        print(f'Final mean angle difference: {mad}')\n",
    "\n",
    "    return iou, np.mean(iou[~np.isnan(iou)]), mad, elapsed_time\n",
    "\n",
    "def test_model_twolook(rooftop_model,\n",
    "                       sections_model,\n",
    "                       test_folder,\n",
    "                       num_classes,\n",
    "                       background_class_1,\n",
    "                       background_class_2,\n",
    "                       ignore_index,\n",
    "                       num_angles,\n",
    "                       output=True\n",
    "                      ):\n",
    "    start = time.time()\n",
    "    \n",
    "    test_folder_image = test_folder / 'image'\n",
    "    test_folder_label = test_folder / 'label'\n",
    "\n",
    "    angles = [i * (360/num_angles) for i in range(num_angles)]\n",
    "\n",
    "    total_area_intersect = np.zeros((num_classes, ), dtype=float)\n",
    "    total_area_union = np.zeros((num_classes, ), dtype=float)\n",
    "    total_area_pred_label = np.zeros((num_classes, ), dtype=float)\n",
    "    total_area_label = np.zeros((num_classes, ), dtype=float)\n",
    "    total_angle_difference = 0\n",
    "\n",
    "    for i, filename in enumerate(test_folder_image.glob('*.png')):\n",
    "        image = cv2.imread(str(filename))\n",
    "        label = cv2.imread(str(test_folder_label / filename.name))\n",
    "        label = label[:,:,0]\n",
    "    \n",
    "        roofs = prediction.segment_img(image, rooftop_model, tile_size=512, stride=512, background_class=background_class_1)\n",
    "        filtered = np.ones(image.shape).astype(np.uint8)\n",
    "        idx=(roofs!=0)\n",
    "        filtered[idx] = image[idx]\n",
    "\n",
    "        pred = prediction.segment_img(image, sections_model, tile_size=512, stride=512, background_class=background_class_2)\n",
    "        pred = (pred * idx.astype('uint8'))\n",
    "        corrected_pred = pred.copy()\n",
    "        corrected_pred[pred==0] = (background_class + 1)\n",
    "        corrected_pred = (corrected_pred - 1)\n",
    "\n",
    "        area_intersect, area_union, area_pred_label, area_label = \\\n",
    "                            intersect_and_union(corrected_pred, label, num_classes, ignore_index)\n",
    "        total_area_intersect += area_intersect\n",
    "        total_area_union += area_union\n",
    "        total_area_pred_label += area_pred_label\n",
    "        total_area_label += area_label\n",
    "\n",
    "        mad = mean_angle_difference(corrected_pred, label, num_classes, angles, background_class, ignore_index)\n",
    "        if mad: total_angle_difference += mad\n",
    "\n",
    "        if i<5 and output:\n",
    "            f, axarr = plt.subplots(1,3, figsize=(10, 10))\n",
    "            axarr[0].imshow(image)\n",
    "            axarr[1].imshow(label)\n",
    "            axarr[2].imshow(corrected_pred)\n",
    "            if i==0:\n",
    "                axarr[0].title.set_text('Image')\n",
    "                axarr[1].title.set_text('Ground truth')\n",
    "                axarr[2].title.set_text('model_mix_aug')\n",
    "\n",
    "            plt.subplots_adjust(wspace=0.1, hspace=0.1)\n",
    "            for ax in axarr:\n",
    "                ax.axis('off')\n",
    "            plt.show()\n",
    "\n",
    "        iou = total_area_intersect / total_area_union\n",
    "\n",
    "        if output: print(f'Processed image {filename.stem}, partial mean iou: {np.mean(iou[:-1][~np.isnan(iou[:-1])])}, with background class: {np.mean(iou[~np.isnan(iou)])}, mean angle difference: {mad}')\n",
    "\n",
    "    all_acc = total_area_intersect.sum() / total_area_label.sum()\n",
    "    acc = total_area_intersect / total_area_label\n",
    "    iou = total_area_intersect / total_area_union\n",
    "    mad = total_angle_difference / (i+1)\n",
    "\n",
    "    end = time.time()\n",
    "    elapsed_time = (end - start)\n",
    "\n",
    "    if output:\n",
    "        print('\\n')\n",
    "        print(f'Elapsed time: {elapsed_time} seconds')\n",
    "        print(f'Final IoU per class: {iou}')\n",
    "        print(f'Final mean IoU with background class: {np.mean(iou[~np.isnan(iou)])}')\n",
    "        print(f'Final mean IoU without background class: {np.mean(iou[:-1][~np.isnan(iou[:-1])])}')\n",
    "        print(f'Final mean angle difference: {mad}')\n",
    "\n",
    "    return iou, np.mean(iou[~np.isnan(iou)]), mad, elapsed_time"
   ]
  },
  {
   "cell_type": "markdown",
   "id": "f3df04f4",
   "metadata": {},
   "source": [
    "# Results"
   ]
  },
  {
   "cell_type": "code",
   "execution_count": 7,
   "id": "bef9492c",
   "metadata": {},
   "outputs": [],
   "source": [
    "num_classes = 18\n",
    "background_class = 17\n",
    "ignore_index = -1\n",
    "num_angles = 16"
   ]
  },
  {
   "cell_type": "code",
   "execution_count": 8,
   "id": "e24083ab",
   "metadata": {},
   "outputs": [
    {
     "name": "stdout",
     "output_type": "stream",
     "text": [
      "Testing model <model_mix_val19>...\n"
     ]
    },
    {
     "name": "stderr",
     "output_type": "stream",
     "text": [
      "/tmp/ipykernel_1140505/2685243659.py:51: RuntimeWarning: invalid value encountered in true_divide\n",
      "  iou = total_area_intersect / total_area_union\n"
     ]
    },
    {
     "name": "stdout",
     "output_type": "stream",
     "text": [
      "Mean IoU: 0.7531550469150653\n",
      "Mean angle difference: -16.20632294923284 degrees\n",
      "IoU per class: [0.78116735 0.76174636 0.79028055 0.80619657 0.72820372 0.52545848\n",
      " 0.79072146 0.85061293 0.77119467 0.74014625 0.76397483 0.78482187\n",
      " 0.68648253 0.40424874 0.78336129 0.84851556 0.77181501 0.96784266]\n",
      "Elapsed time: 107.83455848693848 seconds.\n"
     ]
    }
   ],
   "source": [
    "print(f'Testing model <model_mix_val19>...')\n",
    "\n",
    "iou, mean_iou, mad, elapsed_time = test_model_sections(model_mix_val19, rid_test_folder, num_classes, background_class, ignore_index, num_angles, output=False)\n",
    "\n",
    "print(f'Mean IoU: {mean_iou}')\n",
    "print(f'Mean angle difference: {mad} degrees')\n",
    "print(f'IoU per class: {iou}')\n",
    "print(f'Elapsed time: {elapsed_time} seconds.')"
   ]
  },
  {
   "cell_type": "code",
   "execution_count": 9,
   "id": "a12342d4",
   "metadata": {},
   "outputs": [
    {
     "name": "stdout",
     "output_type": "stream",
     "text": [
      "Testing model <model_mix_val20>...\n"
     ]
    },
    {
     "name": "stderr",
     "output_type": "stream",
     "text": [
      "/tmp/ipykernel_1140505/2685243659.py:51: RuntimeWarning: invalid value encountered in true_divide\n",
      "  iou = total_area_intersect / total_area_union\n"
     ]
    },
    {
     "name": "stdout",
     "output_type": "stream",
     "text": [
      "Mean IoU: 0.7370236573213111\n",
      "Mean angle difference: -19.23266528621342 degrees\n",
      "IoU per class: [0.75137555 0.70920686 0.75579015 0.79440881 0.69300843 0.53895328\n",
      " 0.7634351  0.83479137 0.75448043 0.69859614 0.74017477 0.76892078\n",
      " 0.64401693 0.53240474 0.76168433 0.84211886 0.72107065 0.96198864]\n",
      "Elapsed time: 108.07276153564453 seconds.\n"
     ]
    }
   ],
   "source": [
    "print(f'Testing model <model_mix_val20>...')\n",
    "\n",
    "iou, mean_iou, mad, elapsed_time = test_model_sections(model_mix_val20, rid_test_folder, num_classes, background_class, ignore_index, num_angles, output=False)\n",
    "\n",
    "print(f'Mean IoU: {mean_iou}')\n",
    "print(f'Mean angle difference: {mad} degrees')\n",
    "print(f'IoU per class: {iou}')\n",
    "print(f'Elapsed time: {elapsed_time} seconds.')"
   ]
  },
  {
   "cell_type": "code",
   "execution_count": 10,
   "id": "b69cfbc3",
   "metadata": {},
   "outputs": [
    {
     "name": "stdout",
     "output_type": "stream",
     "text": [
      "Testing model <model_z19>...\n"
     ]
    },
    {
     "name": "stderr",
     "output_type": "stream",
     "text": [
      "/tmp/ipykernel_1140505/2685243659.py:51: RuntimeWarning: invalid value encountered in true_divide\n",
      "  iou = total_area_intersect / total_area_union\n"
     ]
    },
    {
     "name": "stdout",
     "output_type": "stream",
     "text": [
      "Mean IoU: 0.29095039853222926\n",
      "Mean angle difference: -34.80088528666459 degrees\n",
      "IoU per class: [0.31972888 0.25757975 0.35950387 0.38204281 0.25422465 0.\n",
      " 0.33697394 0.35677739 0.23408792 0.17436191 0.28232727 0.31734373\n",
      " 0.15935428 0.         0.22382398 0.5144346  0.17393821 0.89060399]\n",
      "Elapsed time: 103.58703684806824 seconds.\n"
     ]
    }
   ],
   "source": [
    "print(f'Testing model <model_z19>...')\n",
    "\n",
    "iou, mean_iou, mad, elapsed_time = test_model_sections(model_z19, rid_test_folder, num_classes, background_class, ignore_index, num_angles, output=False)\n",
    "\n",
    "print(f'Mean IoU: {mean_iou}')\n",
    "print(f'Mean angle difference: {mad} degrees')\n",
    "print(f'IoU per class: {iou}')\n",
    "print(f'Elapsed time: {elapsed_time} seconds.')"
   ]
  },
  {
   "cell_type": "code",
   "execution_count": 11,
   "id": "7f9a7b2a",
   "metadata": {},
   "outputs": [
    {
     "name": "stdout",
     "output_type": "stream",
     "text": [
      "Testing model <model_z19_aug>...\n"
     ]
    },
    {
     "name": "stderr",
     "output_type": "stream",
     "text": [
      "/tmp/ipykernel_1140505/2685243659.py:51: RuntimeWarning: invalid value encountered in true_divide\n",
      "  iou = total_area_intersect / total_area_union\n"
     ]
    },
    {
     "name": "stdout",
     "output_type": "stream",
     "text": [
      "Mean IoU: 0.2775709675686454\n",
      "Mean angle difference: -33.49447935622619 degrees\n",
      "IoU per class: [0.24660646 0.20049536 0.21967683 0.39833762 0.18164558 0.07646138\n",
      " 0.28118077 0.30696202 0.26478893 0.09655301 0.23620125 0.37077178\n",
      " 0.27741331 0.1091352  0.2653397  0.42057707 0.13376918 0.91036197]\n",
      "Elapsed time: 105.55283403396606 seconds.\n"
     ]
    }
   ],
   "source": [
    "print(f'Testing model <model_z19_aug>...')\n",
    "\n",
    "iou, mean_iou, mad, elapsed_time = test_model_sections(model_z19_aug, rid_test_folder, num_classes, background_class, ignore_index, num_angles, output=False)\n",
    "\n",
    "print(f'Mean IoU: {mean_iou}')\n",
    "print(f'Mean angle difference: {mad} degrees')\n",
    "print(f'IoU per class: {iou}')\n",
    "print(f'Elapsed time: {elapsed_time} seconds.')"
   ]
  },
  {
   "cell_type": "code",
   "execution_count": 12,
   "id": "f5e028c2",
   "metadata": {},
   "outputs": [
    {
     "name": "stdout",
     "output_type": "stream",
     "text": [
      "Testing model <model_z20>...\n"
     ]
    },
    {
     "name": "stderr",
     "output_type": "stream",
     "text": [
      "/tmp/ipykernel_1140505/2685243659.py:51: RuntimeWarning: invalid value encountered in true_divide\n",
      "  iou = total_area_intersect / total_area_union\n"
     ]
    },
    {
     "name": "stdout",
     "output_type": "stream",
     "text": [
      "Mean IoU: 0.5991257021727997\n",
      "Mean angle difference: -22.79417140563867 degrees\n",
      "IoU per class: [6.70385108e-01 6.61281449e-01 6.76535406e-01 7.04346860e-01\n",
      " 5.91729080e-01 5.04183359e-04 6.50657675e-01 7.84066825e-01\n",
      " 7.10502856e-01 6.70045759e-01 5.48333005e-01 6.39731292e-01\n",
      " 4.39837558e-01 1.55038760e-03 6.39690629e-01 8.00009124e-01\n",
      " 6.39724742e-01 9.55330697e-01]\n",
      "Elapsed time: 106.69056487083435 seconds.\n"
     ]
    }
   ],
   "source": [
    "print(f'Testing model <model_z20>...')\n",
    "\n",
    "iou, mean_iou, mad, elapsed_time = test_model_sections(model_z20, rid_test_folder, num_classes, background_class, ignore_index, num_angles, output=False)\n",
    "\n",
    "print(f'Mean IoU: {mean_iou}')\n",
    "print(f'Mean angle difference: {mad} degrees')\n",
    "print(f'IoU per class: {iou}')\n",
    "print(f'Elapsed time: {elapsed_time} seconds.')"
   ]
  },
  {
   "cell_type": "code",
   "execution_count": 13,
   "id": "2e478e8d",
   "metadata": {},
   "outputs": [
    {
     "name": "stdout",
     "output_type": "stream",
     "text": [
      "Testing model <model_z20_aug>...\n"
     ]
    },
    {
     "name": "stderr",
     "output_type": "stream",
     "text": [
      "/tmp/ipykernel_1140505/2685243659.py:51: RuntimeWarning: invalid value encountered in true_divide\n",
      "  iou = total_area_intersect / total_area_union\n"
     ]
    },
    {
     "name": "stdout",
     "output_type": "stream",
     "text": [
      "Mean IoU: 0.6648623734806555\n",
      "Mean angle difference: -19.35116549581229 degrees\n",
      "IoU per class: [0.62784522 0.62094736 0.72869829 0.74257018 0.64615709 0.44658038\n",
      " 0.71264627 0.79118717 0.67881782 0.65064636 0.65273251 0.68185944\n",
      " 0.59223605 0.31503747 0.6765217  0.78625277 0.6582319  0.95855475]\n",
      "Elapsed time: 111.7129328250885 seconds.\n"
     ]
    }
   ],
   "source": [
    "print(f'Testing model <model_z20_aug>...')\n",
    "\n",
    "iou, mean_iou, mad, elapsed_time = test_model_sections(model_z20_aug, rid_test_folder, num_classes, background_class, ignore_index, num_angles, output=False)\n",
    "\n",
    "print(f'Mean IoU: {mean_iou}')\n",
    "print(f'Mean angle difference: {mad} degrees')\n",
    "print(f'IoU per class: {iou}')\n",
    "print(f'Elapsed time: {elapsed_time} seconds.')"
   ]
  },
  {
   "cell_type": "code",
   "execution_count": 14,
   "id": "ce92b5c7",
   "metadata": {},
   "outputs": [
    {
     "name": "stdout",
     "output_type": "stream",
     "text": [
      "Testing final model 15e...\n"
     ]
    },
    {
     "name": "stderr",
     "output_type": "stream",
     "text": [
      "/tmp/ipykernel_1140505/2685243659.py:51: RuntimeWarning: invalid value encountered in true_divide\n",
      "  iou = total_area_intersect / total_area_union\n"
     ]
    },
    {
     "name": "stdout",
     "output_type": "stream",
     "text": [
      "Mean IoU: 0.7449636786526191\n",
      "Mean angle difference: -19.80071245771624 degrees\n",
      "IoU per class: [0.78150966 0.73894543 0.76224772 0.77727093 0.67690572 0.56287627\n",
      " 0.78497262 0.82674726 0.75354502 0.769772   0.73204784 0.75426419\n",
      " 0.63378885 0.57655613 0.77422399 0.85148127 0.68616565 0.96602566]\n",
      "Elapsed time: 111.2344319820404 seconds.\n"
     ]
    }
   ],
   "source": [
    "print(f'Testing final model 15e...')\n",
    "\n",
    "iou, mean_iou, mad, elapsed_time = test_model_sections(model_final_15e, rid_test_folder, num_classes, background_class, ignore_index, num_angles, output=False)\n",
    "\n",
    "print(f'Mean IoU: {mean_iou}')\n",
    "print(f'Mean angle difference: {mad} degrees')\n",
    "print(f'IoU per class: {iou}')\n",
    "print(f'Elapsed time: {elapsed_time} seconds.')"
   ]
  },
  {
   "cell_type": "code",
   "execution_count": 15,
   "id": "40c18243",
   "metadata": {},
   "outputs": [
    {
     "name": "stdout",
     "output_type": "stream",
     "text": [
      "Testing final model 20e...\n"
     ]
    },
    {
     "name": "stderr",
     "output_type": "stream",
     "text": [
      "/tmp/ipykernel_1140505/2685243659.py:51: RuntimeWarning: invalid value encountered in true_divide\n",
      "  iou = total_area_intersect / total_area_union\n"
     ]
    },
    {
     "name": "stdout",
     "output_type": "stream",
     "text": [
      "Mean IoU: 0.7571766910976859\n",
      "Mean angle difference: -18.806027078842952 degrees\n",
      "IoU per class: [0.80386871 0.75151592 0.76568914 0.78167991 0.72114683 0.58731749\n",
      " 0.76736326 0.82616233 0.78099505 0.7695172  0.75503133 0.75929833\n",
      " 0.6352617  0.61415266 0.78648318 0.85351961 0.70210223 0.96807557]\n",
      "Elapsed time: 114.07526326179504 seconds.\n"
     ]
    }
   ],
   "source": [
    "print(f'Testing final model 20e...')\n",
    "\n",
    "iou, mean_iou, mad, elapsed_time = test_model_sections(model_final_20e, rid_test_folder, num_classes, background_class, ignore_index, num_angles, output=False)\n",
    "\n",
    "print(f'Mean IoU: {mean_iou}')\n",
    "print(f'Mean angle difference: {mad} degrees')\n",
    "print(f'IoU per class: {iou}')\n",
    "print(f'Elapsed time: {elapsed_time} seconds.')"
   ]
  },
  {
   "cell_type": "markdown",
   "id": "2c757039",
   "metadata": {},
   "source": [
    "# Two-look"
   ]
  },
  {
   "cell_type": "code",
   "execution_count": 16,
   "id": "bff22571",
   "metadata": {},
   "outputs": [],
   "source": [
    "num_classes = 18\n",
    "background_class_1 = 0\n",
    "background_class_2 = 17\n",
    "ignore_index = -1\n",
    "num_angles = 16"
   ]
  },
  {
   "cell_type": "code",
   "execution_count": 17,
   "id": "1f5d058d",
   "metadata": {},
   "outputs": [
    {
     "name": "stdout",
     "output_type": "stream",
     "text": [
      "Testing two look models 0 and 0...\n"
     ]
    },
    {
     "name": "stderr",
     "output_type": "stream",
     "text": [
      "/tmp/ipykernel_1140505/2685243659.py:137: RuntimeWarning: invalid value encountered in true_divide\n",
      "  iou = total_area_intersect / total_area_union\n"
     ]
    },
    {
     "name": "stdout",
     "output_type": "stream",
     "text": [
      "Mean IoU: 0.26696221997879727\n",
      "Mean angle difference: -33.09293577423933 degrees\n",
      "IoU per class: [0.30642311 0.20741646 0.28318447 0.33894485 0.24524194 0.\n",
      " 0.32504005 0.33893222 0.23159731 0.15094721 0.26593196 0.26076799\n",
      " 0.15564965 0.         0.19006948 0.45716616 0.17133753 0.87666958]\n",
      "Elapsed time: 210.96485543251038 seconds.\n",
      "Testing two look models 0 and 1...\n",
      "Mean IoU: 0.25647552690459274\n",
      "Mean angle difference: -32.989920048690756 degrees\n",
      "IoU per class: [0.2491687  0.16562766 0.15606805 0.35742113 0.17799359 0.08129984\n",
      " 0.26971295 0.28990539 0.26056528 0.08711743 0.21843739 0.31255403\n",
      " 0.2693928  0.11100631 0.22090596 0.37458904 0.12291191 0.89188204]\n",
      "Elapsed time: 210.51386833190918 seconds.\n",
      "Testing two look models 0 and 2...\n",
      "Mean IoU: 0.5206330263494122\n",
      "Mean angle difference: -20.06530146589305 degrees\n",
      "IoU per class: [6.46576092e-01 5.49741803e-01 4.72902963e-01 5.97125272e-01\n",
      " 5.53149456e-01 4.90556782e-04 6.06738715e-01 7.02435398e-01\n",
      " 6.77172331e-01 6.15486009e-01 4.40413810e-01 4.83336406e-01\n",
      " 4.08977139e-01 1.55061197e-03 4.69795729e-01 6.80513149e-01\n",
      " 5.45903503e-01 9.19085531e-01]\n",
      "Elapsed time: 211.2958300113678 seconds.\n",
      "Testing two look models 0 and 3...\n",
      "Mean IoU: 0.574269343196044\n",
      "Mean angle difference: -17.414295067008705 degrees\n",
      "IoU per class: [0.60603087 0.52080792 0.49974477 0.61862767 0.59830131 0.40844755\n",
      " 0.65233776 0.69971083 0.64317853 0.59432983 0.53363068 0.515389\n",
      " 0.52325758 0.28373603 0.49801517 0.67179284 0.54897664 0.92053319]\n",
      "Elapsed time: 206.94401240348816 seconds.\n",
      "Testing two look models 0 and 4...\n",
      "Mean IoU: 0.6378333741204106\n",
      "Mean angle difference: -13.757211834227029 degrees\n",
      "IoU per class: [0.71981873 0.61631928 0.52799606 0.6617039  0.66733128 0.49375151\n",
      " 0.70669862 0.74304708 0.72768206 0.66617306 0.61618383 0.58573139\n",
      " 0.60000203 0.33346841 0.56138729 0.70644149 0.62312904 0.92413569]\n",
      "Elapsed time: 206.59333276748657 seconds.\n",
      "Testing two look models 0 and 5...\n",
      "Mean IoU: 0.6358542855471347\n",
      "Mean angle difference: -18.227177866915074 degrees\n",
      "IoU per class: [0.7001543  0.5711301  0.51384144 0.65162483 0.64603904 0.52022073\n",
      " 0.69509721 0.73457054 0.72120388 0.65184878 0.59679047 0.57090025\n",
      " 0.5630214  0.51913913 0.54688046 0.6997809  0.62067237 0.92246134]\n",
      "Elapsed time: 205.79273962974548 seconds.\n",
      "Testing two look models 0 and 6...\n",
      "Mean IoU: 0.634423342601979\n",
      "Mean angle difference: -17.1811215682328 degrees\n",
      "IoU per class: [0.71719469 0.58351852 0.51709577 0.64409281 0.61464038 0.51733814\n",
      " 0.70023762 0.7240732  0.71219557 0.68990733 0.5976137  0.57072415\n",
      " 0.5699131  0.51216296 0.55869473 0.7073305  0.55998512 0.92290189]\n",
      "Elapsed time: 210.13583636283875 seconds.\n",
      "Testing two look models 0 and 7...\n",
      "Mean IoU: 0.6411764069730057\n",
      "Mean angle difference: -16.778742175047267 degrees\n",
      "IoU per class: [0.73517907 0.6041737  0.51005219 0.64240234 0.65940658 0.50840679\n",
      " 0.67794838 0.72616842 0.73362726 0.69047669 0.60619041 0.57027485\n",
      " 0.56282388 0.54932601 0.56395278 0.70808678 0.5693498  0.92332941]\n",
      "Elapsed time: 209.11912655830383 seconds.\n",
      "Testing two look models 1 and 0...\n",
      "Mean IoU: 0.26988306067962875\n",
      "Mean angle difference: -33.63830288891361 degrees\n",
      "IoU per class: [0.3145776  0.23352889 0.27221283 0.35686694 0.24381857 0.\n",
      " 0.31311919 0.33859366 0.23276871 0.17071735 0.27036172 0.28295261\n",
      " 0.15718248 0.         0.18197546 0.44537196 0.16722544 0.87662169]\n",
      "Elapsed time: 213.57740473747253 seconds.\n",
      "Testing two look models 1 and 1...\n",
      "Mean IoU: 0.2620816914510321\n",
      "Mean angle difference: -32.774920516823165 degrees\n",
      "IoU per class: [0.25382764 0.19082359 0.16309464 0.38483666 0.18034958 0.08185118\n",
      " 0.268446   0.28573296 0.26264166 0.09036098 0.22461277 0.34113164\n",
      " 0.27043306 0.10941622 0.22319362 0.37200052 0.12178713 0.89293057]\n",
      "Elapsed time: 209.94314408302307 seconds.\n",
      "Testing two look models 1 and 2...\n",
      "Mean IoU: 0.5283150881623208\n",
      "Mean angle difference: -21.566281455765377 degrees\n",
      "IoU per class: [6.56754050e-01 6.11757388e-01 4.67654963e-01 6.46203433e-01\n",
      " 5.53091676e-01 5.04183359e-04 5.88117541e-01 6.88940989e-01\n",
      " 6.78914462e-01 6.33943825e-01 4.54223620e-01 5.30675257e-01\n",
      " 4.19836192e-01 1.55061197e-03 4.57545926e-01 6.87361635e-01\n",
      " 5.11388209e-01 9.21207625e-01]\n",
      "Elapsed time: 210.773756980896 seconds.\n",
      "Testing two look models 1 and 3...\n",
      "Mean IoU: 0.5807586532159398\n",
      "Mean angle difference: -18.601597798668003 degrees\n",
      "IoU per class: [0.61740142 0.57082175 0.49363352 0.67143489 0.60319141 0.40107969\n",
      " 0.63379056 0.68741542 0.64397969 0.61186987 0.55176543 0.56089112\n",
      " 0.54560292 0.25548269 0.48251479 0.67479202 0.52497719 0.92301138]\n",
      "Elapsed time: 210.59615778923035 seconds.\n",
      "Testing two look models 1 and 4...\n",
      "Mean IoU: 0.650420196814671\n",
      "Mean angle difference: -15.379206916688805 degrees\n",
      "IoU per class: [0.7385203  0.68453334 0.52565088 0.72118352 0.67530734 0.48106298\n",
      " 0.69389538 0.73462227 0.72970377 0.69876972 0.63590715 0.64050185\n",
      " 0.62638958 0.32920354 0.55005577 0.71299109 0.6016901  0.92757496]\n",
      "Elapsed time: 207.00428652763367 seconds.\n",
      "Testing two look models 1 and 5...\n",
      "Mean IoU: 0.6481623290423555\n",
      "Mean angle difference: -17.734457050541234 degrees\n",
      "IoU per class: [0.71566637 0.63482359 0.50732986 0.70988929 0.65164878 0.51085057\n",
      " 0.68052945 0.72561991 0.72097    0.68330859 0.62292461 0.62795496\n",
      " 0.58497156 0.51459793 0.5371659  0.70901957 0.60379521 0.92585578]\n",
      "Elapsed time: 208.71469354629517 seconds.\n",
      "Testing two look models 1 and 6...\n",
      "Mean IoU: 0.6491267365351623\n",
      "Mean angle difference: -17.964917543246095 degrees\n",
      "IoU per class: [0.74006246 0.65754447 0.50768998 0.70215501 0.62162137 0.52210794\n",
      " 0.68453841 0.71743174 0.71220306 0.73096497 0.61989269 0.62860927\n",
      " 0.58396334 0.516164   0.55083083 0.71630223 0.54594287 0.92625662]\n",
      "Elapsed time: 209.5425238609314 seconds.\n",
      "Testing two look models 1 and 7...\n",
      "Mean IoU: 0.6575870562175274\n",
      "Mean angle difference: -17.105376340899518 degrees\n",
      "IoU per class: [0.75738957 0.67873695 0.51067655 0.70500075 0.6666058  0.51868707\n",
      " 0.66431331 0.71930575 0.73277783 0.72270421 0.63084085 0.62995848\n",
      " 0.58384923 0.54965521 0.55962538 0.71743078 0.56197197 0.92703733]\n",
      "Elapsed time: 207.29703330993652 seconds.\n",
      "Testing two look models 2 and 0...\n",
      "Mean IoU: 0.2616819207851183\n",
      "Mean angle difference: -31.49933060387279 degrees\n",
      "IoU per class: [0.30929124 0.23394428 0.25757289 0.33981115 0.2431802  0.\n",
      " 0.30751159 0.32348529 0.23125046 0.16273893 0.23364133 0.25804925\n",
      " 0.15881156 0.         0.18882122 0.4540742  0.13631778 0.8717732 ]\n",
      "Elapsed time: 209.76743602752686 seconds.\n",
      "Testing two look models 2 and 1...\n",
      "Mean IoU: 0.25367201679948587\n",
      "Mean angle difference: -31.973167372760074 degrees\n",
      "IoU per class: [0.26093421 0.17904153 0.13997436 0.36436276 0.17836075 0.07689385\n",
      " 0.25499613 0.27373939 0.2658288  0.0880577  0.19430287 0.31216871\n",
      " 0.26976738 0.11846159 0.2232801  0.37138087 0.10853328 0.88601203]\n",
      "Elapsed time: 212.87732315063477 seconds.\n",
      "Testing two look models 2 and 2...\n",
      "Mean IoU: 0.509507006790701\n",
      "Mean angle difference: -19.551164563667648 degrees\n",
      "IoU per class: [6.48873976e-01 5.83437675e-01 4.48632939e-01 5.94476860e-01\n",
      " 5.37945489e-01 5.04183359e-04 5.85769779e-01 6.69281609e-01\n",
      " 6.80320116e-01 6.00645487e-01 4.03137379e-01 4.75900063e-01\n",
      " 4.01387840e-01 1.55061197e-03 4.72945078e-01 6.74335112e-01\n",
      " 4.79475451e-01 9.12506473e-01]\n",
      "Elapsed time: 202.94997239112854 seconds.\n",
      "Testing two look models 2 and 3...\n",
      "Mean IoU: 0.5651659100938228\n",
      "Mean angle difference: -16.91985511192415 degrees\n",
      "IoU per class: [0.62337201 0.55333646 0.47571778 0.61563374 0.59226681 0.42510945\n",
      " 0.62181935 0.66519019 0.64668087 0.57267415 0.49315504 0.50634917\n",
      " 0.51290988 0.2933686  0.50537961 0.66701475 0.48888874 0.91411978]\n",
      "Elapsed time: 204.10053277015686 seconds.\n",
      "Testing two look models 2 and 4...\n",
      "Mean IoU: 0.6252484399570233\n",
      "Mean angle difference: -14.133982000100035 degrees\n",
      "IoU per class: [0.74070017 0.65372614 0.49860546 0.6596921  0.65707977 0.49951449\n",
      " 0.66979193 0.70928157 0.72580176 0.64662207 0.55748074 0.57930595\n",
      " 0.59079046 0.33006189 0.56476272 0.70204315 0.55156252 0.91764903]\n",
      "Elapsed time: 206.04812860488892 seconds.\n",
      "Testing two look models 2 and 5...\n",
      "Mean IoU: 0.6292466664086684\n",
      "Mean angle difference: -16.446584199395186 degrees\n",
      "IoU per class: [0.72557926 0.62544635 0.48801734 0.64878852 0.63869605 0.54766192\n",
      " 0.66018564 0.70322517 0.72923349 0.64835226 0.54636969 0.56499088\n",
      " 0.55702461 0.5125288  0.55539709 0.69853771 0.55950159 0.91690363]\n",
      "Elapsed time: 205.79217433929443 seconds.\n",
      "Testing two look models 2 and 6...\n"
     ]
    },
    {
     "name": "stdout",
     "output_type": "stream",
     "text": [
      "Mean IoU: 0.6223908630622019\n",
      "Mean angle difference: -17.128361629537313 degrees\n",
      "IoU per class: [0.73701181 0.63463708 0.48884699 0.63971773 0.60153827 0.51792756\n",
      " 0.66265898 0.69222353 0.70989643 0.67708409 0.55107957 0.56656425\n",
      " 0.56654001 0.47556081 0.56814691 0.70449286 0.49253831 0.91657031]\n",
      "Elapsed time: 190.94991874694824 seconds.\n",
      "Testing two look models 2 and 7...\n",
      "Mean IoU: 0.6299766405037781\n",
      "Mean angle difference: -15.441669618148067 degrees\n",
      "IoU per class: [0.75367708 0.65553548 0.48212441 0.63970711 0.64461449 0.51034665\n",
      " 0.6478836  0.69640537 0.730504   0.67521945 0.549001   0.56927156\n",
      " 0.56093644 0.52664975 0.57705525 0.70595159 0.4974967  0.91719959]\n",
      "Elapsed time: 183.17828965187073 seconds.\n",
      "Testing two look models 3 and 0...\n",
      "Mean IoU: 0.26304861373064026\n",
      "Mean angle difference: -33.09743230566523 degrees\n",
      "IoU per class: [0.30952276 0.20101838 0.29444079 0.33982867 0.24795968 0.\n",
      " 0.28729996 0.32490321 0.21936457 0.16235237 0.27567731 0.2826684\n",
      " 0.15609992 0.         0.18920989 0.431494   0.1416515  0.87138365]\n",
      "Elapsed time: 175.28238439559937 seconds.\n",
      "Testing two look models 3 and 1...\n",
      "Mean IoU: 0.26049005236401046\n",
      "Mean angle difference: -33.815123473152894 degrees\n",
      "IoU per class: [0.26199347 0.19303576 0.18486112 0.37226107 0.18140101 0.0808759\n",
      " 0.25257624 0.2751703  0.25035464 0.09251279 0.23102765 0.34273363\n",
      " 0.2607713  0.11516435 0.23057293 0.36130223 0.11424159 0.88796497]\n",
      "Elapsed time: 177.92121171951294 seconds.\n",
      "Testing two look models 3 and 2...\n",
      "Mean IoU: 0.5198213611628797\n",
      "Mean angle difference: -20.42108481142895 degrees\n",
      "IoU per class: [6.37861743e-01 5.52870235e-01 5.28879448e-01 6.20116157e-01\n",
      " 5.50681948e-01 5.04183359e-04 5.62255090e-01 6.70728224e-01\n",
      " 6.49937692e-01 6.09917017e-01 4.83468351e-01 5.41414611e-01\n",
      " 4.10189831e-01 1.07509097e-03 4.84593811e-01 6.59951635e-01\n",
      " 4.76313129e-01 9.16026305e-01]\n",
      "Elapsed time: 179.07933044433594 seconds.\n",
      "Testing two look models 3 and 3...\n",
      "Mean IoU: 0.5728883920722433\n",
      "Mean angle difference: -17.891270208803817 degrees\n",
      "IoU per class: [0.61053321 0.51880762 0.54849284 0.64405472 0.59885379 0.38336228\n",
      " 0.60268365 0.66930438 0.61774077 0.5905145  0.583213   0.57107269\n",
      " 0.5269881  0.28600392 0.500268   0.64746287 0.49470816 0.91792656]\n",
      "Elapsed time: 174.34086513519287 seconds.\n",
      "Testing two look models 3 and 4...\n",
      "Mean IoU: 0.6373958720409031\n",
      "Mean angle difference: -13.820960491152318 degrees\n",
      "IoU per class: [0.7225209  0.61882169 0.58453749 0.69022383 0.66663791 0.44758401\n",
      " 0.65007477 0.71280848 0.69581212 0.66295369 0.66724569 0.65053193\n",
      " 0.60988456 0.35878024 0.56912871 0.68111615 0.56240912 0.9220544 ]\n",
      "Elapsed time: 185.9875602722168 seconds.\n",
      "Testing two look models 3 and 5...\n",
      "Mean IoU: 0.6389844569029643\n",
      "Mean angle difference: -17.455559191789824 degrees\n",
      "IoU per class: [0.7072488  0.56867844 0.57174095 0.68107442 0.64719007 0.48671711\n",
      " 0.6466821  0.70736484 0.69368075 0.66573772 0.65305085 0.63887708\n",
      " 0.56337428 0.53820321 0.55594243 0.6806211  0.57417415 0.92136192]\n",
      "Elapsed time: 200.25348448753357 seconds.\n",
      "Testing two look models 3 and 6...\n",
      "Mean IoU: 0.6366129352429134\n",
      "Mean angle difference: -16.49279231517062 degrees\n",
      "IoU per class: [0.72246079 0.59330623 0.5762931  0.67300899 0.60761333 0.47450049\n",
      " 0.65611654 0.70273757 0.68103595 0.6923654  0.64882385 0.63822226\n",
      " 0.56359309 0.53345595 0.57792788 0.69002881 0.50665253 0.92089007]\n",
      "Elapsed time: 202.93053340911865 seconds.\n",
      "Testing two look models 3 and 7...\n",
      "Mean IoU: 0.6448365093066778\n",
      "Mean angle difference: -16.56570784688651 degrees\n",
      "IoU per class: [0.73530987 0.61474639 0.57418588 0.67521078 0.65710289 0.47690706\n",
      " 0.64602142 0.70410589 0.69555124 0.6912418  0.65875671 0.63961551\n",
      " 0.55980226 0.56788174 0.58829901 0.68897371 0.51176511 0.92157991]\n",
      "Elapsed time: 196.88963079452515 seconds.\n",
      "Testing two look models 4 and 0...\n",
      "Mean IoU: 0.2678388376635906\n",
      "Mean angle difference: -33.02019335290467 degrees\n",
      "IoU per class: [0.31252131 0.20890486 0.31121989 0.33412297 0.25133784 0.\n",
      " 0.32616135 0.32544431 0.22226985 0.16949145 0.2648101  0.26636483\n",
      " 0.15763545 0.         0.18932817 0.44543482 0.16174234 0.87430953]\n",
      "Elapsed time: 199.83130478858948 seconds.\n",
      "Testing two look models 4 and 1...\n",
      "Mean IoU: 0.2605914275188439\n",
      "Mean angle difference: -32.88279691006609 degrees\n",
      "IoU per class: [0.26101647 0.18577959 0.18037878 0.36315596 0.18264565 0.08283454\n",
      " 0.26740229 0.27628006 0.25769321 0.09033939 0.21443001 0.32952271\n",
      " 0.27678146 0.10357326 0.23520963 0.3725698  0.12070475 0.89032813]\n",
      "Elapsed time: 197.0596272945404 seconds.\n",
      "Testing two look models 4 and 2...\n",
      "Mean IoU: 0.5299555632267692\n",
      "Mean angle difference: -20.803645318003113 degrees\n",
      "IoU per class: [6.54756034e-01 5.68200419e-01 5.53267517e-01 6.12500177e-01\n",
      " 5.66710728e-01 0.00000000e+00 6.07239538e-01 6.64023281e-01\n",
      " 6.71825086e-01 6.09595484e-01 4.64976214e-01 5.17930447e-01\n",
      " 4.26752487e-01 2.06748263e-04 4.94005589e-01 6.79942704e-01\n",
      " 5.27030656e-01 9.20237028e-01]\n",
      "Elapsed time: 199.45508551597595 seconds.\n",
      "Testing two look models 4 and 3...\n",
      "Mean IoU: 0.5778189871238285\n",
      "Mean angle difference: -18.778653408327223 degrees\n",
      "IoU per class: [0.62478777 0.51283243 0.57987829 0.63937367 0.61651327 0.33570226\n",
      " 0.64833291 0.66111254 0.63691683 0.59240985 0.56283014 0.54975708\n",
      " 0.55604078 0.23278575 0.51969901 0.66714996 0.54238487 0.92223437]\n",
      "Elapsed time: 202.2022750377655 seconds.\n",
      "Testing two look models 4 and 4...\n",
      "Mean IoU: 0.6461163652542422\n",
      "Mean angle difference: -14.843728470676677 degrees\n",
      "IoU per class: [0.75060238 0.62555677 0.61964007 0.6868473  0.68824101 0.41406776\n",
      " 0.70277526 0.70760805 0.7161967  0.66468339 0.64562218 0.62327198\n",
      " 0.64155206 0.29805456 0.5922837  0.70770789 0.61864192 0.92674161]\n",
      "Elapsed time: 199.18902945518494 seconds.\n",
      "Testing two look models 4 and 5...\n",
      "Mean IoU: 0.6453246737829684\n",
      "Mean angle difference: -18.006743026231266 degrees\n",
      "IoU per class: [0.72951967 0.57900282 0.60097644 0.67755124 0.66771917 0.46012098\n",
      " 0.68883718 0.70010385 0.71484368 0.66502031 0.62962756 0.6119523\n",
      " 0.59456784 0.45207903 0.58451311 0.70489405 0.62848764 0.92602725]\n",
      "Elapsed time: 208.01788330078125 seconds.\n",
      "Testing two look models 4 and 6...\n",
      "Mean IoU: 0.6398591144869603\n",
      "Mean angle difference: -18.142003446658837 degrees\n",
      "IoU per class: [0.74181039 0.59217829 0.60864555 0.66346015 0.63227295 0.42348655\n",
      " 0.70204308 0.69702552 0.70218761 0.69548754 0.62825826 0.60915899\n",
      " 0.58988302 0.44473224 0.59281957 0.71356844 0.55477582 0.92567009]\n",
      "Elapsed time: 207.76548409461975 seconds.\n",
      "Testing two look models 4 and 7...\n",
      "Mean IoU: 0.6479604379919778\n",
      "Mean angle difference: -16.6431999451627 degrees\n",
      "IoU per class: [0.7663282  0.61549778 0.59654598 0.66376472 0.67977519 0.42465513\n",
      " 0.67708837 0.69479236 0.71854763 0.69103324 0.63825228 0.60972072\n",
      " 0.58542166 0.49150447 0.60356544 0.71366399 0.56665527 0.92647546]\n",
      "Elapsed time: 206.66617703437805 seconds.\n"
     ]
    }
   ],
   "source": [
    "rooftop_models = [model_inria_raw_5e, model_inria_aug_5e, model_inria_raw_10e, model_inria_aug_10e, model_inria_final]\n",
    "sections_models = [model_z19, model_z19_aug, model_z20, model_z20_aug, model_mix_val19, model_mix_val20, model_final_15e, model_final_20e]\n",
    "\n",
    "table_ious = np.zeros((len(rooftop_models), len(sections_models)))\n",
    "table_mads = np.zeros((len(rooftop_models), len(sections_models)))\n",
    "\n",
    "for i, rooftop_model in enumerate(rooftop_models):\n",
    "    for j, section_model in enumerate(sections_models):\n",
    "        print(f'Testing two look models {i} and {j}...')\n",
    "        iou, mean_iou, mad, elapsed_time = test_model_twolook(rooftop_model,\n",
    "                                                               section_model,\n",
    "                                                               rid_test_folder,\n",
    "                                                               num_classes,\n",
    "                                                               background_class_1,\n",
    "                                                               background_class_2,\n",
    "                                                               ignore_index,\n",
    "                                                               num_angles,\n",
    "                                                               output=False)\n",
    "        table_ious[i][j] = mean_iou\n",
    "        table_mads[i][j] = mad\n",
    "        print(f'Mean IoU: {mean_iou}')\n",
    "        print(f'Mean angle difference: {mad} degrees')\n",
    "        print(f'IoU per class: {iou}')\n",
    "        print(f'Elapsed time: {elapsed_time} seconds.')"
   ]
  },
  {
   "cell_type": "code",
   "execution_count": 19,
   "id": "6dc042b8",
   "metadata": {},
   "outputs": [
    {
     "data": {
      "image/png": "[encoded data removed]",
      "text/plain": [
       "<Figure size 640x480 with 2 Axes>"
      ]
     },
     "metadata": {},
     "output_type": "display_data"
    }
   ],
   "source": [
    "table_ious_rounded = (table_ious * 100).astype('int') / 100\n",
    "table_mads_rounded = (table_mads * 100).astype('int') / 100\n",
    "ious_df = pd.DataFrame(data=table_ious_rounded,\n",
    "             index=['raw5','aug5','raw10','aug10', 'final'],\n",
    "             columns=['rawz19','aug19','rawz20','augz20','augval19','augval20','final15e','final20e'])\n",
    "mads_df = pd.DataFrame(data=table_mads_rounded,\n",
    "             index=['raw5','aug5','raw10','aug10','final'],\n",
    "             columns=['rawz19','aug19','rawz20','augz20','augval19','augval20','final15e','final20e'])\n",
    "\n",
    "fig, ax = plt.subplots(2,1)\n",
    "\n",
    "# hide axes\n",
    "fig.patch.set_visible(False)\n",
    "ax[0].axis('off'), ax[1].axis('off')\n",
    "ax[0].axis('tight'), ax[1].axis('tight')\n",
    "\n",
    "ax[0].table(cellText=ious_df.values, rowLabels=ious_df.index, colLabels=ious_df.columns, loc='center')\n",
    "ax[1].table(cellText=mads_df.values, rowLabels=mads_df.index, colLabels=mads_df.columns, loc='center')\n",
    "\n",
    "fig.tight_layout()\n",
    "\n",
    "plt.show()"
   ]
  },
  {
   "cell_type": "code",
   "execution_count": null,
   "id": "63e26cb4",
   "metadata": {},
   "outputs": [],
   "source": []
  }
 ],
 "metadata": {
  "kernelspec": {
   "display_name": "Python 3 (ipykernel)",
   "language": "python",
   "name": "python3"
  },
  "language_info": {
   "codemirror_mode": {
    "name": "ipython",
    "version": 3
   },
   "file_extension": ".py",
   "mimetype": "text/x-python",
   "name": "python",
   "nbconvert_exporter": "python",
   "pygments_lexer": "ipython3",
   "version": "3.8.13"
  }
 },
 "nbformat": 4,
 "nbformat_minor": 5
}
