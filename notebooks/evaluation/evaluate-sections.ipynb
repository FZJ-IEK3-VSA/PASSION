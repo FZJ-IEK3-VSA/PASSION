{
 "cells": [
  {
   "cell_type": "code",
   "execution_count": 56,
   "id": "e0fbeec4",
   "metadata": {},
   "outputs": [],
   "source": [
    "import torch\n",
    "import pathlib\n",
    "import cv2\n",
    "import PIL\n",
    "import numpy as np\n",
    "import pandas as pd\n",
    "import matplotlib.pyplot as plt\n",
    "import time\n",
    "from tqdm import tqdm\n",
    "%matplotlib inline\n",
    "\n",
    "from passion.segmentation import prediction"
   ]
  },
  {
   "cell_type": "code",
   "execution_count": 2,
   "id": "3a6d2129",
   "metadata": {},
   "outputs": [],
   "source": [
    "device = ('cuda' if torch.cuda.is_available() else 'cpu')"
   ]
  },
  {
   "cell_type": "markdown",
   "id": "933ab35e",
   "metadata": {},
   "source": [
    "# Load testing models"
   ]
  },
  {
   "cell_type": "code",
   "execution_count": 4,
   "id": "45f0c986",
   "metadata": {},
   "outputs": [],
   "source": [
    "models_folder_path = pathlib.Path('../workflow/output/model')\n",
    "rooftop_models_folder_path = models_folder_path / 'rooftop-segmentation'\n",
    "\n",
    "# Sections models\n",
    "model_mix_aug = torch.load(str(rooftop_models_folder_path / 'segments-mix-aug.pth'), map_location=torch.device(device))\n",
    "model_mix_val19 = torch.load(str(rooftop_models_folder_path / 'segments-mix-val19.pth'), map_location=torch.device(device))\n",
    "model_mix_val20 = torch.load(str(rooftop_models_folder_path / 'segments-mix-val20.pth'), map_location=torch.device(device))\n",
    "model_z19 = torch.load(str(rooftop_models_folder_path / 'segments-z19.pth'), map_location=torch.device(device))\n",
    "model_z19_aug = torch.load(str(rooftop_models_folder_path / 'segments-z19-aug.pth'), map_location=torch.device(device))\n",
    "model_z20 = torch.load(str(rooftop_models_folder_path / 'segments-z20.pth'), map_location=torch.device(device))\n",
    "model_z20_aug = torch.load(str(rooftop_models_folder_path / 'segments-z20-aug.pth'), map_location=torch.device(device))\n",
    "\n",
    "# Rooftop models\n",
    "model_inria_aug_10e = torch.load(str(rooftop_models_folder_path / 'inria-aug-10e.pth'), map_location=torch.device(device))\n",
    "model_inria_aug_5e = torch.load(str(rooftop_models_folder_path / 'inria-aug-5e.pth'), map_location=torch.device(device))\n",
    "model_inria_raw_10e = torch.load(str(rooftop_models_folder_path / 'inria-raw-10e.pth'), map_location=torch.device(device))\n",
    "model_inria_raw_5e = torch.load(str(rooftop_models_folder_path / 'inria-raw-5e.pth'), map_location=torch.device(device))"
   ]
  },
  {
   "cell_type": "markdown",
   "id": "4ac12700",
   "metadata": {},
   "source": [
    "# Testing folder paths"
   ]
  },
  {
   "cell_type": "code",
   "execution_count": 9,
   "id": "6491b68c",
   "metadata": {},
   "outputs": [],
   "source": [
    "rid_test_folder = pathlib.Path('/storage/internal/home/r-pueblas/projects/rooftop-segmentation-datasets/data/RID/output/masks_segments_reviewed/test')\n",
    "rid_test_folder_image = rid_test_folder / 'image'\n",
    "rid_test_folder_label = rid_test_folder / 'label'"
   ]
  },
  {
   "cell_type": "markdown",
   "id": "1fbec73e",
   "metadata": {},
   "source": [
    "# Metrics"
   ]
  },
  {
   "cell_type": "code",
   "execution_count": 5,
   "id": "454756ae",
   "metadata": {},
   "outputs": [],
   "source": [
    "def intersect_and_union(pred_label, label, num_classes, ignore_index):\n",
    "    mask = (label != ignore_index)\n",
    "    pred_label = pred_label[mask]\n",
    "    label = label[mask]\n",
    "\n",
    "    intersect = pred_label[pred_label == label]\n",
    "    area_intersect, _ = np.histogram(\n",
    "        intersect, bins=np.arange(num_classes + 1))\n",
    "    area_pred_label, _ = np.histogram(\n",
    "        pred_label, bins=np.arange(num_classes + 1))\n",
    "    area_label, _ = np.histogram(label, bins=np.arange(num_classes + 1))\n",
    "    area_union = area_pred_label + area_label - area_intersect\n",
    "\n",
    "    return area_intersect, area_union, area_pred_label, area_label\n",
    "\n",
    "def angle_difference(angle_1, angle_2):\n",
    "    a = angle_1 - angle_2\n",
    "    a = (a + 180) % 360 - 180\n",
    "    return a\n",
    "\n",
    "def mean_angle_difference(pred_label, label, num_classes, angles, background_class, ignore_index):\n",
    "    mask = (label != ignore_index)\n",
    "    pred_label = pred_label[mask]\n",
    "    label = label[mask]\n",
    "    \n",
    "    combined_pred_label = (pred_label != background_class).astype('uint8')\n",
    "    combined_label = (label != background_class).astype('uint8')\n",
    "    \n",
    "    # Take those pixels where both images predict a class different than background\n",
    "    pred_label_angles = pred_label[combined_pred_label == combined_label]\n",
    "    pred_label_angles = pred_label_angles[pred_label_angles < len(angles)]\n",
    "    label_angles = label[combined_pred_label == combined_label]\n",
    "    label_angles = label_angles[label_angles < len(angles)]\n",
    "    \n",
    "    \n",
    "    total_diff = 0\n",
    "    for angle_1, angle_2 in zip(np.nditer(pred_label_angles, flags=['zerosize_ok']), np.nditer(label_angles, flags=['zerosize_ok'])):\n",
    "        try:\n",
    "            angle_1, angle_2 = angles[angle_1], angles[angle_2]\n",
    "        except:\n",
    "            print(angle_1, angle_2)\n",
    "        diff = angle_difference(angle_1, angle_2)\n",
    "        total_diff = total_diff + diff\n",
    "    \n",
    "    if pred_label_angles.size == 0:\n",
    "        return None\n",
    "    \n",
    "    mean_diff = total_diff/pred_label_angles.size\n",
    "    \n",
    "    return mean_diff"
   ]
  },
  {
   "cell_type": "markdown",
   "id": "372aa0cf",
   "metadata": {},
   "source": [
    "# Helper functions"
   ]
  },
  {
   "cell_type": "code",
   "execution_count": 19,
   "id": "f6d22c76",
   "metadata": {},
   "outputs": [],
   "source": [
    "def test_model_sections(model, test_folder, num_classes, background_class, ignore_index, num_angles, output=True):\n",
    "    start = time.time()\n",
    "    \n",
    "    test_folder_image = test_folder / 'image'\n",
    "    test_folder_label = test_folder / 'label'\n",
    "\n",
    "    angles = [i * (360/num_angles) for i in range(num_angles)]\n",
    "\n",
    "    total_area_intersect = np.zeros((num_classes, ), dtype=float)\n",
    "    total_area_union = np.zeros((num_classes, ), dtype=float)\n",
    "    total_area_pred_label = np.zeros((num_classes, ), dtype=float)\n",
    "    total_area_label = np.zeros((num_classes, ), dtype=float)\n",
    "    total_angle_difference = 0\n",
    "\n",
    "    for i, filename in enumerate(test_folder_image.glob('*.png')):\n",
    "        image = cv2.imread(str(filename))\n",
    "        label = cv2.imread(str(test_folder_label / filename.name))\n",
    "        label = label[:,:,0]\n",
    "\n",
    "\n",
    "        pred = prediction.segment_img(image, model, tile_size=512, stride=512, background_class=background_class)\n",
    "        corrected_pred = pred.copy()\n",
    "        corrected_pred[pred==0] = (background_class + 1)\n",
    "        corrected_pred = (corrected_pred - 1)\n",
    "\n",
    "        area_intersect, area_union, area_pred_label, area_label = \\\n",
    "                            intersect_and_union(corrected_pred, label, num_classes, ignore_index)\n",
    "        total_area_intersect += area_intersect\n",
    "        total_area_union += area_union\n",
    "        total_area_pred_label += area_pred_label\n",
    "        total_area_label += area_label\n",
    "\n",
    "        mad = mean_angle_difference(corrected_pred, label, num_classes, angles, background_class, ignore_index)\n",
    "        if mad: total_angle_difference += mad\n",
    "\n",
    "        if i<5 and output:\n",
    "            f, axarr = plt.subplots(1,3, figsize=(10, 10))\n",
    "            axarr[0].imshow(image)\n",
    "            axarr[1].imshow(label)\n",
    "            axarr[2].imshow(corrected_pred)\n",
    "            if i==0:\n",
    "                axarr[0].title.set_text('Image')\n",
    "                axarr[1].title.set_text('Ground truth')\n",
    "                axarr[2].title.set_text('model_mix_aug')\n",
    "\n",
    "            plt.subplots_adjust(wspace=0.1, hspace=0.1)\n",
    "            for ax in axarr:\n",
    "                ax.axis('off')\n",
    "            plt.show()\n",
    "\n",
    "        iou = total_area_intersect / total_area_union\n",
    "\n",
    "        if output: print(f'Processed image {filename.stem}, partial mean iou: {np.mean(iou[:-1][~np.isnan(iou[:-1])])}, with background class: {np.mean(iou[~np.isnan(iou)])}, mean angle difference: {mad}')\n",
    "\n",
    "    all_acc = total_area_intersect.sum() / total_area_label.sum()\n",
    "    acc = total_area_intersect / total_area_label\n",
    "    iou = total_area_intersect / total_area_union\n",
    "    mad = total_angle_difference / (i+1)\n",
    "\n",
    "    end = time.time()\n",
    "    elapsed_time = (end - start)\n",
    "\n",
    "    if output:\n",
    "        print('\\n')\n",
    "        print(f'Elapsed time: {elapsed_time} seconds')\n",
    "        print(f'Final IoU per class: {iou}')\n",
    "        print(f'Final mean IoU with background class: {np.mean(iou[~np.isnan(iou)])}')\n",
    "        print(f'Final mean IoU without background class: {np.mean(iou[:-1][~np.isnan(iou[:-1])])}')\n",
    "        print(f'Final mean angle difference: {mad}')\n",
    "\n",
    "    return iou, np.mean(iou[~np.isnan(iou)]), mad, elapsed_time\n",
    "\n",
    "def test_model_twolook(rooftop_model,\n",
    "                       sections_model,\n",
    "                       test_folder,\n",
    "                       num_classes,\n",
    "                       background_class_1,\n",
    "                       background_class_2,\n",
    "                       ignore_index,\n",
    "                       num_angles,\n",
    "                       output=True\n",
    "                      ):\n",
    "    start = time.time()\n",
    "    \n",
    "    test_folder_image = test_folder / 'image'\n",
    "    test_folder_label = test_folder / 'label'\n",
    "\n",
    "    angles = [i * (360/num_angles) for i in range(num_angles)]\n",
    "\n",
    "    total_area_intersect = np.zeros((num_classes, ), dtype=float)\n",
    "    total_area_union = np.zeros((num_classes, ), dtype=float)\n",
    "    total_area_pred_label = np.zeros((num_classes, ), dtype=float)\n",
    "    total_area_label = np.zeros((num_classes, ), dtype=float)\n",
    "    total_angle_difference = 0\n",
    "\n",
    "    for i, filename in enumerate(test_folder_image.glob('*.png')):\n",
    "        image = cv2.imread(str(filename))\n",
    "        label = cv2.imread(str(test_folder_label / filename.name))\n",
    "        label = label[:,:,0]\n",
    "    \n",
    "        roofs = prediction.segment_img(image, rooftop_model, tile_size=512, stride=512, background_class=background_class_1)\n",
    "        filtered = np.ones(image.shape).astype(np.uint8)\n",
    "        idx=(roofs!=0)\n",
    "        filtered[idx] = image[idx]\n",
    "\n",
    "        pred = prediction.segment_img(filtered, sections_model, tile_size=512, stride=512, background_class=background_class_2)\n",
    "        corrected_pred = pred.copy()\n",
    "        corrected_pred[pred==0] = (background_class + 1)\n",
    "        corrected_pred = (corrected_pred - 1)\n",
    "\n",
    "        area_intersect, area_union, area_pred_label, area_label = \\\n",
    "                            intersect_and_union(corrected_pred, label, num_classes, ignore_index)\n",
    "        total_area_intersect += area_intersect\n",
    "        total_area_union += area_union\n",
    "        total_area_pred_label += area_pred_label\n",
    "        total_area_label += area_label\n",
    "\n",
    "        mad = mean_angle_difference(corrected_pred, label, num_classes, angles, background_class, ignore_index)\n",
    "        if mad: total_angle_difference += mad\n",
    "\n",
    "        if i<5 and output:\n",
    "            f, axarr = plt.subplots(1,3, figsize=(10, 10))\n",
    "            axarr[0].imshow(image)\n",
    "            axarr[1].imshow(label)\n",
    "            axarr[2].imshow(corrected_pred)\n",
    "            if i==0:\n",
    "                axarr[0].title.set_text('Image')\n",
    "                axarr[1].title.set_text('Ground truth')\n",
    "                axarr[2].title.set_text('model_mix_aug')\n",
    "\n",
    "            plt.subplots_adjust(wspace=0.1, hspace=0.1)\n",
    "            for ax in axarr:\n",
    "                ax.axis('off')\n",
    "            plt.show()\n",
    "\n",
    "        iou = total_area_intersect / total_area_union\n",
    "\n",
    "        if output: print(f'Processed image {filename.stem}, partial mean iou: {np.mean(iou[:-1][~np.isnan(iou[:-1])])}, with background class: {np.mean(iou[~np.isnan(iou)])}, mean angle difference: {mad}')\n",
    "\n",
    "    all_acc = total_area_intersect.sum() / total_area_label.sum()\n",
    "    acc = total_area_intersect / total_area_label\n",
    "    iou = total_area_intersect / total_area_union\n",
    "    mad = total_angle_difference / (i+1)\n",
    "\n",
    "    end = time.time()\n",
    "    elapsed_time = (end - start)\n",
    "\n",
    "    if output:\n",
    "        print('\\n')\n",
    "        print(f'Elapsed time: {elapsed_time} seconds')\n",
    "        print(f'Final IoU per class: {iou}')\n",
    "        print(f'Final mean IoU with background class: {np.mean(iou[~np.isnan(iou)])}')\n",
    "        print(f'Final mean IoU without background class: {np.mean(iou[:-1][~np.isnan(iou[:-1])])}')\n",
    "        print(f'Final mean angle difference: {mad}')\n",
    "\n",
    "    return iou, np.mean(iou[~np.isnan(iou)]), mad, elapsed_time"
   ]
  },
  {
   "cell_type": "markdown",
   "id": "f3df04f4",
   "metadata": {},
   "source": [
    "# Results"
   ]
  },
  {
   "cell_type": "code",
   "execution_count": 11,
   "id": "bef9492c",
   "metadata": {},
   "outputs": [
    {
     "name": "stderr",
     "output_type": "stream",
     "text": [
      "/tmp/ipykernel_3938623/2237451141.py:51: RuntimeWarning: invalid value encountered in true_divide\n",
      "  iou = total_area_intersect / total_area_union\n"
     ]
    }
   ],
   "source": [
    "num_classes = 18\n",
    "background_class = 17\n",
    "ignore_index = -1\n",
    "num_angles = 16"
   ]
  },
  {
   "cell_type": "code",
   "execution_count": 14,
   "id": "46d6be45",
   "metadata": {},
   "outputs": [
    {
     "name": "stdout",
     "output_type": "stream",
     "text": [
      "Testing model <model_mix_aug>...\n"
     ]
    },
    {
     "name": "stderr",
     "output_type": "stream",
     "text": [
      "/tmp/ipykernel_3938623/2237451141.py:51: RuntimeWarning: invalid value encountered in true_divide\n",
      "  iou = total_area_intersect / total_area_union\n"
     ]
    },
    {
     "name": "stdout",
     "output_type": "stream",
     "text": [
      "Mean IoU: 0.7059959351343941\n",
      "Mean angle difference: -21.577800932676887 degrees\n",
      "IoU per class: [0.67993732 0.75024663 0.71323271 0.74691143 0.67573962 0.50456439\n",
      " 0.7314447  0.79515905 0.74074131 0.6999666  0.69286831 0.71339664\n",
      " 0.58982006 0.49412315 0.73374546 0.81134676 0.67301386 0.96166884]\n",
      "Elapsed time: 146.29339957237244 seconds.\n"
     ]
    }
   ],
   "source": [
    "print(f'Testing model <model_mix_aug>...')\n",
    "\n",
    "iou, mean_iou, mad, elapsed_time = test_model_sections(model_mix_aug, rid_test_folder, num_classes, background_class, ignore_index, num_angles, output=False)\n",
    "\n",
    "print(f'Mean IoU: {mean_iou}')\n",
    "print(f'Mean angle difference: {mad} degrees')\n",
    "print(f'IoU per class: {iou}')\n",
    "print(f'Elapsed time: {elapsed_time} seconds.')"
   ]
  },
  {
   "cell_type": "code",
   "execution_count": 15,
   "id": "e24083ab",
   "metadata": {},
   "outputs": [
    {
     "name": "stdout",
     "output_type": "stream",
     "text": [
      "Testing model <model_mix_val19>...\n"
     ]
    },
    {
     "name": "stderr",
     "output_type": "stream",
     "text": [
      "/tmp/ipykernel_3938623/2237451141.py:51: RuntimeWarning: invalid value encountered in true_divide\n",
      "  iou = total_area_intersect / total_area_union\n"
     ]
    },
    {
     "name": "stdout",
     "output_type": "stream",
     "text": [
      "Mean IoU: 0.7531550469150653\n",
      "Mean angle difference: -16.20632294923284 degrees\n",
      "IoU per class: [0.78116735 0.76174636 0.79028055 0.80619657 0.72820372 0.52545848\n",
      " 0.79072146 0.85061293 0.77119467 0.74014625 0.76397483 0.78482187\n",
      " 0.68648253 0.40424874 0.78336129 0.84851556 0.77181501 0.96784266]\n",
      "Elapsed time: 145.6363353729248 seconds.\n"
     ]
    }
   ],
   "source": [
    "print(f'Testing model <model_mix_val19>...')\n",
    "\n",
    "iou, mean_iou, mad, elapsed_time = test_model_sections(model_mix_val19, rid_test_folder, num_classes, background_class, ignore_index, num_angles, output=False)\n",
    "\n",
    "print(f'Mean IoU: {mean_iou}')\n",
    "print(f'Mean angle difference: {mad} degrees')\n",
    "print(f'IoU per class: {iou}')\n",
    "print(f'Elapsed time: {elapsed_time} seconds.')"
   ]
  },
  {
   "cell_type": "code",
   "execution_count": 16,
   "id": "a12342d4",
   "metadata": {},
   "outputs": [
    {
     "name": "stdout",
     "output_type": "stream",
     "text": [
      "Testing model <model_mix_val20>...\n"
     ]
    },
    {
     "name": "stderr",
     "output_type": "stream",
     "text": [
      "/tmp/ipykernel_3938623/2237451141.py:51: RuntimeWarning: invalid value encountered in true_divide\n",
      "  iou = total_area_intersect / total_area_union\n"
     ]
    },
    {
     "name": "stdout",
     "output_type": "stream",
     "text": [
      "Mean IoU: 0.7370236573213111\n",
      "Mean angle difference: -19.23266528621342 degrees\n",
      "IoU per class: [0.75137555 0.70920686 0.75579015 0.79440881 0.69300843 0.53895328\n",
      " 0.7634351  0.83479137 0.75448043 0.69859614 0.74017477 0.76892078\n",
      " 0.64401693 0.53240474 0.76168433 0.84211886 0.72107065 0.96198864]\n",
      "Elapsed time: 139.80415153503418 seconds.\n"
     ]
    }
   ],
   "source": [
    "print(f'Testing model <model_mix_val20>...')\n",
    "\n",
    "iou, mean_iou, mad, elapsed_time = test_model_sections(model_mix_val20, rid_test_folder, num_classes, background_class, ignore_index, num_angles, output=False)\n",
    "\n",
    "print(f'Mean IoU: {mean_iou}')\n",
    "print(f'Mean angle difference: {mad} degrees')\n",
    "print(f'IoU per class: {iou}')\n",
    "print(f'Elapsed time: {elapsed_time} seconds.')"
   ]
  },
  {
   "cell_type": "code",
   "execution_count": 26,
   "id": "b69cfbc3",
   "metadata": {},
   "outputs": [
    {
     "name": "stdout",
     "output_type": "stream",
     "text": [
      "Testing model <model_z19>...\n"
     ]
    },
    {
     "name": "stderr",
     "output_type": "stream",
     "text": [
      "/tmp/ipykernel_3938623/1513032558.py:51: RuntimeWarning: invalid value encountered in true_divide\n",
      "  iou = total_area_intersect / total_area_union\n"
     ]
    },
    {
     "name": "stdout",
     "output_type": "stream",
     "text": [
      "Mean IoU: 0.29095039853222926\n",
      "Mean angle difference: -34.80088528666459 degrees\n",
      "IoU per class: [0.31972888 0.25757975 0.35950387 0.38204281 0.25422465 0.\n",
      " 0.33697394 0.35677739 0.23408792 0.17436191 0.28232727 0.31734373\n",
      " 0.15935428 0.         0.22382398 0.5144346  0.17393821 0.89060399]\n",
      "Elapsed time: 144.11106276512146 seconds.\n"
     ]
    }
   ],
   "source": [
    "print(f'Testing model <model_z19>...')\n",
    "\n",
    "iou, mean_iou, mad, elapsed_time = test_model_sections(model_z19, rid_test_folder, num_classes, background_class, ignore_index, num_angles, output=False)\n",
    "\n",
    "print(f'Mean IoU: {mean_iou}')\n",
    "print(f'Mean angle difference: {mad} degrees')\n",
    "print(f'IoU per class: {iou}')\n",
    "print(f'Elapsed time: {elapsed_time} seconds.')"
   ]
  },
  {
   "cell_type": "code",
   "execution_count": 20,
   "id": "7f9a7b2a",
   "metadata": {},
   "outputs": [
    {
     "name": "stdout",
     "output_type": "stream",
     "text": [
      "Testing model <model_z19_aug>...\n"
     ]
    },
    {
     "name": "stderr",
     "output_type": "stream",
     "text": [
      "/tmp/ipykernel_3938623/1513032558.py:51: RuntimeWarning: invalid value encountered in true_divide\n",
      "  iou = total_area_intersect / total_area_union\n"
     ]
    },
    {
     "name": "stdout",
     "output_type": "stream",
     "text": [
      "Mean IoU: 0.2775709675686454\n",
      "Mean angle difference: -33.49447935622619 degrees\n",
      "IoU per class: [0.24660646 0.20049536 0.21967683 0.39833762 0.18164558 0.07646138\n",
      " 0.28118077 0.30696202 0.26478893 0.09655301 0.23620125 0.37077178\n",
      " 0.27741331 0.1091352  0.2653397  0.42057707 0.13376918 0.91036197]\n",
      "Elapsed time: 131.2419855594635 seconds.\n"
     ]
    }
   ],
   "source": [
    "print(f'Testing model <model_z19_aug>...')\n",
    "\n",
    "iou, mean_iou, mad, elapsed_time = test_model_sections(model_z19_aug, rid_test_folder, num_classes, background_class, ignore_index, num_angles, output=False)\n",
    "\n",
    "print(f'Mean IoU: {mean_iou}')\n",
    "print(f'Mean angle difference: {mad} degrees')\n",
    "print(f'IoU per class: {iou}')\n",
    "print(f'Elapsed time: {elapsed_time} seconds.')"
   ]
  },
  {
   "cell_type": "code",
   "execution_count": 21,
   "id": "f5e028c2",
   "metadata": {},
   "outputs": [
    {
     "name": "stdout",
     "output_type": "stream",
     "text": [
      "Testing model <model_z20>...\n"
     ]
    },
    {
     "name": "stderr",
     "output_type": "stream",
     "text": [
      "/tmp/ipykernel_3938623/1513032558.py:51: RuntimeWarning: invalid value encountered in true_divide\n",
      "  iou = total_area_intersect / total_area_union\n"
     ]
    },
    {
     "name": "stdout",
     "output_type": "stream",
     "text": [
      "Mean IoU: 0.5991257021727997\n",
      "Mean angle difference: -22.79417140563867 degrees\n",
      "IoU per class: [6.70385108e-01 6.61281449e-01 6.76535406e-01 7.04346860e-01\n",
      " 5.91729080e-01 5.04183359e-04 6.50657675e-01 7.84066825e-01\n",
      " 7.10502856e-01 6.70045759e-01 5.48333005e-01 6.39731292e-01\n",
      " 4.39837558e-01 1.55038760e-03 6.39690629e-01 8.00009124e-01\n",
      " 6.39724742e-01 9.55330697e-01]\n",
      "Elapsed time: 114.32256317138672 seconds.\n"
     ]
    }
   ],
   "source": [
    "print(f'Testing model <model_z20>...')\n",
    "\n",
    "iou, mean_iou, mad, elapsed_time = test_model_sections(model_z20, rid_test_folder, num_classes, background_class, ignore_index, num_angles, output=False)\n",
    "\n",
    "print(f'Mean IoU: {mean_iou}')\n",
    "print(f'Mean angle difference: {mad} degrees')\n",
    "print(f'IoU per class: {iou}')\n",
    "print(f'Elapsed time: {elapsed_time} seconds.')"
   ]
  },
  {
   "cell_type": "code",
   "execution_count": 22,
   "id": "2e478e8d",
   "metadata": {},
   "outputs": [
    {
     "name": "stdout",
     "output_type": "stream",
     "text": [
      "Testing model <model_z20_aug>...\n"
     ]
    },
    {
     "name": "stderr",
     "output_type": "stream",
     "text": [
      "/tmp/ipykernel_3938623/1513032558.py:51: RuntimeWarning: invalid value encountered in true_divide\n",
      "  iou = total_area_intersect / total_area_union\n"
     ]
    },
    {
     "name": "stdout",
     "output_type": "stream",
     "text": [
      "Mean IoU: 0.6648623734806555\n",
      "Mean angle difference: -19.35116549581229 degrees\n",
      "IoU per class: [0.62784522 0.62094736 0.72869829 0.74257018 0.64615709 0.44658038\n",
      " 0.71264627 0.79118717 0.67881782 0.65064636 0.65273251 0.68185944\n",
      " 0.59223605 0.31503747 0.6765217  0.78625277 0.6582319  0.95855475]\n",
      "Elapsed time: 118.8921058177948 seconds.\n"
     ]
    }
   ],
   "source": [
    "print(f'Testing model <model_z20_aug>...')\n",
    "\n",
    "iou, mean_iou, mad, elapsed_time = test_model_sections(model_z20_aug, rid_test_folder, num_classes, background_class, ignore_index, num_angles, output=False)\n",
    "\n",
    "print(f'Mean IoU: {mean_iou}')\n",
    "print(f'Mean angle difference: {mad} degrees')\n",
    "print(f'IoU per class: {iou}')\n",
    "print(f'Elapsed time: {elapsed_time} seconds.')"
   ]
  },
  {
   "cell_type": "markdown",
   "id": "2c757039",
   "metadata": {},
   "source": [
    "# Two-look"
   ]
  },
  {
   "cell_type": "code",
   "execution_count": 23,
   "id": "bff22571",
   "metadata": {},
   "outputs": [],
   "source": [
    "num_classes = 18\n",
    "background_class_1 = 0\n",
    "background_class_2 = 17\n",
    "ignore_index = -1\n",
    "num_angles = 16"
   ]
  },
  {
   "cell_type": "code",
   "execution_count": 75,
   "id": "1f5d058d",
   "metadata": {},
   "outputs": [
    {
     "name": "stdout",
     "output_type": "stream",
     "text": [
      "Testing two look models 0 and 0...\n"
     ]
    },
    {
     "name": "stderr",
     "output_type": "stream",
     "text": [
      "/tmp/ipykernel_3938623/1513032558.py:136: RuntimeWarning: invalid value encountered in true_divide\n",
      "  iou = total_area_intersect / total_area_union\n"
     ]
    },
    {
     "name": "stdout",
     "output_type": "stream",
     "text": [
      "Mean IoU: 0.1435689290348781\n",
      "Mean angle difference: -39.33037754000422 degrees\n",
      "IoU per class: [2.67971692e-01 2.25999161e-03 5.70448889e-02 6.86630746e-02\n",
      " 1.19844487e-01 0.00000000e+00 5.84269019e-02 2.21448071e-01\n",
      " 1.16838098e-01 1.13285273e-02 4.16554627e-02 1.06489174e-01\n",
      " 1.10389771e-01 4.12677451e-05 5.12867029e-02 3.68943773e-01\n",
      " 1.28736610e-01 8.52872228e-01]\n",
      "Elapsed time: 288.67462134361267 seconds.\n",
      "Testing two look models 0 and 1...\n",
      "Mean IoU: 0.14368640158311172\n",
      "Mean angle difference: -32.552575311284045 degrees\n",
      "IoU per class: [1.71192719e-01 8.30242682e-04 3.61046131e-02 2.12691774e-01\n",
      " 8.83666832e-02 1.34922184e-02 3.50129668e-02 1.50293107e-01\n",
      " 1.79539852e-01 5.17367164e-03 5.41337255e-02 1.87400857e-01\n",
      " 2.27961709e-01 2.37884015e-02 3.81672995e-02 2.28034781e-01\n",
      " 7.02013593e-02 8.63969248e-01]\n",
      "Elapsed time: 382.0678610801697 seconds.\n",
      "Testing two look models 0 and 2...\n",
      "Mean IoU: 0.24092008092225972\n",
      "Mean angle difference: -41.65880388844078 degrees\n",
      "IoU per class: [0.27316499 0.05815544 0.1091001  0.15584918 0.19544606 0.\n",
      " 0.24111411 0.47711593 0.45644965 0.0996387  0.06852135 0.20763203\n",
      " 0.17748538 0.         0.16483558 0.53226916 0.22641067 0.89337313]\n",
      "Elapsed time: 338.44724917411804 seconds.\n",
      "Testing two look models 0 and 3...\n",
      "Mean IoU: 0.31942420128542115\n",
      "Mean angle difference: -35.44641834642399 degrees\n",
      "IoU per class: [0.44971832 0.12135297 0.18758879 0.35937655 0.29701145 0.06797368\n",
      " 0.30642566 0.52251925 0.45336596 0.23121893 0.2713481  0.35400743\n",
      " 0.29970833 0.03180219 0.21319851 0.5241102  0.17193221 0.88697712]\n",
      "Elapsed time: 295.2781753540039 seconds.\n",
      "Testing two look models 0 and 4...\n",
      "Mean IoU: 0.36311016461033596\n",
      "Mean angle difference: -30.279631465167242 degrees\n",
      "IoU per class: [0.55610464 0.19436975 0.20489039 0.37734777 0.3895506  0.14717295\n",
      " 0.35808275 0.51623528 0.50606294 0.30695043 0.28246084 0.36288915\n",
      " 0.38577222 0.08603938 0.26418435 0.50896332 0.20303585 0.88587034]\n",
      "Elapsed time: 328.55817461013794 seconds.\n",
      "Testing two look models 0 and 5...\n",
      "Mean IoU: 0.3473701966655117\n",
      "Mean angle difference: -29.467066563928938 degrees\n",
      "IoU per class: [0.41965462 0.17522726 0.21409356 0.36972913 0.2367326  0.12430855\n",
      " 0.38792744 0.54213465 0.47744664 0.28654437 0.22414612 0.38741487\n",
      " 0.27423267 0.15452612 0.29452363 0.57105107 0.22799666 0.88497359]\n",
      "Elapsed time: 285.6539161205292 seconds.\n",
      "Testing two look models 0 and 6...\n",
      "Mean IoU: 0.3694420636169242\n",
      "Mean angle difference: -36.19872413997798 degrees\n",
      "IoU per class: [0.39588144 0.30650511 0.27288573 0.43147372 0.38864658 0.14596231\n",
      " 0.40093471 0.54120298 0.50052261 0.27728093 0.35954614 0.3837837\n",
      " 0.16343051 0.16074559 0.34093434 0.59351171 0.14613256 0.84057648]\n",
      "Elapsed time: 339.2529945373535 seconds.\n",
      "Testing two look models 1 and 0...\n",
      "Mean IoU: 0.1524477212040838\n",
      "Mean angle difference: -37.71568217812429 degrees\n",
      "IoU per class: [0.26569068 0.00415066 0.10019105 0.10998501 0.12767013 0.\n",
      " 0.06678387 0.24348457 0.12448003 0.01305484 0.07446432 0.12105836\n",
      " 0.11541965 0.         0.04748654 0.36672447 0.11311355 0.85030124]\n",
      "Elapsed time: 507.361065864563 seconds.\n",
      "Testing two look models 1 and 1...\n",
      "Mean IoU: 0.17056734292848338\n",
      "Mean angle difference: -29.980274923975568 degrees\n",
      "IoU per class: [1.86325601e-01 3.87330958e-05 5.79446576e-02 2.71507502e-01\n",
      " 1.06697616e-01 1.55387873e-02 1.00837576e-01 2.06163296e-01\n",
      " 2.26397402e-01 5.11119479e-03 1.01757685e-01 2.39735295e-01\n",
      " 1.99900856e-01 4.21021677e-02 8.56602605e-02 2.72911438e-01\n",
      " 8.06059766e-02 8.70976129e-01]\n",
      "Elapsed time: 518.8861331939697 seconds.\n",
      "Testing two look models 1 and 2...\n",
      "Mean IoU: 0.291932064037048\n",
      "Mean angle difference: -38.1507029682394 degrees\n",
      "IoU per class: [0.35460453 0.21434084 0.19059232 0.28878765 0.24543822 0.\n",
      " 0.2785732  0.4925288  0.48287691 0.22805623 0.143514   0.28267541\n",
      " 0.20705233 0.         0.20075316 0.51470947 0.23497748 0.89529663]\n",
      "Elapsed time: 311.0672857761383 seconds.\n",
      "Testing two look models 1 and 3...\n",
      "Mean IoU: 0.3777338052304739\n",
      "Mean angle difference: -33.70737892922709 degrees\n",
      "IoU per class: [0.4469386  0.26492039 0.25095118 0.45696562 0.34013922 0.13584641\n",
      " 0.37044635 0.54590569 0.49746434 0.37782656 0.35486778 0.43809977\n",
      " 0.34993991 0.07279176 0.26383138 0.53098798 0.2094527  0.89183285]\n",
      "Elapsed time: 354.1253852844238 seconds.\n",
      "Testing two look models 1 and 4...\n",
      "Mean IoU: 0.42253597093067197\n",
      "Mean angle difference: -27.807033420619362 degrees\n",
      "IoU per class: [0.60094371 0.37269917 0.27500931 0.50822783 0.43208169 0.13188816\n",
      " 0.41201094 0.5375687  0.54874761 0.49961038 0.36466837 0.46259961\n",
      " 0.39058048 0.10652099 0.31189433 0.53419232 0.22037001 0.89603385]\n",
      "Elapsed time: 252.5231523513794 seconds.\n",
      "Testing two look models 1 and 5...\n",
      "Mean IoU: 0.4157116970922632\n",
      "Mean angle difference: -26.279086790824376 degrees\n",
      "IoU per class: [0.46438481 0.35862839 0.27048583 0.47882264 0.2724641  0.19714351\n",
      " 0.43890802 0.57820822 0.51708241 0.49240645 0.33159551 0.48724419\n",
      " 0.33933758 0.21581977 0.3372859  0.5708952  0.24004595 0.89205205]\n",
      "Elapsed time: 317.1509037017822 seconds.\n",
      "Testing two look models 1 and 6...\n",
      "Mean IoU: 0.4306440845001388\n",
      "Mean angle difference: -32.85142774414031 degrees\n",
      "IoU per class: [0.45253225 0.46572929 0.32400646 0.53251941 0.44245444 0.19848131\n",
      " 0.46897896 0.565871   0.53252487 0.47832613 0.41937944 0.45924643\n",
      " 0.18408429 0.22352514 0.39384517 0.58721678 0.16887771 0.85399441]\n",
      "Elapsed time: 339.8006443977356 seconds.\n",
      "Testing two look models 2 and 0...\n",
      "Mean IoU: 0.14204869813473958\n",
      "Mean angle difference: -36.30423386299962 degrees\n",
      "IoU per class: [0.25284614 0.00492146 0.04520029 0.06453465 0.12364869 0.\n",
      " 0.06202632 0.21878447 0.10938886 0.0095237  0.04590485 0.10331285\n",
      " 0.12276369 0.         0.0862788  0.3573048  0.10403662 0.84640036]\n",
      "Elapsed time: 331.14028882980347 seconds.\n",
      "Testing two look models 2 and 1...\n",
      "Mean IoU: 0.1522840713994447\n",
      "Mean angle difference: -34.21532259695707 degrees\n",
      "IoU per class: [0.18739646 0.00434754 0.04376741 0.22692116 0.10444009 0.01031012\n",
      " 0.0358735  0.18825891 0.18960604 0.00106989 0.06635731 0.20003753\n",
      " 0.2044294  0.03185821 0.06732851 0.2605725  0.05381895 0.86471975]\n",
      "Elapsed time: 385.24400329589844 seconds.\n",
      "Testing two look models 2 and 2...\n",
      "Mean IoU: 0.2525635952078716\n",
      "Mean angle difference: -39.404384292603865 degrees\n",
      "IoU per class: [0.32785852 0.13319601 0.10016935 0.18961519 0.18598791 0.\n",
      " 0.26111487 0.46760114 0.4417695  0.15233551 0.07539336 0.22292454\n",
      " 0.20171989 0.         0.18638972 0.50461015 0.20946123 0.88599784]\n",
      "Elapsed time: 219.69092917442322 seconds.\n",
      "Testing two look models 2 and 3...\n",
      "Mean IoU: 0.34181690335085846\n",
      "Mean angle difference: -36.94360251794951 degrees\n",
      "IoU per class: [0.47312818 0.25412337 0.20217602 0.38829684 0.32764492 0.12499052\n",
      " 0.34784682 0.52588004 0.45163769 0.26784576 0.27313261 0.36069352\n",
      " 0.29398683 0.03790916 0.26682938 0.51816256 0.15439605 0.884024  ]\n",
      "Elapsed time: 290.36410188674927 seconds.\n",
      "Testing two look models 2 and 4...\n",
      "Mean IoU: 0.3721439543606668\n",
      "Mean angle difference: -29.570565171128113 degrees\n",
      "IoU per class: [0.57803383 0.28812749 0.16983787 0.40137871 0.40271124 0.15153546\n",
      " 0.38634039 0.51770835 0.50735617 0.36993232 0.24716188 0.38433858\n",
      " 0.36836468 0.09000443 0.30672522 0.51198753 0.13469877 0.88234824]\n",
      "Elapsed time: 312.0038318634033 seconds.\n",
      "Testing two look models 2 and 5...\n",
      "Mean IoU: 0.3638843417677193\n",
      "Mean angle difference: -29.398225815295977 degrees\n",
      "IoU per class: [0.47378581 0.25227894 0.18854895 0.39199768 0.24999562 0.11667163\n",
      " 0.41852751 0.5542677  0.50321786 0.29889608 0.27120681 0.41408163\n",
      " 0.30454115 0.14714984 0.33382162 0.56724214 0.18247726 0.88120993]\n",
      "Elapsed time: 308.86786437034607 seconds.\n",
      "Testing two look models 2 and 6...\n",
      "Mean IoU: 0.3938903977690379\n",
      "Mean angle difference: -37.48123841490823 degrees\n",
      "IoU per class: [0.39292548 0.43495849 0.26340031 0.44598031 0.38515677 0.24239283\n",
      " 0.43359077 0.55833534 0.49202104 0.3703829  0.33117287 0.41444357\n",
      " 0.15716772 0.24172811 0.37863022 0.58681723 0.12411564 0.83680757]\n",
      "Elapsed time: 271.9450228214264 seconds.\n",
      "Testing two look models 3 and 0...\n",
      "Mean IoU: 0.14446564501504933\n",
      "Mean angle difference: -36.932470798324 degrees\n",
      "IoU per class: [0.25651641 0.00970454 0.09526904 0.08668153 0.09779233 0.\n",
      " 0.05645958 0.22689335 0.11494023 0.0107554  0.07170013 0.11908567\n",
      " 0.12486522 0.         0.03586828 0.34621879 0.10248202 0.84514907]\n",
      "Elapsed time: 263.5914957523346 seconds.\n",
      "Testing two look models 3 and 1...\n"
     ]
    },
    {
     "name": "stdout",
     "output_type": "stream",
     "text": [
      "Mean IoU: 0.15748705949187058\n",
      "Mean angle difference: -32.68443924064317 degrees\n",
      "IoU per class: [0.19416608 0.00968494 0.06315735 0.25364391 0.10527548 0.01875938\n",
      " 0.05397709 0.16516975 0.18545742 0.00731816 0.1003646  0.22508673\n",
      " 0.21008243 0.03014473 0.04722367 0.23648963 0.06621306 0.86255263]\n",
      "Elapsed time: 267.0939574241638 seconds.\n",
      "Testing two look models 3 and 2...\n",
      "Mean IoU: 0.26598172410848353\n",
      "Mean angle difference: -42.38350395716616 degrees\n",
      "IoU per class: [0.3137377  0.14736883 0.21232957 0.23725551 0.2235786  0.\n",
      " 0.24042309 0.46803877 0.43349714 0.16165579 0.15591396 0.25447576\n",
      " 0.19512469 0.         0.16585979 0.47905246 0.20932001 0.89003935]\n",
      "Elapsed time: 239.67762804031372 seconds.\n",
      "Testing two look models 3 and 3...\n",
      "Mean IoU: 0.35622833800205705\n",
      "Mean angle difference: -34.834340576574434 degrees\n",
      "IoU per class: [0.44041543 0.21264897 0.2828633  0.42446144 0.3119025  0.08949698\n",
      " 0.34481473 0.5236306  0.45368446 0.32435146 0.38673982 0.43296963\n",
      " 0.31983773 0.05468917 0.24212109 0.50266803 0.17785705 0.88695769]\n",
      "Elapsed time: 249.79802656173706 seconds.\n",
      "Testing two look models 3 and 4...\n",
      "Mean IoU: 0.38834669031164964\n",
      "Mean angle difference: -28.578126588733056 degrees\n",
      "IoU per class: [0.54292585 0.27789117 0.29072056 0.46971266 0.40154818 0.13518675\n",
      " 0.36760774 0.5125459  0.49952809 0.39977278 0.37609318 0.4393739\n",
      " 0.36665351 0.11009696 0.27393663 0.49726714 0.14101009 0.88836935]\n",
      "Elapsed time: 264.1594638824463 seconds.\n",
      "Testing two look models 3 and 5...\n",
      "Mean IoU: 0.3847629815571764\n",
      "Mean angle difference: -27.036589325741225 degrees\n",
      "IoU per class: [0.44256447 0.28981821 0.30047349 0.42662738 0.24130171 0.1707603\n",
      " 0.40512502 0.53820929 0.47004643 0.39232236 0.37374187 0.45817576\n",
      " 0.31981894 0.17860503 0.29744505 0.55133065 0.18526757 0.88410014]\n",
      "Elapsed time: 272.16103172302246 seconds.\n",
      "Testing two look models 3 and 6...\n",
      "Mean IoU: 0.40267248051844723\n",
      "Mean angle difference: -34.89622038264838 degrees\n",
      "IoU per class: [0.40950754 0.41103532 0.39989076 0.50120496 0.43893205 0.12242347\n",
      " 0.43910907 0.54993513 0.47565842 0.3982009  0.46072299 0.46533956\n",
      " 0.17155557 0.112841   0.35308134 0.55682648 0.13498668 0.84685341]\n",
      "Elapsed time: 277.95972084999084 seconds.\n"
     ]
    }
   ],
   "source": [
    "rooftop_models = [model_inria_raw_5e, model_inria_aug_5e, model_inria_raw_10e, model_inria_aug_10e]\n",
    "sections_models = [model_z19, model_z19_aug, model_z20, model_z20_aug, model_mix_val19, model_mix_val20, model_mix_aug]\n",
    "\n",
    "table_ious = np.zeros((len(rooftop_models), len(sections_models)))\n",
    "table_mads = np.zeros((len(rooftop_models), len(sections_models)))\n",
    "\n",
    "for i, rooftop_model in enumerate(rooftop_models):\n",
    "    for j, section_model in enumerate(sections_models):\n",
    "        print(f'Testing two look models {i} and {j}...')\n",
    "        iou, mean_iou, mad, elapsed_time = test_model_twolook(rooftop_model,\n",
    "                                                               section_model,\n",
    "                                                               rid_test_folder,\n",
    "                                                               num_classes,\n",
    "                                                               background_class_1,\n",
    "                                                               background_class_2,\n",
    "                                                               ignore_index,\n",
    "                                                               num_angles,\n",
    "                                                               output=False)\n",
    "        table_ious[i][j] = mean_iou\n",
    "        table_mads[i][j] = mad\n",
    "        print(f'Mean IoU: {mean_iou}')\n",
    "        print(f'Mean angle difference: {mad} degrees')\n",
    "        print(f'IoU per class: {iou}')\n",
    "        print(f'Elapsed time: {elapsed_time} seconds.')"
   ]
  },
  {
   "cell_type": "code",
   "execution_count": 77,
   "id": "6dc042b8",
   "metadata": {},
   "outputs": [
    {
     "data": {
      "image/png": "[encoded data removed]",
      "text/plain": [
       "<Figure size 640x480 with 2 Axes>"
      ]
     },
     "metadata": {},
     "output_type": "display_data"
    }
   ],
   "source": [
    "table_ious_rounded = (table_ious * 100).astype('int') / 100\n",
    "table_mads_rounded = (table_mads * 100).astype('int') / 100\n",
    "ious_df = pd.DataFrame(data=table_ious_rounded,\n",
    "             index=['raw5','aug5','raw10','aug10'],\n",
    "             columns=['rawz19','aug19','rawz20','augz20','augval19','augval20','augmix'])\n",
    "mads_df = pd.DataFrame(data=table_mads_rounded,\n",
    "             index=['raw5','aug5','raw10','aug10'],\n",
    "             columns=['rawz19','aug19','rawz20','augz20','augval19','augval20','augmix'])\n",
    "\n",
    "fig, ax = plt.subplots(2,1)\n",
    "\n",
    "# hide axes\n",
    "fig.patch.set_visible(False)\n",
    "ax[0].axis('off'), ax[1].axis('off')\n",
    "ax[0].axis('tight'), ax[1].axis('tight')\n",
    "\n",
    "ax[0].table(cellText=ious_df.values, rowLabels=ious_df.index, colLabels=ious_df.columns, loc='center')\n",
    "ax[1].table(cellText=mads_df.values, rowLabels=mads_df.index, colLabels=mads_df.columns, loc='center')\n",
    "\n",
    "fig.tight_layout()\n",
    "\n",
    "plt.show()"
   ]
  },
  {
   "cell_type": "code",
   "execution_count": null,
   "id": "63e26cb4",
   "metadata": {},
   "outputs": [],
   "source": []
  }
 ],
 "metadata": {
  "kernelspec": {
   "display_name": "Python 3 (ipykernel)",
   "language": "python",
   "name": "python3"
  },
  "language_info": {
   "codemirror_mode": {
    "name": "ipython",
    "version": 3
   },
   "file_extension": ".py",
   "mimetype": "text/x-python",
   "name": "python",
   "nbconvert_exporter": "python",
   "pygments_lexer": "ipython3",
   "version": "3.8.13"
  }
 },
 "nbformat": 4,
 "nbformat_minor": 5
}
