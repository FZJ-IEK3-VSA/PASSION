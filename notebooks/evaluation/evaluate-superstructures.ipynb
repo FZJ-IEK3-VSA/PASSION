{
 "cells": [
  {
   "cell_type": "code",
   "execution_count": 1,
   "id": "81e30ea8",
   "metadata": {},
   "outputs": [],
   "source": [
    "import torch\n",
    "import pathlib\n",
    "import cv2\n",
    "import PIL\n",
    "import numpy as np\n",
    "import pandas as pd\n",
    "import matplotlib.pyplot as plt\n",
    "import time\n",
    "from tqdm import tqdm\n",
    "%matplotlib inline\n",
    "\n",
    "from passion.segmentation import prediction"
   ]
  },
  {
   "cell_type": "code",
   "execution_count": 2,
   "id": "46dd84c5",
   "metadata": {},
   "outputs": [],
   "source": [
    "device = ('cuda' if torch.cuda.is_available() else 'cpu')"
   ]
  },
  {
   "cell_type": "markdown",
   "id": "6f282e4c",
   "metadata": {},
   "source": [
    "# Load testing models"
   ]
  },
  {
   "cell_type": "code",
   "execution_count": 3,
   "id": "0d4df76f",
   "metadata": {},
   "outputs": [],
   "source": [
    "models_folder_path = pathlib.Path('../../workflow/output/model')\n",
    "superstructures_models_folder_path = models_folder_path / 'superst-segmentation'\n",
    "rooftop_models_folder_path = models_folder_path / 'rooftop-segmentation'\n",
    "\n",
    "# Sections models\n",
    "model_aug_15e = torch.load(str(superstructures_models_folder_path / 'superstructures-rid-15e.pth'), map_location=torch.device(device))\n",
    "model_aug_20e = torch.load(str(superstructures_models_folder_path / 'superstructures-rid-20e.pth'), map_location=torch.device(device))\n",
    "model_raw_20e = torch.load(str(superstructures_models_folder_path / 'superstructures-rid-raw-20e.pth'), map_location=torch.device(device))\n",
    "\n",
    "# Rooftop model\n",
    "model_inria = torch.load(str(rooftop_models_folder_path / 'inria-aug-12e.pth'), map_location=torch.device(device))"
   ]
  },
  {
   "cell_type": "markdown",
   "id": "cc1bddea",
   "metadata": {},
   "source": [
    "# Testing folder paths"
   ]
  },
  {
   "cell_type": "code",
   "execution_count": 4,
   "id": "d1d92d0a",
   "metadata": {},
   "outputs": [],
   "source": [
    "rid_test_folder = pathlib.Path('/storage/internal/home/r-pueblas/projects/rooftop-segmentation-datasets/data/RID/output/masks_superstructures_reviewed/test')\n",
    "rid_test_folder_image = rid_test_folder / 'image'\n",
    "rid_test_folder_label = rid_test_folder / 'label'"
   ]
  },
  {
   "cell_type": "markdown",
   "id": "05713507",
   "metadata": {},
   "source": [
    "# Metrics"
   ]
  },
  {
   "cell_type": "code",
   "execution_count": 5,
   "id": "e9836b86",
   "metadata": {},
   "outputs": [],
   "source": [
    "def intersect_and_union(pred_label, label, num_classes, ignore_index):\n",
    "    mask = (label != ignore_index)\n",
    "    pred_label = pred_label[mask]\n",
    "    label = label[mask]\n",
    "\n",
    "    intersect = pred_label[pred_label == label]\n",
    "    area_intersect, _ = np.histogram(\n",
    "        intersect, bins=np.arange(num_classes + 1))\n",
    "    area_pred_label, _ = np.histogram(\n",
    "        pred_label, bins=np.arange(num_classes + 1))\n",
    "    area_label, _ = np.histogram(label, bins=np.arange(num_classes + 1))\n",
    "    area_union = area_pred_label + area_label - area_intersect\n",
    "\n",
    "    return area_intersect, area_union, area_pred_label, area_label"
   ]
  },
  {
   "cell_type": "markdown",
   "id": "c36d512f",
   "metadata": {},
   "source": [
    "# Helper functions"
   ]
  },
  {
   "cell_type": "code",
   "execution_count": 6,
   "id": "de59b035",
   "metadata": {},
   "outputs": [],
   "source": [
    "def test_model_superstructures(model, test_folder, num_classes, background_class, ignore_index, output=True):\n",
    "    start = time.time()\n",
    "    \n",
    "    test_folder_image = test_folder / 'image'\n",
    "    test_folder_label = test_folder / 'label'\n",
    "\n",
    "    total_area_intersect = np.zeros((num_classes, ), dtype=float)\n",
    "    total_area_union = np.zeros((num_classes, ), dtype=float)\n",
    "    total_area_pred_label = np.zeros((num_classes, ), dtype=float)\n",
    "    total_area_label = np.zeros((num_classes, ), dtype=float)\n",
    "\n",
    "    for i, filename in enumerate(test_folder_image.glob('*.png')):\n",
    "        image = cv2.imread(str(filename))\n",
    "        label = cv2.imread(str(test_folder_label / filename.name))\n",
    "        label = label[:,:,0]\n",
    "\n",
    "\n",
    "        pred = prediction.segment_img(image, model, tile_size=512, stride=512, background_class=background_class)\n",
    "\n",
    "        area_intersect, area_union, area_pred_label, area_label = \\\n",
    "                            intersect_and_union(pred, label, num_classes, ignore_index)\n",
    "        total_area_intersect += area_intersect\n",
    "        total_area_union += area_union\n",
    "        total_area_pred_label += area_pred_label\n",
    "        total_area_label += area_label\n",
    "\n",
    "        if i<5 and output:\n",
    "            f, axarr = plt.subplots(1,3, figsize=(10, 10))\n",
    "            axarr[0].imshow(image)\n",
    "            axarr[1].imshow(label)\n",
    "            axarr[2].imshow(pred)\n",
    "            if i==0:\n",
    "                axarr[0].title.set_text('Image')\n",
    "                axarr[1].title.set_text('Ground truth')\n",
    "                axarr[2].title.set_text('model_mix_aug')\n",
    "\n",
    "            plt.subplots_adjust(wspace=0.1, hspace=0.1)\n",
    "            for ax in axarr:\n",
    "                ax.axis('off')\n",
    "            plt.show()\n",
    "\n",
    "        iou = total_area_intersect / total_area_union\n",
    "\n",
    "        if output: print(f'Processed image {filename.stem}, partial mean iou: {np.mean(iou[:-1][~np.isnan(iou[:-1])])}, with background class: {np.mean(iou[~np.isnan(iou)])}')\n",
    "\n",
    "    all_acc = total_area_intersect.sum() / total_area_label.sum()\n",
    "    acc = total_area_intersect / total_area_label\n",
    "    iou = total_area_intersect / total_area_union\n",
    "\n",
    "    end = time.time()\n",
    "    elapsed_time = (end - start)\n",
    "\n",
    "    if output:\n",
    "        print('\\n')\n",
    "        print(f'Elapsed time: {elapsed_time} seconds')\n",
    "        print(f'Final IoU per class: {iou}')\n",
    "        print(f'Final mean IoU with background class: {np.mean(iou[~np.isnan(iou)])}')\n",
    "        print(f'Final mean IoU without background class: {np.mean(iou[:-1][~np.isnan(iou[:-1])])}')\n",
    "    return iou, np.mean(iou[~np.isnan(iou)]), elapsed_time\n",
    "\n",
    "def test_model_twolook(rooftop_model,\n",
    "                       superstructures_model,\n",
    "                       test_folder,\n",
    "                       num_classes,\n",
    "                       background_class_1,\n",
    "                       background_class_2,\n",
    "                       ignore_index,\n",
    "                       output=True\n",
    "                      ):\n",
    "    start = time.time()\n",
    "    \n",
    "    test_folder_image = test_folder / 'image'\n",
    "    test_folder_label = test_folder / 'label'\n",
    "\n",
    "    total_area_intersect = np.zeros((num_classes, ), dtype=float)\n",
    "    total_area_union = np.zeros((num_classes, ), dtype=float)\n",
    "    total_area_pred_label = np.zeros((num_classes, ), dtype=float)\n",
    "    total_area_label = np.zeros((num_classes, ), dtype=float)\n",
    "\n",
    "    for i, filename in enumerate(test_folder_image.glob('*.png')):\n",
    "        image = cv2.imread(str(filename))\n",
    "        label = cv2.imread(str(test_folder_label / filename.name))\n",
    "        label = label[:,:,0]\n",
    "    \n",
    "        roofs = prediction.segment_img(image, rooftop_model, tile_size=512, stride=512, background_class=background_class_1)\n",
    "        filtered = np.ones(image.shape).astype(np.uint8)\n",
    "        idx=(roofs!=0)\n",
    "        filtered[idx] = image[idx]\n",
    "\n",
    "        pred = prediction.segment_img(image, superstructures_model, tile_size=512, stride=512, background_class=background_class_2)\n",
    "        pred = (pred * idx.astype('uint8'))\n",
    "        area_intersect, area_union, area_pred_label, area_label = \\\n",
    "                            intersect_and_union(pred, label, num_classes, ignore_index)\n",
    "        total_area_intersect += area_intersect\n",
    "        total_area_union += area_union\n",
    "        total_area_pred_label += area_pred_label\n",
    "        total_area_label += area_label\n",
    "\n",
    "        if i<5 and output:\n",
    "            f, axarr = plt.subplots(1,3, figsize=(10, 10))\n",
    "            axarr[0].imshow(image)\n",
    "            axarr[1].imshow(label)\n",
    "            axarr[2].imshow(pred)\n",
    "            if i==0:\n",
    "                axarr[0].title.set_text('Image')\n",
    "                axarr[1].title.set_text('Ground truth')\n",
    "                axarr[2].title.set_text('model_mix_aug')\n",
    "\n",
    "            plt.subplots_adjust(wspace=0.1, hspace=0.1)\n",
    "            for ax in axarr:\n",
    "                ax.axis('off')\n",
    "            plt.show()\n",
    "\n",
    "        iou = total_area_intersect / total_area_union\n",
    "\n",
    "        if output: print(f'Processed image {filename.stem}, partial mean iou: {np.mean(iou[:-1][~np.isnan(iou[:-1])])}, with background class: {np.mean(iou[~np.isnan(iou)])}')\n",
    "\n",
    "    all_acc = total_area_intersect.sum() / total_area_label.sum()\n",
    "    acc = total_area_intersect / total_area_label\n",
    "    iou = total_area_intersect / total_area_union\n",
    "\n",
    "    end = time.time()\n",
    "    elapsed_time = (end - start)\n",
    "\n",
    "    if output:\n",
    "        print('\\n')\n",
    "        print(f'Elapsed time: {elapsed_time} seconds')\n",
    "        print(f'Final IoU per class: {iou}')\n",
    "        print(f'Final mean IoU with background class: {np.mean(iou[~np.isnan(iou)])}')\n",
    "        print(f'Final mean IoU without background class: {np.mean(iou[:-1][~np.isnan(iou[:-1])])}')\n",
    "\n",
    "    return iou, np.mean(iou[~np.isnan(iou)]), elapsed_time"
   ]
  },
  {
   "cell_type": "markdown",
   "id": "e1d9ec43",
   "metadata": {},
   "source": [
    "# Results"
   ]
  },
  {
   "cell_type": "code",
   "execution_count": 7,
   "id": "4208662a",
   "metadata": {},
   "outputs": [],
   "source": [
    "num_classes = 9\n",
    "background_class = 0\n",
    "ignore_index = -1"
   ]
  },
  {
   "cell_type": "code",
   "execution_count": 8,
   "id": "28a00fbb",
   "metadata": {},
   "outputs": [
    {
     "name": "stdout",
     "output_type": "stream",
     "text": [
      "Testing model aug 15e...\n"
     ]
    },
    {
     "name": "stderr",
     "output_type": "stream",
     "text": [
      "/tmp/ipykernel_1089492/1480525181.py:42: RuntimeWarning: invalid value encountered in true_divide\n",
      "  iou = total_area_intersect / total_area_union\n"
     ]
    },
    {
     "name": "stdout",
     "output_type": "stream",
     "text": [
      "Mean IoU: 0.46320181844823033\n",
      "IoU per class: [0.80885863 0.55937964 0.43855717 0.11804009 0.35329789 0.4580988\n",
      " 0.28377423 0.16848972 0.9803202 ]\n",
      "Elapsed time: 99.74971318244934 seconds.\n"
     ]
    }
   ],
   "source": [
    "print(f'Testing model aug 15e...')\n",
    "\n",
    "iou, mean_iou, elapsed_time = test_model_superstructures(model_aug_15e,\n",
    "                                                              rid_test_folder,\n",
    "                                                              num_classes,\n",
    "                                                              background_class,\n",
    "                                                              ignore_index,\n",
    "                                                              output=False)\n",
    "\n",
    "print(f'Mean IoU: {mean_iou}')\n",
    "print(f'IoU per class: {iou}')\n",
    "print(f'Elapsed time: {elapsed_time} seconds.')"
   ]
  },
  {
   "cell_type": "code",
   "execution_count": 9,
   "id": "ef433003",
   "metadata": {},
   "outputs": [
    {
     "name": "stdout",
     "output_type": "stream",
     "text": [
      "Testing model aug 20e...\n"
     ]
    },
    {
     "name": "stderr",
     "output_type": "stream",
     "text": [
      "/tmp/ipykernel_1089492/1480525181.py:42: RuntimeWarning: invalid value encountered in true_divide\n",
      "  iou = total_area_intersect / total_area_union\n"
     ]
    },
    {
     "name": "stdout",
     "output_type": "stream",
     "text": [
      "Mean IoU: 0.4927006571185375\n",
      "IoU per class: [0.81640351 0.59532834 0.47644888 0.17905137 0.41627993 0.48439763\n",
      " 0.2902169  0.1948382  0.98134116]\n",
      "Elapsed time: 101.74772477149963 seconds.\n"
     ]
    }
   ],
   "source": [
    "print(f'Testing model aug 20e...')\n",
    "\n",
    "iou, mean_iou, elapsed_time = test_model_superstructures(model_aug_20e,\n",
    "                                                              rid_test_folder,\n",
    "                                                              num_classes,\n",
    "                                                              background_class,\n",
    "                                                              ignore_index,\n",
    "                                                              output=False)\n",
    "\n",
    "print(f'Mean IoU: {mean_iou}')\n",
    "print(f'IoU per class: {iou}')\n",
    "print(f'Elapsed time: {elapsed_time} seconds.')"
   ]
  },
  {
   "cell_type": "code",
   "execution_count": 10,
   "id": "6e411dfe",
   "metadata": {},
   "outputs": [
    {
     "name": "stdout",
     "output_type": "stream",
     "text": [
      "Testing model raw 20e...\n"
     ]
    },
    {
     "name": "stderr",
     "output_type": "stream",
     "text": [
      "/tmp/ipykernel_1089492/1480525181.py:42: RuntimeWarning: invalid value encountered in true_divide\n",
      "  iou = total_area_intersect / total_area_union\n"
     ]
    },
    {
     "name": "stdout",
     "output_type": "stream",
     "text": [
      "Mean IoU: 0.3672405402297685\n",
      "IoU per class: [7.32984870e-01 4.48470338e-01 3.47538933e-01 4.19064648e-05\n",
      " 1.62660642e-01 3.74906068e-01 1.73192733e-01 8.90930975e-02\n",
      " 9.76276274e-01]\n",
      "Elapsed time: 101.1682550907135 seconds.\n"
     ]
    }
   ],
   "source": [
    "print(f'Testing model raw 20e...')\n",
    "\n",
    "iou, mean_iou, elapsed_time = test_model_superstructures(model_raw_20e,\n",
    "                                                              rid_test_folder,\n",
    "                                                              num_classes,\n",
    "                                                              background_class,\n",
    "                                                              ignore_index,\n",
    "                                                              output=False)\n",
    "\n",
    "print(f'Mean IoU: {mean_iou}')\n",
    "print(f'IoU per class: {iou}')\n",
    "print(f'Elapsed time: {elapsed_time} seconds.')"
   ]
  },
  {
   "cell_type": "markdown",
   "id": "7228367e",
   "metadata": {},
   "source": [
    "# Two-look"
   ]
  },
  {
   "cell_type": "code",
   "execution_count": 11,
   "id": "74a8c841",
   "metadata": {},
   "outputs": [
    {
     "name": "stdout",
     "output_type": "stream",
     "text": [
      "Testing two look models...\n"
     ]
    },
    {
     "name": "stderr",
     "output_type": "stream",
     "text": [
      "/tmp/ipykernel_1089492/1480525181.py:114: RuntimeWarning: invalid value encountered in true_divide\n",
      "  iou = total_area_intersect / total_area_union\n"
     ]
    },
    {
     "name": "stdout",
     "output_type": "stream",
     "text": [
      "Mean IoU: 0.253602244209725\n",
      "IoU per class: [0.01269244 0.55328723 0.43602122 0.16382758 0.35548558 0.32489318\n",
      " 0.06409266 0.15899628 0.21312404]\n",
      "Elapsed time: 203.6452877521515 seconds.\n"
     ]
    }
   ],
   "source": [
    "background_class_1 = 0\n",
    "background_class_2 = 0\n",
    "\n",
    "print(f'Testing two look models...')\n",
    "iou, mean_iou, elapsed_time = test_model_twolook(model_inria,\n",
    "                                                 model_aug_20e,\n",
    "                                                 rid_test_folder,\n",
    "                                                 num_classes,\n",
    "                                                 background_class_1,\n",
    "                                                 background_class_2,\n",
    "                                                 ignore_index,\n",
    "                                                 output=False)\n",
    "\n",
    "print(f'Mean IoU: {mean_iou}')\n",
    "print(f'IoU per class: {iou}')\n",
    "print(f'Elapsed time: {elapsed_time} seconds.')"
   ]
  }
 ],
 "metadata": {
  "kernelspec": {
   "display_name": "Python 3 (ipykernel)",
   "language": "python",
   "name": "python3"
  },
  "language_info": {
   "codemirror_mode": {
    "name": "ipython",
    "version": 3
   },
   "file_extension": ".py",
   "mimetype": "text/x-python",
   "name": "python",
   "nbconvert_exporter": "python",
   "pygments_lexer": "ipython3",
   "version": "3.8.13"
  }
 },
 "nbformat": 4,
 "nbformat_minor": 5
}
