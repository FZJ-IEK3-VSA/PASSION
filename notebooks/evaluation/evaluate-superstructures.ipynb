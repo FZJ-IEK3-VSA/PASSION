{
 "cells": [
  {
   "cell_type": "code",
   "execution_count": 1,
   "id": "81e30ea8",
   "metadata": {},
   "outputs": [],
   "source": [
    "import torch\n",
    "import pathlib\n",
    "import cv2\n",
    "import PIL\n",
    "import numpy as np\n",
    "import pandas as pd\n",
    "import matplotlib.pyplot as plt\n",
    "import time\n",
    "from tqdm import tqdm\n",
    "%matplotlib inline\n",
    "\n",
    "from passion.segmentation import prediction"
   ]
  },
  {
   "cell_type": "code",
   "execution_count": 2,
   "id": "46dd84c5",
   "metadata": {},
   "outputs": [],
   "source": [
    "device = ('cuda' if torch.cuda.is_available() else 'cpu')"
   ]
  },
  {
   "cell_type": "markdown",
   "id": "6f282e4c",
   "metadata": {},
   "source": [
    "# Load testing models"
   ]
  },
  {
   "cell_type": "code",
   "execution_count": 3,
   "id": "0d4df76f",
   "metadata": {},
   "outputs": [],
   "source": [
    "models_folder_path = pathlib.Path('../workflow/output/model')\n",
    "superstructures_models_folder_path = models_folder_path / 'pv-segmentation'\n",
    "rooftop_models_folder_path = models_folder_path / 'rooftop-segmentation'\n",
    "\n",
    "# Sections models\n",
    "model_superstructures = torch.load(str(superstructures_models_folder_path / 'rid-mix_best.pth'), map_location=torch.device(device))\n",
    "\n",
    "# Rooftop models\n",
    "model_inria_aug_10e = torch.load(str(rooftop_models_folder_path / 'inria-aug-10e.pth'), map_location=torch.device(device))\n",
    "model_inria_aug_5e = torch.load(str(rooftop_models_folder_path / 'inria-aug-5e.pth'), map_location=torch.device(device))\n",
    "model_inria_raw_10e = torch.load(str(rooftop_models_folder_path / 'inria-raw-10e.pth'), map_location=torch.device(device))\n",
    "model_inria_raw_5e = torch.load(str(rooftop_models_folder_path / 'inria-raw-5e.pth'), map_location=torch.device(device))"
   ]
  },
  {
   "cell_type": "markdown",
   "id": "cc1bddea",
   "metadata": {},
   "source": [
    "# Testing folder paths"
   ]
  },
  {
   "cell_type": "code",
   "execution_count": 4,
   "id": "d1d92d0a",
   "metadata": {},
   "outputs": [],
   "source": [
    "rid_test_folder = pathlib.Path('/storage/internal/home/r-pueblas/projects/rooftop-segmentation-datasets/data/RID/output/masks_superstructures_reviewed/test')\n",
    "rid_test_folder_image = rid_test_folder / 'image'\n",
    "rid_test_folder_label = rid_test_folder / 'label'"
   ]
  },
  {
   "cell_type": "markdown",
   "id": "05713507",
   "metadata": {},
   "source": [
    "# Metrics"
   ]
  },
  {
   "cell_type": "code",
   "execution_count": 5,
   "id": "e9836b86",
   "metadata": {},
   "outputs": [],
   "source": [
    "def intersect_and_union(pred_label, label, num_classes, ignore_index):\n",
    "    mask = (label != ignore_index)\n",
    "    pred_label = pred_label[mask]\n",
    "    label = label[mask]\n",
    "\n",
    "    intersect = pred_label[pred_label == label]\n",
    "    area_intersect, _ = np.histogram(\n",
    "        intersect, bins=np.arange(num_classes + 1))\n",
    "    area_pred_label, _ = np.histogram(\n",
    "        pred_label, bins=np.arange(num_classes + 1))\n",
    "    area_label, _ = np.histogram(label, bins=np.arange(num_classes + 1))\n",
    "    area_union = area_pred_label + area_label - area_intersect\n",
    "\n",
    "    return area_intersect, area_union, area_pred_label, area_label"
   ]
  },
  {
   "cell_type": "markdown",
   "id": "c36d512f",
   "metadata": {},
   "source": [
    "# Helper functions"
   ]
  },
  {
   "cell_type": "code",
   "execution_count": 6,
   "id": "de59b035",
   "metadata": {},
   "outputs": [],
   "source": [
    "def test_model_superstructures(model, test_folder, num_classes, background_class, ignore_index, output=True):\n",
    "    start = time.time()\n",
    "    \n",
    "    test_folder_image = test_folder / 'image'\n",
    "    test_folder_label = test_folder / 'label'\n",
    "\n",
    "    total_area_intersect = np.zeros((num_classes, ), dtype=float)\n",
    "    total_area_union = np.zeros((num_classes, ), dtype=float)\n",
    "    total_area_pred_label = np.zeros((num_classes, ), dtype=float)\n",
    "    total_area_label = np.zeros((num_classes, ), dtype=float)\n",
    "\n",
    "    for i, filename in enumerate(test_folder_image.glob('*.png')):\n",
    "        image = cv2.imread(str(filename))\n",
    "        label = cv2.imread(str(test_folder_label / filename.name))\n",
    "        label = label[:,:,0]\n",
    "\n",
    "\n",
    "        pred = prediction.segment_img(image, model, tile_size=512, stride=512, background_class=background_class)\n",
    "\n",
    "        area_intersect, area_union, area_pred_label, area_label = \\\n",
    "                            intersect_and_union(pred, label, num_classes, ignore_index)\n",
    "        total_area_intersect += area_intersect\n",
    "        total_area_union += area_union\n",
    "        total_area_pred_label += area_pred_label\n",
    "        total_area_label += area_label\n",
    "\n",
    "        if i<5 and output:\n",
    "            f, axarr = plt.subplots(1,3, figsize=(10, 10))\n",
    "            axarr[0].imshow(image)\n",
    "            axarr[1].imshow(label)\n",
    "            axarr[2].imshow(pred)\n",
    "            if i==0:\n",
    "                axarr[0].title.set_text('Image')\n",
    "                axarr[1].title.set_text('Ground truth')\n",
    "                axarr[2].title.set_text('model_mix_aug')\n",
    "\n",
    "            plt.subplots_adjust(wspace=0.1, hspace=0.1)\n",
    "            for ax in axarr:\n",
    "                ax.axis('off')\n",
    "            plt.show()\n",
    "\n",
    "        iou = total_area_intersect / total_area_union\n",
    "\n",
    "        if output: print(f'Processed image {filename.stem}, partial mean iou: {np.mean(iou[:-1][~np.isnan(iou[:-1])])}, with background class: {np.mean(iou[~np.isnan(iou)])}')\n",
    "\n",
    "    all_acc = total_area_intersect.sum() / total_area_label.sum()\n",
    "    acc = total_area_intersect / total_area_label\n",
    "    iou = total_area_intersect / total_area_union\n",
    "\n",
    "    end = time.time()\n",
    "    elapsed_time = (end - start)\n",
    "\n",
    "    if output:\n",
    "        print('\\n')\n",
    "        print(f'Elapsed time: {elapsed_time} seconds')\n",
    "        print(f'Final IoU per class: {iou}')\n",
    "        print(f'Final mean IoU with background class: {np.mean(iou[~np.isnan(iou)])}')\n",
    "        print(f'Final mean IoU without background class: {np.mean(iou[:-1][~np.isnan(iou[:-1])])}')\n",
    "    return iou, np.mean(iou[~np.isnan(iou)]), elapsed_time\n",
    "\n",
    "def test_model_twolook(rooftop_model,\n",
    "                       sections_model,\n",
    "                       test_folder,\n",
    "                       num_classes,\n",
    "                       background_class_1,\n",
    "                       background_class_2,\n",
    "                       ignore_index,\n",
    "                       output=True\n",
    "                      ):\n",
    "    start = time.time()\n",
    "    \n",
    "    test_folder_image = test_folder / 'image'\n",
    "    test_folder_label = test_folder / 'label'\n",
    "\n",
    "    total_area_intersect = np.zeros((num_classes, ), dtype=float)\n",
    "    total_area_union = np.zeros((num_classes, ), dtype=float)\n",
    "    total_area_pred_label = np.zeros((num_classes, ), dtype=float)\n",
    "    total_area_label = np.zeros((num_classes, ), dtype=float)\n",
    "\n",
    "    for i, filename in enumerate(test_folder_image.glob('*.png')):\n",
    "        image = cv2.imread(str(filename))\n",
    "        label = cv2.imread(str(test_folder_label / filename.name))\n",
    "        label = label[:,:,0]\n",
    "    \n",
    "        roofs = prediction.segment_img(image, rooftop_model, tile_size=512, stride=512, background_class=background_class_1)\n",
    "        filtered = np.ones(image.shape).astype(np.uint8)\n",
    "        idx=(roofs!=0)\n",
    "        filtered[idx] = image[idx]\n",
    "\n",
    "        pred = prediction.segment_img(filtered, sections_model, tile_size=512, stride=512, background_class=background_class_2)\n",
    "\n",
    "        area_intersect, area_union, area_pred_label, area_label = \\\n",
    "                            intersect_and_union(pred, label, num_classes, ignore_index)\n",
    "        total_area_intersect += area_intersect\n",
    "        total_area_union += area_union\n",
    "        total_area_pred_label += area_pred_label\n",
    "        total_area_label += area_label\n",
    "\n",
    "        if i<5 and output:\n",
    "            f, axarr = plt.subplots(1,3, figsize=(10, 10))\n",
    "            axarr[0].imshow(image)\n",
    "            axarr[1].imshow(label)\n",
    "            axarr[2].imshow(pred)\n",
    "            if i==0:\n",
    "                axarr[0].title.set_text('Image')\n",
    "                axarr[1].title.set_text('Ground truth')\n",
    "                axarr[2].title.set_text('model_mix_aug')\n",
    "\n",
    "            plt.subplots_adjust(wspace=0.1, hspace=0.1)\n",
    "            for ax in axarr:\n",
    "                ax.axis('off')\n",
    "            plt.show()\n",
    "\n",
    "        iou = total_area_intersect / total_area_union\n",
    "\n",
    "        if output: print(f'Processed image {filename.stem}, partial mean iou: {np.mean(iou[:-1][~np.isnan(iou[:-1])])}, with background class: {np.mean(iou[~np.isnan(iou)])}')\n",
    "\n",
    "    all_acc = total_area_intersect.sum() / total_area_label.sum()\n",
    "    acc = total_area_intersect / total_area_label\n",
    "    iou = total_area_intersect / total_area_union\n",
    "\n",
    "    end = time.time()\n",
    "    elapsed_time = (end - start)\n",
    "\n",
    "    if output:\n",
    "        print('\\n')\n",
    "        print(f'Elapsed time: {elapsed_time} seconds')\n",
    "        print(f'Final IoU per class: {iou}')\n",
    "        print(f'Final mean IoU with background class: {np.mean(iou[~np.isnan(iou)])}')\n",
    "        print(f'Final mean IoU without background class: {np.mean(iou[:-1][~np.isnan(iou[:-1])])}')\n",
    "\n",
    "    return iou, np.mean(iou[~np.isnan(iou)]), elapsed_time"
   ]
  },
  {
   "cell_type": "markdown",
   "id": "e1d9ec43",
   "metadata": {},
   "source": [
    "# Results"
   ]
  },
  {
   "cell_type": "code",
   "execution_count": 7,
   "id": "4208662a",
   "metadata": {},
   "outputs": [],
   "source": [
    "num_classes = 9\n",
    "background_class = 0\n",
    "ignore_index = -1"
   ]
  },
  {
   "cell_type": "code",
   "execution_count": 8,
   "id": "28a00fbb",
   "metadata": {},
   "outputs": [
    {
     "name": "stdout",
     "output_type": "stream",
     "text": [
      "Testing model rid-mix_best...\n"
     ]
    },
    {
     "name": "stderr",
     "output_type": "stream",
     "text": [
      "/tmp/ipykernel_1119234/2211447578.py:42: RuntimeWarning: invalid value encountered in true_divide\n",
      "  iou = total_area_intersect / total_area_union\n"
     ]
    },
    {
     "name": "stdout",
     "output_type": "stream",
     "text": [
      "Mean IoU: 0.46178370764662713\n",
      "IoU per class: [0.82819265 0.63668903 0.43154449 0.         0.30062006 0.48887912\n",
      " 0.36404658 0.12439111 0.98169033]\n",
      "Elapsed time: 434.7862045764923 seconds.\n"
     ]
    }
   ],
   "source": [
    "print(f'Testing model rid-mix_best...')\n",
    "\n",
    "iou, mean_iou, elapsed_time = test_model_superstructures(model_superstructures,\n",
    "                                                              rid_test_folder,\n",
    "                                                              num_classes,\n",
    "                                                              background_class,\n",
    "                                                              ignore_index,\n",
    "                                                              output=False)\n",
    "\n",
    "print(f'Mean IoU: {mean_iou}')\n",
    "print(f'IoU per class: {iou}')\n",
    "print(f'Elapsed time: {elapsed_time} seconds.')"
   ]
  },
  {
   "cell_type": "markdown",
   "id": "7228367e",
   "metadata": {},
   "source": [
    "# Two-look"
   ]
  },
  {
   "cell_type": "code",
   "execution_count": 9,
   "id": "0dbe1033",
   "metadata": {},
   "outputs": [
    {
     "name": "stdout",
     "output_type": "stream",
     "text": [
      "Testing two look models 0 and 0...\n"
     ]
    },
    {
     "name": "stderr",
     "output_type": "stream",
     "text": [
      "/tmp/ipykernel_1119234/2211447578.py:114: RuntimeWarning: invalid value encountered in true_divide\n",
      "  iou = total_area_intersect / total_area_union\n"
     ]
    },
    {
     "name": "stdout",
     "output_type": "stream",
     "text": [
      "Mean IoU: 0.2691622529975797\n",
      "IoU per class: [0.66883957 0.24948781 0.26575931 0.         0.1116928  0.14902475\n",
      " 0.         0.00891387 0.96874218]\n",
      "Elapsed time: 884.6088759899139 seconds.\n",
      "Testing two look models 1 and 0...\n",
      "Mean IoU: 0.29284706557858037\n",
      "IoU per class: [0.64993212 0.35869933 0.28526444 0.         0.1444512  0.21707863\n",
      " 0.         0.00885401 0.97134387]\n",
      "Elapsed time: 981.472959280014 seconds.\n",
      "Testing two look models 2 and 0...\n",
      "Mean IoU: 0.27155292135323184\n",
      "IoU per class: [0.64725751 0.27370531 0.26570835 0.         0.12335337 0.15377954\n",
      " 0.         0.01058808 0.96958413]\n",
      "Elapsed time: 883.6091823577881 seconds.\n",
      "Testing two look models 3 and 0...\n",
      "Mean IoU: 0.2817700246178898\n",
      "IoU per class: [0.60266127 0.34483324 0.27512576 0.         0.1430754  0.18466926\n",
      " 0.00387037 0.01113222 0.97056271]\n",
      "Elapsed time: 940.1987245082855 seconds.\n"
     ]
    }
   ],
   "source": [
    "background_class_1 = 0\n",
    "background_class_2 = 0\n",
    "\n",
    "rooftop_models = [model_inria_raw_5e, model_inria_aug_5e, model_inria_raw_10e, model_inria_aug_10e]\n",
    "superstructures_models = [model_superstructures]\n",
    "\n",
    "table_ious = np.zeros((len(rooftop_models), len(superstructures_models)))\n",
    "\n",
    "for i, rooftop_model in enumerate(rooftop_models):\n",
    "    for j, superstructure_model in enumerate(superstructures_models):\n",
    "        print(f'Testing two look models {i} and {j}...')\n",
    "        iou, mean_iou, elapsed_time = test_model_twolook(rooftop_model,\n",
    "                                                         superstructure_model,\n",
    "                                                         rid_test_folder,\n",
    "                                                         num_classes,\n",
    "                                                         background_class_1,\n",
    "                                                         background_class_2,\n",
    "                                                         ignore_index,\n",
    "                                                         output=False)\n",
    "        table_ious[i][j] = mean_iou\n",
    "        print(f'Mean IoU: {mean_iou}')\n",
    "        print(f'IoU per class: {iou}')\n",
    "        print(f'Elapsed time: {elapsed_time} seconds.')"
   ]
  },
  {
   "cell_type": "code",
   "execution_count": 13,
   "id": "1fb89165",
   "metadata": {},
   "outputs": [
    {
     "data": {
      "image/png": "[encoded data removed]",
      "text/plain": [
       "<Figure size 640x480 with 1 Axes>"
      ]
     },
     "metadata": {},
     "output_type": "display_data"
    }
   ],
   "source": [
    "table_ious_rounded = (table_ious * 100).astype('int') / 100\n",
    "ious_df = pd.DataFrame(data=table_ious_rounded,\n",
    "             index=['raw5','aug5','raw10','aug10'],\n",
    "             columns=['rid_best'])\n",
    "\n",
    "fig, ax = plt.subplots()\n",
    "\n",
    "# hide axes\n",
    "fig.patch.set_visible(False)\n",
    "ax.axis('off')\n",
    "ax.axis('tight')\n",
    "\n",
    "ax.table(cellText=ious_df.values, rowLabels=ious_df.index, colLabels=ious_df.columns, loc='center')\n",
    "\n",
    "fig.tight_layout()\n",
    "\n",
    "plt.show()"
   ]
  }
 ],
 "metadata": {
  "kernelspec": {
   "display_name": "Python 3 (ipykernel)",
   "language": "python",
   "name": "python3"
  },
  "language_info": {
   "codemirror_mode": {
    "name": "ipython",
    "version": 3
   },
   "file_extension": ".py",
   "mimetype": "text/x-python",
   "name": "python",
   "nbconvert_exporter": "python",
   "pygments_lexer": "ipython3",
   "version": "3.8.13"
  }
 },
 "nbformat": 4,
 "nbformat_minor": 5
}
