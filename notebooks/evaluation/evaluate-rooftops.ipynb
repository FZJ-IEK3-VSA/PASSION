{
 "cells": [
  {
   "cell_type": "code",
   "execution_count": 1,
   "id": "adf33795",
   "metadata": {},
   "outputs": [],
   "source": [
    "import torch\n",
    "import pathlib\n",
    "import cv2\n",
    "import PIL\n",
    "import numpy as np\n",
    "import pandas as pd\n",
    "import matplotlib.pyplot as plt\n",
    "import time\n",
    "import csv\n",
    "from tqdm import tqdm\n",
    "import utm\n",
    "import rasterio\n",
    "%matplotlib inline\n",
    "import passion.util\n",
    "\n",
    "from passion.segmentation import prediction"
   ]
  },
  {
   "cell_type": "code",
   "execution_count": 2,
   "id": "2b3596e8",
   "metadata": {},
   "outputs": [],
   "source": [
    "device = ('cuda' if torch.cuda.is_available() else 'cpu')"
   ]
  },
  {
   "cell_type": "code",
   "execution_count": 3,
   "id": "ee13f4b9",
   "metadata": {},
   "outputs": [],
   "source": [
    "models_folder_path = pathlib.Path('../workflow/output/model')\n",
    "rooftop_models_folder_path = models_folder_path / 'rooftop-segmentation'\n",
    "\n",
    "model_inria_aug_10e = torch.load(str(rooftop_models_folder_path / 'inria-aug-10e.pth'), map_location=torch.device(device))\n",
    "model_inria_aug_5e = torch.load(str(rooftop_models_folder_path / 'inria-raw-10e.pth'), map_location=torch.device(device))\n",
    "model_inria_raw_10e = torch.load(str(rooftop_models_folder_path / 'inria-aug-5e.pth'), map_location=torch.device(device))\n",
    "model_inria_raw_5e = torch.load(str(rooftop_models_folder_path / 'inria-raw-5e.pth'), map_location=torch.device(device))"
   ]
  },
  {
   "cell_type": "code",
   "execution_count": 4,
   "id": "05c8ffbe",
   "metadata": {},
   "outputs": [],
   "source": [
    "inria_val_folder = pathlib.Path('/storage/internal/home/r-pueblas/projects/rooftop-segmentation-datasets/data/INRIA/output/val')\n",
    "inria_val_folder_image = inria_val_folder / 'image'\n",
    "inria_val_folder_label = inria_val_folder / 'label'\n",
    "\n",
    "rid_test_folder = pathlib.Path('/storage/internal/home/r-pueblas/projects/rooftop-segmentation-datasets/data/RID/output/masks_segments_reviewed/test')\n",
    "rid_test_folder_image = rid_test_folder / 'image'\n",
    "rid_test_folder_label = rid_test_folder / 'label'\n",
    "\n",
    "nrw_path = pathlib.Path('/storage/internal/data/s-risch/exchange/shruthi/')\n",
    "nrw_csv = nrw_path / 'all_items_053340002002.csv'\n",
    "nrw_csv_v2 = nrw_path / 'all_items_053340002002_v2.csv'\n",
    "\n",
    "aachen_path = pathlib.Path('../workflow/output/geotiff-aachen-z19/satellite')\n",
    "\n",
    "airs_test_path = pathlib.Path('/storage/internal/data/r-pueblas/airs/test')\n",
    "airs_image_path = airs_test_path / 'image'\n",
    "airs_label_path = airs_test_path / 'label'"
   ]
  },
  {
   "cell_type": "code",
   "execution_count": 5,
   "id": "f58b396a",
   "metadata": {},
   "outputs": [],
   "source": [
    "def intersect_and_union(pred_label, label, num_classes, ignore_index):\n",
    "    mask = (label != ignore_index)\n",
    "    pred_label = pred_label[mask]\n",
    "    label = label[mask]\n",
    "\n",
    "    intersect = pred_label[pred_label == label]\n",
    "    area_intersect, _ = np.histogram(\n",
    "        intersect, bins=np.arange(num_classes + 1))\n",
    "    area_pred_label, _ = np.histogram(\n",
    "        pred_label, bins=np.arange(num_classes + 1))\n",
    "    area_label, _ = np.histogram(label, bins=np.arange(num_classes + 1))\n",
    "    area_union = area_pred_label + area_label - area_intersect\n",
    "\n",
    "    return area_intersect, area_union, area_pred_label, area_label"
   ]
  },
  {
   "cell_type": "code",
   "execution_count": 6,
   "id": "b1988a9f",
   "metadata": {},
   "outputs": [],
   "source": [
    "def test_model_rooftops(model, test_folder, num_classes, background_class, ignore_index, output=True):\n",
    "    start = time.time()\n",
    "    \n",
    "    test_folder_image = test_folder / 'image'\n",
    "    test_folder_label = test_folder / 'label'\n",
    "\n",
    "    total_area_intersect = np.zeros((num_classes, ), dtype=float)\n",
    "    total_area_union = np.zeros((num_classes, ), dtype=float)\n",
    "    total_area_pred_label = np.zeros((num_classes, ), dtype=float)\n",
    "    total_area_label = np.zeros((num_classes, ), dtype=float)\n",
    "\n",
    "    for i, filename in enumerate(test_folder_image.glob('*.png')):\n",
    "        if i>200: break\n",
    "\n",
    "        image = cv2.imread(str(filename))\n",
    "        label = cv2.imread(str(test_folder_label / filename.name))\n",
    "        label = label[:,:,0]\n",
    "\n",
    "        pred = prediction.segment_img(image, model, tile_size=512, stride=512, background_class=background_class)\n",
    "\n",
    "        area_intersect, area_union, area_pred_label, area_label = \\\n",
    "                            intersect_and_union(pred, label, num_classes, ignore_index)\n",
    "        total_area_intersect += area_intersect\n",
    "        total_area_union += area_union\n",
    "        total_area_pred_label += area_pred_label\n",
    "        total_area_label += area_label\n",
    "\n",
    "        if i<5 and output:\n",
    "            f, axarr = plt.subplots(1,3, figsize=(10, 10))\n",
    "            axarr[0].imshow(image)\n",
    "            axarr[1].imshow(label)\n",
    "            axarr[2].imshow(pred)\n",
    "            if i==0:\n",
    "                axarr[0].title.set_text('Image')\n",
    "                axarr[1].title.set_text('Ground truth')\n",
    "                axarr[2].title.set_text('aug_10e')\n",
    "\n",
    "            plt.subplots_adjust(wspace=0.1, hspace=0.1)\n",
    "            for ax in axarr:\n",
    "                ax.axis('off')\n",
    "            plt.show()\n",
    "\n",
    "        iou = total_area_intersect / total_area_union\n",
    "        if output: print(f'Processed image {filename.stem}, partial mean iou: {np.mean(iou[~np.isnan(iou)])}')\n",
    "\n",
    "    all_acc = total_area_intersect.sum() / total_area_label.sum()\n",
    "    acc = total_area_intersect / total_area_label\n",
    "    iou = total_area_intersect / total_area_union\n",
    "\n",
    "    end = time.time()\n",
    "    elapsed_time = (end - start)\n",
    "\n",
    "    if output:\n",
    "        print('\\n')\n",
    "        print(f'Elapsed time: {elapsed_time} seconds')\n",
    "        print(f'Final IoU per class: {iou}')\n",
    "        print(f'Final mean IoU: {np.mean(iou)}')\n",
    "    \n",
    "    return iou, np.mean(iou[~np.isnan(iou)]), elapsed_time\n",
    "\n",
    "def test_model_rid(model, test_folder, num_classes, rid_background_class, background_class, ignore_index, output=True):\n",
    "    start = time.time()\n",
    "    \n",
    "    test_folder_image = test_folder / 'image'\n",
    "    test_folder_label = test_folder / 'label'\n",
    "\n",
    "    total_area_intersect = np.zeros((num_classes, ), dtype=float)\n",
    "    total_area_union = np.zeros((num_classes, ), dtype=float)\n",
    "    total_area_pred_label = np.zeros((num_classes, ), dtype=float)\n",
    "    total_area_label = np.zeros((num_classes, ), dtype=float)\n",
    "\n",
    "    for i, filename in enumerate(test_folder_image.glob('*.png')):\n",
    "        image = cv2.imread(str(filename))\n",
    "        label = cv2.imread(str(test_folder_label / filename.name))\n",
    "        label = label[:,:,0]\n",
    "        \n",
    "        label[label != rid_background_class] = 1\n",
    "        label[label == rid_background_class] = 0\n",
    "\n",
    "        pred = prediction.segment_img(image, model, tile_size=512, stride=512, background_class=background_class)\n",
    "\n",
    "        area_intersect, area_union, area_pred_label, area_label = \\\n",
    "                            intersect_and_union(pred, label, num_classes, ignore_index)\n",
    "        total_area_intersect += area_intersect\n",
    "        total_area_union += area_union\n",
    "        total_area_pred_label += area_pred_label\n",
    "        total_area_label += area_label\n",
    "\n",
    "        if i<5 and output:\n",
    "            f, axarr = plt.subplots(1,3, figsize=(10, 10))\n",
    "            axarr[0].imshow(image)\n",
    "            axarr[1].imshow(label)\n",
    "            axarr[2].imshow(pred)\n",
    "            if i==0:\n",
    "                axarr[0].title.set_text('Image')\n",
    "                axarr[1].title.set_text('Ground truth')\n",
    "                axarr[2].title.set_text('aug_10e')\n",
    "\n",
    "            plt.subplots_adjust(wspace=0.1, hspace=0.1)\n",
    "            for ax in axarr:\n",
    "                ax.axis('off')\n",
    "            plt.show()\n",
    "\n",
    "        iou = total_area_intersect / total_area_union\n",
    "        if output: print(f'Processed image {filename.stem}, partial mean iou: {np.mean(iou[~np.isnan(iou)])}')\n",
    "\n",
    "    all_acc = total_area_intersect.sum() / total_area_label.sum()\n",
    "    acc = total_area_intersect / total_area_label\n",
    "    iou = total_area_intersect / total_area_union\n",
    "\n",
    "    end = time.time()\n",
    "    elapsed_time = (end - start)\n",
    "\n",
    "    if output:\n",
    "        print('\\n')\n",
    "        print(f'Elapsed time: {elapsed_time} seconds')\n",
    "        print(f'Final IoU per class: {iou}')\n",
    "        print(f'Final mean IoU: {np.mean(iou)}')\n",
    "    \n",
    "    return iou, np.mean(iou[~np.isnan(iou)]), elapsed_time\n",
    "\n",
    "def test_model_airs(model, test_folder, scale_percent, num_classes, background_class, ignore_index, output=True, n_samples=None):\n",
    "    start = time.time()\n",
    "    \n",
    "    test_folder_image = test_folder / 'image'\n",
    "    test_folder_label = test_folder / 'label'\n",
    "\n",
    "    total_area_intersect = np.zeros((num_classes, ), dtype=float)\n",
    "    total_area_union = np.zeros((num_classes, ), dtype=float)\n",
    "    total_area_pred_label = np.zeros((num_classes, ), dtype=float)\n",
    "    total_area_label = np.zeros((num_classes, ), dtype=float)\n",
    "\n",
    "    for i, filename in enumerate(test_folder_image.glob('*.tif')):\n",
    "        if n_samples and (n_samples<=i): break\n",
    "        image = cv2.imread(str(filename))\n",
    "        label = cv2.imread(str(test_folder_label / filename.name))\n",
    "        label = label[:,:,0]\n",
    "    \n",
    "        width = int(image.shape[1] * scale_percent / 100)\n",
    "        height = int(image.shape[0] * scale_percent / 100)\n",
    "        dsize = (width, height)\n",
    "        img = cv2.resize(image, dsize)\n",
    "        label = cv2.resize(label, dsize)\n",
    "\n",
    "        pred = prediction.segment_img(img, model, tile_size=512, stride=512, background_class=background_class)\n",
    "\n",
    "        area_intersect, area_union, area_pred_label, area_label = \\\n",
    "                            intersect_and_union(pred, label, num_classes, ignore_index)\n",
    "        total_area_intersect += area_intersect\n",
    "        total_area_union += area_union\n",
    "        total_area_pred_label += area_pred_label\n",
    "        total_area_label += area_label\n",
    "\n",
    "        if i<5 and output:\n",
    "            f, axarr = plt.subplots(1,3, figsize=(10, 10))\n",
    "            axarr[0].imshow(image)\n",
    "            axarr[1].imshow(label)\n",
    "            axarr[2].imshow(pred)\n",
    "            if i==0:\n",
    "                axarr[0].title.set_text('Image')\n",
    "                axarr[1].title.set_text('Ground truth')\n",
    "                axarr[2].title.set_text('aug_10e')\n",
    "\n",
    "            plt.subplots_adjust(wspace=0.1, hspace=0.1)\n",
    "            for ax in axarr:\n",
    "                ax.axis('off')\n",
    "            plt.show()\n",
    "\n",
    "        iou = total_area_intersect / total_area_union\n",
    "        if output: print(f'Processed image {filename.stem}, partial mean iou: {np.mean(iou[~np.isnan(iou)])}')\n",
    "\n",
    "    all_acc = total_area_intersect.sum() / total_area_label.sum()\n",
    "    acc = total_area_intersect / total_area_label\n",
    "    iou = total_area_intersect / total_area_union\n",
    "\n",
    "    end = time.time()\n",
    "    elapsed_time = (end - start)\n",
    "\n",
    "    if output:\n",
    "        print('\\n')\n",
    "        print(f'Elapsed time: {elapsed_time} seconds')\n",
    "        print(f'Final IoU per class: {iou}')\n",
    "        print(f'Final mean IoU: {np.mean(iou)}')\n",
    "    \n",
    "    return iou, np.mean(iou[~np.isnan(iou)]), elapsed_time"
   ]
  },
  {
   "cell_type": "markdown",
   "id": "adb9448c",
   "metadata": {},
   "source": [
    "# Testing INRIA"
   ]
  },
  {
   "cell_type": "code",
   "execution_count": 7,
   "id": "0c6e3dff",
   "metadata": {},
   "outputs": [],
   "source": [
    "num_classes = 2\n",
    "background_class = 0\n",
    "ignore_index = -1"
   ]
  },
  {
   "cell_type": "code",
   "execution_count": 8,
   "id": "14eb242d",
   "metadata": {},
   "outputs": [
    {
     "name": "stdout",
     "output_type": "stream",
     "text": [
      "Testing model inria_aug_10e...\n",
      "Mean IoU: 0.847807326132997\n",
      "IoU per class: [0.93641253 0.75920213]\n",
      "Elapsed time: 138.40591669082642 seconds.\n"
     ]
    }
   ],
   "source": [
    "print(f'Testing model inria_aug_10e...')\n",
    "\n",
    "iou, mean_iou, elapsed_time = test_model_rooftops(model_inria_aug_10e,\n",
    "                                                         inria_val_folder,\n",
    "                                                         num_classes,\n",
    "                                                         background_class,\n",
    "                                                         ignore_index,\n",
    "                                                         output=False)\n",
    "\n",
    "print(f'Mean IoU: {mean_iou}')\n",
    "print(f'IoU per class: {iou}')\n",
    "print(f'Elapsed time: {elapsed_time} seconds.')"
   ]
  },
  {
   "cell_type": "code",
   "execution_count": 9,
   "id": "0b1304ff",
   "metadata": {},
   "outputs": [
    {
     "name": "stdout",
     "output_type": "stream",
     "text": [
      "Testing model inria_raw_10e...\n",
      "Mean IoU: 0.8235779210729894\n",
      "IoU per class: [0.92629019 0.72086566]\n",
      "Elapsed time: 130.05559659004211 seconds.\n"
     ]
    }
   ],
   "source": [
    "print(f'Testing model inria_raw_10e...')\n",
    "\n",
    "iou, mean_iou, elapsed_time = test_model_rooftops(model_inria_raw_10e,\n",
    "                                                         inria_val_folder,\n",
    "                                                         num_classes,\n",
    "                                                         background_class,\n",
    "                                                         ignore_index,\n",
    "                                                         output=False)\n",
    "\n",
    "print(f'Mean IoU: {mean_iou}')\n",
    "print(f'IoU per class: {iou}')\n",
    "print(f'Elapsed time: {elapsed_time} seconds.')"
   ]
  },
  {
   "cell_type": "code",
   "execution_count": 10,
   "id": "4ec39fdb",
   "metadata": {},
   "outputs": [
    {
     "name": "stdout",
     "output_type": "stream",
     "text": [
      "Testing model inria_aug_5e...\n",
      "Mean IoU: 0.8465193867257228\n",
      "IoU per class: [0.93559357 0.75744521]\n",
      "Elapsed time: 170.12336587905884 seconds.\n"
     ]
    }
   ],
   "source": [
    "print(f'Testing model inria_aug_5e...')\n",
    "\n",
    "iou, mean_iou, elapsed_time = test_model_rooftops(model_inria_aug_5e,\n",
    "                                                         inria_val_folder,\n",
    "                                                         num_classes,\n",
    "                                                         background_class,\n",
    "                                                         ignore_index,\n",
    "                                                         output=False)\n",
    "\n",
    "print(f'Mean IoU: {mean_iou}')\n",
    "print(f'IoU per class: {iou}')\n",
    "print(f'Elapsed time: {elapsed_time} seconds.')"
   ]
  },
  {
   "cell_type": "code",
   "execution_count": 11,
   "id": "8475a66a",
   "metadata": {},
   "outputs": [
    {
     "name": "stdout",
     "output_type": "stream",
     "text": [
      "Testing model inria_raw_5e...\n",
      "Mean IoU: 0.8162042423986741\n",
      "IoU per class: [0.92407889 0.70832959]\n",
      "Elapsed time: 149.79505252838135 seconds.\n"
     ]
    }
   ],
   "source": [
    "print(f'Testing model inria_raw_5e...')\n",
    "\n",
    "iou, mean_iou, elapsed_time = test_model_rooftops(model_inria_raw_5e,\n",
    "                                                         inria_val_folder,\n",
    "                                                         num_classes,\n",
    "                                                         background_class,\n",
    "                                                         ignore_index,\n",
    "                                                         output=False)\n",
    "\n",
    "print(f'Mean IoU: {mean_iou}')\n",
    "print(f'IoU per class: {iou}')\n",
    "print(f'Elapsed time: {elapsed_time} seconds.')"
   ]
  },
  {
   "cell_type": "markdown",
   "id": "8343cf27",
   "metadata": {},
   "source": [
    "# Testing RID"
   ]
  },
  {
   "cell_type": "code",
   "execution_count": 12,
   "id": "985b461a",
   "metadata": {},
   "outputs": [],
   "source": [
    "rid_background_class = 17"
   ]
  },
  {
   "cell_type": "code",
   "execution_count": 13,
   "id": "a837a0e4",
   "metadata": {},
   "outputs": [
    {
     "name": "stdout",
     "output_type": "stream",
     "text": [
      "Testing model inria_aug_10e...\n",
      "Mean IoU: 0.7617473792970644\n",
      "IoU per class: [0.87887034 0.64462442]\n",
      "Elapsed time: 137.18511533737183 seconds.\n"
     ]
    }
   ],
   "source": [
    "print(f'Testing model inria_aug_10e...')\n",
    "\n",
    "iou, mean_iou, elapsed_time = test_model_rid(model_inria_aug_10e,\n",
    "                                                  rid_test_folder,\n",
    "                                                  num_classes,\n",
    "                                                  rid_background_class,\n",
    "                                                  background_class,\n",
    "                                                  ignore_index,\n",
    "                                                  output=False)\n",
    "\n",
    "print(f'Mean IoU: {mean_iou}')\n",
    "print(f'IoU per class: {iou}')\n",
    "print(f'Elapsed time: {elapsed_time} seconds.')"
   ]
  },
  {
   "cell_type": "code",
   "execution_count": 14,
   "id": "6c078afc",
   "metadata": {},
   "outputs": [
    {
     "name": "stdout",
     "output_type": "stream",
     "text": [
      "Testing model inria_raw_10e...\n",
      "Mean IoU: 0.7661283942275854\n",
      "IoU per class: [0.8793084  0.65294839]\n",
      "Elapsed time: 135.04816675186157 seconds.\n"
     ]
    }
   ],
   "source": [
    "print(f'Testing model inria_raw_10e...')\n",
    "\n",
    "iou, mean_iou, elapsed_time = test_model_rid(model_inria_raw_10e,\n",
    "                                                  rid_test_folder,\n",
    "                                                  num_classes,\n",
    "                                                  rid_background_class,\n",
    "                                                  background_class,\n",
    "                                                  ignore_index,\n",
    "                                                  output=False)\n",
    "\n",
    "print(f'Mean IoU: {mean_iou}')\n",
    "print(f'IoU per class: {iou}')\n",
    "print(f'Elapsed time: {elapsed_time} seconds.')"
   ]
  },
  {
   "cell_type": "code",
   "execution_count": 15,
   "id": "f99f7b48",
   "metadata": {},
   "outputs": [
    {
     "name": "stdout",
     "output_type": "stream",
     "text": [
      "Testing model inria_aug_5e...\n",
      "Mean IoU: 0.7662252473894691\n",
      "IoU per class: [0.88480345 0.64764705]\n",
      "Elapsed time: 143.93829226493835 seconds.\n"
     ]
    }
   ],
   "source": [
    "print(f'Testing model inria_aug_5e...')\n",
    "\n",
    "iou, mean_iou, elapsed_time = test_model_rid(model_inria_aug_5e,\n",
    "                                                  rid_test_folder,\n",
    "                                                  num_classes,\n",
    "                                                  rid_background_class,\n",
    "                                                  background_class,\n",
    "                                                  ignore_index,\n",
    "                                                  output=False)\n",
    "\n",
    "print(f'Mean IoU: {mean_iou}')\n",
    "print(f'IoU per class: {iou}')\n",
    "print(f'Elapsed time: {elapsed_time} seconds.')"
   ]
  },
  {
   "cell_type": "code",
   "execution_count": 16,
   "id": "f6f44450",
   "metadata": {},
   "outputs": [
    {
     "name": "stdout",
     "output_type": "stream",
     "text": [
      "Testing model inria_raw_5e...\n",
      "Mean IoU: 0.7763587105142358\n",
      "IoU per class: [0.88934575 0.66337167]\n",
      "Elapsed time: 139.5976917743683 seconds.\n"
     ]
    }
   ],
   "source": [
    "print(f'Testing model inria_raw_5e...')\n",
    "\n",
    "iou, mean_iou, elapsed_time = test_model_rid(model_inria_raw_5e,\n",
    "                                                  rid_test_folder,\n",
    "                                                  num_classes,\n",
    "                                                  rid_background_class,\n",
    "                                                  background_class,\n",
    "                                                  ignore_index,\n",
    "                                                  output=False)\n",
    "\n",
    "print(f'Mean IoU: {mean_iou}')\n",
    "print(f'IoU per class: {iou}')\n",
    "print(f'Elapsed time: {elapsed_time} seconds.')"
   ]
  },
  {
   "cell_type": "markdown",
   "id": "183622b7",
   "metadata": {},
   "source": [
    "# AIRS"
   ]
  },
  {
   "cell_type": "code",
   "execution_count": 17,
   "id": "453fae60",
   "metadata": {},
   "outputs": [],
   "source": [
    "background_class = 0\n",
    "num_classes = 2\n",
    "scale_percent = 25"
   ]
  },
  {
   "cell_type": "code",
   "execution_count": 18,
   "id": "6417aaaf",
   "metadata": {},
   "outputs": [
    {
     "name": "stdout",
     "output_type": "stream",
     "text": [
      "Testing model inria_aug_10e...\n",
      "Mean IoU: 0.866490661102786\n",
      "IoU per class: [0.9776904  0.75529092]\n",
      "Elapsed time: 1617.1714451313019 seconds.\n"
     ]
    }
   ],
   "source": [
    "print(f'Testing model inria_aug_10e...')\n",
    "\n",
    "iou, mean_iou, elapsed_time = test_model_airs(model_inria_aug_10e,\n",
    "                                              airs_test_path,\n",
    "                                              scale_percent,\n",
    "                                              num_classes,\n",
    "                                              background_class,\n",
    "                                              ignore_index,\n",
    "                                              output=False)\n",
    "\n",
    "print(f'Mean IoU: {mean_iou}')\n",
    "print(f'IoU per class: {iou}')\n",
    "print(f'Elapsed time: {elapsed_time} seconds.')"
   ]
  },
  {
   "cell_type": "code",
   "execution_count": 19,
   "id": "4d98e5be",
   "metadata": {},
   "outputs": [
    {
     "name": "stdout",
     "output_type": "stream",
     "text": [
      "Testing model inria_raw_10e...\n",
      "Mean IoU: 0.8465287582990798\n",
      "IoU per class: [0.97347912 0.71957839]\n",
      "Elapsed time: 1711.276927471161 seconds.\n"
     ]
    }
   ],
   "source": [
    "print(f'Testing model inria_raw_10e...')\n",
    "\n",
    "iou, mean_iou, elapsed_time = test_model_airs(model_inria_raw_10e,\n",
    "                                              airs_test_path,\n",
    "                                              scale_percent,\n",
    "                                              num_classes,\n",
    "                                              background_class,\n",
    "                                              ignore_index,\n",
    "                                              output=False)\n",
    "\n",
    "print(f'Mean IoU: {mean_iou}')\n",
    "print(f'IoU per class: {iou}')\n",
    "print(f'Elapsed time: {elapsed_time} seconds.')"
   ]
  },
  {
   "cell_type": "code",
   "execution_count": 20,
   "id": "b0d1bb53",
   "metadata": {},
   "outputs": [
    {
     "name": "stdout",
     "output_type": "stream",
     "text": [
      "Testing model inria_aug_5e...\n",
      "Mean IoU: 0.7752117536901475\n",
      "IoU per class: [0.95550337 0.59492014]\n",
      "Elapsed time: 1640.1877014636993 seconds.\n"
     ]
    }
   ],
   "source": [
    "print(f'Testing model inria_aug_5e...')\n",
    "\n",
    "iou, mean_iou, elapsed_time = test_model_airs(model_inria_aug_5e,\n",
    "                                              airs_test_path,\n",
    "                                              scale_percent,\n",
    "                                              num_classes,\n",
    "                                              background_class,\n",
    "                                              ignore_index,\n",
    "                                              output=False)\n",
    "\n",
    "print(f'Mean IoU: {mean_iou}')\n",
    "print(f'IoU per class: {iou}')\n",
    "print(f'Elapsed time: {elapsed_time} seconds.')"
   ]
  },
  {
   "cell_type": "code",
   "execution_count": 21,
   "id": "c7f32cec",
   "metadata": {},
   "outputs": [
    {
     "name": "stdout",
     "output_type": "stream",
     "text": [
      "Testing model inria_raw_5e...\n",
      "Mean IoU: 0.7754282304151523\n",
      "IoU per class: [0.95534785 0.59550861]\n",
      "Elapsed time: 1637.2719938755035 seconds.\n"
     ]
    }
   ],
   "source": [
    "print(f'Testing model inria_raw_5e...')\n",
    "\n",
    "iou, mean_iou, elapsed_time = test_model_airs(model_inria_raw_5e,\n",
    "                                              airs_test_path,\n",
    "                                              scale_percent,\n",
    "                                              num_classes,\n",
    "                                              background_class,\n",
    "                                              ignore_index,\n",
    "                                              output=False)\n",
    "\n",
    "print(f'Mean IoU: {mean_iou}')\n",
    "print(f'IoU per class: {iou}')\n",
    "print(f'Elapsed time: {elapsed_time} seconds.')"
   ]
  },
  {
   "cell_type": "markdown",
   "id": "dce0b0b9",
   "metadata": {},
   "source": [
    "# Check optimal scale"
   ]
  },
  {
   "cell_type": "code",
   "execution_count": null,
   "id": "bdcf89b8",
   "metadata": {},
   "outputs": [
    {
     "name": "stdout",
     "output_type": "stream",
     "text": [
      "Testing model inria_aug_10e...\n",
      "Testing scale 3.75%, gr 2 m/pixel\n",
      "IoU: [0.92894031 0.09754744]\n",
      "Testing scale 7.5%, gr 1 m/pixel\n",
      "IoU: [0.92824647 0.22033324]\n",
      "Testing scale 10.0%, gr 0.75 m/pixel\n",
      "IoU: [0.94412707 0.39447996]\n",
      "Testing scale 15.0%, gr 0.5 m/pixel\n",
      "IoU: [0.96599575 0.62659586]\n",
      "Testing scale 18.749999999999996%, gr 0.4 m/pixel\n",
      "IoU: [0.97355512 0.70307351]\n",
      "Testing scale 25.0%, gr 0.3 m/pixel\n",
      "IoU: [0.97834271 0.75712884]\n",
      "Testing scale 37.49999999999999%, gr 0.2 m/pixel\n",
      "IoU: [0.97771722 0.75846735]\n",
      "Testing scale 74.99999999999999%, gr 0.1 m/pixel\n"
     ]
    }
   ],
   "source": [
    "print(f'Testing model inria_aug_10e...')\n",
    "\n",
    "airs_gr = 0.075\n",
    "grs = [2,1,0.75,0.5,0.4,0.3,0.2,0.1,0.075]\n",
    "ious = []\n",
    "\n",
    "for gr in grs:\n",
    "    scale_percent = (airs_gr / gr) * 100\n",
    "    print(f'Testing scale {scale_percent}%, gr {gr} m/pixel')\n",
    "    iou, mean_iou, elapsed_time = test_model_airs(model_inria_aug_10e,\n",
    "                                                  airs_test_path,\n",
    "                                                  scale_percent,\n",
    "                                                  num_classes,\n",
    "                                                  background_class,\n",
    "                                                  ignore_index,\n",
    "                                                  output=False,\n",
    "                                                  n_samples=10\n",
    "                                                 )\n",
    "    print(f'IoU: {iou}')\n",
    "    ious.append(iou)"
   ]
  },
  {
   "cell_type": "code",
   "execution_count": null,
   "id": "6fbbe62c",
   "metadata": {},
   "outputs": [],
   "source": [
    "with plt.rc_context({\"xtick.major.pad\": 0}):\n",
    "    fig, ax = plt.subplots()\n",
    "\n",
    "    ious_np = np.array(ious)\n",
    "\n",
    "    width = 0.5\n",
    "\n",
    "    scales = list(range(len(grs)))\n",
    "    ax.bar(np.array(scales) - (width / 2), ious_np[:,0], width=width, edgecolor=\"white\", linewidth=0)\n",
    "    ax.bar(np.array(scales) - (width / 2), ious_np[:,1], width=width, edgecolor=\"white\", linewidth=0)\n",
    "\n",
    "    ax.set_xticks(scales)\n",
    "    ax.set_xticklabels(grs, rotation=55)\n",
    "    \n",
    "    ax.set_xlabel('Ground resolution (m/pixel)')\n",
    "    ax.set_ylabel('Intersection over Union')\n",
    "    ax.legend(['Background', 'Rooftops'])\n",
    "\n",
    "    fig.tight_layout()\n",
    "    plt.show()"
   ]
  },
  {
   "cell_type": "code",
   "execution_count": null,
   "id": "a8ee743f",
   "metadata": {},
   "outputs": [],
   "source": []
  }
 ],
 "metadata": {
  "kernelspec": {
   "display_name": "Python 3 (ipykernel)",
   "language": "python",
   "name": "python3"
  },
  "language_info": {
   "codemirror_mode": {
    "name": "ipython",
    "version": 3
   },
   "file_extension": ".py",
   "mimetype": "text/x-python",
   "name": "python",
   "nbconvert_exporter": "python",
   "pygments_lexer": "ipython3",
   "version": "3.8.13"
  }
 },
 "nbformat": 4,
 "nbformat_minor": 5
}
