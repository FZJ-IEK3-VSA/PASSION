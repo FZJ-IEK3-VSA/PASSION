{
 "cells": [
  {
   "cell_type": "code",
   "execution_count": 1,
   "id": "adf33795",
   "metadata": {},
   "outputs": [],
   "source": [
    "import torch\n",
    "import pathlib\n",
    "import cv2\n",
    "import PIL\n",
    "import numpy as np\n",
    "import pandas as pd\n",
    "import matplotlib.pyplot as plt\n",
    "import time\n",
    "import csv\n",
    "from tqdm import tqdm\n",
    "%matplotlib inline\n",
    "import passion.util\n",
    "\n",
    "from passion.segmentation import prediction"
   ]
  },
  {
   "cell_type": "code",
   "execution_count": 2,
   "id": "2b3596e8",
   "metadata": {},
   "outputs": [],
   "source": [
    "device = ('cuda' if torch.cuda.is_available() else 'cpu')"
   ]
  },
  {
   "cell_type": "code",
   "execution_count": 3,
   "id": "ee13f4b9",
   "metadata": {},
   "outputs": [],
   "source": [
    "models_folder_path = pathlib.Path('../../workflow/output/model')\n",
    "old_rooftop_models_folder_path = models_folder_path / 'old-rooftop-segmentation'\n",
    "rooftop_models_folder_path = models_folder_path / 'rooftop-segmentation'\n",
    "\n",
    "model_inria_aug_10e = torch.load(str(old_rooftop_models_folder_path / 'inria-aug-10e.pth'), map_location=torch.device(device))\n",
    "model_inria_aug_5e = torch.load(str(old_rooftop_models_folder_path / 'inria-raw-10e.pth'), map_location=torch.device(device))\n",
    "model_inria_raw_10e = torch.load(str(old_rooftop_models_folder_path / 'inria-aug-5e.pth'), map_location=torch.device(device))\n",
    "model_inria_raw_5e = torch.load(str(old_rooftop_models_folder_path / 'inria-raw-5e.pth'), map_location=torch.device(device))\n",
    "\n",
    "model_inria_final = torch.load(str(rooftop_models_folder_path / 'inria-aug-12e.pth'), map_location=torch.device(device))"
   ]
  },
  {
   "cell_type": "code",
   "execution_count": 4,
   "id": "05c8ffbe",
   "metadata": {},
   "outputs": [],
   "source": [
    "inria_val_folder = pathlib.Path('/storage/internal/home/r-pueblas/projects/rooftop-segmentation-datasets/data/INRIA/output/val')\n",
    "inria_val_folder_image = inria_val_folder / 'image'\n",
    "inria_val_folder_label = inria_val_folder / 'label'\n",
    "\n",
    "rid_test_folder = pathlib.Path('/storage/internal/home/r-pueblas/projects/rooftop-segmentation-datasets/data/RID/output/masks_segments_reviewed/test')\n",
    "rid_test_folder_image = rid_test_folder / 'image'\n",
    "rid_test_folder_label = rid_test_folder / 'label'\n",
    "\n",
    "airs_test_path = pathlib.Path('/storage/internal/data/r-pueblas/airs/test')\n",
    "airs_image_path = airs_test_path / 'image'\n",
    "airs_label_path = airs_test_path / 'label'"
   ]
  },
  {
   "cell_type": "code",
   "execution_count": 5,
   "id": "f58b396a",
   "metadata": {},
   "outputs": [],
   "source": [
    "def intersect_and_union(pred_label, label, num_classes, ignore_index):\n",
    "    mask = (label != ignore_index)\n",
    "    pred_label = pred_label[mask]\n",
    "    label = label[mask]\n",
    "\n",
    "    intersect = pred_label[pred_label == label]\n",
    "    area_intersect, _ = np.histogram(\n",
    "        intersect, bins=np.arange(num_classes + 1))\n",
    "    area_pred_label, _ = np.histogram(\n",
    "        pred_label, bins=np.arange(num_classes + 1))\n",
    "    area_label, _ = np.histogram(label, bins=np.arange(num_classes + 1))\n",
    "    area_union = area_pred_label + area_label - area_intersect\n",
    "\n",
    "    return area_intersect, area_union, area_pred_label, area_label"
   ]
  },
  {
   "cell_type": "code",
   "execution_count": 6,
   "id": "b1988a9f",
   "metadata": {},
   "outputs": [],
   "source": [
    "def test_model_rooftops(model, test_folder, num_classes, background_class, ignore_index, output=True):\n",
    "    start = time.time()\n",
    "    \n",
    "    test_folder_image = test_folder / 'image'\n",
    "    test_folder_label = test_folder / 'label'\n",
    "\n",
    "    total_area_intersect = np.zeros((num_classes, ), dtype=float)\n",
    "    total_area_union = np.zeros((num_classes, ), dtype=float)\n",
    "    total_area_pred_label = np.zeros((num_classes, ), dtype=float)\n",
    "    total_area_label = np.zeros((num_classes, ), dtype=float)\n",
    "\n",
    "    for i, filename in enumerate(test_folder_image.glob('*.png')):\n",
    "        if i>200: break\n",
    "\n",
    "        image = cv2.imread(str(filename))\n",
    "        label = cv2.imread(str(test_folder_label / filename.name))\n",
    "        label = label[:,:,0]\n",
    "\n",
    "        pred = prediction.segment_img(image, model, tile_size=512, stride=512, background_class=background_class)\n",
    "\n",
    "        area_intersect, area_union, area_pred_label, area_label = \\\n",
    "                            intersect_and_union(pred, label, num_classes, ignore_index)\n",
    "        total_area_intersect += area_intersect\n",
    "        total_area_union += area_union\n",
    "        total_area_pred_label += area_pred_label\n",
    "        total_area_label += area_label\n",
    "\n",
    "        if i<5 and output:\n",
    "            f, axarr = plt.subplots(1,3, figsize=(10, 10))\n",
    "            axarr[0].imshow(image)\n",
    "            axarr[1].imshow(label)\n",
    "            axarr[2].imshow(pred)\n",
    "            if i==0:\n",
    "                axarr[0].title.set_text('Image')\n",
    "                axarr[1].title.set_text('Ground truth')\n",
    "                axarr[2].title.set_text('aug_10e')\n",
    "\n",
    "            plt.subplots_adjust(wspace=0.1, hspace=0.1)\n",
    "            for ax in axarr:\n",
    "                ax.axis('off')\n",
    "            plt.show()\n",
    "\n",
    "        iou = total_area_intersect / total_area_union\n",
    "        if output: print(f'Processed image {filename.stem}, partial mean iou: {np.mean(iou[~np.isnan(iou)])}')\n",
    "\n",
    "    all_acc = total_area_intersect.sum() / total_area_label.sum()\n",
    "    acc = total_area_intersect / total_area_label\n",
    "    iou = total_area_intersect / total_area_union\n",
    "\n",
    "    end = time.time()\n",
    "    elapsed_time = (end - start)\n",
    "\n",
    "    if output:\n",
    "        print('\\n')\n",
    "        print(f'Elapsed time: {elapsed_time} seconds')\n",
    "        print(f'Final IoU per class: {iou}')\n",
    "        print(f'Final mean IoU: {np.mean(iou)}')\n",
    "    \n",
    "    return iou, np.mean(iou[~np.isnan(iou)]), elapsed_time\n",
    "\n",
    "def test_model_rid(model, test_folder, num_classes, rid_background_class, background_class, ignore_index, output=True):\n",
    "    start = time.time()\n",
    "    \n",
    "    test_folder_image = test_folder / 'image'\n",
    "    test_folder_label = test_folder / 'label'\n",
    "\n",
    "    total_area_intersect = np.zeros((num_classes, ), dtype=float)\n",
    "    total_area_union = np.zeros((num_classes, ), dtype=float)\n",
    "    total_area_pred_label = np.zeros((num_classes, ), dtype=float)\n",
    "    total_area_label = np.zeros((num_classes, ), dtype=float)\n",
    "\n",
    "    for i, filename in enumerate(test_folder_image.glob('*.png')):\n",
    "        image = cv2.imread(str(filename))\n",
    "        label = cv2.imread(str(test_folder_label / filename.name))\n",
    "        label = label[:,:,0]\n",
    "        \n",
    "        label[label != rid_background_class] = 1\n",
    "        label[label == rid_background_class] = 0\n",
    "\n",
    "        pred = prediction.segment_img(image, model, tile_size=512, stride=512, background_class=background_class)\n",
    "\n",
    "        area_intersect, area_union, area_pred_label, area_label = \\\n",
    "                            intersect_and_union(pred, label, num_classes, ignore_index)\n",
    "        total_area_intersect += area_intersect\n",
    "        total_area_union += area_union\n",
    "        total_area_pred_label += area_pred_label\n",
    "        total_area_label += area_label\n",
    "\n",
    "        if i<5 and output:\n",
    "            f, axarr = plt.subplots(1,3, figsize=(10, 10))\n",
    "            axarr[0].imshow(image)\n",
    "            axarr[1].imshow(label)\n",
    "            axarr[2].imshow(pred)\n",
    "            if i==0:\n",
    "                axarr[0].title.set_text('Image')\n",
    "                axarr[1].title.set_text('Ground truth')\n",
    "                axarr[2].title.set_text('aug_10e')\n",
    "\n",
    "            plt.subplots_adjust(wspace=0.1, hspace=0.1)\n",
    "            for ax in axarr:\n",
    "                ax.axis('off')\n",
    "            plt.show()\n",
    "\n",
    "        iou = total_area_intersect / total_area_union\n",
    "        if output: print(f'Processed image {filename.stem}, partial mean iou: {np.mean(iou[~np.isnan(iou)])}')\n",
    "\n",
    "    all_acc = total_area_intersect.sum() / total_area_label.sum()\n",
    "    acc = total_area_intersect / total_area_label\n",
    "    iou = total_area_intersect / total_area_union\n",
    "\n",
    "    end = time.time()\n",
    "    elapsed_time = (end - start)\n",
    "\n",
    "    if output:\n",
    "        print('\\n')\n",
    "        print(f'Elapsed time: {elapsed_time} seconds')\n",
    "        print(f'Final IoU per class: {iou}')\n",
    "        print(f'Final mean IoU: {np.mean(iou)}')\n",
    "    \n",
    "    return iou, np.mean(iou[~np.isnan(iou)]), elapsed_time\n",
    "\n",
    "def test_model_airs(model, test_folder, scale_percent, num_classes, background_class, ignore_index, output=True, n_samples=None):\n",
    "    start = time.time()\n",
    "    \n",
    "    test_folder_image = test_folder / 'image'\n",
    "    test_folder_label = test_folder / 'label'\n",
    "\n",
    "    total_area_intersect = np.zeros((num_classes, ), dtype=float)\n",
    "    total_area_union = np.zeros((num_classes, ), dtype=float)\n",
    "    total_area_pred_label = np.zeros((num_classes, ), dtype=float)\n",
    "    total_area_label = np.zeros((num_classes, ), dtype=float)\n",
    "\n",
    "    for i, filename in enumerate(test_folder_image.glob('*.tif')):\n",
    "        if n_samples and (n_samples<=i): break\n",
    "        image = cv2.imread(str(filename))\n",
    "        label = cv2.imread(str(test_folder_label / filename.name))\n",
    "        label = label[:,:,0]\n",
    "    \n",
    "        width = int(image.shape[1] * scale_percent / 100)\n",
    "        height = int(image.shape[0] * scale_percent / 100)\n",
    "        dsize = (width, height)\n",
    "        img = cv2.resize(image, dsize)\n",
    "        label = cv2.resize(label, dsize)\n",
    "\n",
    "        pred = prediction.segment_img(img, model, tile_size=512, stride=512, background_class=background_class)\n",
    "\n",
    "        area_intersect, area_union, area_pred_label, area_label = \\\n",
    "                            intersect_and_union(pred, label, num_classes, ignore_index)\n",
    "        total_area_intersect += area_intersect\n",
    "        total_area_union += area_union\n",
    "        total_area_pred_label += area_pred_label\n",
    "        total_area_label += area_label\n",
    "\n",
    "        if i<5 and output:\n",
    "            f, axarr = plt.subplots(1,3, figsize=(10, 10))\n",
    "            axarr[0].imshow(image)\n",
    "            axarr[1].imshow(label)\n",
    "            axarr[2].imshow(pred)\n",
    "            if i==0:\n",
    "                axarr[0].title.set_text('Image')\n",
    "                axarr[1].title.set_text('Ground truth')\n",
    "                axarr[2].title.set_text('aug_10e')\n",
    "\n",
    "            plt.subplots_adjust(wspace=0.1, hspace=0.1)\n",
    "            for ax in axarr:\n",
    "                ax.axis('off')\n",
    "            plt.show()\n",
    "\n",
    "        iou = total_area_intersect / total_area_union\n",
    "        if output: print(f'Processed image {filename.stem}, partial mean iou: {np.mean(iou[~np.isnan(iou)])}')\n",
    "\n",
    "    all_acc = total_area_intersect.sum() / total_area_label.sum()\n",
    "    acc = total_area_intersect / total_area_label\n",
    "    iou = total_area_intersect / total_area_union\n",
    "\n",
    "    end = time.time()\n",
    "    elapsed_time = (end - start)\n",
    "\n",
    "    if output:\n",
    "        print('\\n')\n",
    "        print(f'Elapsed time: {elapsed_time} seconds')\n",
    "        print(f'Final IoU per class: {iou}')\n",
    "        print(f'Final mean IoU: {np.mean(iou)}')\n",
    "    \n",
    "    return iou, np.mean(iou[~np.isnan(iou)]), elapsed_time"
   ]
  },
  {
   "cell_type": "markdown",
   "id": "adb9448c",
   "metadata": {},
   "source": [
    "# Testing INRIA"
   ]
  },
  {
   "cell_type": "code",
   "execution_count": 7,
   "id": "0c6e3dff",
   "metadata": {},
   "outputs": [],
   "source": [
    "num_classes = 2\n",
    "background_class = 0\n",
    "ignore_index = -1"
   ]
  },
  {
   "cell_type": "code",
   "execution_count": 8,
   "id": "14eb242d",
   "metadata": {},
   "outputs": [
    {
     "name": "stdout",
     "output_type": "stream",
     "text": [
      "Testing model inria_aug_10e...\n",
      "Mean IoU: 0.847807326132997\n",
      "IoU per class: [0.93641253 0.75920213]\n",
      "Elapsed time: 118.40092921257019 seconds.\n"
     ]
    }
   ],
   "source": [
    "print(f'Testing model inria_aug_10e...')\n",
    "\n",
    "iou, mean_iou, elapsed_time = test_model_rooftops(model_inria_aug_10e,\n",
    "                                                         inria_val_folder,\n",
    "                                                         num_classes,\n",
    "                                                         background_class,\n",
    "                                                         ignore_index,\n",
    "                                                         output=False)\n",
    "\n",
    "print(f'Mean IoU: {mean_iou}')\n",
    "print(f'IoU per class: {iou}')\n",
    "print(f'Elapsed time: {elapsed_time} seconds.')"
   ]
  },
  {
   "cell_type": "code",
   "execution_count": 9,
   "id": "0b1304ff",
   "metadata": {},
   "outputs": [
    {
     "name": "stdout",
     "output_type": "stream",
     "text": [
      "Testing model inria_raw_10e...\n",
      "Mean IoU: 0.8235779210729894\n",
      "IoU per class: [0.92629019 0.72086566]\n",
      "Elapsed time: 120.66566753387451 seconds.\n"
     ]
    }
   ],
   "source": [
    "print(f'Testing model inria_raw_10e...')\n",
    "\n",
    "iou, mean_iou, elapsed_time = test_model_rooftops(model_inria_raw_10e,\n",
    "                                                         inria_val_folder,\n",
    "                                                         num_classes,\n",
    "                                                         background_class,\n",
    "                                                         ignore_index,\n",
    "                                                         output=False)\n",
    "\n",
    "print(f'Mean IoU: {mean_iou}')\n",
    "print(f'IoU per class: {iou}')\n",
    "print(f'Elapsed time: {elapsed_time} seconds.')"
   ]
  },
  {
   "cell_type": "code",
   "execution_count": 10,
   "id": "4ec39fdb",
   "metadata": {},
   "outputs": [
    {
     "name": "stdout",
     "output_type": "stream",
     "text": [
      "Testing model inria_aug_5e...\n",
      "Mean IoU: 0.8465193867257228\n",
      "IoU per class: [0.93559357 0.75744521]\n",
      "Elapsed time: 116.85959482192993 seconds.\n"
     ]
    }
   ],
   "source": [
    "print(f'Testing model inria_aug_5e...')\n",
    "\n",
    "iou, mean_iou, elapsed_time = test_model_rooftops(model_inria_aug_5e,\n",
    "                                                         inria_val_folder,\n",
    "                                                         num_classes,\n",
    "                                                         background_class,\n",
    "                                                         ignore_index,\n",
    "                                                         output=False)\n",
    "\n",
    "print(f'Mean IoU: {mean_iou}')\n",
    "print(f'IoU per class: {iou}')\n",
    "print(f'Elapsed time: {elapsed_time} seconds.')"
   ]
  },
  {
   "cell_type": "code",
   "execution_count": 11,
   "id": "8475a66a",
   "metadata": {},
   "outputs": [
    {
     "name": "stdout",
     "output_type": "stream",
     "text": [
      "Testing model inria_raw_5e...\n",
      "Mean IoU: 0.8162042423986741\n",
      "IoU per class: [0.92407889 0.70832959]\n",
      "Elapsed time: 111.60467028617859 seconds.\n"
     ]
    }
   ],
   "source": [
    "print(f'Testing model inria_raw_5e...')\n",
    "\n",
    "iou, mean_iou, elapsed_time = test_model_rooftops(model_inria_raw_5e,\n",
    "                                                         inria_val_folder,\n",
    "                                                         num_classes,\n",
    "                                                         background_class,\n",
    "                                                         ignore_index,\n",
    "                                                         output=False)\n",
    "\n",
    "print(f'Mean IoU: {mean_iou}')\n",
    "print(f'IoU per class: {iou}')\n",
    "print(f'Elapsed time: {elapsed_time} seconds.')"
   ]
  },
  {
   "cell_type": "code",
   "execution_count": 12,
   "id": "a02f0772",
   "metadata": {},
   "outputs": [
    {
     "name": "stdout",
     "output_type": "stream",
     "text": [
      "Testing final model...\n",
      "Mean IoU: 0.8423346807146257\n",
      "IoU per class: [0.93352786 0.7511415 ]\n",
      "Elapsed time: 113.69226050376892 seconds.\n"
     ]
    }
   ],
   "source": [
    "print(f'Testing final model...')\n",
    "\n",
    "iou, mean_iou, elapsed_time = test_model_rooftops(model_inria_final,\n",
    "                                                         inria_val_folder,\n",
    "                                                         num_classes,\n",
    "                                                         background_class,\n",
    "                                                         ignore_index,\n",
    "                                                         output=False)\n",
    "\n",
    "print(f'Mean IoU: {mean_iou}')\n",
    "print(f'IoU per class: {iou}')\n",
    "print(f'Elapsed time: {elapsed_time} seconds.')"
   ]
  },
  {
   "cell_type": "markdown",
   "id": "8343cf27",
   "metadata": {},
   "source": [
    "# Testing RID"
   ]
  },
  {
   "cell_type": "code",
   "execution_count": 12,
   "id": "985b461a",
   "metadata": {},
   "outputs": [],
   "source": [
    "rid_background_class = 17"
   ]
  },
  {
   "cell_type": "code",
   "execution_count": 13,
   "id": "a837a0e4",
   "metadata": {},
   "outputs": [
    {
     "name": "stdout",
     "output_type": "stream",
     "text": [
      "Testing model inria_aug_10e...\n",
      "Mean IoU: 0.7617473792970644\n",
      "IoU per class: [0.87887034 0.64462442]\n",
      "Elapsed time: 137.18511533737183 seconds.\n"
     ]
    }
   ],
   "source": [
    "print(f'Testing model inria_aug_10e...')\n",
    "\n",
    "iou, mean_iou, elapsed_time = test_model_rid(model_inria_aug_10e,\n",
    "                                                  rid_test_folder,\n",
    "                                                  num_classes,\n",
    "                                                  rid_background_class,\n",
    "                                                  background_class,\n",
    "                                                  ignore_index,\n",
    "                                                  output=False)\n",
    "\n",
    "print(f'Mean IoU: {mean_iou}')\n",
    "print(f'IoU per class: {iou}')\n",
    "print(f'Elapsed time: {elapsed_time} seconds.')"
   ]
  },
  {
   "cell_type": "code",
   "execution_count": 14,
   "id": "6c078afc",
   "metadata": {},
   "outputs": [
    {
     "name": "stdout",
     "output_type": "stream",
     "text": [
      "Testing model inria_raw_10e...\n",
      "Mean IoU: 0.7661283942275854\n",
      "IoU per class: [0.8793084  0.65294839]\n",
      "Elapsed time: 135.04816675186157 seconds.\n"
     ]
    }
   ],
   "source": [
    "print(f'Testing model inria_raw_10e...')\n",
    "\n",
    "iou, mean_iou, elapsed_time = test_model_rid(model_inria_raw_10e,\n",
    "                                                  rid_test_folder,\n",
    "                                                  num_classes,\n",
    "                                                  rid_background_class,\n",
    "                                                  background_class,\n",
    "                                                  ignore_index,\n",
    "                                                  output=False)\n",
    "\n",
    "print(f'Mean IoU: {mean_iou}')\n",
    "print(f'IoU per class: {iou}')\n",
    "print(f'Elapsed time: {elapsed_time} seconds.')"
   ]
  },
  {
   "cell_type": "code",
   "execution_count": 15,
   "id": "f99f7b48",
   "metadata": {},
   "outputs": [
    {
     "name": "stdout",
     "output_type": "stream",
     "text": [
      "Testing model inria_aug_5e...\n",
      "Mean IoU: 0.7662252473894691\n",
      "IoU per class: [0.88480345 0.64764705]\n",
      "Elapsed time: 143.93829226493835 seconds.\n"
     ]
    }
   ],
   "source": [
    "print(f'Testing model inria_aug_5e...')\n",
    "\n",
    "iou, mean_iou, elapsed_time = test_model_rid(model_inria_aug_5e,\n",
    "                                                  rid_test_folder,\n",
    "                                                  num_classes,\n",
    "                                                  rid_background_class,\n",
    "                                                  background_class,\n",
    "                                                  ignore_index,\n",
    "                                                  output=False)\n",
    "\n",
    "print(f'Mean IoU: {mean_iou}')\n",
    "print(f'IoU per class: {iou}')\n",
    "print(f'Elapsed time: {elapsed_time} seconds.')"
   ]
  },
  {
   "cell_type": "code",
   "execution_count": 16,
   "id": "f6f44450",
   "metadata": {},
   "outputs": [
    {
     "name": "stdout",
     "output_type": "stream",
     "text": [
      "Testing model inria_raw_5e...\n",
      "Mean IoU: 0.7763587105142358\n",
      "IoU per class: [0.88934575 0.66337167]\n",
      "Elapsed time: 139.5976917743683 seconds.\n"
     ]
    }
   ],
   "source": [
    "print(f'Testing model inria_raw_5e...')\n",
    "\n",
    "iou, mean_iou, elapsed_time = test_model_rid(model_inria_raw_5e,\n",
    "                                                  rid_test_folder,\n",
    "                                                  num_classes,\n",
    "                                                  rid_background_class,\n",
    "                                                  background_class,\n",
    "                                                  ignore_index,\n",
    "                                                  output=False)\n",
    "\n",
    "print(f'Mean IoU: {mean_iou}')\n",
    "print(f'IoU per class: {iou}')\n",
    "print(f'Elapsed time: {elapsed_time} seconds.')"
   ]
  },
  {
   "cell_type": "markdown",
   "id": "183622b7",
   "metadata": {},
   "source": [
    "# AIRS"
   ]
  },
  {
   "cell_type": "code",
   "execution_count": 17,
   "id": "453fae60",
   "metadata": {},
   "outputs": [],
   "source": [
    "background_class = 0\n",
    "num_classes = 2\n",
    "scale_percent = 25"
   ]
  },
  {
   "cell_type": "code",
   "execution_count": 18,
   "id": "6417aaaf",
   "metadata": {},
   "outputs": [
    {
     "name": "stdout",
     "output_type": "stream",
     "text": [
      "Testing model inria_aug_10e...\n",
      "Mean IoU: 0.866490661102786\n",
      "IoU per class: [0.9776904  0.75529092]\n",
      "Elapsed time: 1617.1714451313019 seconds.\n"
     ]
    }
   ],
   "source": [
    "print(f'Testing model inria_aug_10e...')\n",
    "\n",
    "iou, mean_iou, elapsed_time = test_model_airs(model_inria_aug_10e,\n",
    "                                              airs_test_path,\n",
    "                                              scale_percent,\n",
    "                                              num_classes,\n",
    "                                              background_class,\n",
    "                                              ignore_index,\n",
    "                                              output=False)\n",
    "\n",
    "print(f'Mean IoU: {mean_iou}')\n",
    "print(f'IoU per class: {iou}')\n",
    "print(f'Elapsed time: {elapsed_time} seconds.')"
   ]
  },
  {
   "cell_type": "code",
   "execution_count": 19,
   "id": "4d98e5be",
   "metadata": {},
   "outputs": [
    {
     "name": "stdout",
     "output_type": "stream",
     "text": [
      "Testing model inria_raw_10e...\n",
      "Mean IoU: 0.8465287582990798\n",
      "IoU per class: [0.97347912 0.71957839]\n",
      "Elapsed time: 1711.276927471161 seconds.\n"
     ]
    }
   ],
   "source": [
    "print(f'Testing model inria_raw_10e...')\n",
    "\n",
    "iou, mean_iou, elapsed_time = test_model_airs(model_inria_raw_10e,\n",
    "                                              airs_test_path,\n",
    "                                              scale_percent,\n",
    "                                              num_classes,\n",
    "                                              background_class,\n",
    "                                              ignore_index,\n",
    "                                              output=False)\n",
    "\n",
    "print(f'Mean IoU: {mean_iou}')\n",
    "print(f'IoU per class: {iou}')\n",
    "print(f'Elapsed time: {elapsed_time} seconds.')"
   ]
  },
  {
   "cell_type": "code",
   "execution_count": 20,
   "id": "b0d1bb53",
   "metadata": {},
   "outputs": [
    {
     "name": "stdout",
     "output_type": "stream",
     "text": [
      "Testing model inria_aug_5e...\n",
      "Mean IoU: 0.7752117536901475\n",
      "IoU per class: [0.95550337 0.59492014]\n",
      "Elapsed time: 1640.1877014636993 seconds.\n"
     ]
    }
   ],
   "source": [
    "print(f'Testing model inria_aug_5e...')\n",
    "\n",
    "iou, mean_iou, elapsed_time = test_model_airs(model_inria_aug_5e,\n",
    "                                              airs_test_path,\n",
    "                                              scale_percent,\n",
    "                                              num_classes,\n",
    "                                              background_class,\n",
    "                                              ignore_index,\n",
    "                                              output=False)\n",
    "\n",
    "print(f'Mean IoU: {mean_iou}')\n",
    "print(f'IoU per class: {iou}')\n",
    "print(f'Elapsed time: {elapsed_time} seconds.')"
   ]
  },
  {
   "cell_type": "code",
   "execution_count": 21,
   "id": "c7f32cec",
   "metadata": {},
   "outputs": [
    {
     "name": "stdout",
     "output_type": "stream",
     "text": [
      "Testing model inria_raw_5e...\n",
      "Mean IoU: 0.7754282304151523\n",
      "IoU per class: [0.95534785 0.59550861]\n",
      "Elapsed time: 1637.2719938755035 seconds.\n"
     ]
    }
   ],
   "source": [
    "print(f'Testing model inria_raw_5e...')\n",
    "\n",
    "iou, mean_iou, elapsed_time = test_model_airs(model_inria_raw_5e,\n",
    "                                              airs_test_path,\n",
    "                                              scale_percent,\n",
    "                                              num_classes,\n",
    "                                              background_class,\n",
    "                                              ignore_index,\n",
    "                                              output=False)\n",
    "\n",
    "print(f'Mean IoU: {mean_iou}')\n",
    "print(f'IoU per class: {iou}')\n",
    "print(f'Elapsed time: {elapsed_time} seconds.')"
   ]
  },
  {
   "cell_type": "markdown",
   "id": "dce0b0b9",
   "metadata": {},
   "source": [
    "# Check optimal scale"
   ]
  },
  {
   "cell_type": "code",
   "execution_count": 8,
   "id": "bdcf89b8",
   "metadata": {},
   "outputs": [
    {
     "name": "stdout",
     "output_type": "stream",
     "text": [
      "Testing model inria_aug_10e...\n",
      "Testing scale 3.75%, gr 2 m/pixel\n",
      "IoU: [0.92894031 0.09754744]\n",
      "Testing scale 7.5%, gr 1 m/pixel\n",
      "IoU: [0.92824647 0.22033324]\n",
      "Testing scale 10.0%, gr 0.75 m/pixel\n",
      "IoU: [0.94412707 0.39447996]\n",
      "Testing scale 15.0%, gr 0.5 m/pixel\n",
      "IoU: [0.96599575 0.62659586]\n",
      "Testing scale 18.749999999999996%, gr 0.4 m/pixel\n",
      "IoU: [0.97355512 0.70307351]\n",
      "Testing scale 25.0%, gr 0.3 m/pixel\n",
      "IoU: [0.97834271 0.75712884]\n",
      "Testing scale 37.49999999999999%, gr 0.2 m/pixel\n",
      "IoU: [0.97771722 0.75846735]\n",
      "Testing scale 74.99999999999999%, gr 0.1 m/pixel\n",
      "IoU: [0.95533154 0.61730839]\n",
      "Testing scale 100.0%, gr 0.075 m/pixel\n",
      "IoU: [0.95105443 0.59208684]\n"
     ]
    }
   ],
   "source": [
    "print(f'Testing model inria_aug_10e...')\n",
    "\n",
    "airs_gr = 0.075\n",
    "grs = [2,1,0.75,0.5,0.4,0.3,0.2,0.1,0.075]\n",
    "ious = []\n",
    "\n",
    "for gr in grs:\n",
    "    scale_percent = (airs_gr / gr) * 100\n",
    "    print(f'Testing scale {scale_percent}%, gr {gr} m/pixel')\n",
    "    iou, mean_iou, elapsed_time = test_model_airs(model_inria_aug_10e,\n",
    "                                                  airs_test_path,\n",
    "                                                  scale_percent,\n",
    "                                                  num_classes,\n",
    "                                                  background_class,\n",
    "                                                  ignore_index,\n",
    "                                                  output=False,\n",
    "                                                  n_samples=10\n",
    "                                                 )\n",
    "    print(f'IoU: {iou}')\n",
    "    ious.append(iou)"
   ]
  },
  {
   "cell_type": "code",
   "execution_count": 9,
   "id": "6fbbe62c",
   "metadata": {},
   "outputs": [
    {
     "data": {
      "image/png": "[encoded data removed]",
      "text/plain": [
       "<Figure size 640x480 with 1 Axes>"
      ]
     },
     "metadata": {},
     "output_type": "display_data"
    }
   ],
   "source": [
    "with plt.rc_context({\"xtick.major.pad\": 0}):\n",
    "    fig, ax = plt.subplots()\n",
    "\n",
    "    ious_np = np.array(ious)\n",
    "\n",
    "    width = 0.5\n",
    "\n",
    "    scales = list(range(len(grs)))\n",
    "    ax.bar(np.array(scales) - (width / 2), ious_np[:,0], width=width, edgecolor=\"white\", linewidth=0)\n",
    "    ax.bar(np.array(scales) - (width / 2), ious_np[:,1], width=width, edgecolor=\"white\", linewidth=0)\n",
    "\n",
    "    ax.set_xticks(scales)\n",
    "    ax.set_xticklabels(grs, rotation=55)\n",
    "    \n",
    "    ax.set_xlabel('Ground resolution (m/pixel)')\n",
    "    ax.set_ylabel('Intersection over Union')\n",
    "    ax.legend(['Background', 'Rooftops'])\n",
    "\n",
    "    fig.tight_layout()\n",
    "    plt.show()"
   ]
  },
  {
   "cell_type": "markdown",
   "id": "e672c469",
   "metadata": {},
   "source": [
    "# Testing Aachen"
   ]
  },
  {
   "cell_type": "code",
   "execution_count": 6,
   "id": "74569696",
   "metadata": {},
   "outputs": [],
   "source": [
    "import pandas as pd\n",
    "import geopandas as gpd\n",
    "import shapely\n",
    "import shapely.wkt\n",
    "import shapely.ops\n",
    "import utm\n",
    "import rasterio\n",
    "import numpy as np\n",
    "\n",
    "import passion.segmentation"
   ]
  },
  {
   "cell_type": "code",
   "execution_count": 7,
   "id": "839b3903",
   "metadata": {},
   "outputs": [
    {
     "name": "stderr",
     "output_type": "stream",
     "text": [
      "/storage/internal/home/r-pueblas/.conda/envs/passion-dev/lib/python3.8/site-packages/IPython/core/interactiveshell.py:3433: DtypeWarning: Columns (1,4,5,9,13,15) have mixed types.Specify dtype option on import or set low_memory=False.\n",
      "  exec(code_obj, self.user_global_ns, self.user_ns)\n"
     ]
    }
   ],
   "source": [
    "data_path = pathlib.Path('../data')\n",
    "aachen_df = pd.read_csv(data_path / 'aachen_model.csv', index_col=0)\n",
    "\n",
    "aachen_path = pathlib.Path('../../workflow/output/aachen-intersection-z19/satellite')"
   ]
  },
  {
   "cell_type": "code",
   "execution_count": 8,
   "id": "99951459",
   "metadata": {},
   "outputs": [
    {
     "name": "stdout",
     "output_type": "stream",
     "text": [
      "There are 496730 polygons.\n"
     ]
    },
    {
     "data": {
      "text/html": [
       "<div>\n",
       "<style scoped>\n",
       "    .dataframe tbody tr th:only-of-type {\n",
       "        vertical-align: middle;\n",
       "    }\n",
       "\n",
       "    .dataframe tbody tr th {\n",
       "        vertical-align: top;\n",
       "    }\n",
       "\n",
       "    .dataframe thead th {\n",
       "        text-align: right;\n",
       "    }\n",
       "</style>\n",
       "<table border=\"1\" class=\"dataframe\">\n",
       "  <thead>\n",
       "    <tr style=\"text-align: right;\">\n",
       "      <th></th>\n",
       "      <th>ST_AsText_1</th>\n",
       "      <th>ST_AsText_2</th>\n",
       "      <th>ST_SRID_1</th>\n",
       "      <th>Within</th>\n",
       "      <th>normal</th>\n",
       "      <th>area</th>\n",
       "      <th>tilt</th>\n",
       "      <th>azimuth</th>\n",
       "      <th>center</th>\n",
       "      <th>lon</th>\n",
       "      <th>lat</th>\n",
       "      <th>capacity</th>\n",
       "      <th>flat</th>\n",
       "      <th>elev</th>\n",
       "      <th>group</th>\n",
       "      <th>ID</th>\n",
       "      <th>poa</th>\n",
       "      <th>generation</th>\n",
       "      <th>gen</th>\n",
       "    </tr>\n",
       "  </thead>\n",
       "  <tbody>\n",
       "    <tr>\n",
       "      <th>217008</th>\n",
       "      <td>POLYGON Z ((293727.27 5628870.318 193.661,2937...</td>\n",
       "      <td>NaN</td>\n",
       "      <td>25832.0</td>\n",
       "      <td>True</td>\n",
       "      <td>[ 0. -0.  1.]</td>\n",
       "      <td>45.969333</td>\n",
       "      <td>32.0</td>\n",
       "      <td>180.0</td>\n",
       "      <td>[(293728.858683662, 5628871.637373464)]</td>\n",
       "      <td>6.074272</td>\n",
       "      <td>50.774872</td>\n",
       "      <td>2.442626</td>\n",
       "      <td>True</td>\n",
       "      <td>300.0</td>\n",
       "      <td>S2</td>\n",
       "      <td>217008.0</td>\n",
       "      <td>1.293567e+06</td>\n",
       "      <td>2426.687024</td>\n",
       "      <td>NaN</td>\n",
       "    </tr>\n",
       "    <tr>\n",
       "      <th>217013</th>\n",
       "      <td>POLYGON Z ((293152.73 5628244.806 200.56,29315...</td>\n",
       "      <td>NaN</td>\n",
       "      <td>25832.0</td>\n",
       "      <td>True</td>\n",
       "      <td>[0. 0. 1.]</td>\n",
       "      <td>36.064949</td>\n",
       "      <td>32.0</td>\n",
       "      <td>180.0</td>\n",
       "      <td>[(293157.8567467185, 5628243.828399268)]</td>\n",
       "      <td>6.066537</td>\n",
       "      <td>50.769030</td>\n",
       "      <td>1.916347</td>\n",
       "      <td>True</td>\n",
       "      <td>300.0</td>\n",
       "      <td>S2</td>\n",
       "      <td>217013.0</td>\n",
       "      <td>1.291059e+06</td>\n",
       "      <td>1900.208815</td>\n",
       "      <td>NaN</td>\n",
       "    </tr>\n",
       "  </tbody>\n",
       "</table>\n",
       "</div>"
      ],
      "text/plain": [
       "                                              ST_AsText_1  ST_AsText_2  \\\n",
       "217008  POLYGON Z ((293727.27 5628870.318 193.661,2937...          NaN   \n",
       "217013  POLYGON Z ((293152.73 5628244.806 200.56,29315...          NaN   \n",
       "\n",
       "        ST_SRID_1 Within         normal       area  tilt  azimuth  \\\n",
       "217008    25832.0   True  [ 0. -0.  1.]  45.969333  32.0    180.0   \n",
       "217013    25832.0   True     [0. 0. 1.]  36.064949  32.0    180.0   \n",
       "\n",
       "                                          center       lon        lat  \\\n",
       "217008   [(293728.858683662, 5628871.637373464)]  6.074272  50.774872   \n",
       "217013  [(293157.8567467185, 5628243.828399268)]  6.066537  50.769030   \n",
       "\n",
       "        capacity  flat   elev group        ID           poa   generation  gen  \n",
       "217008  2.442626  True  300.0    S2  217008.0  1.293567e+06  2426.687024  NaN  \n",
       "217013  1.916347  True  300.0    S2  217013.0  1.291059e+06  1900.208815  NaN  "
      ]
     },
     "execution_count": 8,
     "metadata": {},
     "output_type": "execute_result"
    }
   ],
   "source": [
    "print(f'There are {len(aachen_df)} polygons.')\n",
    "aachen_df.head(2)"
   ]
  },
  {
   "cell_type": "code",
   "execution_count": 9,
   "id": "de2d5668",
   "metadata": {},
   "outputs": [],
   "source": [
    "aachen_df = aachen_df.dropna(subset=['ST_AsText_1'])\n",
    "\n",
    "gs = gpd.GeoSeries.from_wkt(aachen_df['ST_AsText_1'])\n",
    "aachen_gdf = gpd.GeoDataFrame(aachen_df, geometry=gs, crs=\"EPSG:4326\")"
   ]
  },
  {
   "cell_type": "code",
   "execution_count": 10,
   "id": "fcae2244",
   "metadata": {},
   "outputs": [],
   "source": [
    "def utm_to_latlon(x, y, z=None):\n",
    "    aachen_utm_number, aachen_utm_letter = 32, 'U'\n",
    "    return utm.to_latlon(x, y, aachen_utm_number, aachen_utm_letter)\n",
    "aachen_gdf['polygon_latlon'] = aachen_gdf['geometry'].apply(lambda x: shapely.ops.transform(utm_to_latlon, x))\n",
    "aachen_gdf = aachen_gdf.set_geometry('polygon_latlon')\n",
    "\n",
    "\n",
    "def latlon_to_xy(x, y, z=None):\n",
    "    zoom_level = 19\n",
    "    return passion.util.gis.latlon_toXY(x, y, zoom_level)\n",
    "aachen_gdf['polygon_xy'] = aachen_gdf['polygon_latlon'].apply(lambda x: shapely.ops.transform(latlon_to_xy, x))\n",
    "aachen_gdf = aachen_gdf.set_geometry('polygon_xy')"
   ]
  },
  {
   "cell_type": "code",
   "execution_count": 11,
   "id": "d4d949f1",
   "metadata": {},
   "outputs": [
    {
     "name": "stderr",
     "output_type": "stream",
     "text": [
      "  0%|                                                                          | 0/10 [00:00<?, ?it/s]/storage/internal/home/r-pueblas/.conda/envs/passion-dev/lib/python3.8/site-packages/geopandas/geodataframe.py:1472: SettingWithCopyWarning: \n",
      "A value is trying to be set on a copy of a slice from a DataFrame.\n",
      "Try using .loc[row_indexer,col_indexer] = value instead\n",
      "\n",
      "See the caveats in the documentation: https://pandas.pydata.org/pandas-docs/stable/user_guide/indexing.html#returning-a-view-versus-a-copy\n",
      "  super().__setitem__(key, value)\n",
      " 10%|██████▌                                                           | 1/10 [00:09<01:28,  9.82s/it]"
     ]
    },
    {
     "name": "stdout",
     "output_type": "stream",
     "text": [
      "Partial iou: [0.95619438 0.51945599]\n"
     ]
    },
    {
     "name": "stderr",
     "output_type": "stream",
     "text": [
      "/storage/internal/home/r-pueblas/.conda/envs/passion-dev/lib/python3.8/site-packages/geopandas/geodataframe.py:1472: SettingWithCopyWarning: \n",
      "A value is trying to be set on a copy of a slice from a DataFrame.\n",
      "Try using .loc[row_indexer,col_indexer] = value instead\n",
      "\n",
      "See the caveats in the documentation: https://pandas.pydata.org/pandas-docs/stable/user_guide/indexing.html#returning-a-view-versus-a-copy\n",
      "  super().__setitem__(key, value)\n",
      " 20%|█████████████▏                                                    | 2/10 [00:18<01:13,  9.23s/it]"
     ]
    },
    {
     "name": "stdout",
     "output_type": "stream",
     "text": [
      "Partial iou: [0.92758905 0.47043489]\n"
     ]
    },
    {
     "name": "stderr",
     "output_type": "stream",
     "text": [
      "/storage/internal/home/r-pueblas/.conda/envs/passion-dev/lib/python3.8/site-packages/geopandas/geodataframe.py:1472: SettingWithCopyWarning: \n",
      "A value is trying to be set on a copy of a slice from a DataFrame.\n",
      "Try using .loc[row_indexer,col_indexer] = value instead\n",
      "\n",
      "See the caveats in the documentation: https://pandas.pydata.org/pandas-docs/stable/user_guide/indexing.html#returning-a-view-versus-a-copy\n",
      "  super().__setitem__(key, value)\n",
      " 30%|███████████████████▊                                              | 3/10 [00:27<01:02,  8.86s/it]"
     ]
    },
    {
     "name": "stdout",
     "output_type": "stream",
     "text": [
      "Partial iou: [0.91690648 0.50165817]\n"
     ]
    },
    {
     "name": "stderr",
     "output_type": "stream",
     "text": [
      "/storage/internal/home/r-pueblas/.conda/envs/passion-dev/lib/python3.8/site-packages/geopandas/geodataframe.py:1472: SettingWithCopyWarning: \n",
      "A value is trying to be set on a copy of a slice from a DataFrame.\n",
      "Try using .loc[row_indexer,col_indexer] = value instead\n",
      "\n",
      "See the caveats in the documentation: https://pandas.pydata.org/pandas-docs/stable/user_guide/indexing.html#returning-a-view-versus-a-copy\n",
      "  super().__setitem__(key, value)\n",
      " 40%|██████████████████████████▍                                       | 4/10 [00:35<00:52,  8.71s/it]"
     ]
    },
    {
     "name": "stdout",
     "output_type": "stream",
     "text": [
      "Partial iou: [0.90315967 0.48762609]\n"
     ]
    },
    {
     "name": "stderr",
     "output_type": "stream",
     "text": [
      "/storage/internal/home/r-pueblas/.conda/envs/passion-dev/lib/python3.8/site-packages/geopandas/geodataframe.py:1472: SettingWithCopyWarning: \n",
      "A value is trying to be set on a copy of a slice from a DataFrame.\n",
      "Try using .loc[row_indexer,col_indexer] = value instead\n",
      "\n",
      "See the caveats in the documentation: https://pandas.pydata.org/pandas-docs/stable/user_guide/indexing.html#returning-a-view-versus-a-copy\n",
      "  super().__setitem__(key, value)\n",
      " 50%|█████████████████████████████████                                 | 5/10 [00:44<00:43,  8.74s/it]"
     ]
    },
    {
     "name": "stdout",
     "output_type": "stream",
     "text": [
      "Partial iou: [0.91224792 0.50109134]\n"
     ]
    },
    {
     "name": "stderr",
     "output_type": "stream",
     "text": [
      "/storage/internal/home/r-pueblas/.conda/envs/passion-dev/lib/python3.8/site-packages/geopandas/geodataframe.py:1472: SettingWithCopyWarning: \n",
      "A value is trying to be set on a copy of a slice from a DataFrame.\n",
      "Try using .loc[row_indexer,col_indexer] = value instead\n",
      "\n",
      "See the caveats in the documentation: https://pandas.pydata.org/pandas-docs/stable/user_guide/indexing.html#returning-a-view-versus-a-copy\n",
      "  super().__setitem__(key, value)\n",
      " 60%|███████████████████████████████████████▌                          | 6/10 [00:53<00:35,  8.87s/it]"
     ]
    },
    {
     "name": "stdout",
     "output_type": "stream",
     "text": [
      "Partial iou: [0.9002145  0.53057979]\n"
     ]
    },
    {
     "name": "stderr",
     "output_type": "stream",
     "text": [
      "/storage/internal/home/r-pueblas/.conda/envs/passion-dev/lib/python3.8/site-packages/geopandas/geodataframe.py:1472: SettingWithCopyWarning: \n",
      "A value is trying to be set on a copy of a slice from a DataFrame.\n",
      "Try using .loc[row_indexer,col_indexer] = value instead\n",
      "\n",
      "See the caveats in the documentation: https://pandas.pydata.org/pandas-docs/stable/user_guide/indexing.html#returning-a-view-versus-a-copy\n",
      "  super().__setitem__(key, value)\n",
      " 70%|██████████████████████████████████████████████▏                   | 7/10 [01:08<00:32, 10.89s/it]"
     ]
    },
    {
     "name": "stdout",
     "output_type": "stream",
     "text": [
      "Partial iou: [0.90697683 0.53347943]\n"
     ]
    },
    {
     "name": "stderr",
     "output_type": "stream",
     "text": [
      "/storage/internal/home/r-pueblas/.conda/envs/passion-dev/lib/python3.8/site-packages/geopandas/geodataframe.py:1472: SettingWithCopyWarning: \n",
      "A value is trying to be set on a copy of a slice from a DataFrame.\n",
      "Try using .loc[row_indexer,col_indexer] = value instead\n",
      "\n",
      "See the caveats in the documentation: https://pandas.pydata.org/pandas-docs/stable/user_guide/indexing.html#returning-a-view-versus-a-copy\n",
      "  super().__setitem__(key, value)\n",
      " 80%|████████████████████████████████████████████████████▊             | 8/10 [01:25<00:25, 12.81s/it]"
     ]
    },
    {
     "name": "stdout",
     "output_type": "stream",
     "text": [
      "Partial iou: [0.87838613 0.56476788]\n"
     ]
    },
    {
     "name": "stderr",
     "output_type": "stream",
     "text": [
      "/storage/internal/home/r-pueblas/.conda/envs/passion-dev/lib/python3.8/site-packages/geopandas/geodataframe.py:1472: SettingWithCopyWarning: \n",
      "A value is trying to be set on a copy of a slice from a DataFrame.\n",
      "Try using .loc[row_indexer,col_indexer] = value instead\n",
      "\n",
      "See the caveats in the documentation: https://pandas.pydata.org/pandas-docs/stable/user_guide/indexing.html#returning-a-view-versus-a-copy\n",
      "  super().__setitem__(key, value)\n",
      " 90%|███████████████████████████████████████████████████████████▍      | 9/10 [01:47<00:15, 15.71s/it]"
     ]
    },
    {
     "name": "stdout",
     "output_type": "stream",
     "text": [
      "Partial iou: [0.87418055 0.54806715]\n"
     ]
    },
    {
     "name": "stderr",
     "output_type": "stream",
     "text": [
      "/storage/internal/home/r-pueblas/.conda/envs/passion-dev/lib/python3.8/site-packages/geopandas/geodataframe.py:1472: SettingWithCopyWarning: \n",
      "A value is trying to be set on a copy of a slice from a DataFrame.\n",
      "Try using .loc[row_indexer,col_indexer] = value instead\n",
      "\n",
      "See the caveats in the documentation: https://pandas.pydata.org/pandas-docs/stable/user_guide/indexing.html#returning-a-view-versus-a-copy\n",
      "  super().__setitem__(key, value)\n",
      "100%|█████████████████████████████████████████████████████████████████| 10/10 [02:02<00:00, 12.28s/it]"
     ]
    },
    {
     "name": "stdout",
     "output_type": "stream",
     "text": [
      "Partial iou: [0.87418337 0.54900534]\n"
     ]
    },
    {
     "name": "stderr",
     "output_type": "stream",
     "text": [
      "\n"
     ]
    }
   ],
   "source": [
    "# Randomly selected samples with significative amount of buildings\n",
    "names = [\n",
    "    '50D42M57338SNORTH_06D09M55075SEAST_19L.tif',\n",
    "    '50D44M54530SNORTH_06D09M16451SEAST_19L.tif',\n",
    "    '50D45M03541SNORTH_06D05M24709SEAST_19L.tif',\n",
    "    '50D45M30572SNORTH_06D08M18516SEAST_19L.tif',\n",
    "    '50D45M39582SNORTH_06D04M26773SEAST_19L.tif',\n",
    "    '50D46M06607SNORTH_06D05M05397SEAST_19L.tif',\n",
    "    '50D46M15615SNORTH_06D07M59204SEAST_19L.tif',\n",
    "    '50D46M24622SNORTH_06D05M24709SEAST_19L.tif',\n",
    "    '50D46M33628SNORTH_06D03M48149SEAST_19L.tif',\n",
    "    '50D47M00645SNORTH_06D07M59204SEAST_19L.tif'\n",
    "]\n",
    "\n",
    "num_classes = 2\n",
    "\n",
    "total_area_intersect = np.zeros((num_classes, ), dtype=float)\n",
    "total_area_union = np.zeros((num_classes, ), dtype=float)\n",
    "total_area_pred_label = np.zeros((num_classes, ), dtype=float)\n",
    "total_area_label = np.zeros((num_classes, ), dtype=float)\n",
    "\n",
    "for name in tqdm(names):\n",
    "    img_path = aachen_path / name\n",
    "    \n",
    "    src = rasterio.open(img_path)\n",
    "    r = src.read(1)\n",
    "    g = src.read(2)\n",
    "    b = src.read(3)\n",
    "    img = np.dstack((b,g,r))\n",
    "    \n",
    "    img_bbox = shapely.geometry.box(*src.bounds)\n",
    "    \n",
    "    img_gdf = aachen_gdf[aachen_gdf.geometry.intersects(img_bbox)]\n",
    "    \n",
    "    min_x, min_y = src.bounds[0], src.bounds[1]\n",
    "    \n",
    "    def rel_xy(x, y, z=None):\n",
    "        return int(x-min_x), (y-min_y)\n",
    "    \n",
    "    img_gdf['rel_geometry'] = img_gdf.geometry.apply(lambda x: shapely.ops.transform(rel_xy, x))\n",
    "    \n",
    "    img_polygons = img_gdf['rel_geometry']\n",
    "    img_classes = len(img_polygons) * [1]\n",
    "    \n",
    "    mask_img = passion.util.shapes.outlines_to_image(img_polygons, img_classes, img.shape)\n",
    "    pred = passion.segmentation.prediction.segment_img(img, model_inria_aug_10e, tile_size=512, stride=512, background_class=0)\n",
    "    \n",
    "    area_intersect, area_union, area_pred_label, area_label = \\\n",
    "                            intersect_and_union(pred, mask_img, num_classes, -1)\n",
    "    total_area_intersect += area_intersect\n",
    "    total_area_union += area_union\n",
    "    total_area_pred_label += area_pred_label\n",
    "    total_area_label += area_label\n",
    "    \n",
    "    print(f'Partial iou: {total_area_intersect / total_area_union}')"
   ]
  },
  {
   "cell_type": "code",
   "execution_count": 12,
   "id": "c88e20c7",
   "metadata": {},
   "outputs": [
    {
     "name": "stdout",
     "output_type": "stream",
     "text": [
      "IoU: [0.87418337 0.54900534]. Mean: 0.7115943554310994\n"
     ]
    }
   ],
   "source": [
    "iou = total_area_intersect / total_area_union\n",
    "\n",
    "print(f'IoU: {iou}. Mean: {np.mean(iou[~np.isnan(iou)])}')"
   ]
  },
  {
   "cell_type": "code",
   "execution_count": null,
   "id": "2b441a96",
   "metadata": {},
   "outputs": [],
   "source": []
  }
 ],
 "metadata": {
  "kernelspec": {
   "display_name": "Python 3 (ipykernel)",
   "language": "python",
   "name": "python3"
  },
  "language_info": {
   "codemirror_mode": {
    "name": "ipython",
    "version": 3
   },
   "file_extension": ".py",
   "mimetype": "text/x-python",
   "name": "python",
   "nbconvert_exporter": "python",
   "pygments_lexer": "ipython3",
   "version": "3.8.13"
  }
 },
 "nbformat": 4,
 "nbformat_minor": 5
}
