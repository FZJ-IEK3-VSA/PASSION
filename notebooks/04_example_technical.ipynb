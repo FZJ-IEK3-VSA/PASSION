{
 "cells": [
  {
   "cell_type": "markdown",
   "metadata": {},
   "source": [
    "# PASSION demo:\n",
    "## Technical potential simulation"
   ]
  },
  {
   "cell_type": "code",
   "execution_count": 1,
   "id": "suited-funeral",
   "metadata": {},
   "outputs": [
    {
     "name": "stdout",
     "output_type": "stream",
     "text": [
      "Segmentation Models: using `tf.keras` framework.\n"
     ]
    }
   ],
   "source": [
    "# In order to import the package from parent folder\n",
    "import sys\n",
    "sys.path[0] += '\\\\..'\n",
    "\n",
    "import passion"
   ]
  },
  {
   "cell_type": "code",
   "execution_count": 2,
   "id": "offshore-twist",
   "metadata": {},
   "outputs": [],
   "source": [
    "from pathlib import Path\n",
    "sections_path = Path('F:\\datasets/aachen_buildings')\n",
    "output_path = Path('F:\\datasets/aachen_buildings')\n",
    "era5_path = Path('F:\\datasets/aachen_buildings')\n",
    "sarah_path = Path('F:\\datasets/aachen_buildings')"
   ]
  },
  {
   "cell_type": "code",
   "execution_count": 3,
   "id": "satisfactory-mexican",
   "metadata": {},
   "outputs": [
    {
     "name": "stdout",
     "output_type": "stream",
     "text": [
      "         lon        lat elev  capacity       tilt azimuth       area flat  \\\n",
      "S0  6.078332  50.770010  204    4440.0          0       0  30.594723    1   \n",
      "S1  6.079289  50.770099  204    5180.0          0       0  35.101784    1   \n",
      "S2  6.080278  50.770131  204    3330.0          0       0  23.291806    1   \n",
      "S3  6.076767  50.770239  204    2960.0  27.541839    45.0  20.472352    0   \n",
      "S4  6.076736  50.770227  204     370.0  27.541839   225.0   3.204453    0   \n",
      "\n",
      "                                       outline_latlon  \\\n",
      "S0  [[50.77005095530795, 6.078341603279114], [50.7...   \n",
      "S1  [[50.770137467596214, 6.079280376434326], [50....   \n",
      "S2  [[50.77016121603951, 6.080267429351807], [50.7...   \n",
      "S3  [[50.77026638757205, 6.076753735542297], [50.7...   \n",
      "S4  [[50.7702443354961, 6.076718866825104], [50.77...   \n",
      "\n",
      "                                           outline_xy  \\\n",
      "S0  [(798.0, 1386.0), (796.0, 1388.0), (794.0, 139...   \n",
      "S1  [(969.0, 1361.0), (966.0, 1362.0), (964.0, 136...   \n",
      "S2  [(1151.0, 1354.0), (1149.0, 1355.0), (1146.0, ...   \n",
      "S3  [(495.0, 1325.0), (493.0, 1328.0), (490.0, 133...   \n",
      "S4  [(482.0, 1338.0), (482.0, 1347.0), (483.0, 135...   \n",
      "\n",
      "                            section_image_name  \n",
      "S0  50D46M12035SNORTH_06D04M41994SEAST_19L.png  \n",
      "S1  50D46M12354SNORTH_06D04M45440SEAST_19L.png  \n",
      "S2  50D46M12471SNORTH_06D04M49001SEAST_19L.png  \n",
      "S3  50D46M12860SNORTH_06D04M36361SEAST_19L.png  \n",
      "S4  50D46M12816SNORTH_06D04M36250SEAST_19L.png  \n"
     ]
    }
   ],
   "source": [
    "passion.technical.reskit.generate_technical(sections_path, output_path, era5_path, sarah_path)"
   ]
  },
  {
   "cell_type": "code",
   "execution_count": null,
   "id": "abstract-porter",
   "metadata": {},
   "outputs": [],
   "source": []
  }
 ],
 "metadata": {
  "kernelspec": {
   "display_name": "Python 3",
   "language": "python",
   "name": "python3"
  },
  "language_info": {
   "codemirror_mode": {
    "name": "ipython",
    "version": 3
   },
   "file_extension": ".py",
   "mimetype": "text/x-python",
   "name": "python",
   "nbconvert_exporter": "python",
   "pygments_lexer": "ipython3",
   "version": "3.8.2"
  }
 },
 "nbformat": 4,
 "nbformat_minor": 5
}
