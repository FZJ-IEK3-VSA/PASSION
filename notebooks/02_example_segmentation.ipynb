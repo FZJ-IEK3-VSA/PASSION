{
 "cells": [
  {
   "cell_type": "markdown",
   "metadata": {},
   "source": [
    "# PASSION demo:\n",
    "## Model rooftop segmentation generation"
   ]
  },
  {
   "cell_type": "code",
   "execution_count": 1,
   "id": "underlying-savannah",
   "metadata": {},
   "outputs": [],
   "source": [
    "# In order to import the package from parent folder\n",
    "import sys\n",
    "sys.path[0] += '\\\\..'\n",
    "\n",
    "import passion"
   ]
  },
  {
   "cell_type": "code",
   "execution_count": 2,
   "id": "conservative-insertion",
   "metadata": {},
   "outputs": [],
   "source": [
    "import pathlib\n",
    "\n",
    "training_data_path = pathlib.Path('F:\\datasets/aachen_model_test')\n",
    "\n",
    "model_path = pathlib.Path('F:\\datasets/passion/models')"
   ]
  },
  {
   "cell_type": "markdown",
   "metadata": {},
   "source": [
    "#### Model training:\n",
    "For a local machine, a small batch size is specified in order to not run out of RAM.  \n",
    "In order to generate a suitable model, a larger batch size and longer training must be carried out."
   ]
  },
  {
   "cell_type": "code",
   "execution_count": 3,
   "id": "compliant-astronomy",
   "metadata": {},
   "outputs": [
    {
     "name": "stdout",
     "output_type": "stream",
     "text": [
      "F:\\datasets\\aachen_model_test\\train\\image\n",
      "Epoch 1/10\n",
      "75/75 [==============================] - ETA: 0s - loss: 0.2752 - accuracy: 0.5700F:\\datasets\\aachen_model_test\\val\\image\n",
      "75/75 [==============================] - 55s 553ms/step - loss: 0.2745 - accuracy: 0.5723 - val_loss: 0.3340 - val_accuracy: 0.5624\n",
      "Epoch 2/10\n",
      "75/75 [==============================] - 40s 529ms/step - loss: 0.1251 - accuracy: 0.9343 - val_loss: 0.1615 - val_accuracy: 0.8586\n",
      "Epoch 3/10\n",
      "75/75 [==============================] - 42s 560ms/step - loss: 0.0839 - accuracy: 0.9490 - val_loss: 0.1116 - val_accuracy: 0.8892\n",
      "Epoch 4/10\n",
      "75/75 [==============================] - 48s 641ms/step - loss: 0.0549 - accuracy: 0.9696 - val_loss: 0.0874 - val_accuracy: 0.9090\n",
      "Epoch 5/10\n",
      "75/75 [==============================] - 54s 726ms/step - loss: 0.0445 - accuracy: 0.9726 - val_loss: 0.0872 - val_accuracy: 0.8995\n",
      "Epoch 6/10\n",
      "75/75 [==============================] - 53s 712ms/step - loss: 0.0326 - accuracy: 0.9823 - val_loss: 0.0801 - val_accuracy: 0.9073\n",
      "Epoch 7/10\n",
      "75/75 [==============================] - 54s 724ms/step - loss: 0.0255 - accuracy: 0.9855 - val_loss: 0.0804 - val_accuracy: 0.9045\n",
      "Epoch 8/10\n",
      "75/75 [==============================] - 57s 755ms/step - loss: 0.0227 - accuracy: 0.9861 - val_loss: 0.0772 - val_accuracy: 0.9089\n",
      "Epoch 9/10\n",
      "75/75 [==============================] - 53s 709ms/step - loss: 0.0187 - accuracy: 0.9862 - val_loss: 0.0732 - val_accuracy: 0.9130\n",
      "Epoch 10/10\n",
      "75/75 [==============================] - 49s 651ms/step - loss: 0.0149 - accuracy: 0.9908 - val_loss: 0.0735 - val_accuracy: 0.9126\n"
     ]
    }
   ],
   "source": [
    "passion.segmentation.training.train_model(training_data_path, model_path, batch_size=1)"
   ]
  },
  {
   "cell_type": "code",
   "execution_count": 3,
   "id": "isolated-habitat",
   "metadata": {},
   "outputs": [],
   "source": [
    "import tensorflow as tf\n",
    "\n",
    "model_path_str = str(model_path / 'rooftop_segmentation.h5')\n",
    "\n",
    "model = tf.keras.models.load_model(model_path_str)\n",
    "\n",
    "input_path = pathlib.Path('F:\\datasets/passion/satellite')\n",
    "\n",
    "output_path = pathlib.Path('F:\\datasets/passion/segmented')"
   ]
  },
  {
   "cell_type": "code",
   "execution_count": 4,
   "id": "fossil-storage",
   "metadata": {},
   "outputs": [
    {
     "name": "stderr",
     "output_type": "stream",
     "text": [
      "100%|████████████████████████████████████████████████████████████████████████████████████| 9/9 [01:04<00:00,  7.22s/it]\n"
     ]
    }
   ],
   "source": [
    "passion.segmentation.prediction.segment_dataset(input_path = input_path, model = model, output_path = output_path)"
   ]
  },
  {
   "cell_type": "code",
   "execution_count": 5,
   "id": "involved-stamp",
   "metadata": {},
   "outputs": [],
   "source": [
    "import numpy as np\n",
    "def custom_postprocess(image):\n",
    "    return np.zeros(image.shape)\n",
    "\n",
    "passion.segmentation.prediction.postprocess_output = custom_postprocess"
   ]
  },
  {
   "cell_type": "code",
   "execution_count": null,
   "id": "lasting-telescope",
   "metadata": {},
   "outputs": [],
   "source": []
  }
 ],
 "metadata": {
  "kernelspec": {
   "display_name": "Python 3",
   "language": "python",
   "name": "python3"
  },
  "language_info": {
   "codemirror_mode": {
    "name": "ipython",
    "version": 3
   },
   "file_extension": ".py",
   "mimetype": "text/x-python",
   "name": "python",
   "nbconvert_exporter": "python",
   "pygments_lexer": "ipython3",
   "version": "3.8.2"
  }
 },
 "nbformat": 4,
 "nbformat_minor": 5
}
