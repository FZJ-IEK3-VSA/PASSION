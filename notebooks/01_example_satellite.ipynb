{
 "cells": [
  {
   "cell_type": "markdown",
   "metadata": {},
   "source": [
    "# PASSION demo:\n",
    "## Satellite data generation"
   ]
  },
  {
   "cell_type": "code",
   "execution_count": 1,
   "id": "cooked-sellers",
   "metadata": {},
   "outputs": [],
   "source": [
    "# In order to import the package from parent folder\n",
    "import sys\n",
    "sys.path[0] += '\\\\..'\n",
    "\n",
    "import passion"
   ]
  },
  {
   "cell_type": "code",
   "execution_count": 2,
   "id": "internal-forestry",
   "metadata": {},
   "outputs": [],
   "source": [
    "from pathlib import Path\n",
    "output_path = Path('F:\\datasets/passion/satellite')"
   ]
  },
  {
   "cell_type": "markdown",
   "metadata": {},
   "source": [
    "#### IMPORTANT: here, your private service API key must be specified"
   ]
  },
  {
   "cell_type": "code",
   "execution_count": 3,
   "id": "suitable-monroe",
   "metadata": {},
   "outputs": [],
   "source": [
    "API_KEY = 'YOUR_KEY'"
   ]
  },
  {
   "cell_type": "code",
   "execution_count": 4,
   "id": "rough-testimony",
   "metadata": {},
   "outputs": [
    {
     "name": "stdout",
     "output_type": "stream",
     "text": [
      "Trying zoom level: 19\n",
      "Map pixels from\t(69374462,45063984)\n",
      "To\t(69379767,45067735)\n"
     ]
    },
    {
     "name": "stderr",
     "output_type": "stream",
     "text": [
      "100%|████████████████████████████████████████████████████████████████████████████████████| 9/9 [00:21<00:00,  2.39s/it]\n"
     ]
    }
   ],
   "source": [
    "passion.satellite.image_retrieval.generate_dataset(API_KEY, 'bing', output_path, zoom = 19, bbox=((50.77850739604879, 6.0768084397936395), (50.77214558009357, 6.091035433169415)))"
   ]
  },
  {
   "cell_type": "code",
   "execution_count": 6,
   "id": "herbal-shepherd",
   "metadata": {},
   "outputs": [],
   "source": [
    "output_path = Path('F:\\datasets/output_test/aachen')"
   ]
  },
  {
   "cell_type": "code",
   "execution_count": 7,
   "id": "domestic-ministry",
   "metadata": {},
   "outputs": [
    {
     "name": "stderr",
     "output_type": "stream",
     "text": [
      "  0%|                                                                                 | 3/3542 [00:00<02:08, 27.46it/s]"
     ]
    },
    {
     "name": "stdout",
     "output_type": "stream",
     "text": [
      "Trying zoom level: 19\n",
      "Map pixels from\t(69336454,45017520)\n",
      "To\t(69427130,45132513)\n"
     ]
    },
    {
     "name": "stderr",
     "output_type": "stream",
     "text": [
      "3588it [2:01:42,  2.04s/it]                                                                                            \n"
     ]
    }
   ],
   "source": [
    "import shapefile\n",
    "sf_path = Path('D:/Universidad/EIT/IEK/rooftop-potential-from-satellite-imagery/test/data/aachen_shapefile/test_aachen')\n",
    "sf = shapefile.Reader(str(sf_path))\n",
    "shape = sf.shapes()[0]\n",
    "\n",
    "passion.satellite.image_retrieval.generate_dataset(API_KEY, 'bing', output_path, zoom = 19, shapefile = shape)"
   ]
  },
  {
   "cell_type": "code",
   "execution_count": null,
   "id": "lasting-poster",
   "metadata": {},
   "outputs": [],
   "source": []
  }
 ],
 "metadata": {
  "kernelspec": {
   "display_name": "Python 3",
   "language": "python",
   "name": "python3"
  },
  "language_info": {
   "codemirror_mode": {
    "name": "ipython",
    "version": 3
   },
   "file_extension": ".py",
   "mimetype": "text/x-python",
   "name": "python",
   "nbconvert_exporter": "python",
   "pygments_lexer": "ipython3",
   "version": "3.8.2"
  }
 },
 "nbformat": 4,
 "nbformat_minor": 5
}
